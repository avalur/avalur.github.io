{
 "cells": [
  {
   "cell_type": "markdown",
   "metadata": {
    "slideshow": {
     "slide_type": "slide"
    }
   },
   "source": [
    "<center><img src=\"./images/nup_logo_dark.jpeg\" width=300 style=\"display: inline-block;\"></center> \n",
    "\n",
    "## Advanced ML\n",
    "### Practice on Autoencoders and Generative Adversarial Networks\n",
    "\n",
    "<br />\n",
    "March 4, 2025\n"
   ]
  },
  {
   "cell_type": "markdown",
   "metadata": {
    "slideshow": {
     "slide_type": "subslide"
    }
   },
   "source": [
    "Source: https://github.com/andriygav/MachineLearningSeminars/tree/master/sem16"
   ]
  },
  {
   "cell_type": "code",
   "metadata": {
    "id": "K2_VhyWeteMB",
    "ExecuteTime": {
     "end_time": "2025-01-22T15:11:38.400573Z",
     "start_time": "2025-01-22T15:11:37.001167Z"
    }
   },
   "source": [
    "import math\n",
    "from copy import deepcopy\n",
    "\n",
    "import matplotlib.pyplot as plt\n",
    "from matplotlib.image import imread\n",
    "from mpl_toolkits import mplot3d\n",
    "from matplotlib import gridspec\n",
    "from PIL import Image\n",
    "import io\n",
    "import os\n",
    "from urllib.request import urlopen\n",
    "from skimage.segmentation import mark_boundaries\n",
    "from torch import nn\n",
    "\n",
    "from tqdm.notebook import tqdm\n",
    "import numpy as np\n",
    "import requests\n",
    "from scipy.stats import norm\n",
    "import torch\n",
    "\n",
    "from sklearn.metrics import classification_report\n",
    "from torch.utils.tensorboard import SummaryWriter\n",
    "\n",
    "from torchvision import datasets, transforms"
   ],
   "outputs": [],
   "execution_count": 1
  },
  {
   "cell_type": "code",
   "metadata": {
    "id": "UCn8xDPhteMB",
    "ExecuteTime": {
     "end_time": "2025-01-22T15:11:38.405537Z",
     "start_time": "2025-01-22T15:11:38.403518Z"
    }
   },
   "source": [
    "import warnings\n",
    "warnings.filterwarnings(\"ignore\")"
   ],
   "outputs": [],
   "execution_count": 2
  },
  {
   "cell_type": "code",
   "metadata": {
    "id": "WF45BXo5MWuU",
    "ExecuteTime": {
     "end_time": "2025-01-22T15:11:40.033664Z",
     "start_time": "2025-01-22T15:11:40.011292Z"
    }
   },
   "source": [
    "device = 'cuda' if torch.cuda.is_available() else 'mps' if torch.backends.mps.is_available() else 'cpu'\n",
    "device"
   ],
   "outputs": [
    {
     "data": {
      "text/plain": [
       "'mps'"
      ]
     },
     "execution_count": 3,
     "metadata": {},
     "output_type": "execute_result"
    }
   ],
   "execution_count": 3
  },
  {
   "cell_type": "markdown",
   "metadata": {
    "id": "GolP2cBBXfeN"
   },
   "source": [
    "# Tensorboard"
   ]
  },
  {
   "cell_type": "code",
   "metadata": {
    "id": "S_Ns3K7pXiP1",
    "ExecuteTime": {
     "end_time": "2025-01-22T15:11:42.795294Z",
     "start_time": "2025-01-22T15:11:41.763372Z"
    }
   },
   "source": [
    "%load_ext tensorboard\n",
    "%tensorboard --logdir ./"
   ],
   "outputs": [
    {
     "data": {
      "text/plain": [
       "<IPython.core.display.HTML object>"
      ],
      "text/html": [
       "\n",
       "      <iframe id=\"tensorboard-frame-f1f62f421897233\" width=\"100%\" height=\"800\" frameborder=\"0\">\n",
       "      </iframe>\n",
       "      <script>\n",
       "        (function() {\n",
       "          const frame = document.getElementById(\"tensorboard-frame-f1f62f421897233\");\n",
       "          const url = new URL(\"/\", window.location);\n",
       "          const port = 6006;\n",
       "          if (port) {\n",
       "            url.port = port;\n",
       "          }\n",
       "          frame.src = url;\n",
       "        })();\n",
       "      </script>\n",
       "    "
      ]
     },
     "metadata": {},
     "output_type": "display_data"
    }
   ],
   "execution_count": 4
  },
  {
   "cell_type": "markdown",
   "metadata": {
    "id": "YJCc8xi09uWI"
   },
   "source": [
    "## Code for training"
   ]
  },
  {
   "cell_type": "code",
   "metadata": {
    "id": "R3BclNuZMSPT",
    "ExecuteTime": {
     "end_time": "2025-01-22T15:11:42.858613Z",
     "start_time": "2025-01-22T15:11:42.855776Z"
    }
   },
   "source": [
    "def train_epoch(train_generator, model, loss_function, optimizer, callback=None):\n",
    "    epoch_loss = 0\n",
    "    total = 0\n",
    "    for it, (batch_of_x, batch_of_y) in enumerate(train_generator):\n",
    "        batch_loss = train_on_batch(model, batch_of_x, batch_of_y, optimizer, loss_function)\n",
    "        \n",
    "        if callback is not None:\n",
    "            with torch.no_grad():\n",
    "                callback(model, batch_loss)\n",
    "            \n",
    "        epoch_loss += batch_loss*len(batch_of_x)\n",
    "        total += len(batch_of_x)\n",
    "    \n",
    "    return epoch_loss/total\n"
   ],
   "outputs": [],
   "execution_count": 5
  },
  {
   "cell_type": "code",
   "metadata": {
    "id": "8VG64px1MSPT",
    "ExecuteTime": {
     "end_time": "2025-01-22T15:11:43.208491Z",
     "start_time": "2025-01-22T15:11:43.206103Z"
    }
   },
   "source": [
    "def trainer(count_of_epoch, \n",
    "            batch_size, \n",
    "            dataset,\n",
    "            model, \n",
    "            loss_function,\n",
    "            optimizer,\n",
    "            lr = 0.001,\n",
    "            callback = None):\n",
    "\n",
    "    optima = optimizer(model.parameters(), lr=lr)\n",
    "    \n",
    "    iterations = tqdm(range(count_of_epoch), desc='epoch')\n",
    "    iterations.set_postfix({'train epoch loss': np.nan})\n",
    "    for it in iterations:\n",
    "        batch_generator = tqdm(\n",
    "            torch.utils.data.DataLoader(dataset=dataset, batch_size=batch_size, shuffle=True), \n",
    "            leave=False, total=len(dataset)//batch_size+(len(dataset)%batch_size> 0))\n",
    "        \n",
    "        epoch_loss = train_epoch(train_generator=batch_generator, \n",
    "                    model=model, \n",
    "                    loss_function=loss_function, \n",
    "                    optimizer=optima, \n",
    "                    callback=callback)\n",
    "        \n",
    "        iterations.set_postfix({'train epoch loss': epoch_loss})"
   ],
   "outputs": [],
   "execution_count": 6
  },
  {
   "cell_type": "markdown",
   "metadata": {
    "id": "C83NQZtcMSPP"
   },
   "source": [
    "## Autoencoder"
   ]
  },
  {
   "cell_type": "code",
   "metadata": {
    "id": "A7NcDFLef7XZ",
    "ExecuteTime": {
     "end_time": "2025-01-22T15:11:44.414007Z",
     "start_time": "2025-01-22T15:11:44.412092Z"
    }
   },
   "source": [
    "digit_size = (28, 28)"
   ],
   "outputs": [],
   "execution_count": 7
  },
  {
   "cell_type": "code",
   "metadata": {
    "id": "XWEv5oI9MSPT",
    "ExecuteTime": {
     "end_time": "2025-01-22T15:11:45.104941Z",
     "start_time": "2025-01-22T15:11:45.102785Z"
    }
   },
   "source": [
    "def train_on_batch(model, x_batch, y_batch, optimizer, loss_function):\n",
    "    model.train()\n",
    "    optimizer.zero_grad()\n",
    "    \n",
    "    output = model(x_batch.to(model.device))\n",
    "    \n",
    "    loss = loss_function(output, x_batch.to(model.device))\n",
    "    loss.backward()\n",
    "\n",
    "    optimizer.step()\n",
    "    return loss.cpu().item()"
   ],
   "outputs": [],
   "execution_count": 8
  },
  {
   "cell_type": "markdown",
   "metadata": {},
   "source": [
    "<div class=\"alert alert-info\">\n",
    "<b>Questions</b>  What is the output? What loss function we need to use?\n",
    "</div>"
   ]
  },
  {
   "cell_type": "code",
   "metadata": {
    "id": "YJTqzA44NX4A",
    "ExecuteTime": {
     "end_time": "2025-01-22T15:11:46.519461Z",
     "start_time": "2025-01-22T15:11:46.513808Z"
    }
   },
   "source": [
    "class callback():\n",
    "    def __init__(self, writer, dataset, loss_function, delimeter=100, batch_size=64):\n",
    "        self.step = 0\n",
    "        self.writer = writer\n",
    "        self.delimeter = delimeter\n",
    "        self.loss_function = loss_function\n",
    "        self.batch_size = batch_size\n",
    "\n",
    "        self.dataset = dataset\n",
    "\n",
    "    def forward(self, model, loss):\n",
    "        self.step += 1\n",
    "        self.writer.add_scalar('LOSS/train', loss, self.step)\n",
    "        \n",
    "        if self.step % self.delimeter == 0:\n",
    "            \n",
    "            batch_generator = torch.utils.data.DataLoader(dataset = self.dataset, \n",
    "                                                          batch_size=self.batch_size)\n",
    "            \n",
    "            pred = []\n",
    "            real = []\n",
    "            test_loss = 0\n",
    "            model.eval()\n",
    "            for it, (x_batch, _) in enumerate(batch_generator):\n",
    "                x_batch = x_batch.to(model.device)\n",
    "\n",
    "                output = model(x_batch)\n",
    "\n",
    "                test_loss += self.loss_function(output, x_batch).cpu().item()*len(x_batch)\n",
    "\n",
    "                pred.extend(torch.argmax(output, dim=-1).cpu().numpy().tolist())\n",
    "            \n",
    "            test_loss /= len(self.dataset)\n",
    "            \n",
    "            self.writer.add_scalar('LOSS/test', test_loss, self.step)\n",
    "\n",
    "            x = x_batch[-10:]\n",
    "            \n",
    "            fig = plt.figure(figsize=(12, 12 / 10 * (x.shape[0] // 10 + 1)))\n",
    "            gs = gridspec.GridSpec(1, x.shape[0])\n",
    "            for i in range(x.shape[0]):\n",
    "                ax = fig.add_subplot(gs[i])\n",
    "                ax.imshow(model(x.to(model.device)).cpu().data[i].view(*digit_size).numpy(), cmap='Greys_r', interpolation='lanczos')\n",
    "                ax.axis('off')\n",
    "                    \n",
    "            self.writer.add_figure('VISUAL/decoded', fig, self.step)\n",
    "          \n",
    "    def __call__(self, model, loss):\n",
    "        return self.forward(model, loss)"
   ],
   "outputs": [],
   "execution_count": 9
  },
  {
   "cell_type": "markdown",
   "metadata": {
    "id": "_sqA2WHaMSPQ"
   },
   "source": [
    "### Linear autoencoder"
   ]
  },
  {
   "cell_type": "markdown",
   "metadata": {
    "id": "cNmrueoeVrZw"
   },
   "source": [
    "#### Data"
   ]
  },
  {
   "cell_type": "code",
   "metadata": {
    "id": "E-FbiZB-MSPQ",
    "ExecuteTime": {
     "end_time": "2025-01-22T15:11:48.910902Z",
     "start_time": "2025-01-22T15:11:48.908812Z"
    }
   },
   "source": [
    "preprocess = transforms.Compose([transforms.ToTensor(), \n",
    "                                 torch.FloatTensor, \n",
    "                                 lambda x: x.view(784)])"
   ],
   "outputs": [],
   "execution_count": 10
  },
  {
   "cell_type": "code",
   "metadata": {
    "id": "JOCjz2TUMSPQ",
    "ExecuteTime": {
     "end_time": "2025-01-22T15:11:49.893121Z",
     "start_time": "2025-01-22T15:11:49.878457Z"
    }
   },
   "source": [
    "MNIST_train = datasets.MNIST('./mnist', train=True, download=True,\n",
    "                             transform=preprocess)\n",
    "\n",
    "MNIST_test = datasets.MNIST('./mnist', train=False, download=True,\n",
    "                            transform=preprocess)"
   ],
   "outputs": [],
   "execution_count": 11
  },
  {
   "cell_type": "code",
   "metadata": {
    "id": "MuJgVfmwMSPQ",
    "ExecuteTime": {
     "end_time": "2025-01-22T15:11:51.992197Z",
     "start_time": "2025-01-22T15:11:50.964110Z"
    }
   },
   "source": [
    "for x_batch, y_batch in torch.utils.data.DataLoader(dataset=MNIST_train, batch_size=64, shuffle=True):\n",
    "    pass"
   ],
   "outputs": [],
   "execution_count": 12
  },
  {
   "cell_type": "code",
   "metadata": {
    "id": "SoAsJHYVMSPR",
    "ExecuteTime": {
     "end_time": "2025-01-22T15:11:52.874281Z",
     "start_time": "2025-01-22T15:11:52.818797Z"
    }
   },
   "source": [
    "xs = x_batch[-10:]\n",
    "plt.figure(figsize=(12, 12 / 10 * (x_batch.shape[0] // 10 + 1)))\n",
    "for i in range(xs.shape[0]):\n",
    "    plt.subplot(xs.shape[0] // 10 + 1, 10, i + 1)\n",
    "    plt.imshow(xs.data[i].view(*digit_size).numpy(), cmap='Greys_r') #, interpolation='lanczos')\n",
    "    plt.axis('off')\n",
    "        \n",
    "plt.show()"
   ],
   "outputs": [
    {
     "data": {
      "text/plain": [
       "<Figure size 1200x480 with 10 Axes>"
      ],
      "image/png": "[encoded data removed]"
     },
     "metadata": {},
     "output_type": "display_data"
    }
   ],
   "execution_count": 13
  },
  {
   "cell_type": "markdown",
   "metadata": {
    "id": "-_FGHGKYe0DM"
   },
   "source": [
    "#### First model"
   ]
  },
  {
   "cell_type": "code",
   "metadata": {
    "id": "SXunTUISMSPS",
    "ExecuteTime": {
     "end_time": "2025-01-22T15:11:54.341204Z",
     "start_time": "2025-01-22T15:11:54.338749Z"
    }
   },
   "source": [
    "class Encoder(torch.nn.Module):\n",
    "    @property\n",
    "    def device(self):\n",
    "        return next(self.parameters()).device\n",
    "\n",
    "    def __init__(self, object_dim, d):\n",
    "        super(type(self), self).__init__()\n",
    "        self.object_dim = object_dim\n",
    "        self.d = d\n",
    "        \n",
    "        self.linear = torch.nn.Linear(object_dim, d)\n",
    "        \n",
    "    def forward(self, x):\n",
    "        return self.linear(x)"
   ],
   "outputs": [],
   "execution_count": 14
  },
  {
   "cell_type": "code",
   "metadata": {
    "id": "I-P40h8TMSPS",
    "ExecuteTime": {
     "end_time": "2025-01-22T15:11:55.075622Z",
     "start_time": "2025-01-22T15:11:55.073296Z"
    }
   },
   "source": [
    "class Decoder(torch.nn.Module):\n",
    "    @property\n",
    "    def device(self):\n",
    "        return next(self.parameters()).device\n",
    "\n",
    "    def __init__(self, d, object_dim):\n",
    "        super(type(self), self).__init__()\n",
    "        self.object_dim = object_dim\n",
    "        self.d = d\n",
    "        \n",
    "        self.linear = torch.nn.Linear(d, object_dim)\n",
    "        \n",
    "    def forward(self, x):\n",
    "        return self.linear(x)"
   ],
   "outputs": [],
   "execution_count": 15
  },
  {
   "cell_type": "code",
   "metadata": {
    "id": "kpwQG80LMSPS",
    "ExecuteTime": {
     "end_time": "2025-01-22T15:11:56.521928Z",
     "start_time": "2025-01-22T15:11:56.519343Z"
    }
   },
   "source": [
    "class Autoencoder(torch.nn.Module):\n",
    "    @property\n",
    "    def device(self):\n",
    "        return next(self.parameters()).device\n",
    "\n",
    "    def __init__(self, object_dim, d):\n",
    "        super(type(self), self).__init__()\n",
    "        self.object_dim = object_dim\n",
    "        self.d = d\n",
    "        \n",
    "        self.encoder = Encoder(np.prod(digit_size), d)\n",
    "        self.decoder = Decoder(d, np.prod(digit_size))\n",
    "        \n",
    "    def forward(self, x):\n",
    "        return self.decode(self.encode(x))\n",
    "    \n",
    "    def encode(self, x):\n",
    "        return self.encoder(x)\n",
    "    \n",
    "    def decode(self, z):\n",
    "        return self.decoder(z)"
   ],
   "outputs": [],
   "execution_count": 16
  },
  {
   "cell_type": "markdown",
   "metadata": {
    "id": "rkaIDHwAMSPU"
   },
   "source": [
    "#### Model optimization"
   ]
  },
  {
   "cell_type": "code",
   "metadata": {
    "id": "nIs7TFlCMSPU",
    "ExecuteTime": {
     "end_time": "2025-01-22T15:11:58.381486Z",
     "start_time": "2025-01-22T15:11:58.379507Z"
    }
   },
   "source": [
    "loss_function = torch.nn.MSELoss()\n",
    "optimizer = torch.optim.Adam"
   ],
   "outputs": [],
   "execution_count": 17
  },
  {
   "cell_type": "markdown",
   "metadata": {
    "id": "EMVySnTbRcvI"
   },
   "source": [
    "#### Iterating over different d: training the model"
   ]
  },
  {
   "cell_type": "code",
   "metadata": {
    "id": "E2SnLdSzRa9l",
    "ExecuteTime": {
     "end_time": "2025-01-22T15:15:16.163103Z",
     "start_time": "2025-01-22T15:12:00.136193Z"
    }
   },
   "source": [
    "for d in [2, 4, 8, 16, 32, 64]:\n",
    "    autoencoder = Autoencoder(np.prod(digit_size), d)\n",
    "    autoencoder.to(device)\n",
    "\n",
    "    writer = SummaryWriter(log_dir = 'autoencoder-linear/{}'.format(d))\n",
    "\n",
    "    call = callback(writer, MNIST_test, loss_function, delimeter=100)\n",
    "\n",
    "    trainer(count_of_epoch=5, \n",
    "            batch_size=64, \n",
    "            dataset=MNIST_train,\n",
    "            model=autoencoder, \n",
    "            loss_function=loss_function,\n",
    "            optimizer = optimizer,\n",
    "            lr = 0.001,\n",
    "            callback = call)"
   ],
   "outputs": [
    {
     "data": {
      "text/plain": [
       "epoch:   0%|          | 0/5 [00:00<?, ?it/s]"
      ],
      "application/vnd.jupyter.widget-view+json": {
       "version_major": 2,
       "version_minor": 0,
       "model_id": "19c4000c123146858e67afb4251019ba"
      }
     },
     "metadata": {},
     "output_type": "display_data"
    },
    {
     "data": {
      "text/plain": [
       "  0%|          | 0/938 [00:00<?, ?it/s]"
      ],
      "application/vnd.jupyter.widget-view+json": {
       "version_major": 2,
       "version_minor": 0,
       "model_id": "fbe715658fd54ebe8fab19d866d837c1"
      }
     },
     "metadata": {},
     "output_type": "display_data"
    },
    {
     "data": {
      "text/plain": [
       "  0%|          | 0/938 [00:00<?, ?it/s]"
      ],
      "application/vnd.jupyter.widget-view+json": {
       "version_major": 2,
       "version_minor": 0,
       "model_id": "d2f28cce53e8469baf8b62d2abd2f580"
      }
     },
     "metadata": {},
     "output_type": "display_data"
    },
    {
     "data": {
      "text/plain": [
       "  0%|          | 0/938 [00:00<?, ?it/s]"
      ],
      "application/vnd.jupyter.widget-view+json": {
       "version_major": 2,
       "version_minor": 0,
       "model_id": "60865511653e45f5a8ec42033344fd7c"
      }
     },
     "metadata": {},
     "output_type": "display_data"
    },
    {
     "data": {
      "text/plain": [
       "  0%|          | 0/938 [00:00<?, ?it/s]"
      ],
      "application/vnd.jupyter.widget-view+json": {
       "version_major": 2,
       "version_minor": 0,
       "model_id": "79b9b6d06d8345a18bdc8669a82ac725"
      }
     },
     "metadata": {},
     "output_type": "display_data"
    },
    {
     "data": {
      "text/plain": [
       "  0%|          | 0/938 [00:00<?, ?it/s]"
      ],
      "application/vnd.jupyter.widget-view+json": {
       "version_major": 2,
       "version_minor": 0,
       "model_id": "3cc476847948446e88bde6f8acea50ca"
      }
     },
     "metadata": {},
     "output_type": "display_data"
    },
    {
     "data": {
      "text/plain": [
       "epoch:   0%|          | 0/5 [00:00<?, ?it/s]"
      ],
      "application/vnd.jupyter.widget-view+json": {
       "version_major": 2,
       "version_minor": 0,
       "model_id": "a37d72e073484a1ba4b745f8c9c4cda2"
      }
     },
     "metadata": {},
     "output_type": "display_data"
    },
    {
     "data": {
      "text/plain": [
       "  0%|          | 0/938 [00:00<?, ?it/s]"
      ],
      "application/vnd.jupyter.widget-view+json": {
       "version_major": 2,
       "version_minor": 0,
       "model_id": "af5277c5bcaa48a6ab269582bf6eb216"
      }
     },
     "metadata": {},
     "output_type": "display_data"
    },
    {
     "data": {
      "text/plain": [
       "  0%|          | 0/938 [00:00<?, ?it/s]"
      ],
      "application/vnd.jupyter.widget-view+json": {
       "version_major": 2,
       "version_minor": 0,
       "model_id": "ea6b2c7762f44d678c6a4ad153f11162"
      }
     },
     "metadata": {},
     "output_type": "display_data"
    },
    {
     "data": {
      "text/plain": [
       "  0%|          | 0/938 [00:00<?, ?it/s]"
      ],
      "application/vnd.jupyter.widget-view+json": {
       "version_major": 2,
       "version_minor": 0,
       "model_id": "eaf6246ea6da4e2aa825b6171383661e"
      }
     },
     "metadata": {},
     "output_type": "display_data"
    },
    {
     "data": {
      "text/plain": [
       "  0%|          | 0/938 [00:00<?, ?it/s]"
      ],
      "application/vnd.jupyter.widget-view+json": {
       "version_major": 2,
       "version_minor": 0,
       "model_id": "d1a4961df2e04677818ddeca955e8771"
      }
     },
     "metadata": {},
     "output_type": "display_data"
    },
    {
     "data": {
      "text/plain": [
       "  0%|          | 0/938 [00:00<?, ?it/s]"
      ],
      "application/vnd.jupyter.widget-view+json": {
       "version_major": 2,
       "version_minor": 0,
       "model_id": "ce638678fd0947daa6bfaf054aa7c629"
      }
     },
     "metadata": {},
     "output_type": "display_data"
    },
    {
     "data": {
      "text/plain": [
       "epoch:   0%|          | 0/5 [00:00<?, ?it/s]"
      ],
      "application/vnd.jupyter.widget-view+json": {
       "version_major": 2,
       "version_minor": 0,
       "model_id": "04b34f473c414a63b1f89bf600e674a0"
      }
     },
     "metadata": {},
     "output_type": "display_data"
    },
    {
     "data": {
      "text/plain": [
       "  0%|          | 0/938 [00:00<?, ?it/s]"
      ],
      "application/vnd.jupyter.widget-view+json": {
       "version_major": 2,
       "version_minor": 0,
       "model_id": "86d3cbb507ad4c228fe52879b4a7c2c5"
      }
     },
     "metadata": {},
     "output_type": "display_data"
    },
    {
     "data": {
      "text/plain": [
       "  0%|          | 0/938 [00:00<?, ?it/s]"
      ],
      "application/vnd.jupyter.widget-view+json": {
       "version_major": 2,
       "version_minor": 0,
       "model_id": "f0ec559edc1c418c99464ecc69cb6e81"
      }
     },
     "metadata": {},
     "output_type": "display_data"
    },
    {
     "data": {
      "text/plain": [
       "  0%|          | 0/938 [00:00<?, ?it/s]"
      ],
      "application/vnd.jupyter.widget-view+json": {
       "version_major": 2,
       "version_minor": 0,
       "model_id": "2466cbe1b0244e719946c2ed11d7828e"
      }
     },
     "metadata": {},
     "output_type": "display_data"
    },
    {
     "data": {
      "text/plain": [
       "  0%|          | 0/938 [00:00<?, ?it/s]"
      ],
      "application/vnd.jupyter.widget-view+json": {
       "version_major": 2,
       "version_minor": 0,
       "model_id": "72f783bb42aa492c978a4c770555b5bd"
      }
     },
     "metadata": {},
     "output_type": "display_data"
    },
    {
     "data": {
      "text/plain": [
       "  0%|          | 0/938 [00:00<?, ?it/s]"
      ],
      "application/vnd.jupyter.widget-view+json": {
       "version_major": 2,
       "version_minor": 0,
       "model_id": "137c319b996049608cf21e3513d8c33a"
      }
     },
     "metadata": {},
     "output_type": "display_data"
    },
    {
     "data": {
      "text/plain": [
       "epoch:   0%|          | 0/5 [00:00<?, ?it/s]"
      ],
      "application/vnd.jupyter.widget-view+json": {
       "version_major": 2,
       "version_minor": 0,
       "model_id": "9004ca2cff384e5b8ba57a6d09b5dde7"
      }
     },
     "metadata": {},
     "output_type": "display_data"
    },
    {
     "data": {
      "text/plain": [
       "  0%|          | 0/938 [00:00<?, ?it/s]"
      ],
      "application/vnd.jupyter.widget-view+json": {
       "version_major": 2,
       "version_minor": 0,
       "model_id": "4d0b254a2f824d689209edcec52a50b8"
      }
     },
     "metadata": {},
     "output_type": "display_data"
    },
    {
     "data": {
      "text/plain": [
       "  0%|          | 0/938 [00:00<?, ?it/s]"
      ],
      "application/vnd.jupyter.widget-view+json": {
       "version_major": 2,
       "version_minor": 0,
       "model_id": "4f79ae4197dd45e9926ef559483368a9"
      }
     },
     "metadata": {},
     "output_type": "display_data"
    },
    {
     "data": {
      "text/plain": [
       "  0%|          | 0/938 [00:00<?, ?it/s]"
      ],
      "application/vnd.jupyter.widget-view+json": {
       "version_major": 2,
       "version_minor": 0,
       "model_id": "7e6ca63039c9499989f3a85fac298297"
      }
     },
     "metadata": {},
     "output_type": "display_data"
    },
    {
     "data": {
      "text/plain": [
       "  0%|          | 0/938 [00:00<?, ?it/s]"
      ],
      "application/vnd.jupyter.widget-view+json": {
       "version_major": 2,
       "version_minor": 0,
       "model_id": "7cbb0063911641a6a0595497010bb9ac"
      }
     },
     "metadata": {},
     "output_type": "display_data"
    },
    {
     "data": {
      "text/plain": [
       "  0%|          | 0/938 [00:00<?, ?it/s]"
      ],
      "application/vnd.jupyter.widget-view+json": {
       "version_major": 2,
       "version_minor": 0,
       "model_id": "4948c514e1794afcbc2a531a1e6520f4"
      }
     },
     "metadata": {},
     "output_type": "display_data"
    },
    {
     "data": {
      "text/plain": [
       "epoch:   0%|          | 0/5 [00:00<?, ?it/s]"
      ],
      "application/vnd.jupyter.widget-view+json": {
       "version_major": 2,
       "version_minor": 0,
       "model_id": "0d764697e49048e58acb3afa0db9b208"
      }
     },
     "metadata": {},
     "output_type": "display_data"
    },
    {
     "data": {
      "text/plain": [
       "  0%|          | 0/938 [00:00<?, ?it/s]"
      ],
      "application/vnd.jupyter.widget-view+json": {
       "version_major": 2,
       "version_minor": 0,
       "model_id": "3b2f84627af74f9881f7ff380b67c90f"
      }
     },
     "metadata": {},
     "output_type": "display_data"
    },
    {
     "data": {
      "text/plain": [
       "  0%|          | 0/938 [00:00<?, ?it/s]"
      ],
      "application/vnd.jupyter.widget-view+json": {
       "version_major": 2,
       "version_minor": 0,
       "model_id": "a6e7a22227854e81b4246ab9c8afa380"
      }
     },
     "metadata": {},
     "output_type": "display_data"
    },
    {
     "data": {
      "text/plain": [
       "  0%|          | 0/938 [00:00<?, ?it/s]"
      ],
      "application/vnd.jupyter.widget-view+json": {
       "version_major": 2,
       "version_minor": 0,
       "model_id": "e26e671f040a4449ab0af962ec9a89a8"
      }
     },
     "metadata": {},
     "output_type": "display_data"
    },
    {
     "data": {
      "text/plain": [
       "  0%|          | 0/938 [00:00<?, ?it/s]"
      ],
      "application/vnd.jupyter.widget-view+json": {
       "version_major": 2,
       "version_minor": 0,
       "model_id": "82b2b4fb86fb47ada160448010c1c5f3"
      }
     },
     "metadata": {},
     "output_type": "display_data"
    },
    {
     "data": {
      "text/plain": [
       "  0%|          | 0/938 [00:00<?, ?it/s]"
      ],
      "application/vnd.jupyter.widget-view+json": {
       "version_major": 2,
       "version_minor": 0,
       "model_id": "b8a0e245fc64479a80594590d80493c8"
      }
     },
     "metadata": {},
     "output_type": "display_data"
    },
    {
     "data": {
      "text/plain": [
       "epoch:   0%|          | 0/5 [00:00<?, ?it/s]"
      ],
      "application/vnd.jupyter.widget-view+json": {
       "version_major": 2,
       "version_minor": 0,
       "model_id": "d0dcc3cff6f44d2da90c5f3af2d3db5c"
      }
     },
     "metadata": {},
     "output_type": "display_data"
    },
    {
     "data": {
      "text/plain": [
       "  0%|          | 0/938 [00:00<?, ?it/s]"
      ],
      "application/vnd.jupyter.widget-view+json": {
       "version_major": 2,
       "version_minor": 0,
       "model_id": "9213d0a004eb486698590d8a528a40fe"
      }
     },
     "metadata": {},
     "output_type": "display_data"
    },
    {
     "data": {
      "text/plain": [
       "  0%|          | 0/938 [00:00<?, ?it/s]"
      ],
      "application/vnd.jupyter.widget-view+json": {
       "version_major": 2,
       "version_minor": 0,
       "model_id": "72dac19418da46a4b82a62002c0ddd75"
      }
     },
     "metadata": {},
     "output_type": "display_data"
    },
    {
     "data": {
      "text/plain": [
       "  0%|          | 0/938 [00:00<?, ?it/s]"
      ],
      "application/vnd.jupyter.widget-view+json": {
       "version_major": 2,
       "version_minor": 0,
       "model_id": "46774c9c55fb42aa95bdd3d742d5796b"
      }
     },
     "metadata": {},
     "output_type": "display_data"
    },
    {
     "data": {
      "text/plain": [
       "  0%|          | 0/938 [00:00<?, ?it/s]"
      ],
      "application/vnd.jupyter.widget-view+json": {
       "version_major": 2,
       "version_minor": 0,
       "model_id": "7bdf9745a07c4310b2aea76435e5c5da"
      }
     },
     "metadata": {},
     "output_type": "display_data"
    },
    {
     "data": {
      "text/plain": [
       "  0%|          | 0/938 [00:00<?, ?it/s]"
      ],
      "application/vnd.jupyter.widget-view+json": {
       "version_major": 2,
       "version_minor": 0,
       "model_id": "43735d3c11af459ea96a393f9c2c0e24"
      }
     },
     "metadata": {},
     "output_type": "display_data"
    }
   ],
   "execution_count": 18
  },
  {
   "cell_type": "markdown",
   "metadata": {
    "id": "k2yKXsqNMSPW"
   },
   "source": [
    "### Neural network autoencoder"
   ]
  },
  {
   "cell_type": "code",
   "metadata": {
    "id": "xEBAXqo5Yzxn",
    "ExecuteTime": {
     "end_time": "2025-01-22T15:15:35.995337Z",
     "start_time": "2025-01-22T15:15:35.993546Z"
    }
   },
   "source": [
    "preprocess = transforms.Compose([transforms.ToTensor(), \n",
    "                                 torch.FloatTensor])"
   ],
   "outputs": [],
   "execution_count": 19
  },
  {
   "cell_type": "code",
   "metadata": {
    "id": "s1xXXsVKYzxo",
    "ExecuteTime": {
     "end_time": "2025-01-22T15:15:37.608821Z",
     "start_time": "2025-01-22T15:15:37.588970Z"
    }
   },
   "source": [
    "MNIST_train = datasets.MNIST('./mnist', train=True, download=True, \n",
    "                             transform=preprocess)\n",
    "\n",
    "MNIST_test = datasets.MNIST('./mnist', train=False, download=True,\n",
    "                            transform=preprocess)"
   ],
   "outputs": [],
   "execution_count": 20
  },
  {
   "cell_type": "markdown",
   "metadata": {
    "id": "kbW2bUIwfezO"
   },
   "source": [
    "#### Model"
   ]
  },
  {
   "cell_type": "markdown",
   "metadata": {},
   "source": [
    "<div class=\"alert alert-info\">\n",
    "<b>Questions</b>  Where is `d` used? What does the picture turn into at the output of the encoder?\n",
    "</div>"
   ]
  },
  {
   "cell_type": "code",
   "metadata": {
    "id": "9-NoOA7MVxDg",
    "ExecuteTime": {
     "end_time": "2025-01-22T15:15:42.519965Z",
     "start_time": "2025-01-22T15:15:42.516626Z"
    }
   },
   "source": [
    "class EncoderCNN(torch.nn.Module):\n",
    "    @property\n",
    "    def device(self):\n",
    "        return next(self.parameters()).device\n",
    "\n",
    "    def __init__(self, d):\n",
    "        super(type(self), self).__init__()\n",
    "        self.d = d\n",
    "# 28x28x1\n",
    "        self.layers = torch.nn.Sequential()\n",
    "        self.layers.add_module('conv1', torch.nn.Conv2d(1, 6, kernel_size = 5))\n",
    "        self.layers.add_module('bnorm1', torch.nn.BatchNorm2d(6))\n",
    "        self.layers.add_module('relu1', torch.nn.ReLU())\n",
    "        self.layers.add_module('pool1', torch.nn.MaxPool2d(kernel_size = 2)) # 12x12x6\n",
    "        \n",
    "        self.layers.add_module('conv2', torch.nn.Conv2d(6, 16, kernel_size = 5)) # 8x8x16\n",
    "        self.layers.add_module('bnorm2', torch.nn.BatchNorm2d(16))\n",
    "        self.layers.add_module('relu2', torch.nn.ReLU())\n",
    "        self.layers.add_module('pool2', torch.nn.MaxPool2d(kernel_size = 2)) # 4x4x16\n",
    "        \n",
    "        self.layers.add_module('conv3', torch.nn.Conv2d(16, self.d, kernel_size = 3)) # 2x2xd\n",
    "        self.layers.add_module('relu3', torch.nn.ReLU())\n",
    "        self.layers.add_module('pool3', torch.nn.MaxPool2d(kernel_size = 2)) # 1x1xd\n",
    "\n",
    "        self.layers.add_module('flatten', torch.nn.Flatten())\n",
    "\n",
    "    def forward(self, input):\n",
    "        return self.layers(input)"
   ],
   "outputs": [],
   "execution_count": 21
  },
  {
   "cell_type": "code",
   "metadata": {
    "id": "YxkWhXiGadOh",
    "ExecuteTime": {
     "end_time": "2025-01-22T15:15:43.724544Z",
     "start_time": "2025-01-22T15:15:43.722288Z"
    }
   },
   "source": [
    "class Reshape(torch.nn.Module):\n",
    "    @property\n",
    "    def device(self):\n",
    "        return next(self.parameters()).device\n",
    "\n",
    "    def __init__(self, *args):\n",
    "        super(type(self), self).__init__()\n",
    "        self.dims = args\n",
    "\n",
    "    def forward(self, input):\n",
    "        return input.view(input.size(0), *self.dims)"
   ],
   "outputs": [],
   "execution_count": 22
  },
  {
   "cell_type": "code",
   "metadata": {
    "id": "YgGfbx9SXyxw",
    "ExecuteTime": {
     "end_time": "2025-01-22T15:15:44.465423Z",
     "start_time": "2025-01-22T15:15:44.461967Z"
    }
   },
   "source": [
    "class DecoderCNN(torch.nn.Module):\n",
    "    @property\n",
    "    def device(self):\n",
    "        return next(self.parameters()).device\n",
    "\n",
    "    def __init__(self, d):\n",
    "        super(type(self), self).__init__()\n",
    "        self.d = d\n",
    "\n",
    "        self.layers = torch.nn.Sequential()\n",
    "        self.layers.add_module('reshape1', Reshape(self.d, 1, 1))\n",
    "        \n",
    "        self.layers.add_module('conv1', torch.nn.ConvTranspose2d(self.d, 128, 4, 1, 0, 0, bias=False))\n",
    "        self.layers.add_module('bnorm1', torch.nn.BatchNorm2d(128))\n",
    "        self.layers.add_module('relu1', torch.nn.ReLU())\n",
    "        \n",
    "        self.layers.add_module('conv2', torch.nn.ConvTranspose2d(128, 64, 3, 2, 1, 0, bias=False))\n",
    "        self.layers.add_module('bnorm2', torch.nn.BatchNorm2d(64))\n",
    "        self.layers.add_module('relu2', torch.nn.ReLU())\n",
    "        \n",
    "        self.layers.add_module('conv3', torch.nn.ConvTranspose2d(64, 32, 3, 2, 1, 1, bias=False))\n",
    "        self.layers.add_module('bnorm3', torch.nn.BatchNorm2d(32))\n",
    "        self.layers.add_module('relu3', torch.nn.ReLU())\n",
    "\n",
    "        self.layers.add_module('conv4', torch.nn.ConvTranspose2d(32, 1, 4, 2, 1, 0, bias=False))\n",
    "        # 28x28x1\n",
    "        self.layers.add_module('sigmoid', torch.nn.Sigmoid())\n",
    "        \n",
    "    def forward(self, x):\n",
    "        return self.layers(x)"
   ],
   "outputs": [],
   "execution_count": 23
  },
  {
   "cell_type": "markdown",
   "metadata": {},
   "source": [
    "<div class=\"alert alert-info\">\n",
    "<b>Question</b> Why is there a sigmoid at the end?\n",
    "</div>"
   ]
  },
  {
   "cell_type": "code",
   "metadata": {
    "id": "mMvQhigRbwCa",
    "ExecuteTime": {
     "end_time": "2025-01-22T15:15:46.361783Z",
     "start_time": "2025-01-22T15:15:46.359082Z"
    }
   },
   "source": [
    "class AutoencoderCNN(torch.nn.Module):\n",
    "    @property\n",
    "    def device(self):\n",
    "        return next(self.parameters()).device\n",
    "\n",
    "    def __init__(self, d):\n",
    "        super(type(self), self).__init__()\n",
    "        self.d = d\n",
    "        \n",
    "        self.encoder = EncoderCNN(d)\n",
    "        self.decoder = DecoderCNN(d)\n",
    "        \n",
    "    def forward(self, x):\n",
    "        return self.decode(self.encode(x))\n",
    "    \n",
    "    def encode(self, x):\n",
    "        return self.encoder(x)\n",
    "    \n",
    "    def decode(self, z):\n",
    "        return self.decoder(z)"
   ],
   "outputs": [],
   "execution_count": 24
  },
  {
   "cell_type": "markdown",
   "metadata": {
    "id": "L6GydQ8xcI5S"
   },
   "source": [
    "#### Model optimization"
   ]
  },
  {
   "cell_type": "code",
   "metadata": {
    "id": "VAXkjComcI5V",
    "ExecuteTime": {
     "end_time": "2025-01-22T15:15:48.919350Z",
     "start_time": "2025-01-22T15:15:48.917369Z"
    }
   },
   "source": [
    "loss_function = torch.nn.MSELoss()\n",
    "optimizer = torch.optim.Adam"
   ],
   "outputs": [],
   "execution_count": 25
  },
  {
   "cell_type": "markdown",
   "metadata": {
    "id": "gx6KwOxWcI5W"
   },
   "source": [
    "#### Iterating over different `d`: training the model"
   ]
  },
  {
   "cell_type": "code",
   "metadata": {
    "id": "1nxhq5Tcbn7p",
    "ExecuteTime": {
     "end_time": "2025-01-22T15:23:18.756792Z",
     "start_time": "2025-01-22T15:15:51.485004Z"
    }
   },
   "source": [
    "for d in [2, 4, 8, 16, 32, 64]:\n",
    "    autoencoder = AutoencoderCNN(d)\n",
    "    autoencoder.to(device)\n",
    "\n",
    "    writer = SummaryWriter(log_dir = 'autoencoder-cnn/{}'.format(d))\n",
    "    call = callback(writer, MNIST_test, loss_function, delimeter = 100)\n",
    "\n",
    "    trainer(count_of_epoch=5, \n",
    "            batch_size=64, \n",
    "            dataset=MNIST_train,\n",
    "            model=autoencoder, \n",
    "            loss_function=loss_function,\n",
    "            optimizer = optimizer,\n",
    "            lr = 0.001,\n",
    "            callback = call)"
   ],
   "outputs": [
    {
     "data": {
      "text/plain": [
       "epoch:   0%|          | 0/5 [00:00<?, ?it/s]"
      ],
      "application/vnd.jupyter.widget-view+json": {
       "version_major": 2,
       "version_minor": 0,
       "model_id": "4d1ad6e0d96c450491ec681bc0537243"
      }
     },
     "metadata": {},
     "output_type": "display_data"
    },
    {
     "data": {
      "text/plain": [
       "  0%|          | 0/938 [00:00<?, ?it/s]"
      ],
      "application/vnd.jupyter.widget-view+json": {
       "version_major": 2,
       "version_minor": 0,
       "model_id": "04bee43c58c54de98e275697b739c68d"
      }
     },
     "metadata": {},
     "output_type": "display_data"
    },
    {
     "data": {
      "text/plain": [
       "  0%|          | 0/938 [00:00<?, ?it/s]"
      ],
      "application/vnd.jupyter.widget-view+json": {
       "version_major": 2,
       "version_minor": 0,
       "model_id": "91e1ada4187748059e23d46d40929a11"
      }
     },
     "metadata": {},
     "output_type": "display_data"
    },
    {
     "data": {
      "text/plain": [
       "  0%|          | 0/938 [00:00<?, ?it/s]"
      ],
      "application/vnd.jupyter.widget-view+json": {
       "version_major": 2,
       "version_minor": 0,
       "model_id": "b303be9932684c0f8a325c6d4a054ac3"
      }
     },
     "metadata": {},
     "output_type": "display_data"
    },
    {
     "data": {
      "text/plain": [
       "  0%|          | 0/938 [00:00<?, ?it/s]"
      ],
      "application/vnd.jupyter.widget-view+json": {
       "version_major": 2,
       "version_minor": 0,
       "model_id": "b127ad6c0ef44278b2ca03c8319dfe07"
      }
     },
     "metadata": {},
     "output_type": "display_data"
    },
    {
     "data": {
      "text/plain": [
       "  0%|          | 0/938 [00:00<?, ?it/s]"
      ],
      "application/vnd.jupyter.widget-view+json": {
       "version_major": 2,
       "version_minor": 0,
       "model_id": "961c8f9360994e828c590cade1fdc539"
      }
     },
     "metadata": {},
     "output_type": "display_data"
    },
    {
     "data": {
      "text/plain": [
       "epoch:   0%|          | 0/5 [00:00<?, ?it/s]"
      ],
      "application/vnd.jupyter.widget-view+json": {
       "version_major": 2,
       "version_minor": 0,
       "model_id": "542a4e7c2c074ff4a955a6b9baaa4b3b"
      }
     },
     "metadata": {},
     "output_type": "display_data"
    },
    {
     "data": {
      "text/plain": [
       "  0%|          | 0/938 [00:00<?, ?it/s]"
      ],
      "application/vnd.jupyter.widget-view+json": {
       "version_major": 2,
       "version_minor": 0,
       "model_id": "2c54fc3e795147a18a3056c6e95fcecf"
      }
     },
     "metadata": {},
     "output_type": "display_data"
    },
    {
     "data": {
      "text/plain": [
       "  0%|          | 0/938 [00:00<?, ?it/s]"
      ],
      "application/vnd.jupyter.widget-view+json": {
       "version_major": 2,
       "version_minor": 0,
       "model_id": "b2d521034f3a490fa5086243ae37716c"
      }
     },
     "metadata": {},
     "output_type": "display_data"
    },
    {
     "data": {
      "text/plain": [
       "  0%|          | 0/938 [00:00<?, ?it/s]"
      ],
      "application/vnd.jupyter.widget-view+json": {
       "version_major": 2,
       "version_minor": 0,
       "model_id": "ee9ce9843ba941c88e7a0bc8e2ee894f"
      }
     },
     "metadata": {},
     "output_type": "display_data"
    },
    {
     "data": {
      "text/plain": [
       "  0%|          | 0/938 [00:00<?, ?it/s]"
      ],
      "application/vnd.jupyter.widget-view+json": {
       "version_major": 2,
       "version_minor": 0,
       "model_id": "3de7a4c8aa754261b7abde6aec91b5c1"
      }
     },
     "metadata": {},
     "output_type": "display_data"
    },
    {
     "data": {
      "text/plain": [
       "  0%|          | 0/938 [00:00<?, ?it/s]"
      ],
      "application/vnd.jupyter.widget-view+json": {
       "version_major": 2,
       "version_minor": 0,
       "model_id": "4580521a4dd741bcbfe2a7b81e55a10e"
      }
     },
     "metadata": {},
     "output_type": "display_data"
    },
    {
     "data": {
      "text/plain": [
       "epoch:   0%|          | 0/5 [00:00<?, ?it/s]"
      ],
      "application/vnd.jupyter.widget-view+json": {
       "version_major": 2,
       "version_minor": 0,
       "model_id": "d6000434bc2a48de94923500d68500e3"
      }
     },
     "metadata": {},
     "output_type": "display_data"
    },
    {
     "data": {
      "text/plain": [
       "  0%|          | 0/938 [00:00<?, ?it/s]"
      ],
      "application/vnd.jupyter.widget-view+json": {
       "version_major": 2,
       "version_minor": 0,
       "model_id": "938c1e1de3334f3f974fcf734703b685"
      }
     },
     "metadata": {},
     "output_type": "display_data"
    },
    {
     "data": {
      "text/plain": [
       "  0%|          | 0/938 [00:00<?, ?it/s]"
      ],
      "application/vnd.jupyter.widget-view+json": {
       "version_major": 2,
       "version_minor": 0,
       "model_id": "a604b74cb73d4adbaa95e296e78f2646"
      }
     },
     "metadata": {},
     "output_type": "display_data"
    },
    {
     "data": {
      "text/plain": [
       "  0%|          | 0/938 [00:00<?, ?it/s]"
      ],
      "application/vnd.jupyter.widget-view+json": {
       "version_major": 2,
       "version_minor": 0,
       "model_id": "0e18f5c799e34afa90fa0d0d8dccb385"
      }
     },
     "metadata": {},
     "output_type": "display_data"
    },
    {
     "data": {
      "text/plain": [
       "  0%|          | 0/938 [00:00<?, ?it/s]"
      ],
      "application/vnd.jupyter.widget-view+json": {
       "version_major": 2,
       "version_minor": 0,
       "model_id": "e3f2fbc0eac64d11a2cb1d3b652e4685"
      }
     },
     "metadata": {},
     "output_type": "display_data"
    },
    {
     "data": {
      "text/plain": [
       "  0%|          | 0/938 [00:00<?, ?it/s]"
      ],
      "application/vnd.jupyter.widget-view+json": {
       "version_major": 2,
       "version_minor": 0,
       "model_id": "7809325e7e7a47f39f1b73e87f67f9a0"
      }
     },
     "metadata": {},
     "output_type": "display_data"
    },
    {
     "data": {
      "text/plain": [
       "epoch:   0%|          | 0/5 [00:00<?, ?it/s]"
      ],
      "application/vnd.jupyter.widget-view+json": {
       "version_major": 2,
       "version_minor": 0,
       "model_id": "e5d18f0879f64b93bf8375ad37f16e24"
      }
     },
     "metadata": {},
     "output_type": "display_data"
    },
    {
     "data": {
      "text/plain": [
       "  0%|          | 0/938 [00:00<?, ?it/s]"
      ],
      "application/vnd.jupyter.widget-view+json": {
       "version_major": 2,
       "version_minor": 0,
       "model_id": "59e6e1740e95451aa12413a6d084d694"
      }
     },
     "metadata": {},
     "output_type": "display_data"
    },
    {
     "data": {
      "text/plain": [
       "  0%|          | 0/938 [00:00<?, ?it/s]"
      ],
      "application/vnd.jupyter.widget-view+json": {
       "version_major": 2,
       "version_minor": 0,
       "model_id": "7141d2dd5f5d43c795d674473ef37abf"
      }
     },
     "metadata": {},
     "output_type": "display_data"
    },
    {
     "data": {
      "text/plain": [
       "  0%|          | 0/938 [00:00<?, ?it/s]"
      ],
      "application/vnd.jupyter.widget-view+json": {
       "version_major": 2,
       "version_minor": 0,
       "model_id": "30e1a702b569478db7341a63a6d1367e"
      }
     },
     "metadata": {},
     "output_type": "display_data"
    },
    {
     "data": {
      "text/plain": [
       "  0%|          | 0/938 [00:00<?, ?it/s]"
      ],
      "application/vnd.jupyter.widget-view+json": {
       "version_major": 2,
       "version_minor": 0,
       "model_id": "348f52cae1b84a71aee7ab2b990c9cb8"
      }
     },
     "metadata": {},
     "output_type": "display_data"
    },
    {
     "data": {
      "text/plain": [
       "  0%|          | 0/938 [00:00<?, ?it/s]"
      ],
      "application/vnd.jupyter.widget-view+json": {
       "version_major": 2,
       "version_minor": 0,
       "model_id": "3b5b91fe676746b9866910e1ee220fb6"
      }
     },
     "metadata": {},
     "output_type": "display_data"
    },
    {
     "data": {
      "text/plain": [
       "epoch:   0%|          | 0/5 [00:00<?, ?it/s]"
      ],
      "application/vnd.jupyter.widget-view+json": {
       "version_major": 2,
       "version_minor": 0,
       "model_id": "8f72362f53dc4ae58cfb13a3ef5fd322"
      }
     },
     "metadata": {},
     "output_type": "display_data"
    },
    {
     "data": {
      "text/plain": [
       "  0%|          | 0/938 [00:00<?, ?it/s]"
      ],
      "application/vnd.jupyter.widget-view+json": {
       "version_major": 2,
       "version_minor": 0,
       "model_id": "e2116ec2479e4b84be60a04af04e473b"
      }
     },
     "metadata": {},
     "output_type": "display_data"
    },
    {
     "data": {
      "text/plain": [
       "  0%|          | 0/938 [00:00<?, ?it/s]"
      ],
      "application/vnd.jupyter.widget-view+json": {
       "version_major": 2,
       "version_minor": 0,
       "model_id": "5d6ec68827f64d44ba9d41417120145a"
      }
     },
     "metadata": {},
     "output_type": "display_data"
    },
    {
     "data": {
      "text/plain": [
       "  0%|          | 0/938 [00:00<?, ?it/s]"
      ],
      "application/vnd.jupyter.widget-view+json": {
       "version_major": 2,
       "version_minor": 0,
       "model_id": "f835ef93b168485a8f331c6bf5aebdca"
      }
     },
     "metadata": {},
     "output_type": "display_data"
    },
    {
     "data": {
      "text/plain": [
       "  0%|          | 0/938 [00:00<?, ?it/s]"
      ],
      "application/vnd.jupyter.widget-view+json": {
       "version_major": 2,
       "version_minor": 0,
       "model_id": "dae0930e44904d1fb54c6ef7af672c73"
      }
     },
     "metadata": {},
     "output_type": "display_data"
    },
    {
     "data": {
      "text/plain": [
       "  0%|          | 0/938 [00:00<?, ?it/s]"
      ],
      "application/vnd.jupyter.widget-view+json": {
       "version_major": 2,
       "version_minor": 0,
       "model_id": "cc97b2df0ec542e9b839f8a9aa8ed360"
      }
     },
     "metadata": {},
     "output_type": "display_data"
    },
    {
     "data": {
      "text/plain": [
       "epoch:   0%|          | 0/5 [00:00<?, ?it/s]"
      ],
      "application/vnd.jupyter.widget-view+json": {
       "version_major": 2,
       "version_minor": 0,
       "model_id": "00dafdafa8334231bb05b9730d6c79d2"
      }
     },
     "metadata": {},
     "output_type": "display_data"
    },
    {
     "data": {
      "text/plain": [
       "  0%|          | 0/938 [00:00<?, ?it/s]"
      ],
      "application/vnd.jupyter.widget-view+json": {
       "version_major": 2,
       "version_minor": 0,
       "model_id": "12f950867a5648e993b9a4d588ffecb6"
      }
     },
     "metadata": {},
     "output_type": "display_data"
    },
    {
     "data": {
      "text/plain": [
       "  0%|          | 0/938 [00:00<?, ?it/s]"
      ],
      "application/vnd.jupyter.widget-view+json": {
       "version_major": 2,
       "version_minor": 0,
       "model_id": "74ace6cdf9dc464c85440b69ebde2ad4"
      }
     },
     "metadata": {},
     "output_type": "display_data"
    },
    {
     "data": {
      "text/plain": [
       "  0%|          | 0/938 [00:00<?, ?it/s]"
      ],
      "application/vnd.jupyter.widget-view+json": {
       "version_major": 2,
       "version_minor": 0,
       "model_id": "c73bcd3c54bd43ec86e81e5c2cb93e12"
      }
     },
     "metadata": {},
     "output_type": "display_data"
    },
    {
     "data": {
      "text/plain": [
       "  0%|          | 0/938 [00:00<?, ?it/s]"
      ],
      "application/vnd.jupyter.widget-view+json": {
       "version_major": 2,
       "version_minor": 0,
       "model_id": "7a3f5be4898f41d9afcde913b4deee3c"
      }
     },
     "metadata": {},
     "output_type": "display_data"
    },
    {
     "data": {
      "text/plain": [
       "  0%|          | 0/938 [00:00<?, ?it/s]"
      ],
      "application/vnd.jupyter.widget-view+json": {
       "version_major": 2,
       "version_minor": 0,
       "model_id": "5336091b10504af193fb8a1a7ef25e62"
      }
     },
     "metadata": {},
     "output_type": "display_data"
    }
   ],
   "execution_count": 26
  },
  {
   "cell_type": "markdown",
   "metadata": {
    "id": "wM3gKcgGMSPW"
   },
   "source": [
    "### Variational autoencoder"
   ]
  },
  {
   "cell_type": "markdown",
   "metadata": {},
   "source": [
    "Instead of vectors (data), both the encoder and the decoder produce vectors of distribution parameters."
   ]
  },
  {
   "cell_type": "markdown",
   "metadata": {
    "id": "kPnQm_lEluQU"
   },
   "source": [
    "#### Model"
   ]
  },
  {
   "cell_type": "code",
   "metadata": {
    "id": "0DSQY6qfke2U",
    "ExecuteTime": {
     "end_time": "2025-01-22T15:30:25.426610Z",
     "start_time": "2025-01-22T15:30:25.416288Z"
    }
   },
   "source": [
    "class VAE(torch.nn.Module):\n",
    "    @property\n",
    "    def device(self):\n",
    "        return next(self.parameters()).device\n",
    "\n",
    "    def __init__(self, latent_dim, input_dim, hidden_dim=200):\n",
    "        \"\"\"\n",
    "        Standart model of VAE with evidence lower bound (ELBO) optimization.\n",
    "        Args:\n",
    "            latent_dim: int - the dimension of latent space\n",
    "            input_dim: int - the dimension of input space\n",
    "            hidden_dim: int - the size of hidden_dim neural layer\n",
    "        Returns:\n",
    "            None\n",
    "        Example:\n",
    "            >>> model = VAE(2, 10)\n",
    "        \"\"\"\n",
    "        super(VAE, self).__init__()\n",
    "        self.latent_dim = latent_dim\n",
    "        self.input_dim = input_dim\n",
    "        self.hidden_dim = hidden_dim\n",
    "\n",
    "        self.proposal_z = torch.nn.Sequential(\n",
    "            torch.nn.Linear(self.input_dim, hidden_dim),\n",
    "            torch.nn.LeakyReLU(),\n",
    "        )\n",
    "        self.proposal_mu = torch.nn.Linear(hidden_dim, self.latent_dim)\n",
    "        self.proposal_sigma = torch.nn.Linear(hidden_dim, self.latent_dim)\n",
    "\n",
    "        self.generative_network = torch.nn.Sequential(\n",
    "            torch.nn.Linear(self.latent_dim, hidden_dim),\n",
    "            torch.nn.LeakyReLU(),\n",
    "            torch.nn.Linear(hidden_dim, self.input_dim),\n",
    "            torch.nn.Sigmoid()\n",
    "        )\n",
    "\n",
    "    def q_z(self, x):\n",
    "        \"\"\"\n",
    "        Generates distribution of z provided x.\n",
    "        Args:\n",
    "            x: Tensor - the matrix of shape (batch_size, input_dim)\n",
    "        Returns:\n",
    "            tuple(Tensor, Tensor) - the normal distribution parameters\n",
    "            mu: Tensor - the matrix of shape (batch_size, latent_dim)\n",
    "            sigma: Tensor - the matrix of shape (batch_size, latent_dim)\n",
    "        Example:\n",
    "            >>>\n",
    "        \"\"\"\n",
    "        x = x.to(self.device)\n",
    "\n",
    "        proposal = self.proposal_z(x)\n",
    "        mu = self.proposal_mu(proposal)\n",
    "        sigma = torch.nn.Softplus()(self.proposal_sigma(proposal))\n",
    "        return mu, sigma\n",
    "\n",
    "    def p_z(self, num_samples):\n",
    "        \"\"\"\n",
    "        Generetes prior distribution of z.\n",
    "        Args:\n",
    "            num_samples: int - the number of samples.\n",
    "        Returns:\n",
    "            tuple(Tensor, Tensor) - the normal distribution parameters.\n",
    "                mu: Tensor - the matrix of shape num_samples x latent_dim.\n",
    "            \tsigma: Tensor - the matrix of shape num_samples x latent_dim.\n",
    "        Example:\n",
    "            >>>\n",
    "        \"\"\"\n",
    "        mu = torch.zeros([num_samples, self.latent_dim], device=self.device)\n",
    "        sigma = torch.ones([num_samples, self.latent_dim], device=self.device)\n",
    "        return mu, sigma\n",
    "\n",
    "    def sample_z(self, distr, num_samples=1):\n",
    "        \"\"\"\n",
    "        Generates samples from normal distribution q(z|x).\n",
    "        Args:\n",
    "            distr = (mu, sigma): tuple(Tensor, Tensor) - the normal distribution parameters.\n",
    "                mu: Tensor - the matrix of shape batch_size x latent_dim.\n",
    "                sigma: Tensor - the matrix of shape batch_size x latent_dim.\n",
    "            num_samples: int - the number of samples for each element.\n",
    "        Returns:\n",
    "            Tensor - the tensor of shape batch_size x num_samples x latent_dim - samples from normal distribution in latent space.\n",
    "        Example:\n",
    "            >>>\n",
    "        \"\"\"\n",
    "        mu, sigma = distr\n",
    "        mu = mu.to(self.device)\n",
    "        sigma = sigma.to(self.device)\n",
    "\n",
    "        batch_size = mu.shape[0]\n",
    "\n",
    "        bias = mu.view([batch_size, 1, self.latent_dim])\n",
    "\n",
    "        epsilon = torch.randn([batch_size, num_samples, self.latent_dim],\n",
    "                              requires_grad=True,\n",
    "                              device=self.device)\n",
    "        scale = sigma.view([batch_size, 1, self.latent_dim])\n",
    "\n",
    "        # reparametrization trick\n",
    "        return bias + epsilon * scale \n",
    "\n",
    "    def q_x(self, z):\n",
    "        \"\"\"\n",
    "        Given the latent representation matrix z, returns the matrix of Bernoulli distribution parameters for sampling x objects.\n",
    "        Args:\n",
    "            z: Tensor - the tensor of shape batch_size x num_samples x latent_dim, samples from latent space.\n",
    "        Returns:\n",
    "            Tensor - the tensor of shape batch_size x num_samples x input_dim, Bernoulli distribution parameters.\n",
    "        Example:\n",
    "            >>>\n",
    "        \"\"\"\n",
    "        z = z.to(self.device)\n",
    "        out = self.generative_network(z)\n",
    "\n",
    "        return torch.clamp(out, 0.01, 0.99)\n",
    "\n",
    "    def loss(self, batch_x, batch_y):\n",
    "        \"\"\"\n",
    "        Calculate ELBO approximation of log likelihood for given batch with negative sign.\n",
    "        Args:\n",
    "            batch_x: FloatTensor - the matrix of shape batch_size x input_dim.\n",
    "            batch_y: FloatTensor - dont uses parameter in this model.\n",
    "        Returns:\n",
    "            Tensor - scalar, ELBO approximation of log likelihood for given batch with negative sign.\n",
    "        Example:\n",
    "            >>>\n",
    "        \"\"\"\n",
    "        batch_x = batch_x.to(self.device)\n",
    "#         batch_y = batch_y.to(self.device)\n",
    "\n",
    "        batch_size = batch_x.shape[0]\n",
    "\n",
    "        propos_distr = self.q_z(batch_x)\n",
    "        pri_distr = self.p_z(batch_size)\n",
    "\n",
    "        x_distr = self.q_x(self.sample_z(propos_distr))\n",
    "\n",
    "        # likelihood of a Bernoulli distribution\n",
    "        # (such a formula for computational stability)\n",
    "        expectation = torch.mean(\n",
    "            self.log_mean_exp(\n",
    "                self.log_likelihood(\n",
    "                    batch_x, x_distr)), dim=0)\n",
    "\n",
    "        divergence = self.divergence_KL_normal(propos_distr, pri_distr)\n",
    "\n",
    "        return -1 * torch.mean(expectation - divergence, dim=0)\n",
    "\n",
    "    def generate_samples(self, num_samples):\n",
    "        \"\"\"\n",
    "        Generate samples of object x from noises in latent space.\n",
    "        Args:\n",
    "            num_samples: int — the number of samples to generate\n",
    "        Returns:\n",
    "            Tensor — the matrix of shape num_samples x input_dim\n",
    "        Example:\n",
    "            >>>\n",
    "        \"\"\"\n",
    "        distr_z = self.p_z(num_samples=1)\n",
    "\n",
    "        z = self.sample_z(distr_z, num_samples=num_samples)\n",
    "\n",
    "        distr_x = self.q_x(z).view([num_samples, -1])\n",
    "\n",
    "        return torch.bernoulli(distr_x, device=self.device)\n",
    "\n",
    "    @staticmethod\n",
    "    def log_pdf_normal(distr, samples):\n",
    "        \"\"\"\n",
    "        The function calculates the logarithm of the probability density at a point relative to the corresponding normal distribution given componentwise by its mean and standard deviation.\n",
    "        Args:\n",
    "            distr = (mu, sigma): tuple(Tensor, Tensor) - the normal distribution parameters.\n",
    "                mu: Tensor - the matrix of shape batch_size x latent_dim.\n",
    "                sigma: Tensor - the matrix of shape batch_size x latent_dim.\n",
    "            samples: Tensor - the tensor of shape batch_size x num_samples x latent_dim, samples in latent space.\n",
    "        Returns:\n",
    "            Tensor - the matrix of shape batch_size x num_samples, each element of which is the logarithm of the probability density of a point relative to the corresponding distribution.\n",
    "        Example:\n",
    "            >>>\n",
    "        \"\"\"\n",
    "        mu, sigma = distr\n",
    "\n",
    "        batch_size = mu.shape[0]\n",
    "        latent_dim = mu.shape[1]\n",
    "\n",
    "        f1 = torch.sum(((samples -\n",
    "                         mu.view([batch_size, 1, latent_dim]))**2) /\n",
    "                       sigma.view([batch_size, 1, latent_dim])**2, dim=2)\n",
    "        f2 = mu.shape[1] * (math.log(2) + math.log(math.pi))\n",
    "        f3 = torch.sum(torch.log(sigma), dim=1).view(batch_size, 1)\n",
    "        return -0.5 * (f1 + f2) - f3\n",
    "\n",
    "    @staticmethod\n",
    "    def log_likelihood(x_true, x_distr):\n",
    "        \"\"\"\n",
    "        Calculate a log likelihood between x_true and x_distr.\n",
    "        Args:\n",
    "            x_true:  Tensor — the matrix of shape batch_size x input_dim\n",
    "            x_distr: Tensor — the tensor of shape batch_size x num_samples x input_dim, Bernoulli distribution parameters\n",
    "        Returns:\n",
    "            Tensor — the matrix of shape batch_size x num_samples — log likelihood for each sample\n",
    "        Example:\n",
    "            >>>\n",
    "        \"\"\"\n",
    "        batch_size = x_distr.shape[0]\n",
    "        input_dim = x_distr.shape[2]\n",
    "\n",
    "        bernoulli_log_likelihood = torch.log(\n",
    "            x_distr) * x_true.view([batch_size, 1, input_dim])\n",
    "        bernoulli_log_likelihood += torch.log(1 - x_distr) * (\n",
    "            1 - x_true).view([batch_size, 1, input_dim])\n",
    "\n",
    "        return torch.sum(bernoulli_log_likelihood, dim=2)\n",
    "\n",
    "    @staticmethod\n",
    "    def log_mean_exp(data):\n",
    "        \"\"\"\n",
    "        Args:\n",
    "            data: Tensor — the tensor of shape n_1 x n_2 x ... x n_K\n",
    "        Returns:\n",
    "            Tensor — the tensor of shape n_1 x n_2 x ... x n_{K - 1}\n",
    "        Example:\n",
    "            >>>\n",
    "        \"\"\"\n",
    "\n",
    "        return torch.logsumexp(data, dim=-1) - \\\n",
    "            torch.log(torch.Tensor([data.shape[-1]]).to(data.device))\n",
    "\n",
    "    @staticmethod\n",
    "    def divergence_KL_normal(q_distr, p_distr):\n",
    "        \"\"\"\n",
    "        Calculate KL-divergence KL(q||p) between n-pairs of normal distribution.\n",
    "        Args:\n",
    "            q_distr=(mu, sigma): tuple(Tensor, Tensor) — the normal distribution parameters\n",
    "                mu: Tensor — the matrix of shape batch_size x latent_dim\n",
    "                sigma: Tensor — the matrix of shape batch_size x latent_dim\n",
    "            p_distr=(mu, sigma): tuple(Tensor, Tensor) — the normal distribution parameters\n",
    "                mu: Tensor — the matrix of shape batch_size x latent_dim\n",
    "                sigma: Tensor — the matrix of shape batch_size x latent_dim\n",
    "        Returns:\n",
    "            Tensor — the vector of shape n, each value of which is a KL-divergence between pair of normal distribution\n",
    "        Example:\n",
    "            >>>\n",
    "        \"\"\"\n",
    "        q_mu, q_sigma = q_distr\n",
    "        p_mu, p_sigma = p_distr\n",
    "\n",
    "        D_KL = torch.sum((q_sigma / p_sigma)**2, dim=1)\n",
    "        D_KL -= p_mu.shape[1]\n",
    "        D_KL += 2 * torch.sum(torch.log(p_sigma), dim=1) - \\\n",
    "            2 * torch.sum(torch.log(q_sigma), dim=1)\n",
    "        D_KL += torch.sum((p_mu - q_mu) * (p_mu - q_mu) / (p_sigma**2), dim=1)\n",
    "        return 0.5 * D_KL\n",
    "\n",
    "    def forward(self, x):\n",
    "        \"\"\"\n",
    "        Generate decoded sample after encoding.\n",
    "        Args:\n",
    "            x: Tensor — the matrix of shape (batch_size, input_dim)\n",
    "        Returns:\n",
    "            Tensor — the matrix of shape (batch_size, input_dim)\n",
    "        Example:\n",
    "            >>>\n",
    "        \"\"\"\n",
    "        return self.q_x(self.sample_z(self.q_z(x))).view_as(x)\n"
   ],
   "outputs": [],
   "execution_count": 27
  },
  {
   "cell_type": "markdown",
   "metadata": {
    "id": "9WYJ_mwgmDeG"
   },
   "source": [
    "#### Code for VAE training"
   ]
  },
  {
   "cell_type": "code",
   "metadata": {
    "id": "y5nqzt8fmN4M",
    "ExecuteTime": {
     "end_time": "2025-01-22T15:30:31.787576Z",
     "start_time": "2025-01-22T15:30:31.785638Z"
    }
   },
   "source": [
    "def train_on_batch(model, x_batch, y_batch, optimizer, loss_function):\n",
    "    model.train()\n",
    "    optimizer.zero_grad()\n",
    "    \n",
    "    loss = model.loss(x_batch.to(model.device), y_batch.to(model.device))\n",
    "    loss.backward()\n",
    "\n",
    "    optimizer.step()\n",
    "    return loss.cpu().item()"
   ],
   "outputs": [],
   "execution_count": 28
  },
  {
   "cell_type": "markdown",
   "metadata": {
    "id": "219UdCzZoE-4"
   },
   "source": [
    "#### Data"
   ]
  },
  {
   "cell_type": "code",
   "metadata": {
    "id": "X-5KlkdwoQwM",
    "ExecuteTime": {
     "end_time": "2025-01-22T15:30:34.698860Z",
     "start_time": "2025-01-22T15:30:34.696877Z"
    }
   },
   "source": [
    "preprocess = transforms.Compose([transforms.ToTensor(), \n",
    "                                 torch.FloatTensor, \n",
    "                                 lambda x: x.view(784)])"
   ],
   "outputs": [],
   "execution_count": 29
  },
  {
   "cell_type": "code",
   "metadata": {
    "id": "Iq4ZRNcroQwN",
    "ExecuteTime": {
     "end_time": "2025-01-22T15:30:35.068193Z",
     "start_time": "2025-01-22T15:30:35.050029Z"
    }
   },
   "source": [
    "MNIST_train = datasets.MNIST('./mnist', train=True, download=True, \n",
    "                             transform=preprocess)\n",
    "\n",
    "MNIST_test = datasets.MNIST('./mnist', train=False, download=True,\n",
    "                            transform=preprocess)"
   ],
   "outputs": [],
   "execution_count": 30
  },
  {
   "cell_type": "markdown",
   "metadata": {
    "id": "S3rpGy8Ul0tG"
   },
   "source": [
    "#### Model optimization"
   ]
  },
  {
   "cell_type": "code",
   "metadata": {
    "id": "m8mIbkWTkltO",
    "ExecuteTime": {
     "end_time": "2025-01-22T15:30:42.395497Z",
     "start_time": "2025-01-22T15:30:42.393741Z"
    }
   },
   "source": [
    "optimizer = torch.optim.Adam\n",
    "# (!) not for learning, but for measuring quality on a test\n",
    "loss_function = torch.nn.MSELoss()"
   ],
   "outputs": [],
   "execution_count": 31
  },
  {
   "cell_type": "markdown",
   "metadata": {
    "id": "1Pgw8VSP7LRU"
   },
   "source": [
    "#### Iterating over different sizes of latent space"
   ]
  },
  {
   "cell_type": "code",
   "metadata": {
    "id": "HNQrh5nNtOtq",
    "ExecuteTime": {
     "end_time": "2025-01-22T15:41:19.033605Z",
     "start_time": "2025-01-22T15:31:02.992792Z"
    }
   },
   "source": [
    "# for d in [2]:\n",
    "for d in [64, 32, 16, 8, 4, 2]:\n",
    "    autoencoder = VAE(d, 28*28)\n",
    "    autoencoder.to(device)\n",
    "\n",
    "    writer = SummaryWriter(log_dir = 'autoencoder-vae/{}'.format(d))\n",
    "    call = callback(writer, MNIST_test, loss_function, delimeter=100)\n",
    "\n",
    "    trainer(count_of_epoch=10,\n",
    "            batch_size=64,\n",
    "            dataset=MNIST_train,\n",
    "            model=autoencoder,\n",
    "            loss_function=None,\n",
    "            optimizer = optimizer,\n",
    "            lr = 0.001,\n",
    "            callback = call)"
   ],
   "outputs": [
    {
     "data": {
      "text/plain": [
       "epoch:   0%|          | 0/10 [00:00<?, ?it/s]"
      ],
      "application/vnd.jupyter.widget-view+json": {
       "version_major": 2,
       "version_minor": 0,
       "model_id": "b28fa699cd6649aba399c18161aaf5d8"
      }
     },
     "metadata": {},
     "output_type": "display_data"
    },
    {
     "data": {
      "text/plain": [
       "  0%|          | 0/938 [00:00<?, ?it/s]"
      ],
      "application/vnd.jupyter.widget-view+json": {
       "version_major": 2,
       "version_minor": 0,
       "model_id": "809376ac74544915a9ec522a419baf21"
      }
     },
     "metadata": {},
     "output_type": "display_data"
    },
    {
     "data": {
      "text/plain": [
       "  0%|          | 0/938 [00:00<?, ?it/s]"
      ],
      "application/vnd.jupyter.widget-view+json": {
       "version_major": 2,
       "version_minor": 0,
       "model_id": "4fdebdb57f2f40038a32d947650182a1"
      }
     },
     "metadata": {},
     "output_type": "display_data"
    },
    {
     "data": {
      "text/plain": [
       "  0%|          | 0/938 [00:00<?, ?it/s]"
      ],
      "application/vnd.jupyter.widget-view+json": {
       "version_major": 2,
       "version_minor": 0,
       "model_id": "fd01fef29b524092ace6f41511790b62"
      }
     },
     "metadata": {},
     "output_type": "display_data"
    },
    {
     "data": {
      "text/plain": [
       "  0%|          | 0/938 [00:00<?, ?it/s]"
      ],
      "application/vnd.jupyter.widget-view+json": {
       "version_major": 2,
       "version_minor": 0,
       "model_id": "16ad1c5ee8904689b0f82a4859592c5d"
      }
     },
     "metadata": {},
     "output_type": "display_data"
    },
    {
     "data": {
      "text/plain": [
       "  0%|          | 0/938 [00:00<?, ?it/s]"
      ],
      "application/vnd.jupyter.widget-view+json": {
       "version_major": 2,
       "version_minor": 0,
       "model_id": "e428ea801304457189165d72a389b845"
      }
     },
     "metadata": {},
     "output_type": "display_data"
    },
    {
     "data": {
      "text/plain": [
       "  0%|          | 0/938 [00:00<?, ?it/s]"
      ],
      "application/vnd.jupyter.widget-view+json": {
       "version_major": 2,
       "version_minor": 0,
       "model_id": "790b46991aef4fc1bb313396137f613d"
      }
     },
     "metadata": {},
     "output_type": "display_data"
    },
    {
     "data": {
      "text/plain": [
       "  0%|          | 0/938 [00:00<?, ?it/s]"
      ],
      "application/vnd.jupyter.widget-view+json": {
       "version_major": 2,
       "version_minor": 0,
       "model_id": "d7108a8cee0f4318ac92973082f6613a"
      }
     },
     "metadata": {},
     "output_type": "display_data"
    },
    {
     "data": {
      "text/plain": [
       "  0%|          | 0/938 [00:00<?, ?it/s]"
      ],
      "application/vnd.jupyter.widget-view+json": {
       "version_major": 2,
       "version_minor": 0,
       "model_id": "2b3086830e7e4c9aa9f3752417174b83"
      }
     },
     "metadata": {},
     "output_type": "display_data"
    },
    {
     "data": {
      "text/plain": [
       "  0%|          | 0/938 [00:00<?, ?it/s]"
      ],
      "application/vnd.jupyter.widget-view+json": {
       "version_major": 2,
       "version_minor": 0,
       "model_id": "c896f6cb916644f6a24769d1ee1acfc5"
      }
     },
     "metadata": {},
     "output_type": "display_data"
    },
    {
     "data": {
      "text/plain": [
       "  0%|          | 0/938 [00:00<?, ?it/s]"
      ],
      "application/vnd.jupyter.widget-view+json": {
       "version_major": 2,
       "version_minor": 0,
       "model_id": "8d8510a43a8741c796258d98c89c8e57"
      }
     },
     "metadata": {},
     "output_type": "display_data"
    },
    {
     "data": {
      "text/plain": [
       "epoch:   0%|          | 0/10 [00:00<?, ?it/s]"
      ],
      "application/vnd.jupyter.widget-view+json": {
       "version_major": 2,
       "version_minor": 0,
       "model_id": "26a1fec47ef84a99bbaa82751ed0ded2"
      }
     },
     "metadata": {},
     "output_type": "display_data"
    },
    {
     "data": {
      "text/plain": [
       "  0%|          | 0/938 [00:00<?, ?it/s]"
      ],
      "application/vnd.jupyter.widget-view+json": {
       "version_major": 2,
       "version_minor": 0,
       "model_id": "875f91ca45e64f3cbdcec4180b6b0602"
      }
     },
     "metadata": {},
     "output_type": "display_data"
    },
    {
     "data": {
      "text/plain": [
       "  0%|          | 0/938 [00:00<?, ?it/s]"
      ],
      "application/vnd.jupyter.widget-view+json": {
       "version_major": 2,
       "version_minor": 0,
       "model_id": "145ced68b580448ba1621b114e1202a9"
      }
     },
     "metadata": {},
     "output_type": "display_data"
    },
    {
     "data": {
      "text/plain": [
       "  0%|          | 0/938 [00:00<?, ?it/s]"
      ],
      "application/vnd.jupyter.widget-view+json": {
       "version_major": 2,
       "version_minor": 0,
       "model_id": "6a1897cb79a34c5ba92702bd9f3c21cd"
      }
     },
     "metadata": {},
     "output_type": "display_data"
    },
    {
     "data": {
      "text/plain": [
       "  0%|          | 0/938 [00:00<?, ?it/s]"
      ],
      "application/vnd.jupyter.widget-view+json": {
       "version_major": 2,
       "version_minor": 0,
       "model_id": "2aedf210e01a485197616c86c8bc4302"
      }
     },
     "metadata": {},
     "output_type": "display_data"
    },
    {
     "data": {
      "text/plain": [
       "  0%|          | 0/938 [00:00<?, ?it/s]"
      ],
      "application/vnd.jupyter.widget-view+json": {
       "version_major": 2,
       "version_minor": 0,
       "model_id": "ea42ac3597c944beba22dc726a0b428a"
      }
     },
     "metadata": {},
     "output_type": "display_data"
    },
    {
     "data": {
      "text/plain": [
       "  0%|          | 0/938 [00:00<?, ?it/s]"
      ],
      "application/vnd.jupyter.widget-view+json": {
       "version_major": 2,
       "version_minor": 0,
       "model_id": "d47b71e62c6247a0bd0873f7f9b32ec5"
      }
     },
     "metadata": {},
     "output_type": "display_data"
    },
    {
     "data": {
      "text/plain": [
       "  0%|          | 0/938 [00:00<?, ?it/s]"
      ],
      "application/vnd.jupyter.widget-view+json": {
       "version_major": 2,
       "version_minor": 0,
       "model_id": "5d9918b24c374a59b856e1aafa1508e7"
      }
     },
     "metadata": {},
     "output_type": "display_data"
    },
    {
     "data": {
      "text/plain": [
       "  0%|          | 0/938 [00:00<?, ?it/s]"
      ],
      "application/vnd.jupyter.widget-view+json": {
       "version_major": 2,
       "version_minor": 0,
       "model_id": "fc4109254dee4a84a3b34364e7b238ea"
      }
     },
     "metadata": {},
     "output_type": "display_data"
    },
    {
     "data": {
      "text/plain": [
       "  0%|          | 0/938 [00:00<?, ?it/s]"
      ],
      "application/vnd.jupyter.widget-view+json": {
       "version_major": 2,
       "version_minor": 0,
       "model_id": "f6158404ced440e8a90466ddaacd9fe2"
      }
     },
     "metadata": {},
     "output_type": "display_data"
    },
    {
     "data": {
      "text/plain": [
       "  0%|          | 0/938 [00:00<?, ?it/s]"
      ],
      "application/vnd.jupyter.widget-view+json": {
       "version_major": 2,
       "version_minor": 0,
       "model_id": "44cb4d4801554152ad7b1e0977bb00e4"
      }
     },
     "metadata": {},
     "output_type": "display_data"
    },
    {
     "data": {
      "text/plain": [
       "epoch:   0%|          | 0/10 [00:00<?, ?it/s]"
      ],
      "application/vnd.jupyter.widget-view+json": {
       "version_major": 2,
       "version_minor": 0,
       "model_id": "2fc19cff014a4f9aa50339d1b866499a"
      }
     },
     "metadata": {},
     "output_type": "display_data"
    },
    {
     "data": {
      "text/plain": [
       "  0%|          | 0/938 [00:00<?, ?it/s]"
      ],
      "application/vnd.jupyter.widget-view+json": {
       "version_major": 2,
       "version_minor": 0,
       "model_id": "14917edb0cf440cfb497b2e258ceb4b6"
      }
     },
     "metadata": {},
     "output_type": "display_data"
    },
    {
     "data": {
      "text/plain": [
       "  0%|          | 0/938 [00:00<?, ?it/s]"
      ],
      "application/vnd.jupyter.widget-view+json": {
       "version_major": 2,
       "version_minor": 0,
       "model_id": "5ba434d94ee14d94a6ae43fa78bca8f3"
      }
     },
     "metadata": {},
     "output_type": "display_data"
    },
    {
     "data": {
      "text/plain": [
       "  0%|          | 0/938 [00:00<?, ?it/s]"
      ],
      "application/vnd.jupyter.widget-view+json": {
       "version_major": 2,
       "version_minor": 0,
       "model_id": "2f185ccf5e2141efadf84fa794d50ac4"
      }
     },
     "metadata": {},
     "output_type": "display_data"
    },
    {
     "data": {
      "text/plain": [
       "  0%|          | 0/938 [00:00<?, ?it/s]"
      ],
      "application/vnd.jupyter.widget-view+json": {
       "version_major": 2,
       "version_minor": 0,
       "model_id": "7a6165cf578e46209442d1d4ad2eeb3a"
      }
     },
     "metadata": {},
     "output_type": "display_data"
    },
    {
     "data": {
      "text/plain": [
       "  0%|          | 0/938 [00:00<?, ?it/s]"
      ],
      "application/vnd.jupyter.widget-view+json": {
       "version_major": 2,
       "version_minor": 0,
       "model_id": "0277711141834ff080396f64df083f23"
      }
     },
     "metadata": {},
     "output_type": "display_data"
    },
    {
     "data": {
      "text/plain": [
       "  0%|          | 0/938 [00:00<?, ?it/s]"
      ],
      "application/vnd.jupyter.widget-view+json": {
       "version_major": 2,
       "version_minor": 0,
       "model_id": "94be30f6eb8a452a8d583b9d8f4bdbc1"
      }
     },
     "metadata": {},
     "output_type": "display_data"
    },
    {
     "data": {
      "text/plain": [
       "  0%|          | 0/938 [00:00<?, ?it/s]"
      ],
      "application/vnd.jupyter.widget-view+json": {
       "version_major": 2,
       "version_minor": 0,
       "model_id": "3efffc9c946b497995cc8801bc23780a"
      }
     },
     "metadata": {},
     "output_type": "display_data"
    },
    {
     "data": {
      "text/plain": [
       "  0%|          | 0/938 [00:00<?, ?it/s]"
      ],
      "application/vnd.jupyter.widget-view+json": {
       "version_major": 2,
       "version_minor": 0,
       "model_id": "dfb1b7ef2b0c4835878ea110c780cac0"
      }
     },
     "metadata": {},
     "output_type": "display_data"
    },
    {
     "data": {
      "text/plain": [
       "  0%|          | 0/938 [00:00<?, ?it/s]"
      ],
      "application/vnd.jupyter.widget-view+json": {
       "version_major": 2,
       "version_minor": 0,
       "model_id": "8bfdba0579d64cc78179b74628df9ad3"
      }
     },
     "metadata": {},
     "output_type": "display_data"
    },
    {
     "data": {
      "text/plain": [
       "  0%|          | 0/938 [00:00<?, ?it/s]"
      ],
      "application/vnd.jupyter.widget-view+json": {
       "version_major": 2,
       "version_minor": 0,
       "model_id": "0bf6d1426369467da2ba2b0d6172e0b3"
      }
     },
     "metadata": {},
     "output_type": "display_data"
    },
    {
     "data": {
      "text/plain": [
       "epoch:   0%|          | 0/10 [00:00<?, ?it/s]"
      ],
      "application/vnd.jupyter.widget-view+json": {
       "version_major": 2,
       "version_minor": 0,
       "model_id": "759c4a40b95a48e7930aa51b5a61abdf"
      }
     },
     "metadata": {},
     "output_type": "display_data"
    },
    {
     "data": {
      "text/plain": [
       "  0%|          | 0/938 [00:00<?, ?it/s]"
      ],
      "application/vnd.jupyter.widget-view+json": {
       "version_major": 2,
       "version_minor": 0,
       "model_id": "67ffb9b03a7043068d0089d5e8eae27e"
      }
     },
     "metadata": {},
     "output_type": "display_data"
    },
    {
     "data": {
      "text/plain": [
       "  0%|          | 0/938 [00:00<?, ?it/s]"
      ],
      "application/vnd.jupyter.widget-view+json": {
       "version_major": 2,
       "version_minor": 0,
       "model_id": "e87d29993ade48d99155b473e3713f94"
      }
     },
     "metadata": {},
     "output_type": "display_data"
    },
    {
     "data": {
      "text/plain": [
       "  0%|          | 0/938 [00:00<?, ?it/s]"
      ],
      "application/vnd.jupyter.widget-view+json": {
       "version_major": 2,
       "version_minor": 0,
       "model_id": "c560ce3a694c48a3802827de1986e2ee"
      }
     },
     "metadata": {},
     "output_type": "display_data"
    },
    {
     "data": {
      "text/plain": [
       "  0%|          | 0/938 [00:00<?, ?it/s]"
      ],
      "application/vnd.jupyter.widget-view+json": {
       "version_major": 2,
       "version_minor": 0,
       "model_id": "3af56a18dcba4323913e5fd952070e2d"
      }
     },
     "metadata": {},
     "output_type": "display_data"
    },
    {
     "data": {
      "text/plain": [
       "  0%|          | 0/938 [00:00<?, ?it/s]"
      ],
      "application/vnd.jupyter.widget-view+json": {
       "version_major": 2,
       "version_minor": 0,
       "model_id": "de8afb13c1c54e53827df51696027dcf"
      }
     },
     "metadata": {},
     "output_type": "display_data"
    },
    {
     "data": {
      "text/plain": [
       "  0%|          | 0/938 [00:00<?, ?it/s]"
      ],
      "application/vnd.jupyter.widget-view+json": {
       "version_major": 2,
       "version_minor": 0,
       "model_id": "c4cdcab9b6ed4021bdeddeb613af8cbb"
      }
     },
     "metadata": {},
     "output_type": "display_data"
    },
    {
     "data": {
      "text/plain": [
       "  0%|          | 0/938 [00:00<?, ?it/s]"
      ],
      "application/vnd.jupyter.widget-view+json": {
       "version_major": 2,
       "version_minor": 0,
       "model_id": "3cbc699953aa46b7b11f53937ac6d5fc"
      }
     },
     "metadata": {},
     "output_type": "display_data"
    },
    {
     "data": {
      "text/plain": [
       "  0%|          | 0/938 [00:00<?, ?it/s]"
      ],
      "application/vnd.jupyter.widget-view+json": {
       "version_major": 2,
       "version_minor": 0,
       "model_id": "edb6b8bd62ea49269332394491ad02e7"
      }
     },
     "metadata": {},
     "output_type": "display_data"
    },
    {
     "data": {
      "text/plain": [
       "  0%|          | 0/938 [00:00<?, ?it/s]"
      ],
      "application/vnd.jupyter.widget-view+json": {
       "version_major": 2,
       "version_minor": 0,
       "model_id": "46352da051154fb2966cc77b23bcbf2c"
      }
     },
     "metadata": {},
     "output_type": "display_data"
    },
    {
     "data": {
      "text/plain": [
       "  0%|          | 0/938 [00:00<?, ?it/s]"
      ],
      "application/vnd.jupyter.widget-view+json": {
       "version_major": 2,
       "version_minor": 0,
       "model_id": "8be9b03c4fea44e4b220d0aeddd41aba"
      }
     },
     "metadata": {},
     "output_type": "display_data"
    },
    {
     "data": {
      "text/plain": [
       "epoch:   0%|          | 0/10 [00:00<?, ?it/s]"
      ],
      "application/vnd.jupyter.widget-view+json": {
       "version_major": 2,
       "version_minor": 0,
       "model_id": "700865919ac94a20a80490f5bd750cdf"
      }
     },
     "metadata": {},
     "output_type": "display_data"
    },
    {
     "data": {
      "text/plain": [
       "  0%|          | 0/938 [00:00<?, ?it/s]"
      ],
      "application/vnd.jupyter.widget-view+json": {
       "version_major": 2,
       "version_minor": 0,
       "model_id": "4c9eb00ab2c84e53b6c3f30a0eb74dc3"
      }
     },
     "metadata": {},
     "output_type": "display_data"
    },
    {
     "data": {
      "text/plain": [
       "  0%|          | 0/938 [00:00<?, ?it/s]"
      ],
      "application/vnd.jupyter.widget-view+json": {
       "version_major": 2,
       "version_minor": 0,
       "model_id": "dce993f4d66a420390271db73879ade1"
      }
     },
     "metadata": {},
     "output_type": "display_data"
    },
    {
     "data": {
      "text/plain": [
       "  0%|          | 0/938 [00:00<?, ?it/s]"
      ],
      "application/vnd.jupyter.widget-view+json": {
       "version_major": 2,
       "version_minor": 0,
       "model_id": "e6ab6be2068b48c9af9e78c50e6c51aa"
      }
     },
     "metadata": {},
     "output_type": "display_data"
    },
    {
     "data": {
      "text/plain": [
       "  0%|          | 0/938 [00:00<?, ?it/s]"
      ],
      "application/vnd.jupyter.widget-view+json": {
       "version_major": 2,
       "version_minor": 0,
       "model_id": "69400eb9ac874274847ef7fb705c3030"
      }
     },
     "metadata": {},
     "output_type": "display_data"
    },
    {
     "data": {
      "text/plain": [
       "  0%|          | 0/938 [00:00<?, ?it/s]"
      ],
      "application/vnd.jupyter.widget-view+json": {
       "version_major": 2,
       "version_minor": 0,
       "model_id": "4604d08bbfcb4665b2b256f41032e2e3"
      }
     },
     "metadata": {},
     "output_type": "display_data"
    },
    {
     "data": {
      "text/plain": [
       "  0%|          | 0/938 [00:00<?, ?it/s]"
      ],
      "application/vnd.jupyter.widget-view+json": {
       "version_major": 2,
       "version_minor": 0,
       "model_id": "8aee72c1413f490eb85520080cf95c05"
      }
     },
     "metadata": {},
     "output_type": "display_data"
    },
    {
     "data": {
      "text/plain": [
       "  0%|          | 0/938 [00:00<?, ?it/s]"
      ],
      "application/vnd.jupyter.widget-view+json": {
       "version_major": 2,
       "version_minor": 0,
       "model_id": "d5573d71e98c42c4aa035f5042ad3d7d"
      }
     },
     "metadata": {},
     "output_type": "display_data"
    },
    {
     "data": {
      "text/plain": [
       "  0%|          | 0/938 [00:00<?, ?it/s]"
      ],
      "application/vnd.jupyter.widget-view+json": {
       "version_major": 2,
       "version_minor": 0,
       "model_id": "9867e639665a4bb7a33ef0b7e2d9ab4e"
      }
     },
     "metadata": {},
     "output_type": "display_data"
    },
    {
     "data": {
      "text/plain": [
       "  0%|          | 0/938 [00:00<?, ?it/s]"
      ],
      "application/vnd.jupyter.widget-view+json": {
       "version_major": 2,
       "version_minor": 0,
       "model_id": "d7377c4bb6924c5a99ae419481f59679"
      }
     },
     "metadata": {},
     "output_type": "display_data"
    },
    {
     "data": {
      "text/plain": [
       "  0%|          | 0/938 [00:00<?, ?it/s]"
      ],
      "application/vnd.jupyter.widget-view+json": {
       "version_major": 2,
       "version_minor": 0,
       "model_id": "7dfe55a008fa4b9ab742f0b6decde527"
      }
     },
     "metadata": {},
     "output_type": "display_data"
    },
    {
     "data": {
      "text/plain": [
       "epoch:   0%|          | 0/10 [00:00<?, ?it/s]"
      ],
      "application/vnd.jupyter.widget-view+json": {
       "version_major": 2,
       "version_minor": 0,
       "model_id": "759d4df4184341438622c7d5c986485e"
      }
     },
     "metadata": {},
     "output_type": "display_data"
    },
    {
     "data": {
      "text/plain": [
       "  0%|          | 0/938 [00:00<?, ?it/s]"
      ],
      "application/vnd.jupyter.widget-view+json": {
       "version_major": 2,
       "version_minor": 0,
       "model_id": "f5cc5102669843ceba09c8f1eaeba866"
      }
     },
     "metadata": {},
     "output_type": "display_data"
    },
    {
     "data": {
      "text/plain": [
       "  0%|          | 0/938 [00:00<?, ?it/s]"
      ],
      "application/vnd.jupyter.widget-view+json": {
       "version_major": 2,
       "version_minor": 0,
       "model_id": "9b9b50d0994543569b593f913942b643"
      }
     },
     "metadata": {},
     "output_type": "display_data"
    },
    {
     "data": {
      "text/plain": [
       "  0%|          | 0/938 [00:00<?, ?it/s]"
      ],
      "application/vnd.jupyter.widget-view+json": {
       "version_major": 2,
       "version_minor": 0,
       "model_id": "c998d936bbcf4fea837bd91e0474d46b"
      }
     },
     "metadata": {},
     "output_type": "display_data"
    },
    {
     "data": {
      "text/plain": [
       "  0%|          | 0/938 [00:00<?, ?it/s]"
      ],
      "application/vnd.jupyter.widget-view+json": {
       "version_major": 2,
       "version_minor": 0,
       "model_id": "6dd3eb8a4b874752a68c3ab6f7d6df9f"
      }
     },
     "metadata": {},
     "output_type": "display_data"
    },
    {
     "data": {
      "text/plain": [
       "  0%|          | 0/938 [00:00<?, ?it/s]"
      ],
      "application/vnd.jupyter.widget-view+json": {
       "version_major": 2,
       "version_minor": 0,
       "model_id": "62dbc54b24234958819137b9deb5ceab"
      }
     },
     "metadata": {},
     "output_type": "display_data"
    },
    {
     "data": {
      "text/plain": [
       "  0%|          | 0/938 [00:00<?, ?it/s]"
      ],
      "application/vnd.jupyter.widget-view+json": {
       "version_major": 2,
       "version_minor": 0,
       "model_id": "485f807c5c424767837d502c95f7b18a"
      }
     },
     "metadata": {},
     "output_type": "display_data"
    },
    {
     "data": {
      "text/plain": [
       "  0%|          | 0/938 [00:00<?, ?it/s]"
      ],
      "application/vnd.jupyter.widget-view+json": {
       "version_major": 2,
       "version_minor": 0,
       "model_id": "05e072abe853439c906cc902b7d55fe5"
      }
     },
     "metadata": {},
     "output_type": "display_data"
    },
    {
     "data": {
      "text/plain": [
       "  0%|          | 0/938 [00:00<?, ?it/s]"
      ],
      "application/vnd.jupyter.widget-view+json": {
       "version_major": 2,
       "version_minor": 0,
       "model_id": "75cee9d05f1549909744c3d259d7048a"
      }
     },
     "metadata": {},
     "output_type": "display_data"
    },
    {
     "data": {
      "text/plain": [
       "  0%|          | 0/938 [00:00<?, ?it/s]"
      ],
      "application/vnd.jupyter.widget-view+json": {
       "version_major": 2,
       "version_minor": 0,
       "model_id": "c9615e35f8ce4e6f8bd35958c5f02479"
      }
     },
     "metadata": {},
     "output_type": "display_data"
    },
    {
     "data": {
      "text/plain": [
       "  0%|          | 0/938 [00:00<?, ?it/s]"
      ],
      "application/vnd.jupyter.widget-view+json": {
       "version_major": 2,
       "version_minor": 0,
       "model_id": "1e654519fe77483dbcf1a3298ccd5a35"
      }
     },
     "metadata": {},
     "output_type": "display_data"
    }
   ],
   "execution_count": 32
  },
  {
   "cell_type": "markdown",
   "metadata": {
    "id": "RWJ-dhwSuKNI"
   },
   "source": [
    "#### Rendering the change (perturbing the hidden vectors)"
   ]
  },
  {
   "cell_type": "code",
   "metadata": {
    "id": "gtG7ELKfs6f0",
    "ExecuteTime": {
     "end_time": "2025-01-22T15:41:30.484233Z",
     "start_time": "2025-01-22T15:41:30.481658Z"
    }
   },
   "source": [
    "def draw_samples_grid_vae(model,\n",
    "                          num_row=15,\n",
    "                          num_colum=15,\n",
    "                          images_size=(28, 28)):\n",
    "    \"\"\"\n",
    "    Illustrate how change digits x where change point in latent space z.\n",
    "    Args:\n",
    "        model: nn.Module — model VAE or IWAE\n",
    "        num_row: int — the number of row\n",
    "        num_colum: int — the number of column\n",
    "        images_size = (x_size, y_size): tuple(int, int) — a size of input image\n",
    "    Returns:\n",
    "        figure: float — the picture\n",
    "    Example:\n",
    "        >>>\n",
    "    \"\"\"\n",
    "    grid_x = norm.ppf(np.linspace(0.05, 0.95, num_colum))\n",
    "    grid_y = norm.ppf(np.linspace(0.05, 0.95, num_row))\n",
    "\n",
    "    figure = np.zeros((images_size[0] * num_colum, images_size[1] * num_row))\n",
    "    for i, y_i in enumerate(grid_x):\n",
    "        for j, x_i in enumerate(grid_y):\n",
    "            z_sample = np.array([[x_i, y_i]])\n",
    "\n",
    "            x_sample = model.q_x(torch.from_numpy(z_sample).float()).view(\n",
    "                images_size).cpu().data.numpy()\n",
    "\n",
    "            image = x_sample\n",
    "            figure[i * images_size[0]: (i + 1) * images_size[0],\n",
    "                   j * images_size[1]: (j + 1) * images_size[1]] = image\n",
    "\n",
    "    return figure"
   ],
   "outputs": [],
   "execution_count": 33
  },
  {
   "cell_type": "code",
   "metadata": {
    "id": "OizKj4aDs5Qm",
    "ExecuteTime": {
     "end_time": "2025-01-22T15:41:32.692369Z",
     "start_time": "2025-01-22T15:41:32.100830Z"
    }
   },
   "source": [
    "figure = draw_samples_grid_vae(autoencoder)\n",
    "\n",
    "plt.figure(figsize=(10, 10))\n",
    "plt.imshow(figure, cmap='Greys_r', interpolation='lanczos')\n",
    "plt.axis('off')\n",
    "plt.show()"
   ],
   "outputs": [
    {
     "data": {
      "text/plain": [
       "<Figure size 1000x1000 with 1 Axes>"
      ],
      "image/png": "[encoded data removed]"
     },
     "metadata": {},
     "output_type": "display_data"
    }
   ],
   "execution_count": 34
  },
  {
   "cell_type": "markdown",
   "metadata": {
    "id": "aDCSUeWyMSPW"
   },
   "source": [
    "## Transfer Learning"
   ]
  },
  {
   "cell_type": "markdown",
   "metadata": {
    "id": "SZcwXF6zMSPX"
   },
   "source": [
    "### Pre-trained models"
   ]
  },
  {
   "cell_type": "markdown",
   "metadata": {
    "id": "oa63o8K14729"
   },
   "source": [
    "#### Upload data of cats and dogs"
   ]
  },
  {
   "cell_type": "code",
   "metadata": {
    "id": "gucf9x_O1TY_",
    "ExecuteTime": {
     "end_time": "2025-01-22T15:41:56.304928Z",
     "start_time": "2025-01-22T15:41:51.301316Z"
    }
   },
   "source": [
    "# !wget -q https://storage.googleapis.com/mledu-datasets/cats_and_dogs_filtered.zip\n",
    "import urllib.request\n",
    "\n",
    "urllib.request.urlretrieve('https://storage.googleapis.com/mledu-datasets/cats_and_dogs_filtered.zip',\n",
    "                           'cats_and_dogs_filtered.zip')"
   ],
   "outputs": [
    {
     "data": {
      "text/plain": [
       "('cats_and_dogs_filtered.zip', <http.client.HTTPMessage at 0x3c5043500>)"
      ]
     },
     "execution_count": 35,
     "metadata": {},
     "output_type": "execute_result"
    }
   ],
   "execution_count": 35
  },
  {
   "cell_type": "code",
   "metadata": {
    "ExecuteTime": {
     "end_time": "2025-01-22T15:42:00.817792Z",
     "start_time": "2025-01-22T15:42:00.377580Z"
    }
   },
   "source": [
    "# !unzip -qq cats_and_dogs_filtered.zip\n",
    "import zipfile\n",
    "\n",
    "with zipfile.ZipFile('cats_and_dogs_filtered.zip', 'r') as zip_ref:\n",
    "    zip_ref.extractall()"
   ],
   "outputs": [],
   "execution_count": 36
  },
  {
   "cell_type": "code",
   "metadata": {
    "id": "qk19Hyx92uk2",
    "ExecuteTime": {
     "end_time": "2025-01-22T15:42:31.929342Z",
     "start_time": "2025-01-22T15:42:31.922610Z"
    }
   },
   "source": [
    "preprocess = transforms.Compose([\n",
    "    transforms.Resize(256),\n",
    "    transforms.CenterCrop(224),\n",
    "    transforms.ToTensor(),\n",
    "    transforms.Normalize(mean=[0.485, 0.456, 0.406], std=[0.229, 0.224, 0.225]), # normalization from ImageNet data\n",
    "])\n",
    "\n",
    "# files in folders alphabetically\n",
    "CatDogs_train = datasets.ImageFolder(root='cats_and_dogs_filtered/train/', \n",
    "                                     transform=preprocess)\n",
    "CatDogs_test = datasets.ImageFolder(root='cats_and_dogs_filtered/validation/', \n",
    "                                     transform=preprocess)"
   ],
   "outputs": [],
   "execution_count": 37
  },
  {
   "cell_type": "markdown",
   "metadata": {
    "id": "cphDN4B-5GgX"
   },
   "source": [
    "#### Load the pre-trained model"
   ]
  },
  {
   "cell_type": "code",
   "metadata": {
    "id": "SKz0b2eY3wxm",
    "ExecuteTime": {
     "end_time": "2025-01-22T15:42:44.084616Z",
     "start_time": "2025-01-22T15:42:38.605502Z"
    }
   },
   "source": [
    "model = torch.hub.load('pytorch/vision:v0.6.0', 'resnet18', pretrained=True, verbose=False)"
   ],
   "outputs": [
    {
     "name": "stderr",
     "output_type": "stream",
     "text": [
      "Downloading: \"https://github.com/pytorch/vision/zipball/v0.6.0\" to /Users/Aleksandr.Avdiushenko/.cache/torch/hub/v0.6.0.zip\n",
      "Downloading: \"https://download.pytorch.org/models/resnet18-f37072fd.pth\" to /Users/Aleksandr.Avdiushenko/.cache/torch/hub/checkpoints/resnet18-f37072fd.pth\n",
      "100%|██████████| 44.7M/44.7M [00:01<00:00, 41.1MB/s]\n"
     ]
    }
   ],
   "execution_count": 38
  },
  {
   "cell_type": "code",
   "metadata": {
    "id": "zJEvdqlE3_9v",
    "ExecuteTime": {
     "end_time": "2025-01-22T15:42:53.763926Z",
     "start_time": "2025-01-22T15:42:53.714240Z"
    }
   },
   "source": [
    "for param in model.parameters():\n",
    "    param.requires_grad = False\n",
    "\n",
    "model.fc = torch.nn.Linear(512, 2)\n",
    "model.to(device)"
   ],
   "outputs": [
    {
     "data": {
      "text/plain": [
       "ResNet(\n",
       "  (conv1): Conv2d(3, 64, kernel_size=(7, 7), stride=(2, 2), padding=(3, 3), bias=False)\n",
       "  (bn1): BatchNorm2d(64, eps=1e-05, momentum=0.1, affine=True, track_running_stats=True)\n",
       "  (relu): ReLU(inplace=True)\n",
       "  (maxpool): MaxPool2d(kernel_size=3, stride=2, padding=1, dilation=1, ceil_mode=False)\n",
       "  (layer1): Sequential(\n",
       "    (0): BasicBlock(\n",
       "      (conv1): Conv2d(64, 64, kernel_size=(3, 3), stride=(1, 1), padding=(1, 1), bias=False)\n",
       "      (bn1): BatchNorm2d(64, eps=1e-05, momentum=0.1, affine=True, track_running_stats=True)\n",
       "      (relu): ReLU(inplace=True)\n",
       "      (conv2): Conv2d(64, 64, kernel_size=(3, 3), stride=(1, 1), padding=(1, 1), bias=False)\n",
       "      (bn2): BatchNorm2d(64, eps=1e-05, momentum=0.1, affine=True, track_running_stats=True)\n",
       "    )\n",
       "    (1): BasicBlock(\n",
       "      (conv1): Conv2d(64, 64, kernel_size=(3, 3), stride=(1, 1), padding=(1, 1), bias=False)\n",
       "      (bn1): BatchNorm2d(64, eps=1e-05, momentum=0.1, affine=True, track_running_stats=True)\n",
       "      (relu): ReLU(inplace=True)\n",
       "      (conv2): Conv2d(64, 64, kernel_size=(3, 3), stride=(1, 1), padding=(1, 1), bias=False)\n",
       "      (bn2): BatchNorm2d(64, eps=1e-05, momentum=0.1, affine=True, track_running_stats=True)\n",
       "    )\n",
       "  )\n",
       "  (layer2): Sequential(\n",
       "    (0): BasicBlock(\n",
       "      (conv1): Conv2d(64, 128, kernel_size=(3, 3), stride=(2, 2), padding=(1, 1), bias=False)\n",
       "      (bn1): BatchNorm2d(128, eps=1e-05, momentum=0.1, affine=True, track_running_stats=True)\n",
       "      (relu): ReLU(inplace=True)\n",
       "      (conv2): Conv2d(128, 128, kernel_size=(3, 3), stride=(1, 1), padding=(1, 1), bias=False)\n",
       "      (bn2): BatchNorm2d(128, eps=1e-05, momentum=0.1, affine=True, track_running_stats=True)\n",
       "      (downsample): Sequential(\n",
       "        (0): Conv2d(64, 128, kernel_size=(1, 1), stride=(2, 2), bias=False)\n",
       "        (1): BatchNorm2d(128, eps=1e-05, momentum=0.1, affine=True, track_running_stats=True)\n",
       "      )\n",
       "    )\n",
       "    (1): BasicBlock(\n",
       "      (conv1): Conv2d(128, 128, kernel_size=(3, 3), stride=(1, 1), padding=(1, 1), bias=False)\n",
       "      (bn1): BatchNorm2d(128, eps=1e-05, momentum=0.1, affine=True, track_running_stats=True)\n",
       "      (relu): ReLU(inplace=True)\n",
       "      (conv2): Conv2d(128, 128, kernel_size=(3, 3), stride=(1, 1), padding=(1, 1), bias=False)\n",
       "      (bn2): BatchNorm2d(128, eps=1e-05, momentum=0.1, affine=True, track_running_stats=True)\n",
       "    )\n",
       "  )\n",
       "  (layer3): Sequential(\n",
       "    (0): BasicBlock(\n",
       "      (conv1): Conv2d(128, 256, kernel_size=(3, 3), stride=(2, 2), padding=(1, 1), bias=False)\n",
       "      (bn1): BatchNorm2d(256, eps=1e-05, momentum=0.1, affine=True, track_running_stats=True)\n",
       "      (relu): ReLU(inplace=True)\n",
       "      (conv2): Conv2d(256, 256, kernel_size=(3, 3), stride=(1, 1), padding=(1, 1), bias=False)\n",
       "      (bn2): BatchNorm2d(256, eps=1e-05, momentum=0.1, affine=True, track_running_stats=True)\n",
       "      (downsample): Sequential(\n",
       "        (0): Conv2d(128, 256, kernel_size=(1, 1), stride=(2, 2), bias=False)\n",
       "        (1): BatchNorm2d(256, eps=1e-05, momentum=0.1, affine=True, track_running_stats=True)\n",
       "      )\n",
       "    )\n",
       "    (1): BasicBlock(\n",
       "      (conv1): Conv2d(256, 256, kernel_size=(3, 3), stride=(1, 1), padding=(1, 1), bias=False)\n",
       "      (bn1): BatchNorm2d(256, eps=1e-05, momentum=0.1, affine=True, track_running_stats=True)\n",
       "      (relu): ReLU(inplace=True)\n",
       "      (conv2): Conv2d(256, 256, kernel_size=(3, 3), stride=(1, 1), padding=(1, 1), bias=False)\n",
       "      (bn2): BatchNorm2d(256, eps=1e-05, momentum=0.1, affine=True, track_running_stats=True)\n",
       "    )\n",
       "  )\n",
       "  (layer4): Sequential(\n",
       "    (0): BasicBlock(\n",
       "      (conv1): Conv2d(256, 512, kernel_size=(3, 3), stride=(2, 2), padding=(1, 1), bias=False)\n",
       "      (bn1): BatchNorm2d(512, eps=1e-05, momentum=0.1, affine=True, track_running_stats=True)\n",
       "      (relu): ReLU(inplace=True)\n",
       "      (conv2): Conv2d(512, 512, kernel_size=(3, 3), stride=(1, 1), padding=(1, 1), bias=False)\n",
       "      (bn2): BatchNorm2d(512, eps=1e-05, momentum=0.1, affine=True, track_running_stats=True)\n",
       "      (downsample): Sequential(\n",
       "        (0): Conv2d(256, 512, kernel_size=(1, 1), stride=(2, 2), bias=False)\n",
       "        (1): BatchNorm2d(512, eps=1e-05, momentum=0.1, affine=True, track_running_stats=True)\n",
       "      )\n",
       "    )\n",
       "    (1): BasicBlock(\n",
       "      (conv1): Conv2d(512, 512, kernel_size=(3, 3), stride=(1, 1), padding=(1, 1), bias=False)\n",
       "      (bn1): BatchNorm2d(512, eps=1e-05, momentum=0.1, affine=True, track_running_stats=True)\n",
       "      (relu): ReLU(inplace=True)\n",
       "      (conv2): Conv2d(512, 512, kernel_size=(3, 3), stride=(1, 1), padding=(1, 1), bias=False)\n",
       "      (bn2): BatchNorm2d(512, eps=1e-05, momentum=0.1, affine=True, track_running_stats=True)\n",
       "    )\n",
       "  )\n",
       "  (avgpool): AdaptiveAvgPool2d(output_size=(1, 1))\n",
       "  (fc): Linear(in_features=512, out_features=2, bias=True)\n",
       ")"
      ]
     },
     "execution_count": 39,
     "metadata": {},
     "output_type": "execute_result"
    }
   ],
   "execution_count": 39
  },
  {
   "cell_type": "markdown",
   "metadata": {
    "id": "MAf5wHRn5Md5"
   },
   "source": [
    "#### Code for training"
   ]
  },
  {
   "cell_type": "code",
   "metadata": {
    "id": "ziCx4rr543zh",
    "ExecuteTime": {
     "end_time": "2025-01-22T15:42:59.522658Z",
     "start_time": "2025-01-22T15:42:59.520835Z"
    }
   },
   "source": [
    "def train_on_batch(model, x_batch, y_batch, optimizer, loss_function):\n",
    "    model.train()\n",
    "    optimizer.zero_grad()\n",
    "    \n",
    "    output = model(x_batch.to(device))\n",
    "    \n",
    "    loss = loss_function(output, y_batch.to(device))\n",
    "    loss.backward()\n",
    "\n",
    "    optimizer.step()\n",
    "    return loss.cpu().item()"
   ],
   "outputs": [],
   "execution_count": 40
  },
  {
   "cell_type": "code",
   "metadata": {
    "id": "mIrNQNaK8aDn",
    "ExecuteTime": {
     "end_time": "2025-01-22T15:43:03.800553Z",
     "start_time": "2025-01-22T15:43:03.797156Z"
    }
   },
   "source": [
    "class callback():\n",
    "    def __init__(self, writer, dataset, loss_function, delimeter = 100, batch_size=64):\n",
    "        self.step = 0\n",
    "        self.writer = writer\n",
    "        self.delimeter = delimeter\n",
    "        self.loss_function = loss_function\n",
    "        self.batch_size = batch_size\n",
    "\n",
    "        self.dataset = dataset\n",
    "\n",
    "    def forward(self, model, loss):\n",
    "        self.step += 1\n",
    "        self.writer.add_scalar('LOSS/train', loss, self.step)\n",
    "        \n",
    "        if self.step % self.delimeter == 0:\n",
    "            \n",
    "            batch_generator = torch.utils.data.DataLoader(dataset = self.dataset, \n",
    "                                                          batch_size=self.batch_size, \n",
    "                                                          pin_memory=True)\n",
    "            \n",
    "            pred = []\n",
    "            real = []\n",
    "            test_loss = 0\n",
    "            model.eval()\n",
    "            for it, (x_batch, y_batch) in enumerate(batch_generator):\n",
    "                x_batch = x_batch.to(device)\n",
    "\n",
    "                output = model(x_batch)\n",
    "\n",
    "                test_loss += self.loss_function(output, y_batch.to(device)).cpu().item()*len(x_batch)\n",
    "\n",
    "                pred.extend(torch.argmax(output, dim=-1).cpu().numpy().tolist())\n",
    "                real.extend(y_batch.cpu().numpy().tolist())\n",
    "            \n",
    "            test_loss /= len(self.dataset)\n",
    "            \n",
    "            self.writer.add_scalar('LOSS/test', test_loss, self.step)\n",
    "            self.writer.add_text('REPORT/test', str(classification_report(real, pred)), self.step)\n",
    "          \n",
    "    def __call__(self, model, loss):\n",
    "        return self.forward(model, loss)"
   ],
   "outputs": [],
   "execution_count": 41
  },
  {
   "cell_type": "markdown",
   "metadata": {
    "id": "ENuUwKwS5ZXt"
   },
   "source": [
    "#### Model optimization"
   ]
  },
  {
   "cell_type": "code",
   "metadata": {
    "id": "699WSDhF5YW4",
    "ExecuteTime": {
     "end_time": "2025-01-22T15:43:06.842680Z",
     "start_time": "2025-01-22T15:43:06.840812Z"
    }
   },
   "source": [
    "loss_function = torch.nn.CrossEntropyLoss()\n",
    "optimizer = torch.optim.Adam"
   ],
   "outputs": [],
   "execution_count": 42
  },
  {
   "cell_type": "markdown",
   "metadata": {
    "id": "afyLgrcz78Zq"
   },
   "source": [
    "#### Quality before training"
   ]
  },
  {
   "cell_type": "code",
   "metadata": {
    "id": "K5NsO1Gu5mMg",
    "ExecuteTime": {
     "end_time": "2025-01-22T15:43:15.339271Z",
     "start_time": "2025-01-22T15:43:11.181776Z"
    }
   },
   "source": [
    "real = []\n",
    "pred = []\n",
    "for x_batch, y_batch in torch.utils.data.DataLoader(CatDogs_test, \n",
    "                                                    batch_size=64, \n",
    "                                                    shuffle=True, \n",
    "                                                    pin_memory=True):\n",
    "  \n",
    "    with torch.no_grad():\n",
    "        output = model(x_batch.to(device))\n",
    "    pred.extend(output.argmax(dim=-1).cpu().numpy().tolist())\n",
    "    real.extend(y_batch.cpu().numpy().tolist())\n",
    "\n",
    "print(classification_report(real, pred))"
   ],
   "outputs": [
    {
     "name": "stdout",
     "output_type": "stream",
     "text": [
      "              precision    recall  f1-score   support\n",
      "\n",
      "           0       0.56      0.52      0.54       500\n",
      "           1       0.55      0.58      0.57       500\n",
      "\n",
      "    accuracy                           0.55      1000\n",
      "   macro avg       0.55      0.55      0.55      1000\n",
      "weighted avg       0.55      0.55      0.55      1000\n",
      "\n"
     ]
    }
   ],
   "execution_count": 43
  },
  {
   "cell_type": "markdown",
   "metadata": {
    "id": "TyE1UxYo7Vlo"
   },
   "source": [
    "#### Model training"
   ]
  },
  {
   "cell_type": "code",
   "metadata": {
    "id": "FLpm0m6f566f",
    "ExecuteTime": {
     "end_time": "2025-01-22T15:45:08.716105Z",
     "start_time": "2025-01-22T15:43:18.918191Z"
    }
   },
   "source": [
    "writer = SummaryWriter(log_dir='transfer-resnet18')\n",
    "call = callback(writer, CatDogs_test, loss_function, delimeter=10)\n",
    "\n",
    "trainer(count_of_epoch=10, \n",
    "        batch_size=64, \n",
    "        dataset=CatDogs_train,\n",
    "        model=model,\n",
    "        loss_function=loss_function,\n",
    "        optimizer = optimizer,\n",
    "        lr = 0.001,\n",
    "        callback = call)"
   ],
   "outputs": [
    {
     "data": {
      "text/plain": [
       "epoch:   0%|          | 0/10 [00:00<?, ?it/s]"
      ],
      "application/vnd.jupyter.widget-view+json": {
       "version_major": 2,
       "version_minor": 0,
       "model_id": "7223483f4c074ebf8986510cf137d459"
      }
     },
     "metadata": {},
     "output_type": "display_data"
    },
    {
     "data": {
      "text/plain": [
       "  0%|          | 0/32 [00:00<?, ?it/s]"
      ],
      "application/vnd.jupyter.widget-view+json": {
       "version_major": 2,
       "version_minor": 0,
       "model_id": "13fd4ce856614a01991823495c519cf1"
      }
     },
     "metadata": {},
     "output_type": "display_data"
    },
    {
     "data": {
      "text/plain": [
       "  0%|          | 0/32 [00:00<?, ?it/s]"
      ],
      "application/vnd.jupyter.widget-view+json": {
       "version_major": 2,
       "version_minor": 0,
       "model_id": "28e20a35102e48b18d1218be9926e638"
      }
     },
     "metadata": {},
     "output_type": "display_data"
    },
    {
     "data": {
      "text/plain": [
       "  0%|          | 0/32 [00:00<?, ?it/s]"
      ],
      "application/vnd.jupyter.widget-view+json": {
       "version_major": 2,
       "version_minor": 0,
       "model_id": "65f8ede9f8a54b97a19051c80161bf79"
      }
     },
     "metadata": {},
     "output_type": "display_data"
    },
    {
     "data": {
      "text/plain": [
       "  0%|          | 0/32 [00:00<?, ?it/s]"
      ],
      "application/vnd.jupyter.widget-view+json": {
       "version_major": 2,
       "version_minor": 0,
       "model_id": "174376ebe6d0430585e6b1db29d7b21b"
      }
     },
     "metadata": {},
     "output_type": "display_data"
    },
    {
     "data": {
      "text/plain": [
       "  0%|          | 0/32 [00:00<?, ?it/s]"
      ],
      "application/vnd.jupyter.widget-view+json": {
       "version_major": 2,
       "version_minor": 0,
       "model_id": "48e9a832c810426aa5d050b2c494a9ad"
      }
     },
     "metadata": {},
     "output_type": "display_data"
    },
    {
     "data": {
      "text/plain": [
       "  0%|          | 0/32 [00:00<?, ?it/s]"
      ],
      "application/vnd.jupyter.widget-view+json": {
       "version_major": 2,
       "version_minor": 0,
       "model_id": "afc883b98cf14aa5bf2dfafd50254cfb"
      }
     },
     "metadata": {},
     "output_type": "display_data"
    },
    {
     "data": {
      "text/plain": [
       "  0%|          | 0/32 [00:00<?, ?it/s]"
      ],
      "application/vnd.jupyter.widget-view+json": {
       "version_major": 2,
       "version_minor": 0,
       "model_id": "8b09a8943b4049ef9a57a24d9eb4ae09"
      }
     },
     "metadata": {},
     "output_type": "display_data"
    },
    {
     "data": {
      "text/plain": [
       "  0%|          | 0/32 [00:00<?, ?it/s]"
      ],
      "application/vnd.jupyter.widget-view+json": {
       "version_major": 2,
       "version_minor": 0,
       "model_id": "908b9e8f83d0414891f8799c9f6296b8"
      }
     },
     "metadata": {},
     "output_type": "display_data"
    },
    {
     "data": {
      "text/plain": [
       "  0%|          | 0/32 [00:00<?, ?it/s]"
      ],
      "application/vnd.jupyter.widget-view+json": {
       "version_major": 2,
       "version_minor": 0,
       "model_id": "108139cfcec3473ab63e985d6c3c64cc"
      }
     },
     "metadata": {},
     "output_type": "display_data"
    },
    {
     "data": {
      "text/plain": [
       "  0%|          | 0/32 [00:00<?, ?it/s]"
      ],
      "application/vnd.jupyter.widget-view+json": {
       "version_major": 2,
       "version_minor": 0,
       "model_id": "4ac4cc7b75844d449193058349c2f696"
      }
     },
     "metadata": {},
     "output_type": "display_data"
    }
   ],
   "execution_count": 44
  },
  {
   "cell_type": "markdown",
   "metadata": {
    "id": "hZhr6ml974XK"
   },
   "source": [
    "#### Quality after training"
   ]
  },
  {
   "cell_type": "code",
   "metadata": {
    "id": "x9FPVrYV76gO",
    "ExecuteTime": {
     "end_time": "2025-01-22T15:45:55.289194Z",
     "start_time": "2025-01-22T15:45:53.370870Z"
    }
   },
   "source": [
    "real = []\n",
    "pred = []\n",
    "for x_batch, y_batch in torch.utils.data.DataLoader(CatDogs_test, \n",
    "                                                    batch_size = 64, \n",
    "                                                    shuffle = True, \n",
    "                                                    pin_memory=True):\n",
    "  \n",
    "    with torch.no_grad():\n",
    "        output = model(x_batch.to(device))\n",
    "    pred.extend(output.argmax(dim=-1).cpu().numpy().tolist())\n",
    "    real.extend(y_batch.cpu().numpy().tolist())\n",
    "\n",
    "print(classification_report(real, pred))"
   ],
   "outputs": [
    {
     "name": "stdout",
     "output_type": "stream",
     "text": [
      "              precision    recall  f1-score   support\n",
      "\n",
      "           0       0.96      0.99      0.98       500\n",
      "           1       0.99      0.96      0.98       500\n",
      "\n",
      "    accuracy                           0.98      1000\n",
      "   macro avg       0.98      0.98      0.98      1000\n",
      "weighted avg       0.98      0.98      0.98      1000\n",
      "\n"
     ]
    }
   ],
   "execution_count": 45
  },
  {
   "cell_type": "markdown",
   "metadata": {
    "id": "YJyO77mxMSPX"
   },
   "source": [
    "### GAN's for MNIST"
   ]
  },
  {
   "cell_type": "code",
   "metadata": {
    "id": "0UiLjhK2TmwH",
    "ExecuteTime": {
     "end_time": "2025-01-22T15:46:01.137525Z",
     "start_time": "2025-01-22T15:46:01.135272Z"
    }
   },
   "source": [
    "def train_on_batch(model, x_batch, y_batch, optimizer, loss_function):\n",
    "    optima_generator, optima_discriminator = optimizer\n",
    "    \n",
    "    optima_generator.zero_grad()\n",
    "    optima_discriminator.zero_grad()\n",
    "    \n",
    "    discriminator_loss = model.discriminator_loss(x_batch)\n",
    "    discriminator_loss.backward()\n",
    "    optima_discriminator.step()\n",
    "\n",
    "    optima_generator.zero_grad()\n",
    "    optima_discriminator.zero_grad()\n",
    "    \n",
    "    generator_loss = model.generator_loss(len(x_batch))\n",
    "    generator_loss.backward()\n",
    "    optima_generator.step()\n",
    "    \n",
    "    return discriminator_loss.cpu().item() + generator_loss.cpu().item()"
   ],
   "outputs": [],
   "execution_count": 46
  },
  {
   "cell_type": "code",
   "metadata": {
    "id": "e9zK81LZTmwH",
    "ExecuteTime": {
     "end_time": "2025-01-22T15:46:02.769721Z",
     "start_time": "2025-01-22T15:46:02.767391Z"
    }
   },
   "source": [
    "def train_epoch(train_generator, model, loss_function, optimizer, callback = None):\n",
    "    epoch_loss = 0\n",
    "    total = 0\n",
    "    for it, (batch_of_x, batch_of_y) in enumerate(train_generator):\n",
    "        batch_loss = train_on_batch(model, batch_of_x.to(model.device), batch_of_y.to(model.device), optimizer, loss_function)\n",
    "        \n",
    "        if callback is not None:\n",
    "            callback(model, batch_loss)\n",
    "            \n",
    "        epoch_loss += batch_loss*len(batch_of_x)\n",
    "        total += len(batch_of_x)\n",
    "    \n",
    "    return epoch_loss/total"
   ],
   "outputs": [],
   "execution_count": 47
  },
  {
   "cell_type": "code",
   "metadata": {
    "id": "Eub4ku9lTmwH",
    "ExecuteTime": {
     "end_time": "2025-01-22T15:46:04.764635Z",
     "start_time": "2025-01-22T15:46:04.761616Z"
    }
   },
   "source": [
    "def trainer(count_of_epoch, \n",
    "            batch_size, \n",
    "            dataset,\n",
    "            model, \n",
    "            loss_function,\n",
    "            optimizer,\n",
    "            lr = 0.001,\n",
    "            callback = None):\n",
    "\n",
    "    # here is the main difficulty in GANs — to choose the parameters so that training converges\n",
    "    optima_generator = optimizer(model.generator.parameters(), lr=lr*10, betas=(0.5, 0.999))\n",
    "    optima_discriminator = optimizer(model.discriminator.parameters(), lr=lr, betas=(0.5, 0.999))\n",
    "    \n",
    "    iterations = tqdm(range(count_of_epoch), desc='epoch')\n",
    "    iterations.set_postfix({'epoch loss': np.nan})\n",
    "    for it in iterations:        \n",
    "        batch_generator = tqdm(\n",
    "            torch.utils.data.DataLoader(dataset=dataset, batch_size=batch_size, shuffle=True), \n",
    "            leave=False, total=len(dataset)//batch_size+(len(dataset)%batch_size> 0))\n",
    "        \n",
    "        epoch_loss = train_epoch(\n",
    "            train_generator=batch_generator, \n",
    "            model=model, \n",
    "            loss_function=loss_function, \n",
    "            optimizer=(optima_generator, optima_discriminator), \n",
    "            callback=callback)\n",
    "        \n",
    "        iterations.set_postfix({'epoch loss': epoch_loss})"
   ],
   "outputs": [],
   "execution_count": 48
  },
  {
   "cell_type": "markdown",
   "metadata": {
    "id": "t16nU2d7_GBu"
   },
   "source": [
    "#### Neural Network Model"
   ]
  },
  {
   "cell_type": "code",
   "metadata": {
    "id": "CCukR2naTmwH",
    "ExecuteTime": {
     "end_time": "2025-01-22T15:46:11.023113Z",
     "start_time": "2025-01-22T15:46:11.017507Z"
    }
   },
   "source": [
    "class Reshape(torch.nn.Module):\n",
    "    @property\n",
    "    def device(self):\n",
    "        return next(self.parameters()).device\n",
    "\n",
    "    def __init__(self, *args):\n",
    "        super(type(self), self).__init__()\n",
    "        self.dims = args\n",
    "\n",
    "    def forward(self, input):\n",
    "        return input.view(input.size(0), *self.dims)\n",
    "\n",
    "class GAN(torch.nn.Module):\n",
    "    @property\n",
    "    def device(self):\n",
    "        return next(self.parameters()).device\n",
    "\n",
    "    def __init__(self, d, D):\n",
    "        super(type(self), self).__init__()\n",
    "        self.d = d\n",
    "        self.discriminator = torch.nn.Sequential(\n",
    "            Reshape(1, D, D),\n",
    "            torch.nn.Conv2d(in_channels=1, out_channels=64, kernel_size=3, stride=2, padding=1, bias=False),\n",
    "            torch.nn.BatchNorm2d(num_features=64),\n",
    "            torch.nn.LeakyReLU(negative_slope=0.2),\n",
    "            torch.nn.Conv2d(in_channels=64, out_channels=32, kernel_size=3, stride=2, padding=0, bias=False),\n",
    "            torch.nn.BatchNorm2d(num_features=32),\n",
    "            torch.nn.LeakyReLU(negative_slope=0.2),\n",
    "            torch.nn.Conv2d(in_channels=32, out_channels=16, kernel_size=3, stride=1, padding=0, bias=False),\n",
    "            torch.nn.BatchNorm2d(num_features=16),\n",
    "            torch.nn.LeakyReLU(negative_slope=0.2),\n",
    "            Reshape(-1),\n",
    "            torch.nn.Linear(in_features=256, out_features=1),\n",
    "            torch.nn.Sigmoid()\n",
    "        )\n",
    "        self.generator = torch.nn.Sequential(\n",
    "            Reshape(self.d, 1, 1),\n",
    "            torch.nn.ConvTranspose2d(self.d, 128, 4, 1, 0, 0, bias=False),\n",
    "            torch.nn.BatchNorm2d(128),\n",
    "            torch.nn.ReLU(),\n",
    "            torch.nn.ConvTranspose2d(128, 64, 3, 2, 1, 0, bias=False),\n",
    "            torch.nn.BatchNorm2d(64),\n",
    "            torch.nn.ReLU(),\n",
    "            torch.nn.ConvTranspose2d(64, 32, 3, 2, 1, 1, bias=False),\n",
    "            torch.nn.BatchNorm2d(32),\n",
    "            torch.nn.ReLU(),\n",
    "            torch.nn.ConvTranspose2d(32, 1, 4, 2, 1, 0, bias=False),\n",
    "            Reshape(-1),\n",
    "            torch.nn.Sigmoid()\n",
    "        )\n",
    "\n",
    "    def generate_noise(self, num_samples):\n",
    "        return torch.randn([num_samples, self.d], requires_grad=True).to(self.device)\n",
    "\n",
    "    def generate_samples(self, num_samples):\n",
    "        return self.generator(self.generate_noise(num_samples))\n",
    "\n",
    "    def discriminator_loss(self, batch):\n",
    "        loss = torch.nn.BCELoss()\n",
    "        \n",
    "        batch_size = batch.shape[0]\n",
    "        \n",
    "        fake_batch = self.discriminator(self.generate_samples(batch_size).detach())\n",
    "        real_batch = self.discriminator(batch)\n",
    "        \n",
    "        fake_answ = torch.zeros(batch_size, 1).to(self.device)\n",
    "        real_answ = torch.ones(batch.shape[0], 1).to(self.device)\n",
    "        \n",
    "        return 0.5*loss(fake_batch, fake_answ) + 0.5*loss(real_batch, real_answ)\n",
    "\n",
    "    def generator_loss(self, batch_size):\n",
    "        loss = torch.nn.BCELoss()\n",
    "        \n",
    "        fake_batch = self.discriminator(self.generate_samples(batch_size))\n",
    "        \n",
    "        real_answ = torch.ones(batch_size, 1).to(self.device)\n",
    "            \n",
    "        return loss(fake_batch, real_answ)\n",
    "    \n",
    "    def init_weight(self, mean, std):\n",
    "        for m in self._modules:\n",
    "            if isinstance(self._modules[m], nn.ConvTranspose2d) or isinstance(self._modules[m], nn.Conv2d):\n",
    "                self._modules[m].weight.data.normal_(mean, std)\n",
    "                self._modules[m].bias.data.zero_()\n"
   ],
   "outputs": [],
   "execution_count": 49
  },
  {
   "cell_type": "markdown",
   "metadata": {
    "id": "1mjMCVWT_GBv"
   },
   "source": [
    "#### Model optimization"
   ]
  },
  {
   "cell_type": "code",
   "metadata": {
    "id": "VUcXGn0JTmwI",
    "ExecuteTime": {
     "end_time": "2025-01-22T15:46:15.080369Z",
     "start_time": "2025-01-22T15:46:15.060884Z"
    }
   },
   "source": [
    "loss_function = None\n",
    "optimizer = torch.optim.Adam\n",
    "\n",
    "model = GAN(2, 28)\n",
    "model.to(device)"
   ],
   "outputs": [
    {
     "data": {
      "text/plain": [
       "GAN(\n",
       "  (discriminator): Sequential(\n",
       "    (0): Reshape()\n",
       "    (1): Conv2d(1, 64, kernel_size=(3, 3), stride=(2, 2), padding=(1, 1), bias=False)\n",
       "    (2): BatchNorm2d(64, eps=1e-05, momentum=0.1, affine=True, track_running_stats=True)\n",
       "    (3): LeakyReLU(negative_slope=0.2)\n",
       "    (4): Conv2d(64, 32, kernel_size=(3, 3), stride=(2, 2), bias=False)\n",
       "    (5): BatchNorm2d(32, eps=1e-05, momentum=0.1, affine=True, track_running_stats=True)\n",
       "    (6): LeakyReLU(negative_slope=0.2)\n",
       "    (7): Conv2d(32, 16, kernel_size=(3, 3), stride=(1, 1), bias=False)\n",
       "    (8): BatchNorm2d(16, eps=1e-05, momentum=0.1, affine=True, track_running_stats=True)\n",
       "    (9): LeakyReLU(negative_slope=0.2)\n",
       "    (10): Reshape()\n",
       "    (11): Linear(in_features=256, out_features=1, bias=True)\n",
       "    (12): Sigmoid()\n",
       "  )\n",
       "  (generator): Sequential(\n",
       "    (0): Reshape()\n",
       "    (1): ConvTranspose2d(2, 128, kernel_size=(4, 4), stride=(1, 1), bias=False)\n",
       "    (2): BatchNorm2d(128, eps=1e-05, momentum=0.1, affine=True, track_running_stats=True)\n",
       "    (3): ReLU()\n",
       "    (4): ConvTranspose2d(128, 64, kernel_size=(3, 3), stride=(2, 2), padding=(1, 1), bias=False)\n",
       "    (5): BatchNorm2d(64, eps=1e-05, momentum=0.1, affine=True, track_running_stats=True)\n",
       "    (6): ReLU()\n",
       "    (7): ConvTranspose2d(64, 32, kernel_size=(3, 3), stride=(2, 2), padding=(1, 1), output_padding=(1, 1), bias=False)\n",
       "    (8): BatchNorm2d(32, eps=1e-05, momentum=0.1, affine=True, track_running_stats=True)\n",
       "    (9): ReLU()\n",
       "    (10): ConvTranspose2d(32, 1, kernel_size=(4, 4), stride=(2, 2), padding=(1, 1), bias=False)\n",
       "    (11): Reshape()\n",
       "    (12): Sigmoid()\n",
       "  )\n",
       ")"
      ]
     },
     "execution_count": 50,
     "metadata": {},
     "output_type": "execute_result"
    }
   ],
   "execution_count": 50
  },
  {
   "cell_type": "code",
   "metadata": {
    "id": "NBR6IpTZUYzm",
    "ExecuteTime": {
     "end_time": "2025-01-22T15:46:17.191318Z",
     "start_time": "2025-01-22T15:46:17.173006Z"
    }
   },
   "source": [
    "MNIST_train = datasets.MNIST('./mnist', train=True, download=True, \n",
    "                             transform=transforms.ToTensor())\n",
    "\n",
    "MNIST_test = datasets.MNIST('./mnist', train=False, download=True,\n",
    "                            transform=transforms.ToTensor())"
   ],
   "outputs": [],
   "execution_count": 51
  },
  {
   "cell_type": "markdown",
   "metadata": {
    "id": "9P7mM9_z_GBv"
   },
   "source": [
    "#### Helper functions"
   ]
  },
  {
   "cell_type": "code",
   "metadata": {
    "id": "UWs6Ph14TmwI",
    "ExecuteTime": {
     "end_time": "2025-01-22T15:46:22.700707Z",
     "start_time": "2025-01-22T15:46:22.698261Z"
    }
   },
   "source": [
    "def show_images(x, digit_size=28):\n",
    "    plt.figure(figsize=(12, 12 / 10 * (x.shape[0] // 10 + 1)))\n",
    "    x = x.view(-1, digit_size, digit_size)\n",
    "    for i in range(x.shape[0]):\n",
    "        plt.subplot(x.shape[0] // 10 + 1, 10, i + 1)\n",
    "        plt.imshow(x.data[i].numpy(), cmap='Greys_r', interpolation='lanczos')\n",
    "        plt.axis('off')"
   ],
   "outputs": [],
   "execution_count": 52
  },
  {
   "cell_type": "code",
   "metadata": {
    "id": "K0EiwEJNTmwI",
    "ExecuteTime": {
     "end_time": "2025-01-22T15:46:23.070790Z",
     "start_time": "2025-01-22T15:46:23.068684Z"
    }
   },
   "source": [
    "def generate_samples(model, num_samples, batch_size):\n",
    "    size = 0\n",
    "    res = []\n",
    "    while size < num_samples:\n",
    "        res.append(\n",
    "            model.generate_samples(\n",
    "                min(batch_size, num_samples - size)))\n",
    "        size += batch_size\n",
    "    return torch.cat(res, 0).cpu().detach()"
   ],
   "outputs": [],
   "execution_count": 53
  },
  {
   "cell_type": "markdown",
   "metadata": {
    "id": "IUicTyHD_GBw"
   },
   "source": [
    "#### How data is generated before training"
   ]
  },
  {
   "cell_type": "code",
   "metadata": {
    "id": "6L9QVf-9TmwI",
    "ExecuteTime": {
     "end_time": "2025-01-22T15:46:30.445345Z",
     "start_time": "2025-01-22T15:46:30.015092Z"
    }
   },
   "source": [
    "show_images(generate_samples(model, 10, 10))"
   ],
   "outputs": [
    {
     "data": {
      "text/plain": [
       "<Figure size 1200x240 with 10 Axes>"
      ],
      "image/png": "[encoded data removed]"
     },
     "metadata": {},
     "output_type": "display_data"
    }
   ],
   "execution_count": 54
  },
  {
   "cell_type": "markdown",
   "metadata": {
    "id": "IuOPesh__GBw"
   },
   "source": [
    "#### Train model"
   ]
  },
  {
   "cell_type": "code",
   "metadata": {
    "id": "g40_ilnoTmwI",
    "ExecuteTime": {
     "end_time": "2025-01-22T15:49:30.054241Z",
     "start_time": "2025-01-22T15:46:32.264894Z"
    }
   },
   "source": [
    "trainer(count_of_epoch=10, \n",
    "        batch_size=64, \n",
    "        dataset=MNIST_train,\n",
    "        model=model, \n",
    "        loss_function=loss_function,\n",
    "        optimizer=optimizer,\n",
    "        lr = 2e-4,\n",
    "        callback = None)"
   ],
   "outputs": [
    {
     "data": {
      "text/plain": [
       "epoch:   0%|          | 0/10 [00:00<?, ?it/s]"
      ],
      "application/vnd.jupyter.widget-view+json": {
       "version_major": 2,
       "version_minor": 0,
       "model_id": "2219df9e1d22481b80293c2a57cc82af"
      }
     },
     "metadata": {},
     "output_type": "display_data"
    },
    {
     "data": {
      "text/plain": [
       "  0%|          | 0/938 [00:00<?, ?it/s]"
      ],
      "application/vnd.jupyter.widget-view+json": {
       "version_major": 2,
       "version_minor": 0,
       "model_id": "a4d100b25f674f17b2ebc3f85e59b0ef"
      }
     },
     "metadata": {},
     "output_type": "display_data"
    },
    {
     "data": {
      "text/plain": [
       "  0%|          | 0/938 [00:00<?, ?it/s]"
      ],
      "application/vnd.jupyter.widget-view+json": {
       "version_major": 2,
       "version_minor": 0,
       "model_id": "aabe1a8e225244e884c87165059c478f"
      }
     },
     "metadata": {},
     "output_type": "display_data"
    },
    {
     "data": {
      "text/plain": [
       "  0%|          | 0/938 [00:00<?, ?it/s]"
      ],
      "application/vnd.jupyter.widget-view+json": {
       "version_major": 2,
       "version_minor": 0,
       "model_id": "61b7905228b548ea844126cf06eb367a"
      }
     },
     "metadata": {},
     "output_type": "display_data"
    },
    {
     "data": {
      "text/plain": [
       "  0%|          | 0/938 [00:00<?, ?it/s]"
      ],
      "application/vnd.jupyter.widget-view+json": {
       "version_major": 2,
       "version_minor": 0,
       "model_id": "5602f188203e4565bc885acaa6c4944d"
      }
     },
     "metadata": {},
     "output_type": "display_data"
    },
    {
     "data": {
      "text/plain": [
       "  0%|          | 0/938 [00:00<?, ?it/s]"
      ],
      "application/vnd.jupyter.widget-view+json": {
       "version_major": 2,
       "version_minor": 0,
       "model_id": "8a045b73649f475397ec76a6a906f8a1"
      }
     },
     "metadata": {},
     "output_type": "display_data"
    },
    {
     "data": {
      "text/plain": [
       "  0%|          | 0/938 [00:00<?, ?it/s]"
      ],
      "application/vnd.jupyter.widget-view+json": {
       "version_major": 2,
       "version_minor": 0,
       "model_id": "3ddeb02033a24f53bf5e71c21758492a"
      }
     },
     "metadata": {},
     "output_type": "display_data"
    },
    {
     "data": {
      "text/plain": [
       "  0%|          | 0/938 [00:00<?, ?it/s]"
      ],
      "application/vnd.jupyter.widget-view+json": {
       "version_major": 2,
       "version_minor": 0,
       "model_id": "66d4a36852324ee58a4c564a0d618ed9"
      }
     },
     "metadata": {},
     "output_type": "display_data"
    },
    {
     "data": {
      "text/plain": [
       "  0%|          | 0/938 [00:00<?, ?it/s]"
      ],
      "application/vnd.jupyter.widget-view+json": {
       "version_major": 2,
       "version_minor": 0,
       "model_id": "f394884a64c9411a8c8056e584e9a87d"
      }
     },
     "metadata": {},
     "output_type": "display_data"
    },
    {
     "data": {
      "text/plain": [
       "  0%|          | 0/938 [00:00<?, ?it/s]"
      ],
      "application/vnd.jupyter.widget-view+json": {
       "version_major": 2,
       "version_minor": 0,
       "model_id": "f7fcddac0e0b4e34943c3a4e38368603"
      }
     },
     "metadata": {},
     "output_type": "display_data"
    },
    {
     "data": {
      "text/plain": [
       "  0%|          | 0/938 [00:00<?, ?it/s]"
      ],
      "application/vnd.jupyter.widget-view+json": {
       "version_major": 2,
       "version_minor": 0,
       "model_id": "7d9aeaf3bbd3470cb6f4bc4c6d7f505e"
      }
     },
     "metadata": {},
     "output_type": "display_data"
    }
   ],
   "execution_count": 55
  },
  {
   "cell_type": "markdown",
   "metadata": {
    "id": "RL_EWILf_GBx"
   },
   "source": [
    "#### How data is generated after training"
   ]
  },
  {
   "cell_type": "code",
   "metadata": {
    "id": "6W7NhdM_Uc7n",
    "ExecuteTime": {
     "end_time": "2025-01-22T15:49:38.113763Z",
     "start_time": "2025-01-22T15:49:38.037128Z"
    }
   },
   "source": [
    "show_images(generate_samples(model, 10, 50))"
   ],
   "outputs": [
    {
     "data": {
      "text/plain": [
       "<Figure size 1200x240 with 10 Axes>"
      ],
      "image/png": "[encoded data removed]"
     },
     "metadata": {},
     "output_type": "display_data"
    }
   ],
   "execution_count": 56
  },
  {
   "cell_type": "code",
   "execution_count": null,
   "metadata": {},
   "outputs": [],
   "source": []
  }
 ],
 "metadata": {
  "accelerator": "GPU",
  "celltoolbar": "Slideshow",
  "colab": {
   "name": "main.ipynb",
   "provenance": [],
   "toc_visible": true
  },
  "kernelspec": {
   "display_name": "Python 3 (ipykernel)",
   "language": "python",
   "name": "python3"
  },
  "language_info": {
   "codemirror_mode": {
    "name": "ipython",
    "version": 3
   },
   "file_extension": ".py",
   "mimetype": "text/x-python",
   "name": "python",
   "nbconvert_exporter": "python",
   "pygments_lexer": "ipython3",
   "version": "3.12.0"
  }
 },
 "nbformat": 4,
 "nbformat_minor": 4
}
