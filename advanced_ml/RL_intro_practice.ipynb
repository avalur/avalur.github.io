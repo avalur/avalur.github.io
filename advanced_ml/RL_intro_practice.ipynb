{
 "cells": [
  {
   "attachments": {},
   "cell_type": "markdown",
   "metadata": {
    "datalore": {
     "hide_input_from_viewers": false,
     "hide_output_from_viewers": false,
     "node_id": "h6GZbSte6pmwE7v9Z6eZdU",
     "report_properties": {
      "rowId": "Wu7Qso3lo7luGFlOBqQYuP"
     },
     "type": "MD"
    }
   },
   "source": [
    "<center><img src=\"./images/nup_logo_dark.jpeg\" width=300 style=\"display: inline-block;\"></center> \n",
    "\n",
    "## Advanced Machine Learning\n",
    "### Reinforcement learning intro, practice\n",
    "\n",
    "<br />\n",
    "<br />\n",
    "February 18, 2025"
   ]
  },
  {
   "attachments": {},
   "cell_type": "markdown",
   "metadata": {
    "datalore": {
     "hide_input_from_viewers": false,
     "hide_output_from_viewers": false,
     "node_id": "RoJNRU9vZ8upTLjecRCcK2",
     "report_properties": {
      "rowId": "geyP1ybnADWS3uOZfFvLvu"
     },
     "type": "MD"
    }
   },
   "source": [
    "[![Open In Collab](https://colab.research.google.com/assets/colab-badge.svg)](https://colab.research.google.com/drive/1igPnv-YJprmpiw8HaJZK_QVJ-L85o4uK?usp=sharing)"
   ]
  },
  {
   "attachments": {},
   "cell_type": "markdown",
   "metadata": {
    "datalore": {
     "hide_input_from_viewers": false,
     "hide_output_from_viewers": false,
     "node_id": "GqAuCl9EynP4k2m9GZeHnQ",
     "report_properties": {
      "rowId": "3ckvpLly6KlY7i7WMik3ub"
     },
     "type": "MD"
    }
   },
   "source": [
    "## Import libraries"
   ]
  },
  {
   "cell_type": "code",
   "execution_count": 1,
   "metadata": {
    "ExecuteTime": {
     "end_time": "2025-02-17T08:54:42.328789Z",
     "start_time": "2025-02-17T08:54:41.185165Z"
    },
    "datalore": {
     "hide_input_from_viewers": false,
     "hide_output_from_viewers": false,
     "node_id": "mIGio9VjD5WlP1hELSPGc0",
     "report_properties": {
      "rowId": "SBoDkhNEkhleE4btan6ENA"
     },
     "type": "CODE"
    }
   },
   "outputs": [],
   "source": [
    "import numpy as np\n",
    "import pandas as pd\n",
    "\n",
    "import matplotlib.pyplot as plt"
   ]
  },
  {
   "attachments": {},
   "cell_type": "markdown",
   "metadata": {
    "datalore": {
     "hide_input_from_viewers": false,
     "hide_output_from_viewers": false,
     "node_id": "nDN61PWyt5qpyO3bPIhGn5",
     "report_properties": {
      "rowId": "YPiB3SDlxoOPR5DltWsj58"
     },
     "type": "MD"
    }
   },
   "source": [
    "### RiverSwim Problem"
   ]
  },
  {
   "attachments": {},
   "cell_type": "markdown",
   "metadata": {
    "datalore": {
     "hide_input_from_viewers": false,
     "hide_output_from_viewers": false,
     "node_id": "pqX21FThOTK3V1m2lVmeVV",
     "report_properties": {
      "rowId": "p9FYcsPeynVmhoYK0SgQrT"
     },
     "type": "MD"
    }
   },
   "source": [
    "\n",
    "![river_swim_problem](images/river_swim_problem.jpg)"
   ]
  },
  {
   "attachments": {},
   "cell_type": "markdown",
   "metadata": {
    "datalore": {
     "hide_input_from_viewers": false,
     "hide_output_from_viewers": false,
     "node_id": "MUKxO61gLvfLDapZnNQNum",
     "report_properties": {
      "rowId": "UHbX9NFYO7l99NXDM9ev5b"
     },
     "type": "MD"
    }
   },
   "source": [
    "[https://arxiv.org/pdf/1306.0940.pdf](https://arxiv.org/pdf/1306.0940.pdf)\n",
    "\n",
    "Problem based on Markov processes. There are only two actions — to try to swim against the current or not to try."
   ]
  },
  {
   "cell_type": "code",
   "execution_count": 2,
   "metadata": {
    "ExecuteTime": {
     "end_time": "2025-02-17T08:55:10.898712Z",
     "start_time": "2025-02-17T08:55:10.893115Z"
    },
    "datalore": {
     "hide_input_from_viewers": false,
     "hide_output_from_viewers": false,
     "node_id": "e4xZUtdLqYKiMQMOCT5e9h",
     "report_properties": {
      "rowId": "r8HKebrmKIf8CaM64EAOUd"
     },
     "type": "CODE"
    }
   },
   "outputs": [],
   "source": [
    "class RiverSwim:\n",
    "    def __init__(self, \n",
    "                 isc = 4, # intermediate states count — number of states excluding first and last\n",
    "                 max_steps = 16, # the maximum number of steps we take in one episode\n",
    "                 lr   = 5/1000, # left reward \n",
    "                 rr   = 1.0, # right reward\n",
    "                 seed = 42):\n",
    "        self.rs = np.random.RandomState(seed)\n",
    "        self._max_steps = max_steps\n",
    "        self._interm_states = isc\n",
    "\n",
    "        self._steps = 0\n",
    "        self._current_state = 1\n",
    "\n",
    "        self.lr = lr\n",
    "        self.rr = rr\n",
    "        \n",
    "    @property\n",
    "    def action_count(self):\n",
    "        return 2\n",
    "    \n",
    "    @property\n",
    "    def states_count(self):\n",
    "        return 2 + self._interm_states\n",
    "    \n",
    "    def _get_probs(self, action):\n",
    "        if action == 0:\n",
    "            if self._current_state == 0:\n",
    "                return [0.00, 1.00, 0.00]\n",
    "            else:\n",
    "                return [1.00, 0.00, 0.00]\n",
    "            \n",
    "        elif action == 1:\n",
    "            if self._current_state == 0:\n",
    "                return [0.00, 0.40, 0.60]\n",
    "            if self._current_state == self.states_count - 1:\n",
    "                return [0.40, 0.60, 0.00]\n",
    "            else:\n",
    "                return [0.05, 0.60, 0.35]\n",
    "\n",
    "    def step(self, action):\n",
    "        reward = 0.0\n",
    "        if self._steps >= self._max_steps:\n",
    "            return self._current_state, reward, True\n",
    "        \n",
    "        transition = self.rs.choice(range(3), p=self._get_probs(action))\n",
    "        if transition == 0:\n",
    "            self._current_state -= 1\n",
    "        elif transition == 1:\n",
    "            pass\n",
    "        else:\n",
    "            self._current_state += 1\n",
    "\n",
    "        if self._current_state == 0:\n",
    "            reward = self.lr\n",
    "        elif self._current_state == self.states_count - 1:\n",
    "            reward = self.rr\n",
    "        \n",
    "        self._steps += 1\n",
    "        return self._current_state, reward, False"
   ]
  },
  {
   "cell_type": "code",
   "execution_count": 3,
   "metadata": {
    "ExecuteTime": {
     "end_time": "2025-02-17T08:55:11.899596Z",
     "start_time": "2025-02-17T08:55:11.896201Z"
    },
    "datalore": {
     "hide_input_from_viewers": false,
     "hide_output_from_viewers": false,
     "node_id": "cZ0ldEJeYAoLf5sqN0DL55",
     "report_properties": {
      "rowId": "kPHTQD9dpEBU0awGpJ7B8c"
     },
     "type": "CODE"
    }
   },
   "outputs": [],
   "source": [
    "class QLearningAgent:\n",
    "    # n states, K actions\n",
    "    def __init__(self, n, K, lr=0.2, gamma=0.95, epsilon=0.3, seed=42):\n",
    "        self.rs = np.random.RandomState(seed)\n",
    "        self._gamma = gamma\n",
    "        self._epsilon = epsilon\n",
    "        self._q_matrix = np.zeros((n, K))\n",
    "        self._lr = lr\n",
    "\n",
    "    def get_action(self, state):\n",
    "        if self.rs.random() < self._epsilon:\n",
    "            return self.rs.randint(0, self._q_matrix.shape[1])\n",
    "        else:\n",
    "            return np.argmax(self._q_matrix[state])\n",
    "    \n",
    "    def get_q_matrix(self):\n",
    "        return self._q_matrix\n",
    "        \n",
    "    def start_episode(self):\n",
    "        pass\n",
    "\n",
    "    def update(self, state, action, reward, next_state):\n",
    "        self._q_matrix[state, action] = (1 - self._lr) * self._q_matrix[state, action] + self._lr*(reward + self._gamma*np.max(self._q_matrix[next_state]))\n",
    "        return"
   ]
  },
  {
   "cell_type": "code",
   "execution_count": 4,
   "metadata": {
    "ExecuteTime": {
     "end_time": "2025-02-17T08:55:18.300374Z",
     "start_time": "2025-02-17T08:55:13.788878Z"
    },
    "datalore": {
     "hide_input_from_viewers": false,
     "hide_output_from_viewers": false,
     "node_id": "V4d2Ur0lIoYvL2IyhbCnno",
     "report_properties": {
      "rowId": "7uf5Dxph8mHYaLIRzPRIKT"
     },
     "type": "CODE"
    }
   },
   "outputs": [
    {
     "data": {
      "image/png": "[encoded data removed]",
      "text/plain": [
       "<Figure size 1500x800 with 1 Axes>"
      ]
     },
     "metadata": {},
     "output_type": "display_data"
    }
   ],
   "source": [
    "n = 3\n",
    "ms = 1024\n",
    "episodes = 500\n",
    "actions = 2\n",
    "\n",
    "agent = QLearningAgent(2+n, actions)\n",
    "\n",
    "episode_rewards = []\n",
    "for ep in range(episodes):\n",
    "    river_swim = RiverSwim(n, ms)\n",
    "\n",
    "    state, ep_reward, is_done = river_swim._current_state, 0.0, False\n",
    "    agent.start_episode()\n",
    "    while not is_done:\n",
    "        action = agent.get_action(state)\n",
    "        next_state, reward, is_done = river_swim.step(action)\n",
    "        agent.update(state, action, reward, next_state)\n",
    "        \n",
    "        state = next_state\n",
    "        ep_reward += reward\n",
    "        \n",
    "    episode_rewards.append(ep_reward)\n",
    "\n",
    "\n",
    "plt.figure(figsize=(15, 8))\n",
    "\n",
    "plt.plot(pd.DataFrame(np.array(episode_rewards)).ewm(alpha=.1).mean())\n",
    "plt.xlabel(\"Episode count\")\n",
    "plt.ylabel(\"Reward\")\n",
    "plt.show()"
   ]
  },
  {
   "cell_type": "code",
   "execution_count": 5,
   "metadata": {
    "ExecuteTime": {
     "end_time": "2025-02-17T08:55:24.194245Z",
     "start_time": "2025-02-17T08:55:24.131702Z"
    },
    "datalore": {
     "hide_input_from_viewers": false,
     "hide_output_from_viewers": false,
     "node_id": "NLNRJHXOhMwgDCXTUX1WI7",
     "report_properties": {
      "rowId": "tx1RstJGkFjwvuQhY9y0NG"
     },
     "type": "CODE"
    }
   },
   "outputs": [
    {
     "data": {
      "image/png": "[encoded data removed]",
      "text/plain": [
       "<Figure size 1500x800 with 1 Axes>"
      ]
     },
     "metadata": {},
     "output_type": "display_data"
    }
   ],
   "source": [
    "fig = plt.figure(figsize=(15, 8))\n",
    "ax = fig.add_subplot(111)\n",
    "ax.matshow(agent.get_q_matrix().T)\n",
    "ax.set_yticks([0, 1])\n",
    "ax.set_yticklabels(['no act', 'swim'])\n",
    "plt.xlabel(\"State\")\n",
    "plt.ylabel(\"Action\")\n",
    "plt.title(\"Values of state-action pairs\")\n",
    "plt.show()"
   ]
  },
  {
   "attachments": {},
   "cell_type": "markdown",
   "metadata": {
    "datalore": {
     "hide_input_from_viewers": false,
     "hide_output_from_viewers": false,
     "node_id": "R3jyTdbidw35Dox77Mex6V",
     "report_properties": {
      "rowId": "wjcHlvS4aU81AuE8N7mN8W"
     },
     "type": "MD"
    }
   },
   "source": [
    "## A Minimal Deep Q-Network\n",
    "\n",
    "We'll consider how to code a minimal Deep Q-Network to solve the CartPole environment."
   ]
  },
  {
   "attachments": {},
   "cell_type": "markdown",
   "metadata": {
    "datalore": {
     "hide_input_from_viewers": false,
     "hide_output_from_viewers": false,
     "node_id": "2KV2tSsTFGORVONDzDogZt",
     "report_properties": {
      "rowId": "mvKjOkppUK2WWS71kbO9Rn"
     },
     "type": "MD"
    }
   },
   "source": [
    "### Step 1. Import libraries and setup the environment"
   ]
  },
  {
   "cell_type": "code",
   "execution_count": 6,
   "metadata": {
    "ExecuteTime": {
     "end_time": "2025-02-17T08:55:40.398913Z",
     "start_time": "2025-02-17T08:55:37.373955Z"
    },
    "datalore": {
     "hide_input_from_viewers": false,
     "hide_output_from_viewers": false,
     "node_id": "aoudKJH47GDvUU6HPelqP5",
     "report_properties": {
      "rowId": "jOTTdoVnjIAIpxVYTJmLJG"
     },
     "type": "CODE"
    }
   },
   "outputs": [
    {
     "name": "stdout",
     "output_type": "stream",
     "text": [
      "Collecting gymnasium\r\n",
      "  Obtaining dependency information for gymnasium from https://files.pythonhosted.org/packages/de/85/f5039ce2df5f0789ff1240f08a59f3e8c92e4c5f99543b7aad7388532f7c/gymnasium-1.0.0-py3-none-any.whl.metadata\r\n",
      "  Downloading gymnasium-1.0.0-py3-none-any.whl.metadata (9.5 kB)\r\n",
      "Requirement already satisfied: numpy>=1.21.0 in /Users/Aleksandr.Avdiushenko/IdeaProjects/avalur.github.io/.venv/lib/python3.12/site-packages (from gymnasium) (1.26.4)\r\n",
      "Collecting cloudpickle>=1.2.0 (from gymnasium)\r\n",
      "  Obtaining dependency information for cloudpickle>=1.2.0 from https://files.pythonhosted.org/packages/7e/e8/64c37fadfc2816a7701fa8a6ed8d87327c7d54eacfbfb6edab14a2f2be75/cloudpickle-3.1.1-py3-none-any.whl.metadata\r\n",
      "  Downloading cloudpickle-3.1.1-py3-none-any.whl.metadata (7.1 kB)\r\n",
      "Requirement already satisfied: typing-extensions>=4.3.0 in /Users/Aleksandr.Avdiushenko/IdeaProjects/avalur.github.io/.venv/lib/python3.12/site-packages (from gymnasium) (4.12.2)\r\n",
      "Collecting farama-notifications>=0.0.1 (from gymnasium)\r\n",
      "  Obtaining dependency information for farama-notifications>=0.0.1 from https://files.pythonhosted.org/packages/05/2c/ffc08c54c05cdce6fbed2aeebc46348dbe180c6d2c541c7af7ba0aa5f5f8/Farama_Notifications-0.0.4-py3-none-any.whl.metadata\r\n",
      "  Downloading Farama_Notifications-0.0.4-py3-none-any.whl.metadata (558 bytes)\r\n",
      "Downloading gymnasium-1.0.0-py3-none-any.whl (958 kB)\r\n",
      "\u001b[2K   \u001b[90m━━━━━━━━━━━━━━━━━━━━━━━━━━━━━━━━━━━━━━━━\u001b[0m \u001b[32m958.1/958.1 kB\u001b[0m \u001b[31m5.7 MB/s\u001b[0m eta \u001b[36m0:00:00\u001b[0ma \u001b[36m0:00:01\u001b[0m\r\n",
      "\u001b[?25hDownloading cloudpickle-3.1.1-py3-none-any.whl (20 kB)\r\n",
      "Downloading Farama_Notifications-0.0.4-py3-none-any.whl (2.5 kB)\r\n",
      "Installing collected packages: farama-notifications, cloudpickle, gymnasium\r\n",
      "Successfully installed cloudpickle-3.1.1 farama-notifications-0.0.4 gymnasium-1.0.0\r\n",
      "\r\n",
      "\u001b[1m[\u001b[0m\u001b[34;49mnotice\u001b[0m\u001b[1;39;49m]\u001b[0m\u001b[39;49m A new release of pip is available: \u001b[0m\u001b[31;49m23.2.1\u001b[0m\u001b[39;49m -> \u001b[0m\u001b[32;49m25.0.1\u001b[0m\r\n",
      "\u001b[1m[\u001b[0m\u001b[34;49mnotice\u001b[0m\u001b[1;39;49m]\u001b[0m\u001b[39;49m To update, run: \u001b[0m\u001b[32;49mpip install --upgrade pip\u001b[0m\r\n"
     ]
    }
   ],
   "source": [
    "!pip install gymnasium"
   ]
  },
  {
   "cell_type": "code",
   "execution_count": 1,
   "metadata": {
    "ExecuteTime": {
     "end_time": "2025-02-17T08:55:51.984147Z",
     "start_time": "2025-02-17T08:55:49.508296Z"
    },
    "datalore": {
     "hide_input_from_viewers": false,
     "hide_output_from_viewers": false,
     "node_id": "rFhLm9oOGwxwfYMQ7UeDCp",
     "report_properties": {
      "rowId": "3LuVYbu2jSQqCAn8jyxudR"
     },
     "type": "CODE"
    }
   },
   "outputs": [],
   "source": [
    "import torch\n",
    "import torch.nn as nn\n",
    "import torch.nn.functional as F\n",
    "\n",
    "import gymnasium as gym\n",
    "import numpy as np\n",
    "\n",
    "from collections import deque\n",
    "import time\n",
    "import random"
   ]
  },
  {
   "cell_type": "code",
   "execution_count": 2,
   "metadata": {
    "ExecuteTime": {
     "end_time": "2025-02-17T08:55:57.730180Z",
     "start_time": "2025-02-17T08:55:57.725184Z"
    },
    "datalore": {
     "hide_input_from_viewers": false,
     "hide_output_from_viewers": false,
     "node_id": "e0mhp48ATqpqZsDENBSSHP",
     "report_properties": {
      "rowId": "DttKPp6SNtRn9VSplgGChb"
     },
     "type": "CODE"
    }
   },
   "outputs": [
    {
     "name": "stdout",
     "output_type": "stream",
     "text": [
      "Action Space: Discrete(2)\n",
      "State space: Box([-4.8               -inf -0.41887903        -inf], [4.8               inf 0.41887903        inf], (4,), float32)\n"
     ]
    }
   ],
   "source": [
    "RANDOM_SEED = 5\n",
    "\n",
    "env = gym.make('CartPole-v1', render_mode='rgb_array')\n",
    "np.random.seed(RANDOM_SEED)\n",
    "\n",
    "print(\"Action Space: {}\".format(env.action_space))\n",
    "print(\"State space: {}\".format(env.observation_space))"
   ]
  },
  {
   "cell_type": "code",
   "execution_count": 3,
   "metadata": {
    "ExecuteTime": {
     "end_time": "2025-02-17T08:56:00.065658Z",
     "start_time": "2025-02-17T08:56:00.062235Z"
    },
    "datalore": {
     "hide_input_from_viewers": false,
     "hide_output_from_viewers": false,
     "node_id": "GylX9q2dRVzs4zDZL2mHpc",
     "report_properties": {
      "rowId": "ucKdrfpNVthNurYtPPOvMD"
     },
     "type": "CODE"
    }
   },
   "outputs": [
    {
     "name": "stdout",
     "output_type": "stream",
     "text": [
      "Help on OrderEnforcing in module gymnasium.wrappers.common object:\n",
      "\n",
      "class OrderEnforcing(gymnasium.core.Wrapper, gymnasium.utils.record_constructor.RecordConstructorArgs)\n",
      " |  OrderEnforcing(env: 'gym.Env[ObsType, ActType]', disable_render_order_enforcing: 'bool' = False)\n",
      " |\n",
      " |  Will produce an error if ``step`` or ``render`` is called before ``reset``.\n",
      " |\n",
      " |  No vector version of the wrapper exists.\n",
      " |\n",
      " |  Example:\n",
      " |      >>> import gymnasium as gym\n",
      " |      >>> from gymnasium.wrappers import OrderEnforcing\n",
      " |      >>> env = gym.make(\"CartPole-v1\", render_mode=\"human\")\n",
      " |      >>> env = OrderEnforcing(env)\n",
      " |      >>> env.step(0)\n",
      " |      Traceback (most recent call last):\n",
      " |          ...\n",
      " |      gymnasium.error.ResetNeeded: Cannot call env.step() before calling env.reset()\n",
      " |      >>> env.render()\n",
      " |      Traceback (most recent call last):\n",
      " |          ...\n",
      " |      gymnasium.error.ResetNeeded: Cannot call `env.render()` before calling `env.reset()`, if this is an intended action, set `disable_render_order_enforcing=True` on the OrderEnforcer wrapper.\n",
      " |      >>> _ = env.reset()\n",
      " |      >>> env.render()\n",
      " |      >>> _ = env.step(0)\n",
      " |      >>> env.close()\n",
      " |\n",
      " |  Change logs:\n",
      " |   * v0.22.0 - Initially added\n",
      " |   * v0.24.0 - Added order enforcing for the render function\n",
      " |\n",
      " |  Method resolution order:\n",
      " |      OrderEnforcing\n",
      " |      gymnasium.core.Wrapper\n",
      " |      gymnasium.core.Env\n",
      " |      typing.Generic\n",
      " |      gymnasium.utils.record_constructor.RecordConstructorArgs\n",
      " |      builtins.object\n",
      " |\n",
      " |  Methods defined here:\n",
      " |\n",
      " |  __init__(self, env: 'gym.Env[ObsType, ActType]', disable_render_order_enforcing: 'bool' = False)\n",
      " |      A wrapper that will produce an error if :meth:`step` is called before an initial :meth:`reset`.\n",
      " |\n",
      " |      Args:\n",
      " |          env: The environment to wrap\n",
      " |          disable_render_order_enforcing: If to disable render order enforcing\n",
      " |\n",
      " |  render(self) -> 'RenderFrame | list[RenderFrame] | None'\n",
      " |      Renders the environment with `kwargs`.\n",
      " |\n",
      " |  reset(self, *, seed: 'int | None' = None, options: 'dict[str, Any] | None' = None) -> 'tuple[ObsType, dict[str, Any]]'\n",
      " |      Resets the environment with `kwargs`.\n",
      " |\n",
      " |  step(self, action: 'ActType') -> 'tuple[ObsType, SupportsFloat, bool, bool, dict]'\n",
      " |      Steps through the environment.\n",
      " |\n",
      " |  ----------------------------------------------------------------------\n",
      " |  Readonly properties defined here:\n",
      " |\n",
      " |  has_reset\n",
      " |      Returns if the environment has been reset before.\n",
      " |\n",
      " |  spec\n",
      " |      Modifies the environment spec to add the `order_enforce=True`.\n",
      " |\n",
      " |  ----------------------------------------------------------------------\n",
      " |  Data and other attributes defined here:\n",
      " |\n",
      " |  __annotations__ = {}\n",
      " |\n",
      " |  __orig_bases__ = (gymnasium.core.Wrapper[~ObsType, ~ActType, ~ObsType,...\n",
      " |\n",
      " |  __parameters__ = (~ObsType, ~ActType)\n",
      " |\n",
      " |  ----------------------------------------------------------------------\n",
      " |  Methods inherited from gymnasium.core.Wrapper:\n",
      " |\n",
      " |  __repr__(self)\n",
      " |      Returns the string representation of the wrapper.\n",
      " |\n",
      " |  __str__(self)\n",
      " |      Returns the wrapper name and the :attr:`env` representation string.\n",
      " |\n",
      " |  close(self)\n",
      " |      Closes the wrapper and :attr:`env`.\n",
      " |\n",
      " |  get_wrapper_attr(self, name: 'str') -> 'Any'\n",
      " |      Gets an attribute from the wrapper and lower environments if `name` doesn't exist in this object.\n",
      " |\n",
      " |      Args:\n",
      " |          name: The variable name to get\n",
      " |\n",
      " |      Returns:\n",
      " |          The variable with name in wrapper or lower environments\n",
      " |\n",
      " |  has_wrapper_attr(self, name: 'str') -> 'bool'\n",
      " |      Checks if the given attribute is within the wrapper or its environment.\n",
      " |\n",
      " |  set_wrapper_attr(self, name: 'str', value: 'Any')\n",
      " |      Sets an attribute on this wrapper or lower environment if `name` is already defined.\n",
      " |\n",
      " |      Args:\n",
      " |          name: The variable name\n",
      " |          value: The new variable value\n",
      " |\n",
      " |  ----------------------------------------------------------------------\n",
      " |  Class methods inherited from gymnasium.core.Wrapper:\n",
      " |\n",
      " |  class_name() -> 'str'\n",
      " |      Returns the class name of the wrapper.\n",
      " |\n",
      " |  wrapper_spec(**kwargs: 'Any') -> 'WrapperSpec'\n",
      " |      Generates a `WrapperSpec` for the wrappers.\n",
      " |\n",
      " |  ----------------------------------------------------------------------\n",
      " |  Readonly properties inherited from gymnasium.core.Wrapper:\n",
      " |\n",
      " |  np_random_seed\n",
      " |      Returns the base environment's :attr:`np_random_seed`.\n",
      " |\n",
      " |  render_mode\n",
      " |      Returns the :attr:`Env` :attr:`render_mode`.\n",
      " |\n",
      " |  unwrapped\n",
      " |      Returns the base environment of the wrapper.\n",
      " |\n",
      " |      This will be the bare :class:`gymnasium.Env` environment, underneath all layers of wrappers.\n",
      " |\n",
      " |  ----------------------------------------------------------------------\n",
      " |  Data descriptors inherited from gymnasium.core.Wrapper:\n",
      " |\n",
      " |  action_space\n",
      " |      Return the :attr:`Env` :attr:`action_space` unless overwritten then the wrapper :attr:`action_space` is used.\n",
      " |\n",
      " |  metadata\n",
      " |      Returns the :attr:`Env` :attr:`metadata`.\n",
      " |\n",
      " |  np_random\n",
      " |      Returns the :attr:`Env` :attr:`np_random` attribute.\n",
      " |\n",
      " |  observation_space\n",
      " |      Return the :attr:`Env` :attr:`observation_space` unless overwritten then the wrapper :attr:`observation_space` is used.\n",
      " |\n",
      " |  ----------------------------------------------------------------------\n",
      " |  Methods inherited from gymnasium.core.Env:\n",
      " |\n",
      " |  __enter__(self)\n",
      " |      Support with-statement for the environment.\n",
      " |\n",
      " |  __exit__(self, *args: 'Any')\n",
      " |      Support with-statement for the environment and closes the environment.\n",
      " |\n",
      " |  ----------------------------------------------------------------------\n",
      " |  Data descriptors inherited from gymnasium.core.Env:\n",
      " |\n",
      " |  __dict__\n",
      " |      dictionary for instance variables\n",
      " |\n",
      " |  __weakref__\n",
      " |      list of weak references to the object\n",
      " |\n",
      " |  ----------------------------------------------------------------------\n",
      " |  Class methods inherited from typing.Generic:\n",
      " |\n",
      " |  __class_getitem__(...)\n",
      " |      Parameterizes a generic class.\n",
      " |\n",
      " |      At least, parameterizing a generic class is the *main* thing this\n",
      " |      method does. For example, for some generic class `Foo`, this is called\n",
      " |      when we do `Foo[int]` - there, with `cls=Foo` and `params=int`.\n",
      " |\n",
      " |      However, note that this method is also called when defining generic\n",
      " |      classes in the first place with `class Foo[T]: ...`.\n",
      " |\n",
      " |  __init_subclass__(...)\n",
      " |      Function to initialize subclasses.\n",
      "\n"
     ]
    }
   ],
   "source": [
    "help(env.env)"
   ]
  },
  {
   "attachments": {},
   "cell_type": "markdown",
   "metadata": {
    "datalore": {
     "hide_input_from_viewers": false,
     "hide_output_from_viewers": false,
     "node_id": "GDCLAL7e6uz1ac9bCUiH5n",
     "report_properties": {
      "rowId": "wzG2TdN0UR2q6TVB2JEtZb"
     },
     "type": "MD"
    }
   },
   "source": [
    "### Step 2. Define the network architecture"
   ]
  },
  {
   "cell_type": "code",
   "execution_count": 4,
   "metadata": {
    "ExecuteTime": {
     "end_time": "2025-02-17T08:56:43.004258Z",
     "start_time": "2025-02-17T08:56:42.999962Z"
    },
    "datalore": {
     "hide_input_from_viewers": false,
     "hide_output_from_viewers": false,
     "node_id": "ZRLOqX2JLhx6ZnhjgmTYp9",
     "report_properties": {
      "rowId": "arJwzCXJJuEthKPUfKGXZQ"
     },
     "type": "CODE"
    }
   },
   "outputs": [],
   "source": [
    "# An episode a full game\n",
    "train_episodes = 150\n",
    "\n",
    "class DQNAgent(nn.Module):\n",
    "    \"\"\" The agent maps X-states to Y-actions\n",
    "    e.g. if the neural network output is [.1, .7, .05, 0.05, .05, .05]\n",
    "    than the highest value 0.7 is the Q-Value.\n",
    "    The index of the highest action (0.7) is action #1.\n",
    "    \"\"\"\n",
    "    def __init__(self, state_shape, action_shape):\n",
    "        super(DQNAgent, self).__init__()\n",
    "        self.fc1 = nn.Linear(state_shape, 24)\n",
    "        self.fc2 = nn.Linear(24, 12)\n",
    "        self.fc3 = nn.Linear(12, action_shape)\n",
    "\n",
    "    def forward(self, x):\n",
    "        x = F.relu(self.fc1(x))\n",
    "        x = F.relu(self.fc2(x))\n",
    "        x = self.fc3(x)  # No activation as in your keras model\n",
    "        return x\n",
    "\n",
    "# Define a function to get Q-values\n",
    "def get_qs(model, state):\n",
    "    state = torch.tensor(state, dtype=torch.float32)  # Convert to PyTorch tensor\n",
    "    state = state.unsqueeze(0)  # Reshape\n",
    "    return model(state).detach().numpy()[0]  # Compute Q-values and convert to numpy array\n",
    "\n",
    "\n",
    "def train_nn(model, X, Y, batch_size=64, shuffle=True):\n",
    "    # Use GPU if available\n",
    "    device = torch.device(\"cuda\" if torch.cuda.is_available() else \"cpu\")\n",
    "    model = model.to(device)\n",
    "\n",
    "    # Set the model in training mode\n",
    "    model.train()\n",
    "\n",
    "    # Define an optimizer and a loss function\n",
    "    optimizer = torch.optim.Adam(model.parameters(), lr=0.001)\n",
    "    loss_fn = nn.SmoothL1Loss()  # Huber Loss\n",
    "\n",
    "    # Convert the data to PyTorch tensors\n",
    "    X_tensor = torch.tensor(X, dtype=torch.float32).to(device)\n",
    "    Y_tensor = torch.tensor(Y, dtype=torch.float32).to(device)\n",
    "\n",
    "    # Create a data loader\n",
    "    dataset = torch.utils.data.TensorDataset(X_tensor, Y_tensor)\n",
    "    data_loader = torch.utils.data.DataLoader(dataset, batch_size=batch_size, shuffle=shuffle)\n",
    "\n",
    "    epoch = 0\n",
    "    for batch_x, batch_y in data_loader:\n",
    "        optimizer.zero_grad()\n",
    "        output = model(batch_x)\n",
    "        loss = loss_fn(output, batch_y)\n",
    "        loss.backward()\n",
    "        optimizer.step()\n",
    "\n",
    "    # Print loss for this epoch\n",
    "    print(f\"Epoch {epoch + 1}, Loss: {loss.item()}\")\n",
    "\n",
    "    return model"
   ]
  },
  {
   "attachments": {},
   "cell_type": "markdown",
   "metadata": {
    "datalore": {
     "hide_input_from_viewers": false,
     "hide_output_from_viewers": false,
     "node_id": "wGcVmmyEP6wHSqQ4wKPFjR",
     "report_properties": {
      "rowId": "Rjg8cJhG7XKE8SGAxR4gpn"
     },
     "type": "MD"
    }
   },
   "source": [
    "### Step 3. Define the train function using Experience Replay"
   ]
  },
  {
   "cell_type": "code",
   "execution_count": 5,
   "metadata": {
    "ExecuteTime": {
     "end_time": "2025-02-17T08:56:46.472900Z",
     "start_time": "2025-02-17T08:56:46.470019Z"
    },
    "datalore": {
     "hide_input_from_viewers": false,
     "hide_output_from_viewers": false,
     "node_id": "TGvEu58Bq0BOrHLuJOAliI",
     "report_properties": {
      "rowId": "nSwPNo1FC9wGPQpsXtoBYS"
     },
     "type": "CODE"
    }
   },
   "outputs": [],
   "source": [
    "def get_array(obs):\n",
    "    return obs[0] if type(obs) is tuple else obs\n",
    "\n",
    "\n",
    "def train(env, replay_memory, model, target_model, done):\n",
    "    learning_rate = 0.7\n",
    "    discount_factor = 0.618\n",
    "\n",
    "    MIN_REPLAY_SIZE = 1000\n",
    "    if len(replay_memory) < MIN_REPLAY_SIZE:\n",
    "        return\n",
    "\n",
    "    batch_size = 64 * 2\n",
    "    # replay_memory is list of [observation, action, reward, new_observation, done])\n",
    "    mini_batch = random.sample(replay_memory, batch_size)\n",
    "\n",
    "    current_states = np.array([get_array(transition[0]) for transition in mini_batch], dtype='float32')\n",
    "    current_qs_list = model(torch.tensor(current_states))\n",
    "    new_current_states = np.array([get_array(transition[3]) for transition in mini_batch], dtype='float32')\n",
    "    future_qs_list = target_model(torch.tensor(new_current_states))\n",
    "\n",
    "    X = []\n",
    "    Y = []\n",
    "    for index, (observation, action, reward, new_observation, done) in enumerate(mini_batch):\n",
    "        if not done:\n",
    "            max_future_q = reward + discount_factor * np.max(future_qs_list[index].detach().numpy())\n",
    "        else:\n",
    "            max_future_q = reward\n",
    "\n",
    "        current_qs = current_qs_list[index].detach().numpy()\n",
    "        current_qs[action] = (1 - learning_rate) * current_qs[action] + learning_rate * max_future_q\n",
    "\n",
    "        X.append(get_array(observation))\n",
    "        Y.append(current_qs)\n",
    "    model = train_nn(model, np.array(X, dtype='float32'), np.array(Y, dtype='float32'),\n",
    "                     batch_size=batch_size, shuffle=True)\n"
   ]
  },
  {
   "attachments": {},
   "cell_type": "markdown",
   "metadata": {
    "datalore": {
     "hide_input_from_viewers": false,
     "hide_output_from_viewers": false,
     "node_id": "90eZMuew1SmeQfLJpBJlka",
     "report_properties": {
      "rowId": "0eGWmKz1tviVfKWY7xOnLQ"
     },
     "type": "MD"
    }
   },
   "source": [
    "### Step 4. Run the Deep Q-Network Algorithm"
   ]
  },
  {
   "cell_type": "code",
   "execution_count": 6,
   "metadata": {
    "ExecuteTime": {
     "end_time": "2025-02-17T08:56:54.006921Z",
     "start_time": "2025-02-17T08:56:54.002850Z"
    },
    "datalore": {
     "hide_input_from_viewers": false,
     "hide_output_from_viewers": false,
     "node_id": "zn1c6v3wTKWVJlshre6MG4",
     "report_properties": {
      "rowId": "kvjm1cm5F1laEzUvPuc0Bt"
     },
     "type": "CODE"
    }
   },
   "outputs": [],
   "source": [
    "def main():\n",
    "    epsilon = 1 # Epsilon-greedy algorithm in initialized at 1 meaning every step is random at the start\n",
    "    max_epsilon = 1 # You can't explore more than 100% of the time\n",
    "    min_epsilon = 0.01 # At a minimum, we'll always explore 1% of the time\n",
    "    decay = 0.01\n",
    "\n",
    "    # 1. Initialize the Target and Main models\n",
    "    # Main Model (updated every 4 steps)\n",
    "    model = DQNAgent(env.observation_space.shape[0], env.action_space.n)\n",
    "    # Target Model (updated every 100 steps)\n",
    "    target_model = DQNAgent(env.observation_space.shape[0], env.action_space.n)\n",
    "    target_model.load_state_dict(model.state_dict())\n",
    "\n",
    "    replay_memory = deque(maxlen=50_000)\n",
    "\n",
    "    target_update_counter = 0\n",
    "\n",
    "    # X = states, y = actions\n",
    "    X = []\n",
    "    y = []\n",
    "\n",
    "    steps_to_update_target_model = 0\n",
    "\n",
    "    for episode in range(train_episodes):\n",
    "        total_training_rewards = 0\n",
    "        observation = env.reset()\n",
    "        done = False\n",
    "        while not done:\n",
    "            steps_to_update_target_model += 1\n",
    "            #if True:\n",
    "            #    env.render()\n",
    "\n",
    "            random_number = np.random.rand()\n",
    "            # 2. Explore using the Epsilon Greedy Exploration Strategy\n",
    "            if random_number <= epsilon:\n",
    "                # Explore\n",
    "                action = env.action_space.sample()\n",
    "            else:\n",
    "                # Exploit best known action\n",
    "                # model dims are (batch, env.observation_space.n)\n",
    "                encoded = get_array(observation)\n",
    "                encoded_reshaped = torch.from_numpy(encoded.reshape([1, encoded.shape[0]]))\n",
    "                predicted = model(encoded_reshaped).detach().numpy().flatten()\n",
    "                action = np.argmax(predicted)\n",
    "            new_observation, reward, done, info, _ = env.step(action)\n",
    "            replay_memory.append([observation, action, reward, new_observation, done])\n",
    "\n",
    "            # 3. Update the Main Network using the Bellman Equation\n",
    "            if steps_to_update_target_model % 4 == 0 or done:\n",
    "                train(env, replay_memory, model, target_model, done)\n",
    "\n",
    "            observation = new_observation\n",
    "            total_training_rewards += reward\n",
    "\n",
    "            if done:\n",
    "                print('Total training rewards: {} after n steps = {} with final reward = {}'.format(total_training_rewards, episode, reward))\n",
    "                total_training_rewards += 1\n",
    "\n",
    "                if steps_to_update_target_model >= 100:\n",
    "                    print('Copying main network weights to the target network weights')\n",
    "                    target_model.load_state_dict(model.state_dict())\n",
    "                    steps_to_update_target_model = 0\n",
    "                break\n",
    "\n",
    "        epsilon = min_epsilon + (max_epsilon - min_epsilon) * np.exp(-decay * episode)\n",
    "    env.close()\n",
    "    return model\n"
   ]
  },
  {
   "cell_type": "code",
   "execution_count": 7,
   "metadata": {
    "ExecuteTime": {
     "end_time": "2025-02-17T08:56:59.752069Z",
     "start_time": "2025-02-17T08:56:58.631813Z"
    },
    "datalore": {
     "hide_input_from_viewers": false,
     "hide_output_from_viewers": false,
     "node_id": "lBHJB79HZfVXvrHXucZEhS",
     "report_properties": {
      "rowId": "pUtdtrXhjEc88kaeJIMLXC"
     },
     "type": "CODE"
    }
   },
   "outputs": [
    {
     "name": "stdout",
     "output_type": "stream",
     "text": [
      "Total training rewards: 17.0 after n steps = 0 with final reward = 1.0\n",
      "Total training rewards: 13.0 after n steps = 1 with final reward = 1.0\n",
      "Total training rewards: 12.0 after n steps = 2 with final reward = 1.0\n",
      "Total training rewards: 28.0 after n steps = 3 with final reward = 1.0\n",
      "Total training rewards: 16.0 after n steps = 4 with final reward = 1.0\n",
      "Total training rewards: 14.0 after n steps = 5 with final reward = 1.0\n",
      "Copying main network weights to the target network weights\n",
      "Total training rewards: 12.0 after n steps = 6 with final reward = 1.0\n",
      "Total training rewards: 27.0 after n steps = 7 with final reward = 1.0\n",
      "Total training rewards: 14.0 after n steps = 8 with final reward = 1.0\n",
      "Total training rewards: 21.0 after n steps = 9 with final reward = 1.0\n",
      "Total training rewards: 21.0 after n steps = 10 with final reward = 1.0\n",
      "Total training rewards: 20.0 after n steps = 11 with final reward = 1.0\n",
      "Copying main network weights to the target network weights\n",
      "Total training rewards: 10.0 after n steps = 12 with final reward = 1.0\n",
      "Total training rewards: 22.0 after n steps = 13 with final reward = 1.0\n",
      "Total training rewards: 10.0 after n steps = 14 with final reward = 1.0\n",
      "Total training rewards: 18.0 after n steps = 15 with final reward = 1.0\n",
      "Total training rewards: 10.0 after n steps = 16 with final reward = 1.0\n",
      "Total training rewards: 16.0 after n steps = 17 with final reward = 1.0\n",
      "Total training rewards: 18.0 after n steps = 18 with final reward = 1.0\n",
      "Copying main network weights to the target network weights\n",
      "Total training rewards: 11.0 after n steps = 19 with final reward = 1.0\n",
      "Total training rewards: 10.0 after n steps = 20 with final reward = 1.0\n",
      "Total training rewards: 49.0 after n steps = 21 with final reward = 1.0\n",
      "Total training rewards: 12.0 after n steps = 22 with final reward = 1.0\n",
      "Total training rewards: 32.0 after n steps = 23 with final reward = 1.0\n",
      "Copying main network weights to the target network weights\n",
      "Total training rewards: 17.0 after n steps = 24 with final reward = 1.0\n",
      "Total training rewards: 27.0 after n steps = 25 with final reward = 1.0\n",
      "Total training rewards: 14.0 after n steps = 26 with final reward = 1.0\n",
      "Total training rewards: 9.0 after n steps = 27 with final reward = 1.0\n",
      "Total training rewards: 23.0 after n steps = 28 with final reward = 1.0\n",
      "Total training rewards: 31.0 after n steps = 29 with final reward = 1.0\n",
      "Copying main network weights to the target network weights\n",
      "Total training rewards: 11.0 after n steps = 30 with final reward = 1.0\n",
      "Total training rewards: 10.0 after n steps = 31 with final reward = 1.0\n",
      "Total training rewards: 29.0 after n steps = 32 with final reward = 1.0\n",
      "Total training rewards: 10.0 after n steps = 33 with final reward = 1.0\n",
      "Total training rewards: 16.0 after n steps = 34 with final reward = 1.0\n",
      "Total training rewards: 17.0 after n steps = 35 with final reward = 1.0\n",
      "Total training rewards: 11.0 after n steps = 36 with final reward = 1.0\n",
      "Copying main network weights to the target network weights\n",
      "Total training rewards: 25.0 after n steps = 37 with final reward = 1.0\n",
      "Total training rewards: 25.0 after n steps = 38 with final reward = 1.0\n",
      "Total training rewards: 25.0 after n steps = 39 with final reward = 1.0\n",
      "Total training rewards: 23.0 after n steps = 40 with final reward = 1.0\n",
      "Total training rewards: 19.0 after n steps = 41 with final reward = 1.0\n",
      "Copying main network weights to the target network weights\n",
      "Total training rewards: 28.0 after n steps = 42 with final reward = 1.0\n",
      "Total training rewards: 11.0 after n steps = 43 with final reward = 1.0\n",
      "Total training rewards: 22.0 after n steps = 44 with final reward = 1.0\n",
      "Total training rewards: 19.0 after n steps = 45 with final reward = 1.0\n",
      "Total training rewards: 9.0 after n steps = 46 with final reward = 1.0\n",
      "Total training rewards: 13.0 after n steps = 47 with final reward = 1.0\n",
      "Copying main network weights to the target network weights\n",
      "Total training rewards: 14.0 after n steps = 48 with final reward = 1.0\n",
      "Total training rewards: 13.0 after n steps = 49 with final reward = 1.0\n",
      "Total training rewards: 15.0 after n steps = 50 with final reward = 1.0\n",
      "Total training rewards: 42.0 after n steps = 51 with final reward = 1.0\n",
      "Total training rewards: 10.0 after n steps = 52 with final reward = 1.0\n",
      "Total training rewards: 14.0 after n steps = 53 with final reward = 1.0\n",
      "Copying main network weights to the target network weights\n",
      "Total training rewards: 11.0 after n steps = 54 with final reward = 1.0\n",
      "Epoch 1, Loss: 0.15453588962554932\n",
      "Epoch 1, Loss: 0.15662896633148193\n",
      "Total training rewards: 9.0 after n steps = 55 with final reward = 1.0\n",
      "Epoch 1, Loss: 0.14057110249996185\n",
      "Epoch 1, Loss: 0.14180205762386322\n",
      "Epoch 1, Loss: 0.13716718554496765\n",
      "Epoch 1, Loss: 0.14713197946548462\n",
      "Total training rewards: 13.0 after n steps = 56 with final reward = 1.0\n",
      "Epoch 1, Loss: 0.15345680713653564\n",
      "Epoch 1, Loss: 0.14100508391857147\n",
      "Epoch 1, Loss: 0.14557726681232452\n",
      "Epoch 1, Loss: 0.14299078285694122\n",
      "Epoch 1, Loss: 0.13338415324687958\n",
      "Epoch 1, Loss: 0.14128802716732025\n",
      "Total training rewards: 20.0 after n steps = 57 with final reward = 1.0\n",
      "Epoch 1, Loss: 0.137299045920372\n",
      "Epoch 1, Loss: 0.13934946060180664\n",
      "Epoch 1, Loss: 0.13177703320980072\n",
      "Epoch 1, Loss: 0.14093713462352753\n",
      "Epoch 1, Loss: 0.12727850675582886\n",
      "Epoch 1, Loss: 0.14163123071193695\n",
      "Total training rewards: 21.0 after n steps = 58 with final reward = 1.0\n",
      "Epoch 1, Loss: 0.12865613400936127\n",
      "Epoch 1, Loss: 0.12897831201553345\n",
      "Epoch 1, Loss: 0.13110455870628357\n",
      "Total training rewards: 9.0 after n steps = 59 with final reward = 1.0\n",
      "Epoch 1, Loss: 0.12033136188983917\n",
      "Epoch 1, Loss: 0.13251277804374695\n",
      "Epoch 1, Loss: 0.1223050132393837\n",
      "Total training rewards: 9.0 after n steps = 60 with final reward = 1.0\n",
      "Epoch 1, Loss: 0.11130125820636749\n",
      "Epoch 1, Loss: 0.1201917976140976\n",
      "Epoch 1, Loss: 0.11927121877670288\n",
      "Total training rewards: 10.0 after n steps = 61 with final reward = 1.0\n",
      "Copying main network weights to the target network weights\n",
      "Epoch 1, Loss: 0.14141827821731567\n",
      "Epoch 1, Loss: 0.13814657926559448\n",
      "Epoch 1, Loss: 0.14350692927837372\n",
      "Total training rewards: 9.0 after n steps = 62 with final reward = 1.0\n",
      "Epoch 1, Loss: 0.1460527628660202\n",
      "Epoch 1, Loss: 0.13059617578983307\n",
      "Epoch 1, Loss: 0.1385217010974884\n",
      "Total training rewards: 9.0 after n steps = 63 with final reward = 1.0\n",
      "Epoch 1, Loss: 0.12039213627576828\n",
      "Epoch 1, Loss: 0.1319447010755539\n",
      "Epoch 1, Loss: 0.13399448990821838\n",
      "Epoch 1, Loss: 0.13315466046333313\n",
      "Total training rewards: 11.0 after n steps = 64 with final reward = 1.0\n",
      "Epoch 1, Loss: 0.128790944814682\n",
      "Epoch 1, Loss: 0.12442082166671753\n",
      "Epoch 1, Loss: 0.12602946162223816\n",
      "Epoch 1, Loss: 0.1221352070569992\n",
      "Epoch 1, Loss: 0.12592865526676178\n",
      "Epoch 1, Loss: 0.11754153668880463\n",
      "Total training rewards: 23.0 after n steps = 65 with final reward = 1.0\n",
      "Epoch 1, Loss: 0.11825838685035706\n",
      "Epoch 1, Loss: 0.11510685086250305\n",
      "Epoch 1, Loss: 0.11766740679740906\n",
      "Total training rewards: 9.0 after n steps = 66 with final reward = 1.0\n",
      "Epoch 1, Loss: 0.10767082870006561\n",
      "Epoch 1, Loss: 0.11494610458612442\n",
      "Epoch 1, Loss: 0.10380929708480835\n",
      "Epoch 1, Loss: 0.10570557415485382\n",
      "Total training rewards: 12.0 after n steps = 67 with final reward = 1.0\n",
      "Epoch 1, Loss: 0.10624703019857407\n",
      "Epoch 1, Loss: 0.10438227653503418\n",
      "Epoch 1, Loss: 0.109762042760849\n",
      "Total training rewards: 10.0 after n steps = 68 with final reward = 1.0\n",
      "Epoch 1, Loss: 0.10140230506658554\n",
      "Epoch 1, Loss: 0.10638495534658432\n",
      "Epoch 1, Loss: 0.0912930890917778\n",
      "Total training rewards: 9.0 after n steps = 69 with final reward = 1.0\n",
      "Epoch 1, Loss: 0.09768863767385483\n",
      "Epoch 1, Loss: 0.09564853459596634\n",
      "Epoch 1, Loss: 0.09364423155784607\n",
      "Total training rewards: 11.0 after n steps = 70 with final reward = 1.0\n",
      "Copying main network weights to the target network weights\n",
      "Epoch 1, Loss: 0.13037991523742676\n",
      "Epoch 1, Loss: 0.12577739357948303\n",
      "Epoch 1, Loss: 0.11627578735351562\n",
      "Total training rewards: 10.0 after n steps = 71 with final reward = 1.0\n",
      "Epoch 1, Loss: 0.12281132489442825\n",
      "Epoch 1, Loss: 0.12134884297847748\n",
      "Epoch 1, Loss: 0.11616302281618118\n",
      "Epoch 1, Loss: 0.11731819063425064\n",
      "Total training rewards: 14.0 after n steps = 72 with final reward = 1.0\n",
      "Epoch 1, Loss: 0.11659719794988632\n",
      "Epoch 1, Loss: 0.10692430287599564\n",
      "Epoch 1, Loss: 0.10900875926017761\n",
      "Epoch 1, Loss: 0.11242225021123886\n",
      "Total training rewards: 13.0 after n steps = 73 with final reward = 1.0\n",
      "Epoch 1, Loss: 0.10362249612808228\n",
      "Epoch 1, Loss: 0.11241428554058075\n",
      "Epoch 1, Loss: 0.09817294776439667\n",
      "Total training rewards: 10.0 after n steps = 74 with final reward = 1.0\n",
      "Epoch 1, Loss: 0.10235205292701721\n",
      "Epoch 1, Loss: 0.10286132991313934\n",
      "Epoch 1, Loss: 0.10019612312316895\n",
      "Epoch 1, Loss: 0.09563936293125153\n",
      "Total training rewards: 10.0 after n steps = 75 with final reward = 1.0\n",
      "Epoch 1, Loss: 0.09483124315738678\n",
      "Epoch 1, Loss: 0.09928014874458313\n",
      "Epoch 1, Loss: 0.09527524560689926\n",
      "Epoch 1, Loss: 0.07955773174762726\n",
      "Total training rewards: 13.0 after n steps = 76 with final reward = 1.0\n",
      "Epoch 1, Loss: 0.08549734950065613\n",
      "Epoch 1, Loss: 0.09051363170146942\n",
      "Epoch 1, Loss: 0.08959195762872696\n",
      "Total training rewards: 9.0 after n steps = 77 with final reward = 1.0\n",
      "Epoch 1, Loss: 0.07868173718452454\n",
      "Epoch 1, Loss: 0.08090575039386749\n",
      "Epoch 1, Loss: 0.0829184502363205\n",
      "Epoch 1, Loss: 0.06564480066299438\n",
      "Total training rewards: 10.0 after n steps = 78 with final reward = 1.0\n",
      "Epoch 1, Loss: 0.07116921246051788\n",
      "Epoch 1, Loss: 0.06778216361999512\n",
      "Epoch 1, Loss: 0.06840052455663681\n",
      "Epoch 1, Loss: 0.07123380899429321\n",
      "Total training rewards: 14.0 after n steps = 79 with final reward = 1.0\n",
      "Copying main network weights to the target network weights\n",
      "Epoch 1, Loss: 0.10954146832227707\n",
      "Epoch 1, Loss: 0.11171811819076538\n",
      "Epoch 1, Loss: 0.10800819844007492\n",
      "Epoch 1, Loss: 0.1052437275648117\n",
      "Total training rewards: 16.0 after n steps = 80 with final reward = 1.0\n",
      "Epoch 1, Loss: 0.0958286002278328\n",
      "Epoch 1, Loss: 0.10133907943964005\n",
      "Epoch 1, Loss: 0.0905400738120079\n",
      "Total training rewards: 11.0 after n steps = 81 with final reward = 1.0\n",
      "Epoch 1, Loss: 0.08556799590587616\n",
      "Epoch 1, Loss: 0.08948737382888794\n",
      "Epoch 1, Loss: 0.07075238972902298\n",
      "Epoch 1, Loss: 0.09697619825601578\n",
      "Total training rewards: 12.0 after n steps = 82 with final reward = 1.0\n",
      "Epoch 1, Loss: 0.07186974585056305\n",
      "Epoch 1, Loss: 0.09313338994979858\n",
      "Epoch 1, Loss: 0.08080863952636719\n",
      "Epoch 1, Loss: 0.08049295097589493\n",
      "Total training rewards: 12.0 after n steps = 83 with final reward = 1.0\n",
      "Epoch 1, Loss: 0.07682739198207855\n",
      "Epoch 1, Loss: 0.07328373938798904\n",
      "Epoch 1, Loss: 0.07767852395772934\n",
      "Total training rewards: 9.0 after n steps = 84 with final reward = 1.0\n",
      "Epoch 1, Loss: 0.07190408557653427\n",
      "Epoch 1, Loss: 0.05893471837043762\n",
      "Epoch 1, Loss: 0.06391378492116928\n",
      "Total training rewards: 10.0 after n steps = 85 with final reward = 1.0\n",
      "Epoch 1, Loss: 0.061009906232357025\n",
      "Epoch 1, Loss: 0.06293781846761703\n",
      "Epoch 1, Loss: 0.07217881083488464\n",
      "Epoch 1, Loss: 0.0636695846915245\n",
      "Epoch 1, Loss: 0.05950197950005531\n",
      "Total training rewards: 18.0 after n steps = 86 with final reward = 1.0\n",
      "Epoch 1, Loss: 0.05883365869522095\n",
      "Epoch 1, Loss: 0.051968272775411606\n",
      "Epoch 1, Loss: 0.053825002163648605\n",
      "Epoch 1, Loss: 0.04636462777853012\n",
      "Total training rewards: 15.0 after n steps = 87 with final reward = 1.0\n",
      "Copying main network weights to the target network weights\n",
      "Epoch 1, Loss: 0.08326017111539841\n",
      "Epoch 1, Loss: 0.09363079071044922\n",
      "Epoch 1, Loss: 0.07853956520557404\n",
      "Total training rewards: 11.0 after n steps = 88 with final reward = 1.0\n",
      "Epoch 1, Loss: 0.08850932121276855\n",
      "Epoch 1, Loss: 0.08535192906856537\n",
      "Epoch 1, Loss: 0.08304484188556671\n",
      "Total training rewards: 9.0 after n steps = 89 with final reward = 1.0\n",
      "Epoch 1, Loss: 0.07732183486223221\n",
      "Epoch 1, Loss: 0.07498501986265182\n",
      "Epoch 1, Loss: 0.06562284380197525\n",
      "Total training rewards: 11.0 after n steps = 90 with final reward = 1.0\n",
      "Epoch 1, Loss: 0.07217948883771896\n",
      "Epoch 1, Loss: 0.07090708613395691\n",
      "Epoch 1, Loss: 0.06140187382698059\n",
      "Epoch 1, Loss: 0.06151977553963661\n",
      "Total training rewards: 12.0 after n steps = 91 with final reward = 1.0\n",
      "Epoch 1, Loss: 0.05933614820241928\n",
      "Epoch 1, Loss: 0.0540325790643692\n",
      "Epoch 1, Loss: 0.06271261721849442\n",
      "Epoch 1, Loss: 0.06528815627098083\n",
      "Epoch 1, Loss: 0.06610532850027084\n",
      "Total training rewards: 14.0 after n steps = 92 with final reward = 1.0\n",
      "Epoch 1, Loss: 0.05827014893293381\n",
      "Epoch 1, Loss: 0.05765621364116669\n",
      "Epoch 1, Loss: 0.05803848057985306\n",
      "Total training rewards: 11.0 after n steps = 93 with final reward = 1.0\n",
      "Epoch 1, Loss: 0.05700519308447838\n",
      "Epoch 1, Loss: 0.05569394305348396\n",
      "Epoch 1, Loss: 0.0480947270989418\n",
      "Total training rewards: 11.0 after n steps = 94 with final reward = 1.0\n",
      "Epoch 1, Loss: 0.057479579001665115\n",
      "Epoch 1, Loss: 0.060801032930612564\n",
      "Epoch 1, Loss: 0.05243051052093506\n",
      "Epoch 1, Loss: 0.05417240411043167\n",
      "Total training rewards: 10.0 after n steps = 95 with final reward = 1.0\n",
      "Epoch 1, Loss: 0.04016588628292084\n",
      "Epoch 1, Loss: 0.03786708414554596\n",
      "Epoch 1, Loss: 0.04568909481167793\n",
      "Total training rewards: 11.0 after n steps = 96 with final reward = 1.0\n",
      "Copying main network weights to the target network weights\n",
      "Epoch 1, Loss: 0.07169535011053085\n",
      "Epoch 1, Loss: 0.07410217821598053\n",
      "Epoch 1, Loss: 0.0718950480222702\n",
      "Total training rewards: 9.0 after n steps = 97 with final reward = 1.0\n",
      "Epoch 1, Loss: 0.07389584928750992\n",
      "Epoch 1, Loss: 0.07086344063282013\n",
      "Epoch 1, Loss: 0.05605311319231987\n",
      "Total training rewards: 11.0 after n steps = 98 with final reward = 1.0\n",
      "Epoch 1, Loss: 0.06573114544153214\n",
      "Epoch 1, Loss: 0.06416825205087662\n",
      "Epoch 1, Loss: 0.05465579405426979\n",
      "Total training rewards: 10.0 after n steps = 99 with final reward = 1.0\n",
      "Epoch 1, Loss: 0.047878265380859375\n",
      "Epoch 1, Loss: 0.05443885177373886\n",
      "Epoch 1, Loss: 0.06444786489009857\n",
      "Epoch 1, Loss: 0.05533590167760849\n",
      "Total training rewards: 12.0 after n steps = 100 with final reward = 1.0\n",
      "Epoch 1, Loss: 0.041709981858730316\n",
      "Epoch 1, Loss: 0.05791974067687988\n",
      "Epoch 1, Loss: 0.04406670480966568\n",
      "Total training rewards: 10.0 after n steps = 101 with final reward = 1.0\n",
      "Epoch 1, Loss: 0.04740351438522339\n",
      "Epoch 1, Loss: 0.0350833535194397\n",
      "Epoch 1, Loss: 0.05190550163388252\n",
      "Total training rewards: 11.0 after n steps = 102 with final reward = 1.0\n",
      "Epoch 1, Loss: 0.04611951857805252\n",
      "Epoch 1, Loss: 0.040317703038454056\n",
      "Epoch 1, Loss: 0.0393201969563961\n",
      "Epoch 1, Loss: 0.04031231999397278\n",
      "Total training rewards: 10.0 after n steps = 103 with final reward = 1.0\n",
      "Epoch 1, Loss: 0.048425301909446716\n",
      "Epoch 1, Loss: 0.025821365416049957\n",
      "Epoch 1, Loss: 0.05790109559893608\n",
      "Total training rewards: 11.0 after n steps = 104 with final reward = 1.0\n",
      "Epoch 1, Loss: 0.030985981225967407\n",
      "Epoch 1, Loss: 0.04109795391559601\n",
      "Epoch 1, Loss: 0.04079560190439224\n",
      "Total training rewards: 10.0 after n steps = 105 with final reward = 1.0\n",
      "Epoch 1, Loss: 0.043976105749607086\n",
      "Epoch 1, Loss: 0.035338569432497025\n",
      "Epoch 1, Loss: 0.024265581741929054\n",
      "Total training rewards: 10.0 after n steps = 106 with final reward = 1.0\n",
      "Copying main network weights to the target network weights\n",
      "Epoch 1, Loss: 0.06972804665565491\n",
      "Epoch 1, Loss: 0.04503197968006134\n",
      "Epoch 1, Loss: 0.05147232860326767\n",
      "Total training rewards: 10.0 after n steps = 107 with final reward = 1.0\n",
      "Epoch 1, Loss: 0.03594581410288811\n",
      "Epoch 1, Loss: 0.04982355982065201\n",
      "Epoch 1, Loss: 0.045274518430233\n",
      "Total training rewards: 10.0 after n steps = 108 with final reward = 1.0\n",
      "Epoch 1, Loss: 0.032303523272275925\n",
      "Epoch 1, Loss: 0.04976643621921539\n",
      "Epoch 1, Loss: 0.04924235865473747\n",
      "Total training rewards: 12.0 after n steps = 109 with final reward = 1.0\n",
      "Epoch 1, Loss: 0.03580988943576813\n",
      "Epoch 1, Loss: 0.03743653744459152\n",
      "Epoch 1, Loss: 0.046308036893606186\n",
      "Total training rewards: 11.0 after n steps = 110 with final reward = 1.0\n",
      "Epoch 1, Loss: 0.029534045606851578\n",
      "Epoch 1, Loss: 0.038500163704156876\n",
      "Epoch 1, Loss: 0.041822098195552826\n",
      "Total training rewards: 9.0 after n steps = 111 with final reward = 1.0\n",
      "Epoch 1, Loss: 0.04020031541585922\n",
      "Epoch 1, Loss: 0.037388838827610016\n",
      "Epoch 1, Loss: 0.03535757586359978\n",
      "Epoch 1, Loss: 0.022449612617492676\n",
      "Total training rewards: 15.0 after n steps = 112 with final reward = 1.0\n",
      "Epoch 1, Loss: 0.032856155186891556\n",
      "Epoch 1, Loss: 0.0462472103536129\n",
      "Epoch 1, Loss: 0.034525319933891296\n",
      "Total training rewards: 9.0 after n steps = 113 with final reward = 1.0\n",
      "Epoch 1, Loss: 0.020648516714572906\n",
      "Epoch 1, Loss: 0.0231311172246933\n",
      "Epoch 1, Loss: 0.024402081966400146\n",
      "Total training rewards: 11.0 after n steps = 114 with final reward = 1.0\n",
      "Epoch 1, Loss: 0.037249621003866196\n",
      "Epoch 1, Loss: 0.027173664420843124\n",
      "Epoch 1, Loss: 0.03990018367767334\n",
      "Epoch 1, Loss: 0.03148112818598747\n",
      "Total training rewards: 10.0 after n steps = 115 with final reward = 1.0\n",
      "Epoch 1, Loss: 0.015102462843060493\n",
      "Epoch 1, Loss: 0.02994500659406185\n",
      "Epoch 1, Loss: 0.02769923396408558\n",
      "Total training rewards: 8.0 after n steps = 116 with final reward = 1.0\n",
      "Copying main network weights to the target network weights\n",
      "Epoch 1, Loss: 0.03806063160300255\n",
      "Epoch 1, Loss: 0.03838126361370087\n",
      "Epoch 1, Loss: 0.028164809569716454\n",
      "Epoch 1, Loss: 0.037667833268642426\n",
      "Total training rewards: 13.0 after n steps = 117 with final reward = 1.0\n",
      "Epoch 1, Loss: 0.026007378473877907\n",
      "Epoch 1, Loss: 0.02742488496005535\n",
      "Epoch 1, Loss: 0.0290058720856905\n",
      "Total training rewards: 11.0 after n steps = 118 with final reward = 1.0\n",
      "Epoch 1, Loss: 0.02894827164709568\n",
      "Epoch 1, Loss: 0.01950415037572384\n",
      "Epoch 1, Loss: 0.0214526429772377\n",
      "Total training rewards: 12.0 after n steps = 119 with final reward = 1.0\n",
      "Epoch 1, Loss: 0.02583402767777443\n",
      "Epoch 1, Loss: 0.03155142068862915\n",
      "Epoch 1, Loss: 0.030918531119823456\n",
      "Total training rewards: 10.0 after n steps = 120 with final reward = 1.0\n",
      "Epoch 1, Loss: 0.02474275417625904\n",
      "Epoch 1, Loss: 0.027108270674943924\n",
      "Epoch 1, Loss: 0.025975467637181282\n",
      "Epoch 1, Loss: 0.025032082572579384\n",
      "Total training rewards: 12.0 after n steps = 121 with final reward = 1.0\n",
      "Epoch 1, Loss: 0.022864341735839844\n",
      "Epoch 1, Loss: 0.013285276480019093\n",
      "Epoch 1, Loss: 0.020306745544075966\n",
      "Epoch 1, Loss: 0.02216341905295849\n",
      "Total training rewards: 13.0 after n steps = 122 with final reward = 1.0\n",
      "Epoch 1, Loss: 0.013114999048411846\n",
      "Epoch 1, Loss: 0.023870395496487617\n",
      "Epoch 1, Loss: 0.02527269721031189\n",
      "Total training rewards: 8.0 after n steps = 123 with final reward = 1.0\n",
      "Epoch 1, Loss: 0.01681475155055523\n",
      "Epoch 1, Loss: 0.033393051475286484\n",
      "Epoch 1, Loss: 0.015533410012722015\n",
      "Epoch 1, Loss: 0.02313186600804329\n",
      "Total training rewards: 12.0 after n steps = 124 with final reward = 1.0\n",
      "Epoch 1, Loss: 0.015520078130066395\n",
      "Epoch 1, Loss: 0.032783761620521545\n",
      "Epoch 1, Loss: 0.02721339277923107\n",
      "Epoch 1, Loss: 0.01587688736617565\n",
      "Total training rewards: 12.0 after n steps = 125 with final reward = 1.0\n",
      "Copying main network weights to the target network weights\n",
      "Epoch 1, Loss: 0.025906234979629517\n",
      "Epoch 1, Loss: 0.011400857008993626\n",
      "Epoch 1, Loss: 0.018935799598693848\n",
      "Epoch 1, Loss: 0.024698689579963684\n",
      "Total training rewards: 13.0 after n steps = 126 with final reward = 1.0\n",
      "Epoch 1, Loss: 0.02538972906768322\n",
      "Epoch 1, Loss: 0.02251349948346615\n",
      "Epoch 1, Loss: 0.02828412875533104\n",
      "Epoch 1, Loss: 0.014246401377022266\n",
      "Total training rewards: 14.0 after n steps = 127 with final reward = 1.0\n",
      "Epoch 1, Loss: 0.02478910982608795\n",
      "Epoch 1, Loss: 0.017681464552879333\n",
      "Epoch 1, Loss: 0.019057204946875572\n",
      "Epoch 1, Loss: 0.01617240160703659\n",
      "Epoch 1, Loss: 0.025374870747327805\n",
      "Total training rewards: 14.0 after n steps = 128 with final reward = 1.0\n",
      "Epoch 1, Loss: 0.0273751113563776\n",
      "Epoch 1, Loss: 0.014273891225457191\n",
      "Epoch 1, Loss: 0.016530824825167656\n",
      "Total training rewards: 10.0 after n steps = 129 with final reward = 1.0\n",
      "Epoch 1, Loss: 0.013401368632912636\n",
      "Epoch 1, Loss: 0.016879037022590637\n",
      "Epoch 1, Loss: 0.011767900548875332\n",
      "Epoch 1, Loss: 0.017904959619045258\n",
      "Epoch 1, Loss: 0.02510313130915165\n",
      "Total training rewards: 16.0 after n steps = 130 with final reward = 1.0\n",
      "Epoch 1, Loss: 0.01204488705843687\n",
      "Epoch 1, Loss: 0.0107466671615839\n",
      "Epoch 1, Loss: 0.017276760190725327\n",
      "Epoch 1, Loss: 0.01589452661573887\n",
      "Epoch 1, Loss: 0.015909777954220772\n",
      "Total training rewards: 16.0 after n steps = 131 with final reward = 1.0\n",
      "Epoch 1, Loss: 0.02251879684627056\n",
      "Epoch 1, Loss: 0.02054135501384735\n",
      "Epoch 1, Loss: 0.015330245718359947\n",
      "Epoch 1, Loss: 0.020759478211402893\n",
      "Total training rewards: 10.0 after n steps = 132 with final reward = 1.0\n",
      "Epoch 1, Loss: 0.017431076616048813\n",
      "Epoch 1, Loss: 0.017764639109373093\n",
      "Epoch 1, Loss: 0.01317538321018219\n",
      "Epoch 1, Loss: 0.025047210976481438\n",
      "Epoch 1, Loss: 0.02004656009376049\n",
      "Total training rewards: 19.0 after n steps = 133 with final reward = 1.0\n",
      "Copying main network weights to the target network weights\n",
      "Epoch 1, Loss: 0.014730933122336864\n",
      "Epoch 1, Loss: 0.018539268523454666\n",
      "Epoch 1, Loss: 0.020161239430308342\n",
      "Total training rewards: 12.0 after n steps = 134 with final reward = 1.0\n",
      "Epoch 1, Loss: 0.01898762956261635\n",
      "Epoch 1, Loss: 0.019189240410923958\n",
      "Epoch 1, Loss: 0.010420209728181362\n",
      "Total training rewards: 10.0 after n steps = 135 with final reward = 1.0\n",
      "Epoch 1, Loss: 0.024625537917017937\n",
      "Epoch 1, Loss: 0.012497837655246258\n",
      "Epoch 1, Loss: 0.02517024241387844\n",
      "Total training rewards: 10.0 after n steps = 136 with final reward = 1.0\n",
      "Epoch 1, Loss: 0.01193693745881319\n",
      "Epoch 1, Loss: 0.01946820132434368\n",
      "Epoch 1, Loss: 0.020541148260235786\n",
      "Epoch 1, Loss: 0.00932779349386692\n",
      "Epoch 1, Loss: 0.012796544469892979\n",
      "Epoch 1, Loss: 0.008789533749222755\n",
      "Total training rewards: 22.0 after n steps = 137 with final reward = 1.0\n",
      "Epoch 1, Loss: 0.018823167309165\n",
      "Epoch 1, Loss: 0.028758255764842033\n",
      "Epoch 1, Loss: 0.010440805926918983\n",
      "Epoch 1, Loss: 0.0158101636916399\n",
      "Epoch 1, Loss: 0.013749685138463974\n",
      "Total training rewards: 16.0 after n steps = 138 with final reward = 1.0\n",
      "Epoch 1, Loss: 0.01743573322892189\n",
      "Epoch 1, Loss: 0.010826941579580307\n",
      "Epoch 1, Loss: 0.007261690683662891\n",
      "Epoch 1, Loss: 0.007030096370726824\n",
      "Total training rewards: 12.0 after n steps = 139 with final reward = 1.0\n",
      "Epoch 1, Loss: 0.01826748065650463\n",
      "Epoch 1, Loss: 0.012745644897222519\n",
      "Epoch 1, Loss: 0.01333634089678526\n",
      "Epoch 1, Loss: 0.016927381977438927\n",
      "Epoch 1, Loss: 0.013433685526251793\n",
      "Total training rewards: 15.0 after n steps = 140 with final reward = 1.0\n",
      "Epoch 1, Loss: 0.01546909473836422\n",
      "Epoch 1, Loss: 0.010404856875538826\n",
      "Epoch 1, Loss: 0.011079881340265274\n",
      "Epoch 1, Loss: 0.012236738577485085\n",
      "Epoch 1, Loss: 0.014740482904016972\n",
      "Total training rewards: 18.0 after n steps = 141 with final reward = 1.0\n",
      "Copying main network weights to the target network weights\n",
      "Epoch 1, Loss: 0.011501756496727467\n",
      "Epoch 1, Loss: 0.02301403135061264\n",
      "Epoch 1, Loss: 0.008794141933321953\n",
      "Epoch 1, Loss: 0.016178062185645103\n",
      "Total training rewards: 15.0 after n steps = 142 with final reward = 1.0\n",
      "Epoch 1, Loss: 0.01583603397011757\n",
      "Epoch 1, Loss: 0.012650036253035069\n",
      "Epoch 1, Loss: 0.011123770847916603\n",
      "Epoch 1, Loss: 0.016416603699326515\n",
      "Epoch 1, Loss: 0.022886943072080612\n",
      "Total training rewards: 15.0 after n steps = 143 with final reward = 1.0\n",
      "Epoch 1, Loss: 0.018020831048488617\n",
      "Epoch 1, Loss: 0.011695900931954384\n",
      "Epoch 1, Loss: 0.015166258439421654\n",
      "Epoch 1, Loss: 0.014276469126343727\n",
      "Epoch 1, Loss: 0.015684444457292557\n",
      "Epoch 1, Loss: 0.011123629286885262\n",
      "Total training rewards: 19.0 after n steps = 144 with final reward = 1.0\n",
      "Epoch 1, Loss: 0.013817520812153816\n",
      "Epoch 1, Loss: 0.010337425395846367\n",
      "Epoch 1, Loss: 0.010862095281481743\n",
      "Epoch 1, Loss: 0.005374905187636614\n",
      "Total training rewards: 13.0 after n steps = 145 with final reward = 1.0\n",
      "Epoch 1, Loss: 0.01261318102478981\n",
      "Epoch 1, Loss: 0.01581772230565548\n",
      "Epoch 1, Loss: 0.012477150186896324\n",
      "Epoch 1, Loss: 0.010489975102245808\n",
      "Total training rewards: 13.0 after n steps = 146 with final reward = 1.0\n",
      "Epoch 1, Loss: 0.011459935456514359\n",
      "Epoch 1, Loss: 0.01004552561789751\n",
      "Epoch 1, Loss: 0.016895562410354614\n",
      "Epoch 1, Loss: 0.0060326713137328625\n",
      "Epoch 1, Loss: 0.02336471900343895\n",
      "Epoch 1, Loss: 0.013330040499567986\n",
      "Total training rewards: 18.0 after n steps = 147 with final reward = 1.0\n",
      "Epoch 1, Loss: 0.02184663526713848\n",
      "Epoch 1, Loss: 0.013505278155207634\n",
      "Epoch 1, Loss: 0.010377678088843822\n",
      "Total training rewards: 11.0 after n steps = 148 with final reward = 1.0\n",
      "Copying main network weights to the target network weights\n",
      "Epoch 1, Loss: 0.010945118963718414\n",
      "Epoch 1, Loss: 0.01277866680175066\n",
      "Epoch 1, Loss: 0.01295260339975357\n",
      "Epoch 1, Loss: 0.01225851010531187\n",
      "Total training rewards: 13.0 after n steps = 149 with final reward = 1.0\n"
     ]
    }
   ],
   "source": [
    "policy = main()"
   ]
  },
  {
   "cell_type": "code",
   "execution_count": 8,
   "metadata": {
    "ExecuteTime": {
     "end_time": "2025-02-17T08:57:35.244974Z",
     "start_time": "2025-02-17T08:57:35.242934Z"
    },
    "datalore": {
     "hide_input_from_viewers": false,
     "hide_output_from_viewers": false,
     "node_id": "edHWWAXn02r2vXVXfhPW0Q",
     "report_properties": {
      "rowId": "VoJcVW6UvPVkyGjLTAzG1n"
     },
     "type": "CODE"
    }
   },
   "outputs": [],
   "source": [
    "from IPython import display as ipythondisplay"
   ]
  },
  {
   "cell_type": "code",
   "execution_count": 9,
   "metadata": {
    "ExecuteTime": {
     "end_time": "2025-02-17T08:58:53.650668Z",
     "start_time": "2025-02-17T08:58:50.949785Z"
    },
    "datalore": {
     "hide_input_from_viewers": false,
     "hide_output_from_viewers": false,
     "node_id": "XP4aHTPZjM111u6D0nV7KM",
     "report_properties": {
      "rowId": "N45l2zjmv5GpoUpVMOLgWu"
     },
     "type": "CODE"
    }
   },
   "outputs": [
    {
     "name": "stdout",
     "output_type": "stream",
     "text": [
      "Requirement already satisfied: gymnasium[classic_control] in /Users/Aleksandr.Avdiushenko/IdeaProjects/avalur.github.io/.venv/lib/python3.12/site-packages (1.0.0)\n",
      "Requirement already satisfied: numpy>=1.21.0 in /Users/Aleksandr.Avdiushenko/IdeaProjects/avalur.github.io/.venv/lib/python3.12/site-packages (from gymnasium[classic_control]) (1.26.4)\n",
      "Requirement already satisfied: cloudpickle>=1.2.0 in /Users/Aleksandr.Avdiushenko/IdeaProjects/avalur.github.io/.venv/lib/python3.12/site-packages (from gymnasium[classic_control]) (3.1.1)\n",
      "Requirement already satisfied: typing-extensions>=4.3.0 in /Users/Aleksandr.Avdiushenko/IdeaProjects/avalur.github.io/.venv/lib/python3.12/site-packages (from gymnasium[classic_control]) (4.12.2)\n",
      "Requirement already satisfied: farama-notifications>=0.0.1 in /Users/Aleksandr.Avdiushenko/IdeaProjects/avalur.github.io/.venv/lib/python3.12/site-packages (from gymnasium[classic_control]) (0.0.4)\n",
      "Requirement already satisfied: pygame>=2.1.3 in /Users/Aleksandr.Avdiushenko/IdeaProjects/avalur.github.io/.venv/lib/python3.12/site-packages (from gymnasium[classic_control]) (2.6.1)\n",
      "\n",
      "\u001b[1m[\u001b[0m\u001b[34;49mnotice\u001b[0m\u001b[1;39;49m]\u001b[0m\u001b[39;49m A new release of pip is available: \u001b[0m\u001b[31;49m23.2.1\u001b[0m\u001b[39;49m -> \u001b[0m\u001b[32;49m25.0.1\u001b[0m\n",
      "\u001b[1m[\u001b[0m\u001b[34;49mnotice\u001b[0m\u001b[1;39;49m]\u001b[0m\u001b[39;49m To update, run: \u001b[0m\u001b[32;49mpip install --upgrade pip\u001b[0m\n"
     ]
    }
   ],
   "source": [
    "!pip install 'gymnasium[classic_control]'"
   ]
  },
  {
   "cell_type": "code",
   "execution_count": 14,
   "metadata": {},
   "outputs": [
    {
     "data": {
      "image/png": "[encoded data removed]",
      "text/plain": [
       "<Figure size 800x600 with 1 Axes>"
      ]
     },
     "metadata": {},
     "output_type": "display_data"
    }
   ],
   "source": [
    "import gymnasium as gym\n",
    "import matplotlib.pyplot as plt\n",
    "\n",
    "from time import sleep\n",
    "from IPython import display as ipythondisplay\n",
    "\n",
    "# Create environment with rgb_array render mode\n",
    "env = gym.make('CartPole-v1', render_mode=\"rgb_array\")\n",
    "\n",
    "# Create a figure for displaying the environment\n",
    "plt.figure(figsize=(8, 6))\n",
    "\n",
    "# Simple policy that always moves right\n",
    "policy_dummy = lambda *obs: 1\n",
    "\n",
    "for episode in range(2):\n",
    "    obs, info = env.reset()\n",
    "    for step in range(80):\n",
    "        # Get action from policy\n",
    "        action = policy_dummy(obs)\n",
    "\n",
    "        # Take action in environment\n",
    "        obs, reward, done, truncated, info = env.step(action)\n",
    "        sleep(0.05)\n",
    "        \n",
    "\n",
    "        # Render and display\n",
    "        screen = env.render()\n",
    "        plt.clf()  # Clear the current figure\n",
    "        plt.imshow(screen)\n",
    "        plt.axis('off')  # Hide axes for cleaner display\n",
    "        ipythondisplay.clear_output(wait=True)\n",
    "        ipythondisplay.display(plt.gcf())\n",
    "\n",
    "        if done or truncated:\n",
    "            break\n",
    "\n",
    "ipythondisplay.clear_output(wait=True)\n",
    "env.close()\n",
    "plt.close()"
   ]
  },
  {
   "cell_type": "code",
   "execution_count": 15,
   "metadata": {
    "datalore": {
     "hide_input_from_viewers": false,
     "hide_output_from_viewers": false,
     "node_id": "mKkMu9xmLCG1OFlsaJOICe",
     "report_properties": {
      "rowId": "V7wacTWxbYAT58aOlNyJCA"
     },
     "type": "CODE"
    }
   },
   "outputs": [
    {
     "data": {
      "image/png": "[encoded data removed]",
      "text/plain": [
       "<Figure size 640x480 with 1 Axes>"
      ]
     },
     "metadata": {},
     "output_type": "display_data"
    }
   ],
   "source": [
    "prev_screen = env.render()\n",
    "plt.imshow(prev_screen)\n",
    "\n",
    "policy_dummy = lambda *obs: 1\n",
    "\n",
    "for _ in range(2):\n",
    "    obs = env.reset()\n",
    "    for _ in range(80):\n",
    "        actions = policy_dummy(*obs)\n",
    "        obs, reward, done, truncated, info = env.step(actions)\n",
    "        sleep(0.05)\n",
    "        \n",
    "        screen = env.render()\n",
    "\n",
    "        plt.imshow(screen)\n",
    "        ipythondisplay.clear_output(wait=True)\n",
    "        ipythondisplay.display(plt.gcf())\n",
    "\n",
    "        if done:\n",
    "            break\n",
    "\n",
    "ipythondisplay.clear_output(wait=True)\n",
    "env.close()"
   ]
  },
  {
   "cell_type": "code",
   "execution_count": 18,
   "metadata": {
    "datalore": {
     "hide_input_from_viewers": false,
     "hide_output_from_viewers": false,
     "node_id": "WOru6aGnxHYL72NiJIpV8g",
     "report_properties": {
      "rowId": "i9jLooBPBxml9wsvovKXEN"
     },
     "type": "CODE"
    }
   },
   "outputs": [
    {
     "data": {
      "image/png": "[encoded data removed]",
      "text/plain": [
       "<Figure size 640x480 with 1 Axes>"
      ]
     },
     "metadata": {},
     "output_type": "display_data"
    }
   ],
   "source": [
    "prev_screen = env.render()\n",
    "plt.imshow(prev_screen)\n",
    "\n",
    "\n",
    "for _ in range(1):\n",
    "    obs = env.reset()\n",
    "    for _ in range(80):\n",
    "        encoded = get_array(obs)\n",
    "        encoded_reshaped = torch.from_numpy(encoded.reshape([1, encoded.shape[0]]))\n",
    "        predicted = policy(encoded_reshaped).detach().numpy().flatten()\n",
    "        action = np.argmax(predicted)\n",
    "        obs, reward, done, truncated, info = env.step(action)\n",
    "        sleep(0.05)\n",
    "\n",
    "        screen = env.render()\n",
    "\n",
    "        plt.imshow(screen)\n",
    "        ipythondisplay.clear_output(wait=True)\n",
    "        ipythondisplay.display(plt.gcf())\n",
    "\n",
    "        if done:\n",
    "            break\n",
    "\n",
    "ipythondisplay.clear_output(wait=True)\n",
    "env.close()"
   ]
  },
  {
   "cell_type": "code",
   "execution_count": 22,
   "metadata": {
    "ExecuteTime": {
     "end_time": "2025-02-17T08:59:40.091468Z",
     "start_time": "2025-02-17T08:59:40.087817Z"
    },
    "datalore": {
     "hide_input_from_viewers": false,
     "hide_output_from_viewers": false,
     "node_id": "FMagTOmCtWTptvAxKjrwVn",
     "report_properties": {
      "rowId": "FjUNTDFQ99uQHJ8UNSxwcF"
     },
     "type": "CODE"
    }
   },
   "outputs": [
    {
     "name": "stdout",
     "output_type": "stream",
     "text": [
      "----------------------------------------------------------------\n",
      "        Layer (type)               Output Shape         Param #\n",
      "================================================================\n",
      "            Linear-1                   [-1, 24]             120\n",
      "            Linear-2                   [-1, 12]             300\n",
      "            Linear-3                    [-1, 2]              26\n",
      "================================================================\n",
      "Total params: 446\n",
      "Trainable params: 446\n",
      "Non-trainable params: 0\n",
      "----------------------------------------------------------------\n",
      "Input size (MB): 0.00\n",
      "Forward/backward pass size (MB): 0.00\n",
      "Params size (MB): 0.00\n",
      "Estimated Total Size (MB): 0.00\n",
      "----------------------------------------------------------------\n"
     ]
    }
   ],
   "source": [
    "from torchsummary import summary\n",
    "\n",
    "summary(policy, (4,))"
   ]
  },
  {
   "cell_type": "code",
   "execution_count": null,
   "metadata": {
    "datalore": {
     "hide_input_from_viewers": false,
     "hide_output_from_viewers": false,
     "node_id": "3Df8uKFxnTXckXejNYV8Ir",
     "report_properties": {
      "rowId": "jWugVOfHDMKwGIskSQuRsG"
     },
     "type": "CODE"
    }
   },
   "outputs": [],
   "source": []
  }
 ],
 "metadata": {
  "datalore": {
   "base_environment": "default",
   "computation_mode": "JUPYTER",
   "package_manager": "pip",
   "packages": [],
   "report_row_ids": [
    "Wu7Qso3lo7luGFlOBqQYuP",
    "geyP1ybnADWS3uOZfFvLvu",
    "3ckvpLly6KlY7i7WMik3ub",
    "SBoDkhNEkhleE4btan6ENA",
    "YPiB3SDlxoOPR5DltWsj58",
    "p9FYcsPeynVmhoYK0SgQrT",
    "UHbX9NFYO7l99NXDM9ev5b",
    "r8HKebrmKIf8CaM64EAOUd",
    "kPHTQD9dpEBU0awGpJ7B8c",
    "7uf5Dxph8mHYaLIRzPRIKT",
    "tx1RstJGkFjwvuQhY9y0NG",
    "wjcHlvS4aU81AuE8N7mN8W",
    "mvKjOkppUK2WWS71kbO9Rn",
    "jOTTdoVnjIAIpxVYTJmLJG",
    "3LuVYbu2jSQqCAn8jyxudR",
    "DttKPp6SNtRn9VSplgGChb",
    "ucKdrfpNVthNurYtPPOvMD",
    "wzG2TdN0UR2q6TVB2JEtZb",
    "arJwzCXJJuEthKPUfKGXZQ",
    "Rjg8cJhG7XKE8SGAxR4gpn",
    "nSwPNo1FC9wGPQpsXtoBYS",
    "0eGWmKz1tviVfKWY7xOnLQ",
    "kvjm1cm5F1laEzUvPuc0Bt",
    "pUtdtrXhjEc88kaeJIMLXC",
    "N45l2zjmv5GpoUpVMOLgWu",
    "VoJcVW6UvPVkyGjLTAzG1n",
    "V7wacTWxbYAT58aOlNyJCA",
    "i9jLooBPBxml9wsvovKXEN",
    "FjUNTDFQ99uQHJ8UNSxwcF"
   ],
   "version": 3
  },
  "kernelspec": {
   "display_name": "Python 3 (ipykernel)",
   "language": "python",
   "name": "python3"
  },
  "language_info": {
   "codemirror_mode": {
    "name": "ipython",
    "version": 3
   },
   "file_extension": ".py",
   "mimetype": "text/x-python",
   "name": "python",
   "nbconvert_exporter": "python",
   "pygments_lexer": "ipython3",
   "version": "3.12.6"
  }
 },
 "nbformat": 4,
 "nbformat_minor": 4
}
