{
 "cells": [
  {
   "attachments": {},
   "cell_type": "markdown",
   "metadata": {
    "datalore": {
     "hide_input_from_viewers": false,
     "hide_output_from_viewers": false,
     "node_id": "h6GZbSte6pmwE7v9Z6eZdU",
     "report_properties": {
      "rowId": "Wu7Qso3lo7luGFlOBqQYuP"
     },
     "type": "MD"
    }
   },
   "source": [
    "<center><img src=\"./images/nup_logo_dark.jpeg\" width=300 style=\"display: inline-block;\"></center> \n",
    "\n",
    "## Advanced Machine Learning\n",
    "### Reinforcement learning intro, practice\n",
    "\n",
    "<br />\n",
    "<br />\n",
    "February 18, 2025"
   ]
  },
  {
   "attachments": {},
   "cell_type": "markdown",
   "metadata": {
    "datalore": {
     "hide_input_from_viewers": false,
     "hide_output_from_viewers": false,
     "node_id": "RoJNRU9vZ8upTLjecRCcK2",
     "report_properties": {
      "rowId": "geyP1ybnADWS3uOZfFvLvu"
     },
     "type": "MD"
    }
   },
   "source": [
    "[![Open In Collab](https://colab.research.google.com/assets/colab-badge.svg)](https://colab.research.google.com/drive/1igPnv-YJprmpiw8HaJZK_QVJ-L85o4uK?usp=sharing)"
   ]
  },
  {
   "attachments": {},
   "cell_type": "markdown",
   "metadata": {
    "datalore": {
     "hide_input_from_viewers": false,
     "hide_output_from_viewers": false,
     "node_id": "GqAuCl9EynP4k2m9GZeHnQ",
     "report_properties": {
      "rowId": "3ckvpLly6KlY7i7WMik3ub"
     },
     "type": "MD"
    }
   },
   "source": [
    "## Import libraries"
   ]
  },
  {
   "cell_type": "code",
   "metadata": {
    "datalore": {
     "hide_input_from_viewers": false,
     "hide_output_from_viewers": false,
     "node_id": "mIGio9VjD5WlP1hELSPGc0",
     "report_properties": {
      "rowId": "SBoDkhNEkhleE4btan6ENA"
     },
     "type": "CODE"
    },
    "ExecuteTime": {
     "end_time": "2025-02-18T09:30:47.789854Z",
     "start_time": "2025-02-18T09:30:47.787597Z"
    }
   },
   "source": [
    "import numpy as np\n",
    "import pandas as pd\n",
    "\n",
    "import matplotlib.pyplot as plt"
   ],
   "outputs": [],
   "execution_count": 2
  },
  {
   "attachments": {},
   "cell_type": "markdown",
   "metadata": {
    "datalore": {
     "hide_input_from_viewers": false,
     "hide_output_from_viewers": false,
     "node_id": "nDN61PWyt5qpyO3bPIhGn5",
     "report_properties": {
      "rowId": "YPiB3SDlxoOPR5DltWsj58"
     },
     "type": "MD"
    }
   },
   "source": [
    "### RiverSwim Problem"
   ]
  },
  {
   "attachments": {},
   "cell_type": "markdown",
   "metadata": {
    "datalore": {
     "hide_input_from_viewers": false,
     "hide_output_from_viewers": false,
     "node_id": "pqX21FThOTK3V1m2lVmeVV",
     "report_properties": {
      "rowId": "p9FYcsPeynVmhoYK0SgQrT"
     },
     "type": "MD"
    }
   },
   "source": [
    "\n",
    "![river_swim_problem](images/river_swim_problem.jpg)"
   ]
  },
  {
   "attachments": {},
   "cell_type": "markdown",
   "metadata": {
    "datalore": {
     "hide_input_from_viewers": false,
     "hide_output_from_viewers": false,
     "node_id": "MUKxO61gLvfLDapZnNQNum",
     "report_properties": {
      "rowId": "UHbX9NFYO7l99NXDM9ev5b"
     },
     "type": "MD"
    }
   },
   "source": [
    "[https://arxiv.org/pdf/1306.0940.pdf](https://arxiv.org/pdf/1306.0940.pdf)\n",
    "\n",
    "Problem based on Markov processes. There are only two actions — to try to swim against the current or not to try."
   ]
  },
  {
   "cell_type": "code",
   "metadata": {
    "datalore": {
     "hide_input_from_viewers": false,
     "hide_output_from_viewers": false,
     "node_id": "e4xZUtdLqYKiMQMOCT5e9h",
     "report_properties": {
      "rowId": "r8HKebrmKIf8CaM64EAOUd"
     },
     "type": "CODE"
    },
    "ExecuteTime": {
     "end_time": "2025-02-18T09:30:49.958Z",
     "start_time": "2025-02-18T09:30:49.953047Z"
    }
   },
   "source": [
    "class RiverSwim:\n",
    "    def __init__(self, \n",
    "                 isc = 4, # intermediate states count — number of states excluding first and last\n",
    "                 max_steps = 16, # the maximum number of steps we take in one episode\n",
    "                 lr   = 5/1000, # left reward \n",
    "                 rr   = 1.0, # right reward\n",
    "                 seed = 42):\n",
    "        self.rs = np.random.RandomState(seed)\n",
    "        self._max_steps = max_steps\n",
    "        self._interm_states = isc\n",
    "\n",
    "        self._steps = 0\n",
    "        self._current_state = 1\n",
    "\n",
    "        self.lr = lr\n",
    "        self.rr = rr\n",
    "        \n",
    "    @property\n",
    "    def action_count(self):\n",
    "        return 2\n",
    "    \n",
    "    @property\n",
    "    def states_count(self):\n",
    "        return 2 + self._interm_states\n",
    "    \n",
    "    def _get_probs(self, action):\n",
    "        if action == 0:\n",
    "            if self._current_state == 0:\n",
    "                return [0.00, 1.00, 0.00]\n",
    "            else:\n",
    "                return [1.00, 0.00, 0.00]\n",
    "            \n",
    "        elif action == 1:\n",
    "            if self._current_state == 0:\n",
    "                return [0.00, 0.40, 0.60]\n",
    "            if self._current_state == self.states_count - 1:\n",
    "                return [0.40, 0.60, 0.00]\n",
    "            else:\n",
    "                return [0.05, 0.60, 0.35]\n",
    "\n",
    "    def step(self, action):\n",
    "        reward = 0.0\n",
    "        if self._steps >= self._max_steps:\n",
    "            return self._current_state, reward, True\n",
    "        \n",
    "        transition = self.rs.choice(range(3), p=self._get_probs(action))\n",
    "        if transition == 0:\n",
    "            self._current_state -= 1\n",
    "        elif transition == 1:\n",
    "            pass\n",
    "        else:\n",
    "            self._current_state += 1\n",
    "\n",
    "        if self._current_state == 0:\n",
    "            reward = self.lr\n",
    "        elif self._current_state == self.states_count - 1:\n",
    "            reward = self.rr\n",
    "        \n",
    "        self._steps += 1\n",
    "        return self._current_state, reward, False"
   ],
   "outputs": [],
   "execution_count": 3
  },
  {
   "cell_type": "code",
   "metadata": {
    "datalore": {
     "hide_input_from_viewers": false,
     "hide_output_from_viewers": false,
     "node_id": "cZ0ldEJeYAoLf5sqN0DL55",
     "report_properties": {
      "rowId": "kPHTQD9dpEBU0awGpJ7B8c"
     },
     "type": "CODE"
    },
    "ExecuteTime": {
     "end_time": "2025-02-18T09:38:09.515382Z",
     "start_time": "2025-02-18T09:38:09.512015Z"
    }
   },
   "source": [
    "class QLearningAgent:\n",
    "    # n states, K actions\n",
    "    def __init__(self, n, K, lr=0.2, gamma=0.95, epsilon=0.4, seed=42):\n",
    "        self.rs = np.random.RandomState(seed)\n",
    "        self._gamma = gamma\n",
    "        self._epsilon = epsilon\n",
    "        self._q_matrix = np.zeros((n, K))\n",
    "        self._lr = lr\n",
    "\n",
    "    def get_action(self, state):\n",
    "        if self.rs.random() < self._epsilon:\n",
    "            return self.rs.randint(0, self._q_matrix.shape[1])\n",
    "        else:\n",
    "            return np.argmax(self._q_matrix[state])\n",
    "    \n",
    "    def get_q_matrix(self):\n",
    "        return self._q_matrix\n",
    "        \n",
    "    def start_episode(self):\n",
    "        pass\n",
    "\n",
    "    def update(self, state, action, reward, next_state):\n",
    "        self._q_matrix[state, action] = (1 - self._lr) * self._q_matrix[state, action] + self._lr*(reward + self._gamma*np.max(self._q_matrix[next_state]))\n",
    "        return"
   ],
   "outputs": [],
   "execution_count": 10
  },
  {
   "cell_type": "code",
   "metadata": {
    "datalore": {
     "hide_input_from_viewers": false,
     "hide_output_from_viewers": false,
     "node_id": "V4d2Ur0lIoYvL2IyhbCnno",
     "report_properties": {
      "rowId": "7uf5Dxph8mHYaLIRzPRIKT"
     },
     "type": "CODE"
    },
    "ExecuteTime": {
     "end_time": "2025-02-18T09:38:16.138012Z",
     "start_time": "2025-02-18T09:38:11.659317Z"
    }
   },
   "source": [
    "n = 4\n",
    "ms = 1024\n",
    "episodes = 500\n",
    "actions = 2\n",
    "\n",
    "agent = QLearningAgent(2+n, actions)\n",
    "\n",
    "episode_rewards = []\n",
    "for ep in range(episodes):\n",
    "    river_swim = RiverSwim(n, ms)\n",
    "\n",
    "    state, ep_reward, is_done = river_swim._current_state, 0.0, False\n",
    "    agent.start_episode()\n",
    "    while not is_done:\n",
    "        action = agent.get_action(state)\n",
    "        next_state, reward, is_done = river_swim.step(action)\n",
    "        agent.update(state, action, reward, next_state)\n",
    "        \n",
    "        state = next_state\n",
    "        ep_reward += reward\n",
    "        \n",
    "    episode_rewards.append(ep_reward)\n",
    "\n",
    "\n",
    "plt.figure(figsize=(15, 8))\n",
    "\n",
    "plt.plot(pd.DataFrame(np.array(episode_rewards)).ewm(alpha=.1).mean())\n",
    "plt.xlabel(\"Episode count\")\n",
    "plt.ylabel(\"Reward\")\n",
    "plt.show()"
   ],
   "outputs": [
    {
     "data": {
      "text/plain": [
       "<Figure size 1500x800 with 1 Axes>"
      ],
      "image/png": "[encoded data removed]"
     },
     "metadata": {},
     "output_type": "display_data"
    }
   ],
   "execution_count": 11
  },
  {
   "cell_type": "code",
   "metadata": {
    "datalore": {
     "hide_input_from_viewers": false,
     "hide_output_from_viewers": false,
     "node_id": "NLNRJHXOhMwgDCXTUX1WI7",
     "report_properties": {
      "rowId": "tx1RstJGkFjwvuQhY9y0NG"
     },
     "type": "CODE"
    },
    "ExecuteTime": {
     "end_time": "2025-02-18T09:38:38.318158Z",
     "start_time": "2025-02-18T09:38:38.264375Z"
    }
   },
   "source": [
    "fig = plt.figure(figsize=(15, 8))\n",
    "ax = fig.add_subplot(111)\n",
    "ax.matshow(agent.get_q_matrix().T)\n",
    "ax.set_yticks([0, 1])\n",
    "ax.set_yticklabels(['no act', 'swim'])\n",
    "plt.xlabel(\"State\")\n",
    "plt.ylabel(\"Action\")\n",
    "plt.title(\"Values of state-action pairs\")\n",
    "plt.show()"
   ],
   "outputs": [
    {
     "data": {
      "text/plain": [
       "<Figure size 1500x800 with 1 Axes>"
      ],
      "image/png": "[encoded data removed]"
     },
     "metadata": {},
     "output_type": "display_data"
    }
   ],
   "execution_count": 12
  },
  {
   "attachments": {},
   "cell_type": "markdown",
   "metadata": {
    "datalore": {
     "hide_input_from_viewers": false,
     "hide_output_from_viewers": false,
     "node_id": "R3jyTdbidw35Dox77Mex6V",
     "report_properties": {
      "rowId": "wjcHlvS4aU81AuE8N7mN8W"
     },
     "type": "MD"
    }
   },
   "source": [
    "## A Minimal Deep Q-Network\n",
    "\n",
    "We'll consider how to code a minimal Deep Q-Network to solve the CartPole environment."
   ]
  },
  {
   "attachments": {},
   "cell_type": "markdown",
   "metadata": {
    "datalore": {
     "hide_input_from_viewers": false,
     "hide_output_from_viewers": false,
     "node_id": "2KV2tSsTFGORVONDzDogZt",
     "report_properties": {
      "rowId": "mvKjOkppUK2WWS71kbO9Rn"
     },
     "type": "MD"
    }
   },
   "source": [
    "### Step 1. Import libraries and setup the environment"
   ]
  },
  {
   "cell_type": "code",
   "metadata": {
    "datalore": {
     "hide_input_from_viewers": false,
     "hide_output_from_viewers": false,
     "node_id": "aoudKJH47GDvUU6HPelqP5",
     "report_properties": {
      "rowId": "jOTTdoVnjIAIpxVYTJmLJG"
     },
     "type": "CODE"
    },
    "ExecuteTime": {
     "end_time": "2025-02-18T09:39:38.473174Z",
     "start_time": "2025-02-18T09:39:36.984709Z"
    }
   },
   "source": [
    "!pip install gymnasium"
   ],
   "outputs": [
    {
     "name": "stdout",
     "output_type": "stream",
     "text": [
      "Requirement already satisfied: gymnasium in /Users/Aleksandr.Avdiushenko/IdeaProjects/avalur.github.io/.venv/lib/python3.12/site-packages (1.0.0)\r\n",
      "Requirement already satisfied: numpy>=1.21.0 in /Users/Aleksandr.Avdiushenko/IdeaProjects/avalur.github.io/.venv/lib/python3.12/site-packages (from gymnasium) (1.26.4)\r\n",
      "Requirement already satisfied: cloudpickle>=1.2.0 in /Users/Aleksandr.Avdiushenko/IdeaProjects/avalur.github.io/.venv/lib/python3.12/site-packages (from gymnasium) (3.1.1)\r\n",
      "Requirement already satisfied: typing-extensions>=4.3.0 in /Users/Aleksandr.Avdiushenko/IdeaProjects/avalur.github.io/.venv/lib/python3.12/site-packages (from gymnasium) (4.12.2)\r\n",
      "Requirement already satisfied: farama-notifications>=0.0.1 in /Users/Aleksandr.Avdiushenko/IdeaProjects/avalur.github.io/.venv/lib/python3.12/site-packages (from gymnasium) (0.0.4)\r\n",
      "\r\n",
      "\u001B[1m[\u001B[0m\u001B[34;49mnotice\u001B[0m\u001B[1;39;49m]\u001B[0m\u001B[39;49m A new release of pip is available: \u001B[0m\u001B[31;49m23.2.1\u001B[0m\u001B[39;49m -> \u001B[0m\u001B[32;49m25.0.1\u001B[0m\r\n",
      "\u001B[1m[\u001B[0m\u001B[34;49mnotice\u001B[0m\u001B[1;39;49m]\u001B[0m\u001B[39;49m To update, run: \u001B[0m\u001B[32;49mpip install --upgrade pip\u001B[0m\r\n"
     ]
    }
   ],
   "execution_count": 13
  },
  {
   "cell_type": "code",
   "metadata": {
    "datalore": {
     "hide_input_from_viewers": false,
     "hide_output_from_viewers": false,
     "node_id": "rFhLm9oOGwxwfYMQ7UeDCp",
     "report_properties": {
      "rowId": "3LuVYbu2jSQqCAn8jyxudR"
     },
     "type": "CODE"
    },
    "ExecuteTime": {
     "end_time": "2025-02-18T09:39:56.037153Z",
     "start_time": "2025-02-18T09:39:55.279293Z"
    }
   },
   "source": [
    "import torch\n",
    "import torch.nn as nn\n",
    "import torch.nn.functional as F\n",
    "\n",
    "import gymnasium as gym\n",
    "import numpy as np\n",
    "\n",
    "from collections import deque\n",
    "import random"
   ],
   "outputs": [],
   "execution_count": 14
  },
  {
   "cell_type": "code",
   "metadata": {
    "datalore": {
     "hide_input_from_viewers": false,
     "hide_output_from_viewers": false,
     "node_id": "e0mhp48ATqpqZsDENBSSHP",
     "report_properties": {
      "rowId": "DttKPp6SNtRn9VSplgGChb"
     },
     "type": "CODE"
    },
    "ExecuteTime": {
     "end_time": "2025-02-18T09:40:18.639956Z",
     "start_time": "2025-02-18T09:40:18.633203Z"
    }
   },
   "source": [
    "RANDOM_SEED = 5\n",
    "\n",
    "env = gym.make('CartPole-v1', render_mode='rgb_array')\n",
    "np.random.seed(RANDOM_SEED)\n",
    "\n",
    "print(\"Action Space: {}\".format(env.action_space))\n",
    "print(\"State space: {}\".format(env.observation_space))"
   ],
   "outputs": [
    {
     "name": "stdout",
     "output_type": "stream",
     "text": [
      "Action Space: Discrete(2)\n",
      "State space: Box([-4.8               -inf -0.41887903        -inf], [4.8               inf 0.41887903        inf], (4,), float32)\n"
     ]
    }
   ],
   "execution_count": 15
  },
  {
   "metadata": {},
   "cell_type": "markdown",
   "source": [
    "The state (observation) space consists of 4 continuous variables:\n",
    "1. Cart Position (x):\n",
    "    - Represents the horizontal position of the cart on the track\n",
    "    - Range: [-4.8, 4.8] meters\n",
    "\n",
    "2. Cart Velocity (ẋ):\n",
    "    - Represents the velocity of the cart\n",
    "    - Range: [-∞, ∞]\n",
    "\n",
    "3. Pole Angle (θ):\n",
    "    - Represents the angle of the pole with respect to the vertical\n",
    "    - Range: [-0.418 rad (-24°), 0.418 rad (24°)]\n",
    "\n",
    "4. Pole Angular Velocity (θ̇):\n",
    "    - Represents the rate of change of the pole angle\n",
    "    - Range: [-∞, ∞]\n"
   ]
  },
  {
   "attachments": {},
   "cell_type": "markdown",
   "metadata": {
    "datalore": {
     "hide_input_from_viewers": false,
     "hide_output_from_viewers": false,
     "node_id": "GDCLAL7e6uz1ac9bCUiH5n",
     "report_properties": {
      "rowId": "wzG2TdN0UR2q6TVB2JEtZb"
     },
     "type": "MD"
    }
   },
   "source": [
    "### Step 2. Define the network architecture"
   ]
  },
  {
   "cell_type": "code",
   "metadata": {
    "datalore": {
     "hide_input_from_viewers": false,
     "hide_output_from_viewers": false,
     "node_id": "ZRLOqX2JLhx6ZnhjgmTYp9",
     "report_properties": {
      "rowId": "arJwzCXJJuEthKPUfKGXZQ"
     },
     "type": "CODE"
    },
    "ExecuteTime": {
     "end_time": "2025-02-18T09:56:41.009706Z",
     "start_time": "2025-02-18T09:56:41.005517Z"
    }
   },
   "source": [
    "# An episode a full game\n",
    "train_episodes = 150\n",
    "\n",
    "class DQNAgent(nn.Module):\n",
    "    \"\"\" The agent maps X-states to Y-actions\n",
    "    e.g. if the neural network output is [.1, .7, .05, 0.05, .05, .05]\n",
    "    than the highest value 0.7 is the Q-Value.\n",
    "    The index of the highest action (0.7) is action #1.\n",
    "    \"\"\"\n",
    "    def __init__(self, state_shape, action_shape):\n",
    "        super(DQNAgent, self).__init__()\n",
    "        self.fc1 = nn.Linear(state_shape, 24)\n",
    "        self.fc2 = nn.Linear(24, 12)\n",
    "        self.fc3 = nn.Linear(12, action_shape)\n",
    "\n",
    "    def forward(self, x):\n",
    "        x = F.relu(self.fc1(x))\n",
    "        x = F.relu(self.fc2(x))\n",
    "        x = self.fc3(x)  # No activation as in your keras model\n",
    "        return x\n",
    "\n",
    "# Define a function to get Q-values\n",
    "def get_qs(model, state):\n",
    "    state = torch.tensor(state, dtype=torch.float32)  # Convert to PyTorch tensor\n",
    "    state = state.unsqueeze(0)  # Reshape\n",
    "    return model(state).detach().numpy()[0]  # Compute Q-values and convert to numpy array\n",
    "\n",
    "\n",
    "def train_nn(model, X, Y, batch_size=64, shuffle=True):\n",
    "    # Use GPU if available\n",
    "    device = torch.device(\"cuda\" if torch.cuda.is_available() else \"cpu\")\n",
    "    model = model.to(device)\n",
    "\n",
    "    # Set the model in training mode\n",
    "    model.train()\n",
    "\n",
    "    # Define an optimizer and a loss function\n",
    "    optimizer = torch.optim.Adam(model.parameters(), lr=0.001)\n",
    "    loss_fn = nn.SmoothL1Loss()  # Huber Loss\n",
    "\n",
    "    # Convert the data to PyTorch tensors\n",
    "    X_tensor = torch.tensor(X, dtype=torch.float32).to(device)\n",
    "    Y_tensor = torch.tensor(Y, dtype=torch.float32).to(device)\n",
    "\n",
    "    # Create a data loader\n",
    "    dataset = torch.utils.data.TensorDataset(X_tensor, Y_tensor)\n",
    "    data_loader = torch.utils.data.DataLoader(dataset, batch_size=batch_size, shuffle=shuffle)\n",
    "\n",
    "    epoch = 0\n",
    "    for batch_x, batch_y in data_loader:\n",
    "        optimizer.zero_grad()\n",
    "        output = model(batch_x)\n",
    "        loss = loss_fn(output, batch_y)\n",
    "        loss.backward()\n",
    "        optimizer.step()\n",
    "\n",
    "    # Print loss for this epoch\n",
    "    print(f\"Epoch {epoch + 1}, Loss: {loss.item()}\")\n",
    "\n",
    "    return model"
   ],
   "outputs": [],
   "execution_count": 22
  },
  {
   "attachments": {},
   "cell_type": "markdown",
   "metadata": {
    "datalore": {
     "hide_input_from_viewers": false,
     "hide_output_from_viewers": false,
     "node_id": "wGcVmmyEP6wHSqQ4wKPFjR",
     "report_properties": {
      "rowId": "Rjg8cJhG7XKE8SGAxR4gpn"
     },
     "type": "MD"
    }
   },
   "source": [
    "### Step 3. Define the train function using Experience Replay"
   ]
  },
  {
   "cell_type": "code",
   "metadata": {
    "datalore": {
     "hide_input_from_viewers": false,
     "hide_output_from_viewers": false,
     "node_id": "TGvEu58Bq0BOrHLuJOAliI",
     "report_properties": {
      "rowId": "nSwPNo1FC9wGPQpsXtoBYS"
     },
     "type": "CODE"
    },
    "ExecuteTime": {
     "end_time": "2025-02-18T09:56:42.678900Z",
     "start_time": "2025-02-18T09:56:42.674075Z"
    }
   },
   "source": [
    "def get_array(obs):\n",
    "    return obs[0] if type(obs) is tuple else obs\n",
    "\n",
    "\n",
    "def train(env, replay_memory, model, target_model, done):\n",
    "    learning_rate = 0.7\n",
    "    discount_factor = 0.618\n",
    "\n",
    "    MIN_REPLAY_SIZE = 1000\n",
    "    if len(replay_memory) < MIN_REPLAY_SIZE:\n",
    "        return\n",
    "\n",
    "    batch_size = 64 * 2\n",
    "    # replay_memory is list of [observation, action, reward, new_observation, done])\n",
    "    mini_batch = random.sample(replay_memory, batch_size)\n",
    "\n",
    "    current_states = np.array([get_array(transition[0]) for transition in mini_batch], dtype='float32')\n",
    "    current_qs_list = model(torch.tensor(current_states))\n",
    "    new_current_states = np.array([get_array(transition[3]) for transition in mini_batch], dtype='float32')\n",
    "    future_qs_list = target_model(torch.tensor(new_current_states))\n",
    "\n",
    "    X = []\n",
    "    Y = []\n",
    "    for index, (observation, action, reward, new_observation, done) in enumerate(mini_batch):\n",
    "        if not done:\n",
    "            max_future_q = reward + discount_factor * np.max(future_qs_list[index].detach().numpy())\n",
    "        else:\n",
    "            max_future_q = reward\n",
    "\n",
    "        current_qs = current_qs_list[index].detach().numpy()\n",
    "        current_qs[action] = (1 - learning_rate) * current_qs[action] + learning_rate * max_future_q\n",
    "\n",
    "        X.append(get_array(observation))\n",
    "        Y.append(current_qs)\n",
    "    model = train_nn(model, np.array(X, dtype='float32'), np.array(Y, dtype='float32'),\n",
    "                     batch_size=batch_size, shuffle=True)\n"
   ],
   "outputs": [],
   "execution_count": 23
  },
  {
   "attachments": {},
   "cell_type": "markdown",
   "metadata": {
    "datalore": {
     "hide_input_from_viewers": false,
     "hide_output_from_viewers": false,
     "node_id": "90eZMuew1SmeQfLJpBJlka",
     "report_properties": {
      "rowId": "0eGWmKz1tviVfKWY7xOnLQ"
     },
     "type": "MD"
    }
   },
   "source": [
    "### Step 4. Run the Deep Q-Network Algorithm"
   ]
  },
  {
   "cell_type": "code",
   "metadata": {
    "datalore": {
     "hide_input_from_viewers": false,
     "hide_output_from_viewers": false,
     "node_id": "zn1c6v3wTKWVJlshre6MG4",
     "report_properties": {
      "rowId": "kvjm1cm5F1laEzUvPuc0Bt"
     },
     "type": "CODE"
    },
    "ExecuteTime": {
     "end_time": "2025-02-18T09:56:44.774841Z",
     "start_time": "2025-02-18T09:56:44.769709Z"
    }
   },
   "source": [
    "def main():\n",
    "    epsilon = 1 # Epsilon-greedy algorithm in initialized at 1 meaning every step is random at the start\n",
    "    max_epsilon = 1 # You can't explore more than 100% of the time\n",
    "    min_epsilon = 0.01 # At a minimum, we'll always explore 1% of the time\n",
    "    decay = 0.01\n",
    "\n",
    "    # 1. Initialize the Target and Main models\n",
    "    # Main Model (updated every 4 steps)\n",
    "    model = DQNAgent(env.observation_space.shape[0], env.action_space.n)\n",
    "    # Target Model (updated every 100 steps)\n",
    "    target_model = DQNAgent(env.observation_space.shape[0], env.action_space.n)\n",
    "    target_model.load_state_dict(model.state_dict())\n",
    "\n",
    "    replay_memory = deque(maxlen=50_000)\n",
    "\n",
    "    target_update_counter = 0\n",
    "\n",
    "    # X = states, y = actions\n",
    "    X = []\n",
    "    y = []\n",
    "\n",
    "    steps_to_update_target_model = 0\n",
    "\n",
    "    for episode in range(train_episodes):\n",
    "        total_training_rewards = 0\n",
    "        observation = env.reset()\n",
    "        done = False\n",
    "        while not done:\n",
    "            steps_to_update_target_model += 1\n",
    "            #if True:\n",
    "            #    env.render()\n",
    "\n",
    "            random_number = np.random.rand()\n",
    "            # 2. Explore using the Epsilon Greedy Exploration Strategy\n",
    "            if random_number <= epsilon:\n",
    "                # Explore\n",
    "                action = env.action_space.sample()\n",
    "            else:\n",
    "                # Exploit best known action\n",
    "                # model dims are (batch, env.observation_space.n)\n",
    "                encoded = get_array(observation)\n",
    "                encoded_reshaped = torch.from_numpy(encoded.reshape([1, encoded.shape[0]]))\n",
    "                predicted = model(encoded_reshaped).detach().numpy().flatten()\n",
    "                action = np.argmax(predicted)\n",
    "            new_observation, reward, done, info, _ = env.step(action)\n",
    "            replay_memory.append([observation, action, reward, new_observation, done])\n",
    "\n",
    "            # 3. Update the Main Network using the Bellman Equation\n",
    "            if steps_to_update_target_model % 4 == 0 or done:\n",
    "                train(env, replay_memory, model, target_model, done)\n",
    "\n",
    "            observation = new_observation\n",
    "            total_training_rewards += reward\n",
    "\n",
    "            if done:\n",
    "                print('Total training rewards: {} after n steps = {} with final reward = {}'.format(total_training_rewards, episode, reward))\n",
    "                total_training_rewards += 1\n",
    "\n",
    "                if steps_to_update_target_model >= 100:\n",
    "                    print('Copying main network weights to the target network weights')\n",
    "                    target_model.load_state_dict(model.state_dict())\n",
    "                    steps_to_update_target_model = 0\n",
    "                break\n",
    "\n",
    "        epsilon = min_epsilon + (max_epsilon - min_epsilon) * np.exp(-decay * episode)\n",
    "    env.close()\n",
    "    return model\n"
   ],
   "outputs": [],
   "execution_count": 24
  },
  {
   "cell_type": "code",
   "metadata": {
    "datalore": {
     "hide_input_from_viewers": false,
     "hide_output_from_viewers": false,
     "node_id": "lBHJB79HZfVXvrHXucZEhS",
     "report_properties": {
      "rowId": "pUtdtrXhjEc88kaeJIMLXC"
     },
     "type": "CODE"
    },
    "ExecuteTime": {
     "end_time": "2025-02-18T09:56:47.143270Z",
     "start_time": "2025-02-18T09:56:45.818424Z"
    }
   },
   "source": [
    "policy = main()"
   ],
   "outputs": [
    {
     "name": "stdout",
     "output_type": "stream",
     "text": [
      "Total training rewards: 16.0 after n steps = 0 with final reward = 1.0\n",
      "Total training rewards: 31.0 after n steps = 1 with final reward = 1.0\n",
      "Total training rewards: 25.0 after n steps = 2 with final reward = 1.0\n",
      "Total training rewards: 40.0 after n steps = 3 with final reward = 1.0\n",
      "Copying main network weights to the target network weights\n",
      "Total training rewards: 16.0 after n steps = 4 with final reward = 1.0\n",
      "Total training rewards: 15.0 after n steps = 5 with final reward = 1.0\n",
      "Total training rewards: 10.0 after n steps = 6 with final reward = 1.0\n",
      "Total training rewards: 30.0 after n steps = 7 with final reward = 1.0\n",
      "Total training rewards: 13.0 after n steps = 8 with final reward = 1.0\n",
      "Total training rewards: 15.0 after n steps = 9 with final reward = 1.0\n",
      "Total training rewards: 19.0 after n steps = 10 with final reward = 1.0\n",
      "Copying main network weights to the target network weights\n",
      "Total training rewards: 51.0 after n steps = 11 with final reward = 1.0\n",
      "Total training rewards: 17.0 after n steps = 12 with final reward = 1.0\n",
      "Total training rewards: 18.0 after n steps = 13 with final reward = 1.0\n",
      "Total training rewards: 29.0 after n steps = 14 with final reward = 1.0\n",
      "Copying main network weights to the target network weights\n",
      "Total training rewards: 55.0 after n steps = 15 with final reward = 1.0\n",
      "Total training rewards: 10.0 after n steps = 16 with final reward = 1.0\n",
      "Total training rewards: 9.0 after n steps = 17 with final reward = 1.0\n",
      "Total training rewards: 24.0 after n steps = 18 with final reward = 1.0\n",
      "Total training rewards: 18.0 after n steps = 19 with final reward = 1.0\n",
      "Copying main network weights to the target network weights\n",
      "Total training rewards: 22.0 after n steps = 20 with final reward = 1.0\n",
      "Total training rewards: 19.0 after n steps = 21 with final reward = 1.0\n",
      "Total training rewards: 19.0 after n steps = 22 with final reward = 1.0\n",
      "Total training rewards: 28.0 after n steps = 23 with final reward = 1.0\n",
      "Total training rewards: 13.0 after n steps = 24 with final reward = 1.0\n",
      "Copying main network weights to the target network weights\n",
      "Total training rewards: 22.0 after n steps = 25 with final reward = 1.0\n",
      "Total training rewards: 14.0 after n steps = 26 with final reward = 1.0\n",
      "Total training rewards: 30.0 after n steps = 27 with final reward = 1.0\n",
      "Total training rewards: 21.0 after n steps = 28 with final reward = 1.0\n",
      "Total training rewards: 17.0 after n steps = 29 with final reward = 1.0\n",
      "Copying main network weights to the target network weights\n",
      "Total training rewards: 23.0 after n steps = 30 with final reward = 1.0\n",
      "Total training rewards: 18.0 after n steps = 31 with final reward = 1.0\n",
      "Total training rewards: 35.0 after n steps = 32 with final reward = 1.0\n",
      "Total training rewards: 30.0 after n steps = 33 with final reward = 1.0\n",
      "Copying main network weights to the target network weights\n",
      "Total training rewards: 18.0 after n steps = 34 with final reward = 1.0\n",
      "Total training rewards: 13.0 after n steps = 35 with final reward = 1.0\n",
      "Total training rewards: 20.0 after n steps = 36 with final reward = 1.0\n",
      "Total training rewards: 13.0 after n steps = 37 with final reward = 1.0\n",
      "Total training rewards: 17.0 after n steps = 38 with final reward = 1.0\n",
      "Total training rewards: 12.0 after n steps = 39 with final reward = 1.0\n",
      "Total training rewards: 37.0 after n steps = 40 with final reward = 1.0\n",
      "Copying main network weights to the target network weights\n",
      "Total training rewards: 15.0 after n steps = 41 with final reward = 1.0\n",
      "Total training rewards: 11.0 after n steps = 42 with final reward = 1.0\n",
      "Total training rewards: 15.0 after n steps = 43 with final reward = 1.0\n",
      "Epoch 1, Loss: 0.13886961340904236\n",
      "Total training rewards: 57.0 after n steps = 44 with final reward = 1.0\n",
      "Epoch 1, Loss: 0.13665790855884552\n",
      "Epoch 1, Loss: 0.13537921011447906\n",
      "Epoch 1, Loss: 0.13262386620044708\n",
      "Epoch 1, Loss: 0.13208378851413727\n",
      "Epoch 1, Loss: 0.12988196313381195\n",
      "Total training rewards: 18.0 after n steps = 45 with final reward = 1.0\n",
      "Copying main network weights to the target network weights\n",
      "Epoch 1, Loss: 0.1340172290802002\n",
      "Epoch 1, Loss: 0.12908071279525757\n",
      "Epoch 1, Loss: 0.12734194099903107\n",
      "Epoch 1, Loss: 0.1241290271282196\n",
      "Epoch 1, Loss: 0.12346788495779037\n",
      "Total training rewards: 20.0 after n steps = 46 with final reward = 1.0\n",
      "Epoch 1, Loss: 0.12054288387298584\n",
      "Epoch 1, Loss: 0.11826534569263458\n",
      "Epoch 1, Loss: 0.1163499727845192\n",
      "Epoch 1, Loss: 0.11386823654174805\n",
      "Total training rewards: 13.0 after n steps = 47 with final reward = 1.0\n",
      "Epoch 1, Loss: 0.11072470992803574\n",
      "Epoch 1, Loss: 0.10951490700244904\n",
      "Epoch 1, Loss: 0.11107858270406723\n",
      "Total training rewards: 11.0 after n steps = 48 with final reward = 1.0\n",
      "Epoch 1, Loss: 0.10523216426372528\n",
      "Epoch 1, Loss: 0.10279421508312225\n",
      "Total training rewards: 8.0 after n steps = 49 with final reward = 1.0\n",
      "Epoch 1, Loss: 0.10312417149543762\n",
      "Epoch 1, Loss: 0.10218703001737595\n",
      "Epoch 1, Loss: 0.1017264872789383\n",
      "Epoch 1, Loss: 0.09556367993354797\n",
      "Epoch 1, Loss: 0.09667204320430756\n",
      "Epoch 1, Loss: 0.0925866961479187\n",
      "Epoch 1, Loss: 0.09297071397304535\n",
      "Total training rewards: 26.0 after n steps = 50 with final reward = 1.0\n",
      "Epoch 1, Loss: 0.08842781186103821\n",
      "Epoch 1, Loss: 0.09001041203737259\n",
      "Epoch 1, Loss: 0.0887397974729538\n",
      "Epoch 1, Loss: 0.0832214429974556\n",
      "Total training rewards: 12.0 after n steps = 51 with final reward = 1.0\n",
      "Epoch 1, Loss: 0.08397495746612549\n",
      "Epoch 1, Loss: 0.0797308161854744\n",
      "Epoch 1, Loss: 0.07724575698375702\n",
      "Epoch 1, Loss: 0.07900311052799225\n",
      "Epoch 1, Loss: 0.0750616192817688\n",
      "Epoch 1, Loss: 0.07425987720489502\n",
      "Total training rewards: 19.0 after n steps = 52 with final reward = 1.0\n",
      "Copying main network weights to the target network weights\n",
      "Epoch 1, Loss: 0.1083744466304779\n",
      "Epoch 1, Loss: 0.10397982597351074\n",
      "Epoch 1, Loss: 0.09940539300441742\n",
      "Total training rewards: 9.0 after n steps = 53 with final reward = 1.0\n",
      "Epoch 1, Loss: 0.09791769832372665\n",
      "Epoch 1, Loss: 0.10140138864517212\n",
      "Epoch 1, Loss: 0.09363584965467453\n",
      "Epoch 1, Loss: 0.09070440381765366\n",
      "Epoch 1, Loss: 0.09137602150440216\n",
      "Epoch 1, Loss: 0.08700999617576599\n",
      "Epoch 1, Loss: 0.0857304111123085\n",
      "Total training rewards: 24.0 after n steps = 54 with final reward = 1.0\n",
      "Epoch 1, Loss: 0.08364109694957733\n",
      "Epoch 1, Loss: 0.08206494152545929\n",
      "Epoch 1, Loss: 0.08104567229747772\n",
      "Epoch 1, Loss: 0.07811060547828674\n",
      "Total training rewards: 13.0 after n steps = 55 with final reward = 1.0\n",
      "Epoch 1, Loss: 0.07452044636011124\n",
      "Epoch 1, Loss: 0.07335066050291061\n",
      "Epoch 1, Loss: 0.07340342551469803\n",
      "Total training rewards: 9.0 after n steps = 56 with final reward = 1.0\n",
      "Epoch 1, Loss: 0.07158436626195908\n",
      "Epoch 1, Loss: 0.06531111150979996\n",
      "Epoch 1, Loss: 0.06435775756835938\n",
      "Epoch 1, Loss: 0.0649438351392746\n",
      "Total training rewards: 11.0 after n steps = 57 with final reward = 1.0\n",
      "Epoch 1, Loss: 0.06350679695606232\n",
      "Epoch 1, Loss: 0.05835164338350296\n",
      "Epoch 1, Loss: 0.058735933154821396\n",
      "Epoch 1, Loss: 0.05695550888776779\n",
      "Total training rewards: 14.0 after n steps = 58 with final reward = 1.0\n",
      "Epoch 1, Loss: 0.05882198363542557\n",
      "Epoch 1, Loss: 0.051011133939027786\n",
      "Epoch 1, Loss: 0.053801096975803375\n",
      "Epoch 1, Loss: 0.04807119071483612\n",
      "Epoch 1, Loss: 0.04650401324033737\n",
      "Epoch 1, Loss: 0.047041382640600204\n",
      "Total training rewards: 21.0 after n steps = 59 with final reward = 1.0\n",
      "Copying main network weights to the target network weights\n",
      "Epoch 1, Loss: 0.08412006497383118\n",
      "Epoch 1, Loss: 0.07695023715496063\n",
      "Epoch 1, Loss: 0.07275296002626419\n",
      "Total training rewards: 11.0 after n steps = 60 with final reward = 1.0\n",
      "Epoch 1, Loss: 0.07378649711608887\n",
      "Epoch 1, Loss: 0.0663866326212883\n",
      "Epoch 1, Loss: 0.06967100501060486\n",
      "Total training rewards: 9.0 after n steps = 61 with final reward = 1.0\n",
      "Epoch 1, Loss: 0.06529419124126434\n",
      "Epoch 1, Loss: 0.06266771256923676\n",
      "Epoch 1, Loss: 0.0625455304980278\n",
      "Epoch 1, Loss: 0.05730056017637253\n",
      "Epoch 1, Loss: 0.055541425943374634\n",
      "Total training rewards: 18.0 after n steps = 62 with final reward = 1.0\n",
      "Epoch 1, Loss: 0.05529706925153732\n",
      "Epoch 1, Loss: 0.05287306383252144\n",
      "Epoch 1, Loss: 0.04712602496147156\n",
      "Epoch 1, Loss: 0.046122100204229355\n",
      "Epoch 1, Loss: 0.04321163520216942\n",
      "Total training rewards: 15.0 after n steps = 63 with final reward = 1.0\n",
      "Epoch 1, Loss: 0.04106676205992699\n",
      "Epoch 1, Loss: 0.04155057668685913\n",
      "Epoch 1, Loss: 0.03676370531320572\n",
      "Epoch 1, Loss: 0.03418920189142227\n",
      "Epoch 1, Loss: 0.035671163350343704\n",
      "Total training rewards: 19.0 after n steps = 64 with final reward = 1.0\n",
      "Epoch 1, Loss: 0.031681545078754425\n",
      "Epoch 1, Loss: 0.03394884988665581\n",
      "Epoch 1, Loss: 0.03125869855284691\n",
      "Epoch 1, Loss: 0.029288604855537415\n",
      "Total training rewards: 13.0 after n steps = 65 with final reward = 1.0\n",
      "Epoch 1, Loss: 0.025350425392389297\n",
      "Epoch 1, Loss: 0.025837590917944908\n",
      "Epoch 1, Loss: 0.025177031755447388\n",
      "Total training rewards: 11.0 after n steps = 66 with final reward = 1.0\n",
      "Epoch 1, Loss: 0.023422036319971085\n",
      "Epoch 1, Loss: 0.020267488434910774\n",
      "Epoch 1, Loss: 0.022605597972869873\n",
      "Total training rewards: 10.0 after n steps = 67 with final reward = 1.0\n",
      "Copying main network weights to the target network weights\n",
      "Epoch 1, Loss: 0.0533934012055397\n",
      "Epoch 1, Loss: 0.04913562536239624\n",
      "Epoch 1, Loss: 0.05035005509853363\n",
      "Total training rewards: 10.0 after n steps = 68 with final reward = 1.0\n",
      "Epoch 1, Loss: 0.04552939534187317\n",
      "Epoch 1, Loss: 0.04322202503681183\n",
      "Epoch 1, Loss: 0.04039497673511505\n",
      "Epoch 1, Loss: 0.0415622815489769\n",
      "Total training rewards: 12.0 after n steps = 69 with final reward = 1.0\n",
      "Epoch 1, Loss: 0.04000944271683693\n",
      "Epoch 1, Loss: 0.03595282509922981\n",
      "Epoch 1, Loss: 0.035477664321660995\n",
      "Total training rewards: 9.0 after n steps = 70 with final reward = 1.0\n",
      "Epoch 1, Loss: 0.03249248117208481\n",
      "Epoch 1, Loss: 0.02721121534705162\n",
      "Epoch 1, Loss: 0.033203959465026855\n",
      "Epoch 1, Loss: 0.03174920380115509\n",
      "Epoch 1, Loss: 0.025753889232873917\n",
      "Epoch 1, Loss: 0.02786187268793583\n",
      "Total training rewards: 19.0 after n steps = 71 with final reward = 1.0\n",
      "Epoch 1, Loss: 0.02429247461259365\n",
      "Epoch 1, Loss: 0.025340327993035316\n",
      "Epoch 1, Loss: 0.027400435879826546\n",
      "Total training rewards: 9.0 after n steps = 72 with final reward = 1.0\n",
      "Epoch 1, Loss: 0.01782466284930706\n",
      "Epoch 1, Loss: 0.015234975144267082\n",
      "Epoch 1, Loss: 0.018231436610221863\n",
      "Epoch 1, Loss: 0.01569424197077751\n",
      "Total training rewards: 10.0 after n steps = 73 with final reward = 1.0\n",
      "Epoch 1, Loss: 0.014352744445204735\n",
      "Epoch 1, Loss: 0.017124390229582787\n",
      "Epoch 1, Loss: 0.023973625153303146\n",
      "Total training rewards: 10.0 after n steps = 74 with final reward = 1.0\n",
      "Epoch 1, Loss: 0.009359462186694145\n",
      "Epoch 1, Loss: 0.014470551162958145\n",
      "Epoch 1, Loss: 0.01370320562273264\n",
      "Total training rewards: 9.0 after n steps = 75 with final reward = 1.0\n",
      "Epoch 1, Loss: 0.0203186497092247\n",
      "Epoch 1, Loss: 0.014225030317902565\n",
      "Epoch 1, Loss: 0.0179588682949543\n",
      "Total training rewards: 10.0 after n steps = 76 with final reward = 1.0\n",
      "Epoch 1, Loss: 0.012998567894101143\n",
      "Epoch 1, Loss: 0.01033594086766243\n",
      "Epoch 1, Loss: 0.01280463021248579\n",
      "Epoch 1, Loss: 0.012190006673336029\n",
      "Total training rewards: 13.0 after n steps = 77 with final reward = 1.0\n",
      "Copying main network weights to the target network weights\n",
      "Epoch 1, Loss: 0.027659323066473007\n",
      "Epoch 1, Loss: 0.025456789880990982\n",
      "Epoch 1, Loss: 0.027953997254371643\n",
      "Total training rewards: 11.0 after n steps = 78 with final reward = 1.0\n",
      "Epoch 1, Loss: 0.022521115839481354\n",
      "Epoch 1, Loss: 0.019287802278995514\n",
      "Epoch 1, Loss: 0.036551959812641144\n",
      "Total training rewards: 8.0 after n steps = 79 with final reward = 1.0\n",
      "Epoch 1, Loss: 0.022266589105129242\n",
      "Epoch 1, Loss: 0.022296618670225143\n",
      "Epoch 1, Loss: 0.019920341670513153\n",
      "Epoch 1, Loss: 0.01851687952876091\n",
      "Total training rewards: 11.0 after n steps = 80 with final reward = 1.0\n",
      "Epoch 1, Loss: 0.03040754236280918\n",
      "Epoch 1, Loss: 0.019395742565393448\n",
      "Epoch 1, Loss: 0.022762926295399666\n",
      "Total training rewards: 10.0 after n steps = 81 with final reward = 1.0\n",
      "Epoch 1, Loss: 0.024304145947098732\n",
      "Epoch 1, Loss: 0.016687685623764992\n",
      "Epoch 1, Loss: 0.022083023563027382\n",
      "Epoch 1, Loss: 0.018791191279888153\n",
      "Total training rewards: 14.0 after n steps = 82 with final reward = 1.0\n",
      "Epoch 1, Loss: 0.01844913512468338\n",
      "Epoch 1, Loss: 0.01837828755378723\n",
      "Epoch 1, Loss: 0.02460535243153572\n",
      "Epoch 1, Loss: 0.013760746456682682\n",
      "Epoch 1, Loss: 0.01405929122120142\n",
      "Total training rewards: 16.0 after n steps = 83 with final reward = 1.0\n",
      "Epoch 1, Loss: 0.020888861268758774\n",
      "Epoch 1, Loss: 0.02970140054821968\n",
      "Epoch 1, Loss: 0.015226660296320915\n",
      "Epoch 1, Loss: 0.014968461357057095\n",
      "Total training rewards: 11.0 after n steps = 84 with final reward = 1.0\n",
      "Epoch 1, Loss: 0.021382668986916542\n",
      "Epoch 1, Loss: 0.014850838109850883\n",
      "Epoch 1, Loss: 0.017658157274127007\n",
      "Total training rewards: 10.0 after n steps = 85 with final reward = 1.0\n",
      "Epoch 1, Loss: 0.004759553819894791\n",
      "Epoch 1, Loss: 0.017073899507522583\n",
      "Epoch 1, Loss: 0.01425121072679758\n",
      "Epoch 1, Loss: 0.01384911872446537\n",
      "Total training rewards: 13.0 after n steps = 86 with final reward = 1.0\n",
      "Copying main network weights to the target network weights\n",
      "Epoch 1, Loss: 0.026446320116519928\n",
      "Epoch 1, Loss: 0.019705994054675102\n",
      "Epoch 1, Loss: 0.032110024243593216\n",
      "Epoch 1, Loss: 0.014247080311179161\n",
      "Epoch 1, Loss: 0.021603763103485107\n",
      "Total training rewards: 20.0 after n steps = 87 with final reward = 1.0\n",
      "Epoch 1, Loss: 0.020781556144356728\n",
      "Epoch 1, Loss: 0.01809513568878174\n",
      "Epoch 1, Loss: 0.019771385937929153\n",
      "Epoch 1, Loss: 0.028409834951162338\n",
      "Total training rewards: 15.0 after n steps = 88 with final reward = 1.0\n",
      "Epoch 1, Loss: 0.020074931904673576\n",
      "Epoch 1, Loss: 0.022131692618131638\n",
      "Epoch 1, Loss: 0.01329060085117817\n",
      "Epoch 1, Loss: 0.02553088217973709\n",
      "Epoch 1, Loss: 0.010658186860382557\n",
      "Total training rewards: 15.0 after n steps = 89 with final reward = 1.0\n",
      "Epoch 1, Loss: 0.01663980819284916\n",
      "Epoch 1, Loss: 0.013684399425983429\n",
      "Epoch 1, Loss: 0.01974629983305931\n",
      "Epoch 1, Loss: 0.022903677076101303\n",
      "Epoch 1, Loss: 0.014900241047143936\n",
      "Total training rewards: 16.0 after n steps = 90 with final reward = 1.0\n",
      "Epoch 1, Loss: 0.012915295548737049\n",
      "Epoch 1, Loss: 0.011797008104622364\n",
      "Epoch 1, Loss: 0.014973233453929424\n",
      "Total training rewards: 10.0 after n steps = 91 with final reward = 1.0\n",
      "Epoch 1, Loss: 0.005253019742667675\n",
      "Epoch 1, Loss: 0.015079758130013943\n",
      "Total training rewards: 8.0 after n steps = 92 with final reward = 1.0\n",
      "Epoch 1, Loss: 0.02131873369216919\n",
      "Epoch 1, Loss: 0.007843599654734135\n",
      "Epoch 1, Loss: 0.014014440588653088\n",
      "Total training rewards: 11.0 after n steps = 93 with final reward = 1.0\n",
      "Epoch 1, Loss: 0.012878140434622765\n",
      "Epoch 1, Loss: 0.012584388256072998\n",
      "Epoch 1, Loss: 0.025223543867468834\n",
      "Epoch 1, Loss: 0.013159684836864471\n",
      "Epoch 1, Loss: 0.024184590205550194\n",
      "Total training rewards: 17.0 after n steps = 94 with final reward = 1.0\n",
      "Copying main network weights to the target network weights\n",
      "Epoch 1, Loss: 0.013347149826586246\n",
      "Epoch 1, Loss: 0.016687538474798203\n",
      "Epoch 1, Loss: 0.014963646419346333\n",
      "Total training rewards: 12.0 after n steps = 95 with final reward = 1.0\n",
      "Epoch 1, Loss: 0.015362454578280449\n",
      "Epoch 1, Loss: 0.02309439331293106\n",
      "Epoch 1, Loss: 0.013148698955774307\n",
      "Total training rewards: 12.0 after n steps = 96 with final reward = 1.0\n",
      "Epoch 1, Loss: 0.016842398792505264\n",
      "Epoch 1, Loss: 0.01146462932229042\n",
      "Epoch 1, Loss: 0.005945215467363596\n",
      "Total training rewards: 9.0 after n steps = 97 with final reward = 1.0\n",
      "Epoch 1, Loss: 0.02224602922797203\n",
      "Epoch 1, Loss: 0.011882374063134193\n",
      "Epoch 1, Loss: 0.01775517500936985\n",
      "Epoch 1, Loss: 0.012170650064945221\n",
      "Total training rewards: 13.0 after n steps = 98 with final reward = 1.0\n",
      "Epoch 1, Loss: 0.024146944284439087\n",
      "Epoch 1, Loss: 0.018062716349959373\n",
      "Epoch 1, Loss: 0.014653824269771576\n",
      "Epoch 1, Loss: 0.01992163062095642\n",
      "Total training rewards: 12.0 after n steps = 99 with final reward = 1.0\n",
      "Epoch 1, Loss: 0.008746901527047157\n",
      "Epoch 1, Loss: 0.018822988495230675\n",
      "Epoch 1, Loss: 0.014574535191059113\n",
      "Epoch 1, Loss: 0.007373455911874771\n",
      "Total training rewards: 12.0 after n steps = 100 with final reward = 1.0\n",
      "Epoch 1, Loss: 0.017112966626882553\n",
      "Epoch 1, Loss: 0.022673893719911575\n",
      "Epoch 1, Loss: 0.01675030030310154\n",
      "Epoch 1, Loss: 0.016349751502275467\n",
      "Total training rewards: 12.0 after n steps = 101 with final reward = 1.0\n",
      "Epoch 1, Loss: 0.009794536978006363\n",
      "Epoch 1, Loss: 0.024258622899651527\n",
      "Epoch 1, Loss: 0.006618218496441841\n",
      "Epoch 1, Loss: 0.010366411879658699\n",
      "Total training rewards: 12.0 after n steps = 102 with final reward = 1.0\n",
      "Epoch 1, Loss: 0.013348163105547428\n",
      "Epoch 1, Loss: 0.014605637639760971\n",
      "Epoch 1, Loss: 0.010832268744707108\n",
      "Total training rewards: 9.0 after n steps = 103 with final reward = 1.0\n",
      "Copying main network weights to the target network weights\n",
      "Epoch 1, Loss: 0.024201642721891403\n",
      "Epoch 1, Loss: 0.02442753314971924\n",
      "Epoch 1, Loss: 0.02595186047255993\n",
      "Total training rewards: 10.0 after n steps = 104 with final reward = 1.0\n",
      "Epoch 1, Loss: 0.016304174438118935\n",
      "Epoch 1, Loss: 0.018439985811710358\n",
      "Epoch 1, Loss: 0.019976643845438957\n",
      "Epoch 1, Loss: 0.020905179902911186\n",
      "Total training rewards: 11.0 after n steps = 105 with final reward = 1.0\n",
      "Epoch 1, Loss: 0.030534829944372177\n",
      "Epoch 1, Loss: 0.02212834358215332\n",
      "Epoch 1, Loss: 0.01581236533820629\n",
      "Total training rewards: 11.0 after n steps = 106 with final reward = 1.0\n",
      "Epoch 1, Loss: 0.01299863401800394\n",
      "Epoch 1, Loss: 0.0114834513515234\n",
      "Epoch 1, Loss: 0.015665719285607338\n",
      "Total training rewards: 11.0 after n steps = 107 with final reward = 1.0\n",
      "Epoch 1, Loss: 0.00849544070661068\n",
      "Epoch 1, Loss: 0.020760538056492805\n",
      "Epoch 1, Loss: 0.012939120642840862\n",
      "Epoch 1, Loss: 0.006940255407243967\n",
      "Total training rewards: 10.0 after n steps = 108 with final reward = 1.0\n",
      "Epoch 1, Loss: 0.018075738102197647\n",
      "Epoch 1, Loss: 0.02009720541536808\n",
      "Epoch 1, Loss: 0.02031359076499939\n",
      "Total training rewards: 8.0 after n steps = 109 with final reward = 1.0\n",
      "Epoch 1, Loss: 0.016445644199848175\n",
      "Epoch 1, Loss: 0.01896059326827526\n",
      "Epoch 1, Loss: 0.00991687923669815\n",
      "Epoch 1, Loss: 0.014679329469799995\n",
      "Total training rewards: 13.0 after n steps = 110 with final reward = 1.0\n",
      "Epoch 1, Loss: 0.016191726550459862\n",
      "Epoch 1, Loss: 0.009332303889095783\n",
      "Epoch 1, Loss: 0.010163655504584312\n",
      "Epoch 1, Loss: 0.022090760990977287\n",
      "Total training rewards: 11.0 after n steps = 111 with final reward = 1.0\n",
      "Epoch 1, Loss: 0.00668609794229269\n",
      "Epoch 1, Loss: 0.013427624478936195\n",
      "Epoch 1, Loss: 0.01568925566971302\n",
      "Epoch 1, Loss: 0.01369728334248066\n",
      "Epoch 1, Loss: 0.02922622300684452\n",
      "Total training rewards: 17.0 after n steps = 112 with final reward = 1.0\n",
      "Copying main network weights to the target network weights\n",
      "Epoch 1, Loss: 0.019895460456609726\n",
      "Epoch 1, Loss: 0.012575694359838963\n",
      "Epoch 1, Loss: 0.009080483578145504\n",
      "Total training rewards: 11.0 after n steps = 113 with final reward = 1.0\n",
      "Epoch 1, Loss: 0.018340934067964554\n",
      "Epoch 1, Loss: 0.016272105276584625\n",
      "Epoch 1, Loss: 0.00815551821142435\n",
      "Epoch 1, Loss: 0.014697608537971973\n",
      "Total training rewards: 10.0 after n steps = 114 with final reward = 1.0\n",
      "Epoch 1, Loss: 0.02090086229145527\n",
      "Epoch 1, Loss: 0.014313838444650173\n",
      "Epoch 1, Loss: 0.012681521475315094\n",
      "Total training rewards: 10.0 after n steps = 115 with final reward = 1.0\n",
      "Epoch 1, Loss: 0.009360674768686295\n",
      "Epoch 1, Loss: 0.01831335946917534\n",
      "Epoch 1, Loss: 0.01028758566826582\n",
      "Epoch 1, Loss: 0.015157314017415047\n",
      "Total training rewards: 10.0 after n steps = 116 with final reward = 1.0\n",
      "Epoch 1, Loss: 0.005826265551149845\n",
      "Epoch 1, Loss: 0.015608777292072773\n",
      "Epoch 1, Loss: 0.01998320408165455\n",
      "Epoch 1, Loss: 0.012093337252736092\n",
      "Epoch 1, Loss: 0.013099970296025276\n",
      "Epoch 1, Loss: 0.02281549572944641\n",
      "Total training rewards: 23.0 after n steps = 117 with final reward = 1.0\n",
      "Epoch 1, Loss: 0.019705135375261307\n",
      "Epoch 1, Loss: 0.022797923535108566\n",
      "Epoch 1, Loss: 0.006609095726162195\n",
      "Total training rewards: 9.0 after n steps = 118 with final reward = 1.0\n",
      "Epoch 1, Loss: 0.014651885256171227\n",
      "Epoch 1, Loss: 0.014095846563577652\n",
      "Epoch 1, Loss: 0.018169846385717392\n",
      "Epoch 1, Loss: 0.010812878608703613\n",
      "Epoch 1, Loss: 0.02362961694598198\n",
      "Total training rewards: 16.0 after n steps = 119 with final reward = 1.0\n",
      "Epoch 1, Loss: 0.01158793456852436\n",
      "Epoch 1, Loss: 0.01855216920375824\n",
      "Epoch 1, Loss: 0.010015827603638172\n",
      "Total training rewards: 10.0 after n steps = 120 with final reward = 1.0\n",
      "Epoch 1, Loss: 0.010847868397831917\n",
      "Epoch 1, Loss: 0.019843285903334618\n",
      "Epoch 1, Loss: 0.013652801513671875\n",
      "Epoch 1, Loss: 0.014773128554224968\n",
      "Total training rewards: 10.0 after n steps = 121 with final reward = 1.0\n",
      "Copying main network weights to the target network weights\n",
      "Epoch 1, Loss: 0.017645319923758507\n",
      "Epoch 1, Loss: 0.01773790642619133\n",
      "Epoch 1, Loss: 0.017429832369089127\n",
      "Epoch 1, Loss: 0.014492022804915905\n",
      "Total training rewards: 14.0 after n steps = 122 with final reward = 1.0\n",
      "Epoch 1, Loss: 0.014715604484081268\n",
      "Epoch 1, Loss: 0.009046623483300209\n",
      "Epoch 1, Loss: 0.0060275159776210785\n",
      "Epoch 1, Loss: 0.016799641773104668\n",
      "Epoch 1, Loss: 0.012295190244913101\n",
      "Epoch 1, Loss: 0.0073319654911756516\n",
      "Epoch 1, Loss: 0.010451776906847954\n",
      "Epoch 1, Loss: 0.01626649685204029\n",
      "Total training rewards: 28.0 after n steps = 123 with final reward = 1.0\n",
      "Epoch 1, Loss: 0.010250076651573181\n",
      "Epoch 1, Loss: 0.01116655021905899\n",
      "Epoch 1, Loss: 0.013228358700871468\n",
      "Epoch 1, Loss: 0.013120978139340878\n",
      "Total training rewards: 13.0 after n steps = 124 with final reward = 1.0\n",
      "Epoch 1, Loss: 0.01727130450308323\n",
      "Epoch 1, Loss: 0.011315742507576942\n",
      "Epoch 1, Loss: 0.011895375326275826\n",
      "Epoch 1, Loss: 0.00970606692135334\n",
      "Total training rewards: 10.0 after n steps = 125 with final reward = 1.0\n",
      "Epoch 1, Loss: 0.00749635137617588\n",
      "Epoch 1, Loss: 0.007771126460283995\n",
      "Epoch 1, Loss: 0.016201311722397804\n",
      "Total training rewards: 11.0 after n steps = 126 with final reward = 1.0\n",
      "Epoch 1, Loss: 0.008471845649182796\n",
      "Epoch 1, Loss: 0.012021370232105255\n",
      "Epoch 1, Loss: 0.009883350692689419\n",
      "Total training rewards: 10.0 after n steps = 127 with final reward = 1.0\n",
      "Epoch 1, Loss: 0.01510952040553093\n",
      "Epoch 1, Loss: 0.011598226614296436\n",
      "Epoch 1, Loss: 0.013455607928335667\n",
      "Total training rewards: 9.0 after n steps = 128 with final reward = 1.0\n",
      "Epoch 1, Loss: 0.01230262778699398\n",
      "Epoch 1, Loss: 0.009677141904830933\n",
      "Epoch 1, Loss: 0.012442689388990402\n",
      "Epoch 1, Loss: 0.014814612455666065\n",
      "Total training rewards: 10.0 after n steps = 129 with final reward = 1.0\n",
      "Copying main network weights to the target network weights\n",
      "Epoch 1, Loss: 0.011666696518659592\n",
      "Epoch 1, Loss: 0.004407944623380899\n",
      "Epoch 1, Loss: 0.006382327061146498\n",
      "Epoch 1, Loss: 0.011793768033385277\n",
      "Total training rewards: 15.0 after n steps = 130 with final reward = 1.0\n",
      "Epoch 1, Loss: 0.012433953583240509\n",
      "Epoch 1, Loss: 0.009158918634057045\n",
      "Epoch 1, Loss: 0.012147961184382439\n",
      "Epoch 1, Loss: 0.004994723480194807\n",
      "Total training rewards: 11.0 after n steps = 131 with final reward = 1.0\n",
      "Epoch 1, Loss: 0.006981109734624624\n",
      "Epoch 1, Loss: 0.011483827605843544\n",
      "Epoch 1, Loss: 0.0051803989335894585\n",
      "Epoch 1, Loss: 0.015493778511881828\n",
      "Total training rewards: 14.0 after n steps = 132 with final reward = 1.0\n",
      "Epoch 1, Loss: 0.013686335645616055\n",
      "Epoch 1, Loss: 0.013165382668375969\n",
      "Epoch 1, Loss: 0.007120158057659864\n",
      "Total training rewards: 11.0 after n steps = 133 with final reward = 1.0\n",
      "Epoch 1, Loss: 0.010181423276662827\n",
      "Epoch 1, Loss: 0.016910109668970108\n",
      "Epoch 1, Loss: 0.008906812407076359\n",
      "Epoch 1, Loss: 0.009044847451150417\n",
      "Epoch 1, Loss: 0.008351573720574379\n",
      "Total training rewards: 17.0 after n steps = 134 with final reward = 1.0\n",
      "Epoch 1, Loss: 0.003346433863043785\n",
      "Epoch 1, Loss: 0.008218524046242237\n",
      "Epoch 1, Loss: 0.009358382783830166\n",
      "Epoch 1, Loss: 0.012072380632162094\n",
      "Total training rewards: 13.0 after n steps = 135 with final reward = 1.0\n",
      "Epoch 1, Loss: 0.015539255924522877\n",
      "Epoch 1, Loss: 0.007430325262248516\n",
      "Epoch 1, Loss: 0.008329461328685284\n",
      "Epoch 1, Loss: 0.009933387860655785\n",
      "Total training rewards: 14.0 after n steps = 136 with final reward = 1.0\n",
      "Epoch 1, Loss: 0.011072123423218727\n",
      "Epoch 1, Loss: 0.014248857274651527\n",
      "Epoch 1, Loss: 0.009939886629581451\n",
      "Epoch 1, Loss: 0.013459448702633381\n",
      "Total training rewards: 12.0 after n steps = 137 with final reward = 1.0\n",
      "Copying main network weights to the target network weights\n",
      "Epoch 1, Loss: 0.008645155467092991\n",
      "Epoch 1, Loss: 0.005438948981463909\n",
      "Epoch 1, Loss: 0.00996453408151865\n",
      "Epoch 1, Loss: 0.010431935079395771\n",
      "Epoch 1, Loss: 0.00676304567605257\n",
      "Epoch 1, Loss: 0.009768107905983925\n",
      "Epoch 1, Loss: 0.007712665479630232\n",
      "Epoch 1, Loss: 0.010248622857034206\n",
      "Total training rewards: 30.0 after n steps = 138 with final reward = 1.0\n",
      "Epoch 1, Loss: 0.0033383264672011137\n",
      "Epoch 1, Loss: 0.008470570668578148\n",
      "Epoch 1, Loss: 0.009110267274081707\n",
      "Epoch 1, Loss: 0.007081272546201944\n",
      "Epoch 1, Loss: 0.011819878593087196\n",
      "Total training rewards: 15.0 after n steps = 139 with final reward = 1.0\n",
      "Epoch 1, Loss: 0.009673848748207092\n",
      "Epoch 1, Loss: 0.010865569114685059\n",
      "Epoch 1, Loss: 0.01043116208165884\n",
      "Epoch 1, Loss: 0.01281721144914627\n",
      "Epoch 1, Loss: 0.008802457712590694\n",
      "Epoch 1, Loss: 0.008328631520271301\n",
      "Epoch 1, Loss: 0.007923475466668606\n",
      "Epoch 1, Loss: 0.009537222795188427\n",
      "Epoch 1, Loss: 0.015641318634152412\n",
      "Epoch 1, Loss: 0.011570217087864876\n",
      "Epoch 1, Loss: 0.01030076202005148\n",
      "Total training rewards: 41.0 after n steps = 140 with final reward = 1.0\n",
      "Epoch 1, Loss: 0.007419666275382042\n",
      "Epoch 1, Loss: 0.008503037504851818\n",
      "Epoch 1, Loss: 0.008096150122582912\n",
      "Epoch 1, Loss: 0.007872164249420166\n",
      "Epoch 1, Loss: 0.009718546643853188\n",
      "Epoch 1, Loss: 0.008891782723367214\n",
      "Epoch 1, Loss: 0.012040292844176292\n",
      "Epoch 1, Loss: 0.008444500155746937\n",
      "Epoch 1, Loss: 0.00784776359796524\n",
      "Epoch 1, Loss: 0.012287850491702557\n",
      "Epoch 1, Loss: 0.004730159416794777\n",
      "Epoch 1, Loss: 0.016121258959174156\n",
      "Epoch 1, Loss: 0.008002747781574726\n",
      "Epoch 1, Loss: 0.008780316449701786\n",
      "Epoch 1, Loss: 0.007480241358280182\n",
      "Epoch 1, Loss: 0.006134852766990662\n",
      "Epoch 1, Loss: 0.010489705950021744\n",
      "Epoch 1, Loss: 0.007784532383084297\n",
      "Epoch 1, Loss: 0.005625676363706589\n",
      "Epoch 1, Loss: 0.005089071579277515\n",
      "Total training rewards: 77.0 after n steps = 141 with final reward = 1.0\n",
      "Copying main network weights to the target network weights\n",
      "Epoch 1, Loss: 0.005189673509448767\n",
      "Epoch 1, Loss: 0.008978431113064289\n",
      "Epoch 1, Loss: 0.005715717561542988\n",
      "Epoch 1, Loss: 0.008579907938838005\n",
      "Epoch 1, Loss: 0.006856607273221016\n",
      "Epoch 1, Loss: 0.008958238177001476\n",
      "Epoch 1, Loss: 0.0114744296297431\n",
      "Epoch 1, Loss: 0.009313344955444336\n",
      "Epoch 1, Loss: 0.007633276749402285\n",
      "Epoch 1, Loss: 0.010392088443040848\n",
      "Epoch 1, Loss: 0.009659108705818653\n",
      "Epoch 1, Loss: 0.010774302296340466\n",
      "Epoch 1, Loss: 0.013021214865148067\n",
      "Epoch 1, Loss: 0.010524553246796131\n",
      "Epoch 1, Loss: 0.005690873134881258\n",
      "Total training rewards: 60.0 after n steps = 142 with final reward = 1.0\n",
      "Epoch 1, Loss: 0.005533007904887199\n",
      "Epoch 1, Loss: 0.00856008194386959\n",
      "Epoch 1, Loss: 0.011369308456778526\n",
      "Epoch 1, Loss: 0.008522527292370796\n",
      "Epoch 1, Loss: 0.003716485109180212\n",
      "Total training rewards: 17.0 after n steps = 143 with final reward = 1.0\n",
      "Epoch 1, Loss: 0.00696264673024416\n",
      "Epoch 1, Loss: 0.0047276816330850124\n",
      "Epoch 1, Loss: 0.005239455960690975\n",
      "Epoch 1, Loss: 0.004097293596714735\n",
      "Epoch 1, Loss: 0.010490750893950462\n",
      "Total training rewards: 17.0 after n steps = 144 with final reward = 1.0\n",
      "Epoch 1, Loss: 0.003823033068329096\n",
      "Epoch 1, Loss: 0.0038090196903795004\n",
      "Epoch 1, Loss: 0.011472233571112156\n",
      "Epoch 1, Loss: 0.007089773193001747\n",
      "Epoch 1, Loss: 0.009529226459562778\n",
      "Epoch 1, Loss: 0.007453182712197304\n",
      "Epoch 1, Loss: 0.007028195075690746\n",
      "Epoch 1, Loss: 0.009442753158509731\n",
      "Epoch 1, Loss: 0.011698387563228607\n",
      "Epoch 1, Loss: 0.005785378161817789\n",
      "Epoch 1, Loss: 0.009736866690218449\n",
      "Epoch 1, Loss: 0.007394359912723303\n",
      "Epoch 1, Loss: 0.010610787197947502\n",
      "Epoch 1, Loss: 0.009922209195792675\n",
      "Epoch 1, Loss: 0.006178801879286766\n",
      "Epoch 1, Loss: 0.004999220371246338\n",
      "Epoch 1, Loss: 0.008924588561058044\n",
      "Total training rewards: 64.0 after n steps = 145 with final reward = 1.0\n",
      "Copying main network weights to the target network weights\n",
      "Epoch 1, Loss: 0.006968965753912926\n",
      "Epoch 1, Loss: 0.005508243106305599\n",
      "Epoch 1, Loss: 0.010857392102479935\n",
      "Epoch 1, Loss: 0.008074749261140823\n",
      "Epoch 1, Loss: 0.009212084114551544\n",
      "Epoch 1, Loss: 0.007184742949903011\n",
      "Epoch 1, Loss: 0.012682687491178513\n",
      "Epoch 1, Loss: 0.01023103017359972\n",
      "Epoch 1, Loss: 0.0033500748686492443\n",
      "Epoch 1, Loss: 0.007863751612603664\n",
      "Epoch 1, Loss: 0.006834773812443018\n",
      "Epoch 1, Loss: 0.012491215951740742\n",
      "Epoch 1, Loss: 0.005531155504286289\n",
      "Epoch 1, Loss: 0.007648267317563295\n",
      "Epoch 1, Loss: 0.007805897854268551\n",
      "Epoch 1, Loss: 0.0066507719457149506\n",
      "Total training rewards: 63.0 after n steps = 146 with final reward = 1.0\n",
      "Epoch 1, Loss: 0.006731935776770115\n",
      "Epoch 1, Loss: 0.008768186904489994\n",
      "Epoch 1, Loss: 0.005391047336161137\n",
      "Epoch 1, Loss: 0.00455742422491312\n",
      "Epoch 1, Loss: 0.007251843344420195\n",
      "Epoch 1, Loss: 0.00698846997693181\n",
      "Epoch 1, Loss: 0.009700319729745388\n",
      "Epoch 1, Loss: 0.009517987258732319\n",
      "Epoch 1, Loss: 0.009508723393082619\n",
      "Epoch 1, Loss: 0.0108922915533185\n",
      "Total training rewards: 37.0 after n steps = 147 with final reward = 1.0\n",
      "Copying main network weights to the target network weights\n",
      "Epoch 1, Loss: 0.009454060345888138\n",
      "Epoch 1, Loss: 0.010554325766861439\n",
      "Epoch 1, Loss: 0.005112908314913511\n",
      "Epoch 1, Loss: 0.006180451717227697\n",
      "Epoch 1, Loss: 0.007140378933399916\n",
      "Epoch 1, Loss: 0.007382242940366268\n",
      "Epoch 1, Loss: 0.006139890290796757\n",
      "Epoch 1, Loss: 0.00454205647110939\n",
      "Epoch 1, Loss: 0.014528777450323105\n",
      "Epoch 1, Loss: 0.0084999343380332\n",
      "Epoch 1, Loss: 0.005168572533875704\n",
      "Epoch 1, Loss: 0.007194695062935352\n",
      "Epoch 1, Loss: 0.006482739467173815\n",
      "Epoch 1, Loss: 0.005801500752568245\n",
      "Epoch 1, Loss: 0.004229363985359669\n",
      "Epoch 1, Loss: 0.00864693894982338\n",
      "Epoch 1, Loss: 0.008540517650544643\n",
      "Epoch 1, Loss: 0.008398493751883507\n",
      "Epoch 1, Loss: 0.008219875395298004\n",
      "Total training rewards: 73.0 after n steps = 148 with final reward = 1.0\n",
      "Epoch 1, Loss: 0.008295150473713875\n",
      "Epoch 1, Loss: 0.011189076118171215\n",
      "Epoch 1, Loss: 0.00798791740089655\n",
      "Epoch 1, Loss: 0.010269774124026299\n",
      "Epoch 1, Loss: 0.009799711406230927\n",
      "Epoch 1, Loss: 0.005910519976168871\n",
      "Total training rewards: 22.0 after n steps = 149 with final reward = 1.0\n"
     ]
    }
   ],
   "execution_count": 25
  },
  {
   "cell_type": "code",
   "execution_count": 8,
   "metadata": {
    "ExecuteTime": {
     "end_time": "2025-02-17T08:57:35.244974Z",
     "start_time": "2025-02-17T08:57:35.242934Z"
    },
    "datalore": {
     "hide_input_from_viewers": false,
     "hide_output_from_viewers": false,
     "node_id": "edHWWAXn02r2vXVXfhPW0Q",
     "report_properties": {
      "rowId": "VoJcVW6UvPVkyGjLTAzG1n"
     },
     "type": "CODE"
    }
   },
   "outputs": [],
   "source": [
    "from IPython import display as ipythondisplay"
   ]
  },
  {
   "cell_type": "code",
   "execution_count": 9,
   "metadata": {
    "ExecuteTime": {
     "end_time": "2025-02-17T08:58:53.650668Z",
     "start_time": "2025-02-17T08:58:50.949785Z"
    },
    "datalore": {
     "hide_input_from_viewers": false,
     "hide_output_from_viewers": false,
     "node_id": "XP4aHTPZjM111u6D0nV7KM",
     "report_properties": {
      "rowId": "N45l2zjmv5GpoUpVMOLgWu"
     },
     "type": "CODE"
    }
   },
   "outputs": [
    {
     "name": "stdout",
     "output_type": "stream",
     "text": [
      "Requirement already satisfied: gymnasium[classic_control] in /Users/Aleksandr.Avdiushenko/IdeaProjects/avalur.github.io/.venv/lib/python3.12/site-packages (1.0.0)\n",
      "Requirement already satisfied: numpy>=1.21.0 in /Users/Aleksandr.Avdiushenko/IdeaProjects/avalur.github.io/.venv/lib/python3.12/site-packages (from gymnasium[classic_control]) (1.26.4)\n",
      "Requirement already satisfied: cloudpickle>=1.2.0 in /Users/Aleksandr.Avdiushenko/IdeaProjects/avalur.github.io/.venv/lib/python3.12/site-packages (from gymnasium[classic_control]) (3.1.1)\n",
      "Requirement already satisfied: typing-extensions>=4.3.0 in /Users/Aleksandr.Avdiushenko/IdeaProjects/avalur.github.io/.venv/lib/python3.12/site-packages (from gymnasium[classic_control]) (4.12.2)\n",
      "Requirement already satisfied: farama-notifications>=0.0.1 in /Users/Aleksandr.Avdiushenko/IdeaProjects/avalur.github.io/.venv/lib/python3.12/site-packages (from gymnasium[classic_control]) (0.0.4)\n",
      "Requirement already satisfied: pygame>=2.1.3 in /Users/Aleksandr.Avdiushenko/IdeaProjects/avalur.github.io/.venv/lib/python3.12/site-packages (from gymnasium[classic_control]) (2.6.1)\n",
      "\n",
      "\u001B[1m[\u001B[0m\u001B[34;49mnotice\u001B[0m\u001B[1;39;49m]\u001B[0m\u001B[39;49m A new release of pip is available: \u001B[0m\u001B[31;49m23.2.1\u001B[0m\u001B[39;49m -> \u001B[0m\u001B[32;49m25.0.1\u001B[0m\n",
      "\u001B[1m[\u001B[0m\u001B[34;49mnotice\u001B[0m\u001B[1;39;49m]\u001B[0m\u001B[39;49m To update, run: \u001B[0m\u001B[32;49mpip install --upgrade pip\u001B[0m\n"
     ]
    }
   ],
   "source": [
    "!pip install 'gymnasium[classic_control]'"
   ]
  },
  {
   "cell_type": "code",
   "execution_count": 14,
   "metadata": {},
   "outputs": [
    {
     "data": {
      "image/png": "[encoded data removed]",
      "text/plain": [
       "<Figure size 800x600 with 1 Axes>"
      ]
     },
     "metadata": {},
     "output_type": "display_data"
    }
   ],
   "source": [
    "import gymnasium as gym\n",
    "import matplotlib.pyplot as plt\n",
    "\n",
    "from time import sleep\n",
    "from IPython import display as ipythondisplay\n",
    "\n",
    "# Create environment with rgb_array render mode\n",
    "env = gym.make('CartPole-v1', render_mode=\"rgb_array\")\n",
    "\n",
    "# Create a figure for displaying the environment\n",
    "plt.figure(figsize=(8, 6))\n",
    "\n",
    "# Simple policy that always moves right\n",
    "policy_dummy = lambda *obs: 1\n",
    "\n",
    "for episode in range(2):\n",
    "    obs, info = env.reset()\n",
    "    for step in range(80):\n",
    "        # Get action from policy\n",
    "        action = policy_dummy(obs)\n",
    "\n",
    "        # Take action in environment\n",
    "        obs, reward, done, truncated, info = env.step(action)\n",
    "        sleep(0.05)\n",
    "        \n",
    "\n",
    "        # Render and display\n",
    "        screen = env.render()\n",
    "        plt.clf()  # Clear the current figure\n",
    "        plt.imshow(screen)\n",
    "        plt.axis('off')  # Hide axes for cleaner display\n",
    "        ipythondisplay.clear_output(wait=True)\n",
    "        ipythondisplay.display(plt.gcf())\n",
    "\n",
    "        if done or truncated:\n",
    "            break\n",
    "\n",
    "ipythondisplay.clear_output(wait=True)\n",
    "env.close()\n",
    "plt.close()"
   ]
  },
  {
   "cell_type": "code",
   "execution_count": 18,
   "metadata": {
    "datalore": {
     "hide_input_from_viewers": false,
     "hide_output_from_viewers": false,
     "node_id": "WOru6aGnxHYL72NiJIpV8g",
     "report_properties": {
      "rowId": "i9jLooBPBxml9wsvovKXEN"
     },
     "type": "CODE"
    }
   },
   "outputs": [
    {
     "data": {
      "image/png": "[encoded data removed]",
      "text/plain": [
       "<Figure size 640x480 with 1 Axes>"
      ]
     },
     "metadata": {},
     "output_type": "display_data"
    }
   ],
   "source": [
    "prev_screen = env.render()\n",
    "plt.imshow(prev_screen)\n",
    "\n",
    "\n",
    "for _ in range(1):\n",
    "    obs = env.reset()\n",
    "    for _ in range(80):\n",
    "        encoded = get_array(obs)\n",
    "        encoded_reshaped = torch.from_numpy(encoded.reshape([1, encoded.shape[0]]))\n",
    "        predicted = policy(encoded_reshaped).detach().numpy().flatten()\n",
    "        action = np.argmax(predicted)\n",
    "        obs, reward, done, truncated, info = env.step(action)\n",
    "        sleep(0.05)\n",
    "\n",
    "        screen = env.render()\n",
    "\n",
    "        plt.imshow(screen)\n",
    "        ipythondisplay.clear_output(wait=True)\n",
    "        ipythondisplay.display(plt.gcf())\n",
    "\n",
    "        if done:\n",
    "            break\n",
    "\n",
    "ipythondisplay.clear_output(wait=True)\n",
    "env.close()"
   ]
  },
  {
   "cell_type": "code",
   "execution_count": 22,
   "metadata": {
    "ExecuteTime": {
     "end_time": "2025-02-17T08:59:40.091468Z",
     "start_time": "2025-02-17T08:59:40.087817Z"
    },
    "datalore": {
     "hide_input_from_viewers": false,
     "hide_output_from_viewers": false,
     "node_id": "FMagTOmCtWTptvAxKjrwVn",
     "report_properties": {
      "rowId": "FjUNTDFQ99uQHJ8UNSxwcF"
     },
     "type": "CODE"
    }
   },
   "outputs": [
    {
     "name": "stdout",
     "output_type": "stream",
     "text": [
      "----------------------------------------------------------------\n",
      "        Layer (type)               Output Shape         Param #\n",
      "================================================================\n",
      "            Linear-1                   [-1, 24]             120\n",
      "            Linear-2                   [-1, 12]             300\n",
      "            Linear-3                    [-1, 2]              26\n",
      "================================================================\n",
      "Total params: 446\n",
      "Trainable params: 446\n",
      "Non-trainable params: 0\n",
      "----------------------------------------------------------------\n",
      "Input size (MB): 0.00\n",
      "Forward/backward pass size (MB): 0.00\n",
      "Params size (MB): 0.00\n",
      "Estimated Total Size (MB): 0.00\n",
      "----------------------------------------------------------------\n"
     ]
    }
   ],
   "source": [
    "from torchsummary import summary\n",
    "\n",
    "summary(policy, (4,))"
   ]
  },
  {
   "cell_type": "code",
   "execution_count": null,
   "metadata": {
    "datalore": {
     "hide_input_from_viewers": false,
     "hide_output_from_viewers": false,
     "node_id": "3Df8uKFxnTXckXejNYV8Ir",
     "report_properties": {
      "rowId": "jWugVOfHDMKwGIskSQuRsG"
     },
     "type": "CODE"
    }
   },
   "outputs": [],
   "source": []
  }
 ],
 "metadata": {
  "datalore": {
   "base_environment": "default",
   "computation_mode": "JUPYTER",
   "package_manager": "pip",
   "packages": [],
   "report_row_ids": [
    "Wu7Qso3lo7luGFlOBqQYuP",
    "geyP1ybnADWS3uOZfFvLvu",
    "3ckvpLly6KlY7i7WMik3ub",
    "SBoDkhNEkhleE4btan6ENA",
    "YPiB3SDlxoOPR5DltWsj58",
    "p9FYcsPeynVmhoYK0SgQrT",
    "UHbX9NFYO7l99NXDM9ev5b",
    "r8HKebrmKIf8CaM64EAOUd",
    "kPHTQD9dpEBU0awGpJ7B8c",
    "7uf5Dxph8mHYaLIRzPRIKT",
    "tx1RstJGkFjwvuQhY9y0NG",
    "wjcHlvS4aU81AuE8N7mN8W",
    "mvKjOkppUK2WWS71kbO9Rn",
    "jOTTdoVnjIAIpxVYTJmLJG",
    "3LuVYbu2jSQqCAn8jyxudR",
    "DttKPp6SNtRn9VSplgGChb",
    "ucKdrfpNVthNurYtPPOvMD",
    "wzG2TdN0UR2q6TVB2JEtZb",
    "arJwzCXJJuEthKPUfKGXZQ",
    "Rjg8cJhG7XKE8SGAxR4gpn",
    "nSwPNo1FC9wGPQpsXtoBYS",
    "0eGWmKz1tviVfKWY7xOnLQ",
    "kvjm1cm5F1laEzUvPuc0Bt",
    "pUtdtrXhjEc88kaeJIMLXC",
    "N45l2zjmv5GpoUpVMOLgWu",
    "VoJcVW6UvPVkyGjLTAzG1n",
    "V7wacTWxbYAT58aOlNyJCA",
    "i9jLooBPBxml9wsvovKXEN",
    "FjUNTDFQ99uQHJ8UNSxwcF"
   ],
   "version": 3
  },
  "kernelspec": {
   "display_name": "Python 3 (ipykernel)",
   "language": "python",
   "name": "python3"
  },
  "language_info": {
   "codemirror_mode": {
    "name": "ipython",
    "version": 3
   },
   "file_extension": ".py",
   "mimetype": "text/x-python",
   "name": "python",
   "nbconvert_exporter": "python",
   "pygments_lexer": "ipython3",
   "version": "3.12.6"
  }
 },
 "nbformat": 4,
 "nbformat_minor": 4
}
