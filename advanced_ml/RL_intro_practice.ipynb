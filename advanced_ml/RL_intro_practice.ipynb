{
 "cells": [
  {
   "cell_type": "markdown",
   "source": [
    "<center><img src=\"./images/nup_logo_dark.jpeg\" width=300 style=\"display: inline-block;\"></center> \n",
    "\n",
    "## Advanced Machine Learning\n",
    "### Reinforcement learning intro, practice\n",
    "\n",
    "<br />\n",
    "<br />\n",
    "February 18, 2025"
   ],
   "attachments": {},
   "metadata": {
    "datalore": {
     "node_id": "h6GZbSte6pmwE7v9Z6eZdU",
     "type": "MD",
     "hide_input_from_viewers": false,
     "hide_output_from_viewers": false,
     "report_properties": {
      "rowId": "Wu7Qso3lo7luGFlOBqQYuP"
     }
    }
   }
  },
  {
   "cell_type": "markdown",
   "source": "[![Open In Collab](https://colab.research.google.com/assets/colab-badge.svg)](https://colab.research.google.com/drive/1igPnv-YJprmpiw8HaJZK_QVJ-L85o4uK?usp=sharing)",
   "attachments": {},
   "metadata": {
    "datalore": {
     "node_id": "RoJNRU9vZ8upTLjecRCcK2",
     "type": "MD",
     "hide_input_from_viewers": false,
     "hide_output_from_viewers": false,
     "report_properties": {
      "rowId": "geyP1ybnADWS3uOZfFvLvu"
     }
    }
   }
  },
  {
   "cell_type": "markdown",
   "source": [
    "## Import libraries"
   ],
   "attachments": {},
   "metadata": {
    "datalore": {
     "node_id": "GqAuCl9EynP4k2m9GZeHnQ",
     "type": "MD",
     "hide_input_from_viewers": false,
     "hide_output_from_viewers": false,
     "report_properties": {
      "rowId": "3ckvpLly6KlY7i7WMik3ub"
     }
    }
   }
  },
  {
   "cell_type": "code",
   "source": [
    "import numpy as np\n",
    "import pandas as pd\n",
    "\n",
    "import matplotlib.pyplot as plt"
   ],
   "metadata": {
    "datalore": {
     "node_id": "mIGio9VjD5WlP1hELSPGc0",
     "type": "CODE",
     "hide_input_from_viewers": false,
     "hide_output_from_viewers": false,
     "report_properties": {
      "rowId": "SBoDkhNEkhleE4btan6ENA"
     }
    },
    "ExecuteTime": {
     "end_time": "2024-02-01T10:16:44.187644Z",
     "start_time": "2024-02-01T10:16:44.183317Z"
    }
   },
   "outputs": [],
   "execution_count": 9
  },
  {
   "cell_type": "markdown",
   "source": [
    "### RiverSwim Problem"
   ],
   "attachments": {},
   "metadata": {
    "datalore": {
     "node_id": "nDN61PWyt5qpyO3bPIhGn5",
     "type": "MD",
     "hide_input_from_viewers": false,
     "hide_output_from_viewers": false,
     "report_properties": {
      "rowId": "YPiB3SDlxoOPR5DltWsj58"
     }
    }
   }
  },
  {
   "cell_type": "markdown",
   "source": [
    "\n",
    "![river_swim_problem](images/river_swim_problem.jpg)"
   ],
   "attachments": {},
   "metadata": {
    "datalore": {
     "node_id": "pqX21FThOTK3V1m2lVmeVV",
     "type": "MD",
     "hide_input_from_viewers": false,
     "hide_output_from_viewers": false,
     "report_properties": {
      "rowId": "p9FYcsPeynVmhoYK0SgQrT"
     }
    }
   }
  },
  {
   "cell_type": "markdown",
   "source": [
    "[https://arxiv.org/pdf/1306.0940.pdf](https://arxiv.org/pdf/1306.0940.pdf)\n",
    "\n",
    "Problem based on Markov processes. There are only two actions — to try to swim against the current or not to try."
   ],
   "attachments": {},
   "metadata": {
    "datalore": {
     "node_id": "MUKxO61gLvfLDapZnNQNum",
     "type": "MD",
     "hide_input_from_viewers": false,
     "hide_output_from_viewers": false,
     "report_properties": {
      "rowId": "UHbX9NFYO7l99NXDM9ev5b"
     }
    }
   }
  },
  {
   "cell_type": "code",
   "source": [
    "class RiverSwim:\n",
    "    def __init__(self, \n",
    "                 isc = 4, # intermediate states count — number of states excluding first and last\n",
    "                 max_steps = 16, # the maximum number of steps we take in one episode\n",
    "                 lr   = 5/1000, # left reward \n",
    "                 rr   = 1.0, # right reward\n",
    "                 seed = 42):\n",
    "        self.rs = np.random.RandomState(seed)\n",
    "        self._max_steps = max_steps\n",
    "        self._interm_states = isc\n",
    "\n",
    "        self._steps = 0\n",
    "        self._current_state = 1\n",
    "\n",
    "        self.lr = lr\n",
    "        self.rr = rr\n",
    "        \n",
    "    @property\n",
    "    def action_count(self):\n",
    "        return 2\n",
    "    \n",
    "    @property\n",
    "    def states_count(self):\n",
    "        return 2 + self._interm_states\n",
    "    \n",
    "    def _get_probs(self, action):\n",
    "        if action == 0:\n",
    "            if self._current_state == 0:\n",
    "                return [0.00, 1.00, 0.00]\n",
    "            else:\n",
    "                return [1.00, 0.00, 0.00]\n",
    "            \n",
    "        elif action == 1:\n",
    "            if self._current_state == 0:\n",
    "                return [0.00, 0.40, 0.60]\n",
    "            if self._current_state == self.states_count - 1:\n",
    "                return [0.40, 0.60, 0.00]\n",
    "            else:\n",
    "                return [0.05, 0.60, 0.35]\n",
    "\n",
    "    def step(self, action):\n",
    "        reward = 0.0\n",
    "        if self._steps >= self._max_steps:\n",
    "            return self._current_state, reward, True\n",
    "        \n",
    "        transition = self.rs.choice(range(3), p=self._get_probs(action))\n",
    "        if transition == 0:\n",
    "            self._current_state -= 1\n",
    "        elif transition == 1:\n",
    "            pass\n",
    "        else:\n",
    "            self._current_state += 1\n",
    "\n",
    "        if self._current_state == 0:\n",
    "            reward = self.lr\n",
    "        elif self._current_state == self.states_count - 1:\n",
    "            reward = self.rr\n",
    "        \n",
    "        self._steps += 1\n",
    "        return self._current_state, reward, False"
   ],
   "metadata": {
    "datalore": {
     "node_id": "e4xZUtdLqYKiMQMOCT5e9h",
     "type": "CODE",
     "hide_input_from_viewers": false,
     "hide_output_from_viewers": false,
     "report_properties": {
      "rowId": "r8HKebrmKIf8CaM64EAOUd"
     }
    },
    "ExecuteTime": {
     "end_time": "2024-02-01T10:09:48.377765Z",
     "start_time": "2024-02-01T10:09:48.369523Z"
    }
   },
   "outputs": [],
   "execution_count": 2
  },
  {
   "cell_type": "code",
   "source": [
    "class QLearningAgent:\n",
    "    # n states, K actions\n",
    "    def __init__(self, n, K, lr=0.2, gamma=0.95, epsilon=0.3, seed=42):\n",
    "        self.rs = np.random.RandomState(seed)\n",
    "        self._gamma = gamma\n",
    "        self._epsilon = epsilon\n",
    "        self._q_matrix = np.zeros((n, K))\n",
    "        self._lr = lr\n",
    "\n",
    "    def get_action(self, state):\n",
    "        if self.rs.random() < self._epsilon:\n",
    "            return self.rs.randint(0, self._q_matrix.shape[1])\n",
    "        else:\n",
    "            return np.argmax(self._q_matrix[state])\n",
    "    \n",
    "    def get_q_matrix(self):\n",
    "        return self._q_matrix\n",
    "        \n",
    "    def start_episode(self):\n",
    "        pass\n",
    "\n",
    "    def update(self, state, action, reward, next_state):\n",
    "        self._q_matrix[state, action] = (1 - self._lr) * self._q_matrix[state, action] + self._lr*(reward + self._gamma*np.max(self._q_matrix[next_state]))\n",
    "        return"
   ],
   "metadata": {
    "datalore": {
     "node_id": "cZ0ldEJeYAoLf5sqN0DL55",
     "type": "CODE",
     "hide_input_from_viewers": false,
     "hide_output_from_viewers": false,
     "report_properties": {
      "rowId": "kPHTQD9dpEBU0awGpJ7B8c"
     }
    },
    "ExecuteTime": {
     "end_time": "2024-02-01T10:09:49.452289Z",
     "start_time": "2024-02-01T10:09:49.446345Z"
    }
   },
   "outputs": [],
   "execution_count": 3
  },
  {
   "cell_type": "code",
   "source": [
    "n = 3\n",
    "ms = 1024\n",
    "episodes = 500\n",
    "actions = 2\n",
    "\n",
    "agent = QLearningAgent(2+n, actions)\n",
    "\n",
    "episode_rewards = []\n",
    "for ep in range(episodes):\n",
    "    river_swim = RiverSwim(n, ms)\n",
    "\n",
    "    state, ep_reward, is_done = river_swim._current_state, 0.0, False\n",
    "    agent.start_episode()\n",
    "    while not is_done:\n",
    "        action = agent.get_action(state)\n",
    "        next_state, reward, is_done = river_swim.step(action)\n",
    "        agent.update(state, action, reward, next_state)\n",
    "        \n",
    "        state = next_state\n",
    "        ep_reward += reward\n",
    "        \n",
    "    episode_rewards.append(ep_reward)\n",
    "\n",
    "\n",
    "plt.figure(figsize=(15, 8))\n",
    "\n",
    "plt.plot(pd.DataFrame(np.array(episode_rewards)).ewm(alpha=.1).mean())\n",
    "plt.xlabel(\"Episode count\")\n",
    "plt.ylabel(\"Reward\")\n",
    "plt.show()"
   ],
   "metadata": {
    "datalore": {
     "node_id": "V4d2Ur0lIoYvL2IyhbCnno",
     "type": "CODE",
     "hide_input_from_viewers": false,
     "hide_output_from_viewers": false,
     "report_properties": {
      "rowId": "7uf5Dxph8mHYaLIRzPRIKT"
     }
    },
    "ExecuteTime": {
     "end_time": "2024-02-01T10:10:14.362498Z",
     "start_time": "2024-02-01T10:10:01.120614Z"
    }
   },
   "outputs": [
    {
     "data": {
      "text/plain": [
       "<Figure size 1500x800 with 1 Axes>"
      ],
      "image/png": "[encoded data removed]"
     },
     "metadata": {},
     "output_type": "display_data"
    }
   ],
   "execution_count": 4
  },
  {
   "cell_type": "code",
   "source": [
    "fig = plt.figure(figsize=(15, 8))\n",
    "ax = fig.add_subplot(111)\n",
    "ax.matshow(agent.get_q_matrix().T)\n",
    "ax.set_yticks([0, 1])\n",
    "ax.set_yticklabels(['no act', 'swim'])\n",
    "plt.xlabel(\"State\")\n",
    "plt.ylabel(\"Action\")\n",
    "plt.title(\"Values of state-action pairs\")\n",
    "plt.show()"
   ],
   "metadata": {
    "datalore": {
     "node_id": "NLNRJHXOhMwgDCXTUX1WI7",
     "type": "CODE",
     "hide_input_from_viewers": false,
     "hide_output_from_viewers": false,
     "report_properties": {
      "rowId": "tx1RstJGkFjwvuQhY9y0NG"
     }
    },
    "ExecuteTime": {
     "end_time": "2024-02-01T10:13:09.313986Z",
     "start_time": "2024-02-01T10:13:09.091821Z"
    }
   },
   "outputs": [
    {
     "data": {
      "text/plain": [
       "<Figure size 1500x800 with 1 Axes>"
      ],
      "image/png": "[encoded data removed]"
     },
     "metadata": {},
     "output_type": "display_data"
    }
   ],
   "execution_count": 8
  },
  {
   "cell_type": "markdown",
   "source": [
    "## A Minimal Deep Q-Network\n",
    "\n",
    "We'll consider how to code a minimal Deep Q-Network to solve the CartPole environment."
   ],
   "attachments": {},
   "metadata": {
    "datalore": {
     "node_id": "R3jyTdbidw35Dox77Mex6V",
     "type": "MD",
     "hide_input_from_viewers": false,
     "hide_output_from_viewers": false,
     "report_properties": {
      "rowId": "wjcHlvS4aU81AuE8N7mN8W"
     }
    }
   }
  },
  {
   "cell_type": "markdown",
   "source": [
    "### Step 1. Import libraries and setup the environment"
   ],
   "attachments": {},
   "metadata": {
    "datalore": {
     "node_id": "2KV2tSsTFGORVONDzDogZt",
     "type": "MD",
     "hide_input_from_viewers": false,
     "hide_output_from_viewers": false,
     "report_properties": {
      "rowId": "mvKjOkppUK2WWS71kbO9Rn"
     }
    }
   }
  },
  {
   "cell_type": "code",
   "source": "!pip install gymnasium",
   "metadata": {
    "datalore": {
     "node_id": "aoudKJH47GDvUU6HPelqP5",
     "type": "CODE",
     "hide_input_from_viewers": false,
     "hide_output_from_viewers": false,
     "report_properties": {
      "rowId": "jOTTdoVnjIAIpxVYTJmLJG"
     }
    },
    "ExecuteTime": {
     "end_time": "2024-02-01T10:17:44.037232Z",
     "start_time": "2024-02-01T10:17:32.139824Z"
    }
   },
   "outputs": [
    {
     "name": "stdout",
     "output_type": "stream",
     "text": [
      "Collecting gymnasium\n",
      "  Downloading gymnasium-0.29.1-py3-none-any.whl.metadata (10 kB)\n",
      "Requirement already satisfied: numpy>=1.21.0 in c:\\users\\ovalu\\appdata\\local\\programs\\python\\python312\\lib\\site-packages (from gymnasium) (1.26.2)\n",
      "Collecting cloudpickle>=1.2.0 (from gymnasium)\n",
      "  Downloading cloudpickle-3.0.0-py3-none-any.whl.metadata (7.0 kB)\n",
      "Collecting typing-extensions>=4.3.0 (from gymnasium)\n",
      "  Downloading typing_extensions-4.9.0-py3-none-any.whl.metadata (3.0 kB)\n",
      "Collecting farama-notifications>=0.0.1 (from gymnasium)\n",
      "  Downloading Farama_Notifications-0.0.4-py3-none-any.whl (2.5 kB)\n",
      "Downloading gymnasium-0.29.1-py3-none-any.whl (953 kB)\n",
      "   ---------------------------------------- 0.0/953.9 kB ? eta -:--:--\n",
      "   ---------------------------------------- 10.2/953.9 kB ? eta -:--:--\n",
      "   - ------------------------------------- 30.7/953.9 kB 435.7 kB/s eta 0:00:03\n",
      "   --- ----------------------------------- 92.2/953.9 kB 751.6 kB/s eta 0:00:02\n",
      "   ------- -------------------------------- 174.1/953.9 kB 1.1 MB/s eta 0:00:01\n",
      "   ----------- ---------------------------- 276.5/953.9 kB 1.3 MB/s eta 0:00:01\n",
      "   --------------------- ------------------ 522.2/953.9 kB 2.0 MB/s eta 0:00:01\n",
      "   -------------------------------- ------- 778.2/953.9 kB 2.6 MB/s eta 0:00:01\n",
      "   ---------------------------------------- 953.9/953.9 kB 3.0 MB/s eta 0:00:00\n",
      "Downloading cloudpickle-3.0.0-py3-none-any.whl (20 kB)\n",
      "Downloading typing_extensions-4.9.0-py3-none-any.whl (32 kB)\n",
      "Installing collected packages: farama-notifications, typing-extensions, cloudpickle, gymnasium\n",
      "Successfully installed cloudpickle-3.0.0 farama-notifications-0.0.4 gymnasium-0.29.1 typing-extensions-4.9.0\n"
     ]
    },
    {
     "name": "stderr",
     "output_type": "stream",
     "text": [
      "\n",
      "[notice] A new release of pip is available: 23.3.1 -> 23.3.2\n",
      "[notice] To update, run: C:\\Users\\ovalu\\AppData\\Local\\Programs\\Python\\Python312\\python.exe -m pip install --upgrade pip\n"
     ]
    }
   ],
   "execution_count": 10
  },
  {
   "cell_type": "code",
   "source": [
    "import torch\n",
    "import torch.nn as nn\n",
    "import torch.nn.functional as F\n",
    "import torch.optim as optim\n",
    "\n",
    "import gymnasium as gym\n",
    "import numpy as np\n",
    "\n",
    "from collections import deque\n",
    "import time\n",
    "import random"
   ],
   "metadata": {
    "datalore": {
     "node_id": "rFhLm9oOGwxwfYMQ7UeDCp",
     "type": "CODE",
     "hide_input_from_viewers": false,
     "hide_output_from_viewers": false,
     "report_properties": {
      "rowId": "3LuVYbu2jSQqCAn8jyxudR"
     }
    },
    "ExecuteTime": {
     "end_time": "2024-02-01T10:21:39.711282Z",
     "start_time": "2024-02-01T10:21:37.828754Z"
    }
   },
   "outputs": [],
   "execution_count": 11
  },
  {
   "cell_type": "code",
   "source": [
    "RANDOM_SEED = 5\n",
    "\n",
    "env = gym.make('CartPole-v1', render_mode='rgb_array')\n",
    "np.random.seed(RANDOM_SEED)\n",
    "\n",
    "print(\"Action Space: {}\".format(env.action_space))\n",
    "print(\"State space: {}\".format(env.observation_space))"
   ],
   "metadata": {
    "datalore": {
     "node_id": "e0mhp48ATqpqZsDENBSSHP",
     "type": "CODE",
     "hide_input_from_viewers": false,
     "hide_output_from_viewers": false,
     "report_properties": {
      "rowId": "DttKPp6SNtRn9VSplgGChb"
     }
    },
    "ExecuteTime": {
     "end_time": "2024-02-01T10:21:39.730173Z",
     "start_time": "2024-02-01T10:21:39.712285Z"
    }
   },
   "outputs": [
    {
     "name": "stdout",
     "output_type": "stream",
     "text": [
      "Action Space: Discrete(2)\n",
      "State space: Box([-4.8000002e+00 -3.4028235e+38 -4.1887903e-01 -3.4028235e+38], [4.8000002e+00 3.4028235e+38 4.1887903e-01 3.4028235e+38], (4,), float32)\n"
     ]
    }
   ],
   "execution_count": 12
  },
  {
   "cell_type": "code",
   "source": [
    "help(env.env)"
   ],
   "metadata": {
    "datalore": {
     "node_id": "GylX9q2dRVzs4zDZL2mHpc",
     "type": "CODE",
     "hide_input_from_viewers": false,
     "hide_output_from_viewers": false,
     "report_properties": {
      "rowId": "ucKdrfpNVthNurYtPPOvMD"
     }
    },
    "ExecuteTime": {
     "end_time": "2024-02-01T10:22:47.062684Z",
     "start_time": "2024-02-01T10:22:47.056777Z"
    }
   },
   "outputs": [
    {
     "name": "stdout",
     "output_type": "stream",
     "text": [
      "Help on OrderEnforcing in module gymnasium.wrappers.order_enforcing object:\n",
      "\n",
      "class OrderEnforcing(gymnasium.core.Wrapper, gymnasium.utils.record_constructor.RecordConstructorArgs)\n",
      " |  OrderEnforcing(env: 'gym.Env', disable_render_order_enforcing: 'bool' = False)\n",
      " |\n",
      " |  A wrapper that will produce an error if :meth:`step` is called before an initial :meth:`reset`.\n",
      " |\n",
      " |  Example:\n",
      " |      >>> import gymnasium as gym\n",
      " |      >>> from gymnasium.wrappers import OrderEnforcing\n",
      " |      >>> env = gym.make(\"CartPole-v1\", render_mode=\"human\")\n",
      " |      >>> env = OrderEnforcing(env)\n",
      " |      >>> env.step(0)\n",
      " |      Traceback (most recent call last):\n",
      " |          ...\n",
      " |      gymnasium.error.ResetNeeded: Cannot call env.step() before calling env.reset()\n",
      " |      >>> env.render()\n",
      " |      Traceback (most recent call last):\n",
      " |          ...\n",
      " |      gymnasium.error.ResetNeeded: Cannot call `env.render()` before calling `env.reset()`, if this is a intended action, set `disable_render_order_enforcing=True` on the OrderEnforcer wrapper.\n",
      " |      >>> _ = env.reset()\n",
      " |      >>> env.render()\n",
      " |      >>> _ = env.step(0)\n",
      " |      >>> env.close()\n",
      " |\n",
      " |  Method resolution order:\n",
      " |      OrderEnforcing\n",
      " |      gymnasium.core.Wrapper\n",
      " |      gymnasium.core.Env\n",
      " |      typing.Generic\n",
      " |      gymnasium.utils.record_constructor.RecordConstructorArgs\n",
      " |      builtins.object\n",
      " |\n",
      " |  Methods defined here:\n",
      " |\n",
      " |  __init__(self, env: 'gym.Env', disable_render_order_enforcing: 'bool' = False)\n",
      " |      A wrapper that will produce an error if :meth:`step` is called before an initial :meth:`reset`.\n",
      " |\n",
      " |      Args:\n",
      " |          env: The environment to wrap\n",
      " |          disable_render_order_enforcing: If to disable render order enforcing\n",
      " |\n",
      " |  render(self, *args, **kwargs)\n",
      " |      Renders the environment with `kwargs`.\n",
      " |\n",
      " |  reset(self, **kwargs)\n",
      " |      Resets the environment with `kwargs`.\n",
      " |\n",
      " |  step(self, action)\n",
      " |      Steps through the environment with `kwargs`.\n",
      " |\n",
      " |  ----------------------------------------------------------------------\n",
      " |  Readonly properties defined here:\n",
      " |\n",
      " |  has_reset\n",
      " |      Returns if the environment has been reset before.\n",
      " |\n",
      " |  spec\n",
      " |      Modifies the environment spec to add the `order_enforce=True`.\n",
      " |\n",
      " |  ----------------------------------------------------------------------\n",
      " |  Data and other attributes defined here:\n",
      " |\n",
      " |  __annotations__ = {}\n",
      " |\n",
      " |  __parameters__ = ()\n",
      " |\n",
      " |  ----------------------------------------------------------------------\n",
      " |  Methods inherited from gymnasium.core.Wrapper:\n",
      " |\n",
      " |  __getattr__(self, name: 'str') -> 'Any'\n",
      " |      Returns an attribute with ``name``, unless ``name`` starts with an underscore.\n",
      " |\n",
      " |      Args:\n",
      " |          name: The variable name\n",
      " |\n",
      " |      Returns:\n",
      " |          The value of the variable in the wrapper stack\n",
      " |\n",
      " |      Warnings:\n",
      " |          This feature is deprecated and removed in v1.0 and replaced with `env.get_attr(name})`\n",
      " |\n",
      " |  __repr__(self)\n",
      " |      Returns the string representation of the wrapper.\n",
      " |\n",
      " |  __str__(self)\n",
      " |      Returns the wrapper name and the :attr:`env` representation string.\n",
      " |\n",
      " |  close(self)\n",
      " |      Closes the wrapper and :attr:`env`.\n",
      " |\n",
      " |  get_wrapper_attr(self, name: 'str') -> 'Any'\n",
      " |      Gets an attribute from the wrapper and lower environments if `name` doesn't exist in this object.\n",
      " |\n",
      " |      Args:\n",
      " |          name: The variable name to get\n",
      " |\n",
      " |      Returns:\n",
      " |          The variable with name in wrapper or lower environments\n",
      " |\n",
      " |  ----------------------------------------------------------------------\n",
      " |  Class methods inherited from gymnasium.core.Wrapper:\n",
      " |\n",
      " |  class_name() -> 'str' from builtins.type\n",
      " |      Returns the class name of the wrapper.\n",
      " |\n",
      " |  wrapper_spec(**kwargs: 'Any') -> 'WrapperSpec' from builtins.type\n",
      " |      Generates a `WrapperSpec` for the wrappers.\n",
      " |\n",
      " |  ----------------------------------------------------------------------\n",
      " |  Readonly properties inherited from gymnasium.core.Wrapper:\n",
      " |\n",
      " |  render_mode\n",
      " |      Returns the :attr:`Env` :attr:`render_mode`.\n",
      " |\n",
      " |  unwrapped\n",
      " |      Returns the base environment of the wrapper.\n",
      " |\n",
      " |      This will be the bare :class:`gymnasium.Env` environment, underneath all layers of wrappers.\n",
      " |\n",
      " |  ----------------------------------------------------------------------\n",
      " |  Data descriptors inherited from gymnasium.core.Wrapper:\n",
      " |\n",
      " |  action_space\n",
      " |      Return the :attr:`Env` :attr:`action_space` unless overwritten then the wrapper :attr:`action_space` is used.\n",
      " |\n",
      " |  metadata\n",
      " |      Returns the :attr:`Env` :attr:`metadata`.\n",
      " |\n",
      " |  np_random\n",
      " |      Returns the :attr:`Env` :attr:`np_random` attribute.\n",
      " |\n",
      " |  observation_space\n",
      " |      Return the :attr:`Env` :attr:`observation_space` unless overwritten then the wrapper :attr:`observation_space` is used.\n",
      " |\n",
      " |  reward_range\n",
      " |      Return the :attr:`Env` :attr:`reward_range` unless overwritten then the wrapper :attr:`reward_range` is used.\n",
      " |\n",
      " |  ----------------------------------------------------------------------\n",
      " |  Data and other attributes inherited from gymnasium.core.Wrapper:\n",
      " |\n",
      " |  __orig_bases__ = (gymnasium.core.Env[~WrapperObsType, ~WrapperActType]...\n",
      " |\n",
      " |  ----------------------------------------------------------------------\n",
      " |  Methods inherited from gymnasium.core.Env:\n",
      " |\n",
      " |  __enter__(self)\n",
      " |      Support with-statement for the environment.\n",
      " |\n",
      " |  __exit__(self, *args: 'Any')\n",
      " |      Support with-statement for the environment and closes the environment.\n",
      " |\n",
      " |  ----------------------------------------------------------------------\n",
      " |  Data descriptors inherited from gymnasium.core.Env:\n",
      " |\n",
      " |  __dict__\n",
      " |      dictionary for instance variables (if defined)\n",
      " |\n",
      " |  __weakref__\n",
      " |      list of weak references to the object (if defined)\n",
      " |\n",
      " |  ----------------------------------------------------------------------\n",
      " |  Class methods inherited from typing.Generic:\n",
      " |\n",
      " |  __class_getitem__(...) from builtins.type\n",
      " |      Parameterizes a generic class.\n",
      " |\n",
      " |      At least, parameterizing a generic class is the *main* thing this\n",
      " |      method does. For example, for some generic class `Foo`, this is called\n",
      " |      when we do `Foo[int]` - there, with `cls=Foo` and `params=int`.\n",
      " |\n",
      " |      However, note that this method is also called when defining generic\n",
      " |      classes in the first place with `class Foo[T]: ...`.\n",
      " |\n",
      " |  __init_subclass__(...) from builtins.type\n",
      " |      Function to initialize subclasses.\n",
      "\n"
     ]
    }
   ],
   "execution_count": 13
  },
  {
   "cell_type": "markdown",
   "source": [
    "### Step 2. Define the network architecture"
   ],
   "attachments": {},
   "metadata": {
    "datalore": {
     "node_id": "GDCLAL7e6uz1ac9bCUiH5n",
     "type": "MD",
     "hide_input_from_viewers": false,
     "hide_output_from_viewers": false,
     "report_properties": {
      "rowId": "wzG2TdN0UR2q6TVB2JEtZb"
     }
    }
   }
  },
  {
   "cell_type": "code",
   "source": [
    "# An episode a full game\n",
    "train_episodes = 150\n",
    "\n",
    "class DQNAgent(nn.Module):\n",
    "    \"\"\" The agent maps X-states to Y-actions\n",
    "    e.g. if the neural network output is [.1, .7, .05, 0.05, .05, .05]\n",
    "    than the highest value 0.7 is the Q-Value.\n",
    "    The index of the highest action (0.7) is action #1.\n",
    "    \"\"\"\n",
    "    def __init__(self, state_shape, action_shape):\n",
    "        super(DQNAgent, self).__init__()\n",
    "        self.fc1 = nn.Linear(state_shape, 24)\n",
    "        self.fc2 = nn.Linear(24, 12)\n",
    "        self.fc3 = nn.Linear(12, action_shape)\n",
    "\n",
    "    def forward(self, x):\n",
    "        x = F.relu(self.fc1(x))\n",
    "        x = F.relu(self.fc2(x))\n",
    "        x = self.fc3(x)  # No activation as in your keras model\n",
    "        return x\n",
    "\n",
    "# Define a function to get Q-values\n",
    "def get_qs(model, state):\n",
    "    state = torch.tensor(state, dtype=torch.float32)  # Convert to PyTorch tensor\n",
    "    state = state.unsqueeze(0)  # Reshape\n",
    "    return model(state).detach().numpy()[0]  # Compute Q-values and convert to numpy array\n",
    "\n",
    "\n",
    "def train_nn(model, X, Y, batch_size=64, shuffle=True):\n",
    "    # Use GPU if available\n",
    "    device = torch.device(\"cuda\" if torch.cuda.is_available() else \"cpu\")\n",
    "    model = model.to(device)\n",
    "\n",
    "    # Set the model in training mode\n",
    "    model.train()\n",
    "\n",
    "    # Define an optimizer and a loss function\n",
    "    optimizer = torch.optim.Adam(model.parameters(), lr=0.001)\n",
    "    loss_fn = nn.SmoothL1Loss()  # Huber Loss\n",
    "\n",
    "    # Convert the data to PyTorch tensors\n",
    "    X_tensor = torch.tensor(X, dtype=torch.float32).to(device)\n",
    "    Y_tensor = torch.tensor(Y, dtype=torch.float32).to(device)\n",
    "\n",
    "    # Create a data loader\n",
    "    dataset = torch.utils.data.TensorDataset(X_tensor, Y_tensor)\n",
    "    data_loader = torch.utils.data.DataLoader(dataset, batch_size=batch_size, shuffle=shuffle)\n",
    "\n",
    "    epoch = 0\n",
    "    for batch_x, batch_y in data_loader:\n",
    "        # Reset the gradients\n",
    "        optimizer.zero_grad()\n",
    "\n",
    "        # Forward pass\n",
    "        output = model(batch_x)\n",
    "\n",
    "        # Calculate the loss\n",
    "        loss = loss_fn(output, batch_y)\n",
    "\n",
    "        # Backward pass\n",
    "        loss.backward()\n",
    "\n",
    "        # Update the weights\n",
    "        optimizer.step()\n",
    "\n",
    "    # Print loss for this epoch\n",
    "    print(f\"Epoch {epoch + 1}, Loss: {loss.item()}\")\n",
    "\n",
    "    return model"
   ],
   "metadata": {
    "datalore": {
     "node_id": "ZRLOqX2JLhx6ZnhjgmTYp9",
     "type": "CODE",
     "hide_input_from_viewers": false,
     "hide_output_from_viewers": false,
     "report_properties": {
      "rowId": "arJwzCXJJuEthKPUfKGXZQ"
     }
    },
    "ExecuteTime": {
     "end_time": "2024-02-01T10:23:19.214531Z",
     "start_time": "2024-02-01T10:23:19.207763Z"
    }
   },
   "outputs": [],
   "execution_count": 14
  },
  {
   "cell_type": "markdown",
   "source": [
    "### Step 3. Define the train function using Experience Replay"
   ],
   "attachments": {},
   "metadata": {
    "datalore": {
     "node_id": "wGcVmmyEP6wHSqQ4wKPFjR",
     "type": "MD",
     "hide_input_from_viewers": false,
     "hide_output_from_viewers": false,
     "report_properties": {
      "rowId": "Rjg8cJhG7XKE8SGAxR4gpn"
     }
    }
   }
  },
  {
   "cell_type": "code",
   "source": [
    "def get_array(obs):\n",
    "    return obs[0] if type(obs) is tuple else obs\n",
    "\n",
    "\n",
    "def train(env, replay_memory, model, target_model, done):\n",
    "    learning_rate = 0.7\n",
    "    discount_factor = 0.618\n",
    "\n",
    "    MIN_REPLAY_SIZE = 1000\n",
    "    if len(replay_memory) < MIN_REPLAY_SIZE:\n",
    "        return\n",
    "\n",
    "    batch_size = 64 * 2\n",
    "    # replay_memory is list of [observation, action, reward, new_observation, done])\n",
    "    mini_batch = random.sample(replay_memory, batch_size)\n",
    "\n",
    "    current_states = np.array([get_array(transition[0]) for transition in mini_batch], dtype='float32')\n",
    "    current_qs_list = model(torch.tensor(current_states))\n",
    "    new_current_states = np.array([get_array(transition[3]) for transition in mini_batch], dtype='float32')\n",
    "    future_qs_list = target_model(torch.tensor(new_current_states))\n",
    "\n",
    "    X = []\n",
    "    Y = []\n",
    "    for index, (observation, action, reward, new_observation, done) in enumerate(mini_batch):\n",
    "        if not done:\n",
    "            max_future_q = reward + discount_factor * np.max(future_qs_list[index].detach().numpy())\n",
    "        else:\n",
    "            max_future_q = reward\n",
    "\n",
    "        current_qs = current_qs_list[index].detach().numpy()\n",
    "        current_qs[action] = (1 - learning_rate) * current_qs[action] + learning_rate * max_future_q\n",
    "\n",
    "        X.append(get_array(observation))\n",
    "        Y.append(current_qs)\n",
    "    model = train_nn(model, np.array(X, dtype='float32'), np.array(Y, dtype='float32'),\n",
    "                     batch_size=batch_size, shuffle=True)\n"
   ],
   "metadata": {
    "datalore": {
     "node_id": "TGvEu58Bq0BOrHLuJOAliI",
     "type": "CODE",
     "hide_input_from_viewers": false,
     "hide_output_from_viewers": false,
     "report_properties": {
      "rowId": "nSwPNo1FC9wGPQpsXtoBYS"
     }
    },
    "ExecuteTime": {
     "end_time": "2024-02-01T10:23:31.967534Z",
     "start_time": "2024-02-01T10:23:31.962041Z"
    }
   },
   "outputs": [],
   "execution_count": 15
  },
  {
   "cell_type": "markdown",
   "source": [
    "### Step 4. Run the Deep Q-Network Algorithm"
   ],
   "attachments": {},
   "metadata": {
    "datalore": {
     "node_id": "90eZMuew1SmeQfLJpBJlka",
     "type": "MD",
     "hide_input_from_viewers": false,
     "hide_output_from_viewers": false,
     "report_properties": {
      "rowId": "0eGWmKz1tviVfKWY7xOnLQ"
     }
    }
   }
  },
  {
   "cell_type": "code",
   "source": [
    "def main():\n",
    "    epsilon = 1 # Epsilon-greedy algorithm in initialized at 1 meaning every step is random at the start\n",
    "    max_epsilon = 1 # You can't explore more than 100% of the time\n",
    "    min_epsilon = 0.01 # At a minimum, we'll always explore 1% of the time\n",
    "    decay = 0.01\n",
    "\n",
    "    # 1. Initialize the Target and Main models\n",
    "    # Main Model (updated every 4 steps)\n",
    "    model = DQNAgent(env.observation_space.shape[0], env.action_space.n)\n",
    "    # Target Model (updated every 100 steps)\n",
    "    target_model = DQNAgent(env.observation_space.shape[0], env.action_space.n)\n",
    "    target_model.load_state_dict(model.state_dict())\n",
    "\n",
    "    replay_memory = deque(maxlen=50_000)\n",
    "\n",
    "    target_update_counter = 0\n",
    "\n",
    "    # X = states, y = actions\n",
    "    X = []\n",
    "    y = []\n",
    "\n",
    "    steps_to_update_target_model = 0\n",
    "\n",
    "    for episode in range(train_episodes):\n",
    "        total_training_rewards = 0\n",
    "        observation = env.reset()\n",
    "        done = False\n",
    "        while not done:\n",
    "            steps_to_update_target_model += 1\n",
    "            #if True:\n",
    "            #    env.render()\n",
    "\n",
    "            random_number = np.random.rand()\n",
    "            # 2. Explore using the Epsilon Greedy Exploration Strategy\n",
    "            if random_number <= epsilon:\n",
    "                # Explore\n",
    "                action = env.action_space.sample()\n",
    "            else:\n",
    "                # Exploit best known action\n",
    "                # model dims are (batch, env.observation_space.n)\n",
    "                encoded = get_array(observation)\n",
    "                encoded_reshaped = torch.from_numpy(encoded.reshape([1, encoded.shape[0]]))\n",
    "                predicted = model(encoded_reshaped).detach().numpy().flatten()\n",
    "                action = np.argmax(predicted)\n",
    "            new_observation, reward, done, info, _ = env.step(action)\n",
    "            replay_memory.append([observation, action, reward, new_observation, done])\n",
    "\n",
    "            # 3. Update the Main Network using the Bellman Equation\n",
    "            if steps_to_update_target_model % 4 == 0 or done:\n",
    "                train(env, replay_memory, model, target_model, done)\n",
    "\n",
    "            observation = new_observation\n",
    "            total_training_rewards += reward\n",
    "\n",
    "            if done:\n",
    "                print('Total training rewards: {} after n steps = {} with final reward = {}'.format(total_training_rewards, episode, reward))\n",
    "                total_training_rewards += 1\n",
    "\n",
    "                if steps_to_update_target_model >= 100:\n",
    "                    print('Copying main network weights to the target network weights')\n",
    "                    target_model.load_state_dict(model.state_dict())\n",
    "                    steps_to_update_target_model = 0\n",
    "                break\n",
    "\n",
    "        epsilon = min_epsilon + (max_epsilon - min_epsilon) * np.exp(-decay * episode)\n",
    "    env.close()\n",
    "    return model\n"
   ],
   "metadata": {
    "datalore": {
     "node_id": "zn1c6v3wTKWVJlshre6MG4",
     "type": "CODE",
     "hide_input_from_viewers": false,
     "hide_output_from_viewers": false,
     "report_properties": {
      "rowId": "kvjm1cm5F1laEzUvPuc0Bt"
     }
    },
    "ExecuteTime": {
     "end_time": "2024-02-01T10:23:46.604843Z",
     "start_time": "2024-02-01T10:23:46.597050Z"
    }
   },
   "outputs": [],
   "execution_count": 16
  },
  {
   "cell_type": "code",
   "source": [
    "policy = main()"
   ],
   "metadata": {
    "datalore": {
     "node_id": "lBHJB79HZfVXvrHXucZEhS",
     "type": "CODE",
     "hide_input_from_viewers": false,
     "hide_output_from_viewers": false,
     "report_properties": {
      "rowId": "pUtdtrXhjEc88kaeJIMLXC"
     }
    },
    "ExecuteTime": {
     "end_time": "2024-02-01T10:24:00.302227Z",
     "start_time": "2024-02-01T10:23:51.941979Z"
    }
   },
   "outputs": [
    {
     "name": "stdout",
     "output_type": "stream",
     "text": [
      "Total training rewards: 27.0 after n steps = 0 with final reward = 1.0\n",
      "Total training rewards: 15.0 after n steps = 1 with final reward = 1.0\n",
      "Total training rewards: 29.0 after n steps = 2 with final reward = 1.0\n",
      "Total training rewards: 16.0 after n steps = 3 with final reward = 1.0\n",
      "Total training rewards: 15.0 after n steps = 4 with final reward = 1.0\n",
      "Copying main network weights to the target network weights\n",
      "Total training rewards: 12.0 after n steps = 5 with final reward = 1.0\n",
      "Total training rewards: 14.0 after n steps = 6 with final reward = 1.0\n",
      "Total training rewards: 20.0 after n steps = 7 with final reward = 1.0\n",
      "Total training rewards: 39.0 after n steps = 8 with final reward = 1.0\n",
      "Total training rewards: 18.0 after n steps = 9 with final reward = 1.0\n",
      "Copying main network weights to the target network weights\n",
      "Total training rewards: 15.0 after n steps = 10 with final reward = 1.0\n",
      "Total training rewards: 10.0 after n steps = 11 with final reward = 1.0\n",
      "Total training rewards: 22.0 after n steps = 12 with final reward = 1.0\n",
      "Total training rewards: 15.0 after n steps = 13 with final reward = 1.0\n",
      "Total training rewards: 18.0 after n steps = 14 with final reward = 1.0\n",
      "Total training rewards: 13.0 after n steps = 15 with final reward = 1.0\n",
      "Total training rewards: 20.0 after n steps = 16 with final reward = 1.0\n",
      "Copying main network weights to the target network weights\n",
      "Total training rewards: 14.0 after n steps = 17 with final reward = 1.0\n",
      "Total training rewards: 20.0 after n steps = 18 with final reward = 1.0\n",
      "Total training rewards: 31.0 after n steps = 19 with final reward = 1.0\n",
      "Total training rewards: 31.0 after n steps = 20 with final reward = 1.0\n",
      "Total training rewards: 11.0 after n steps = 21 with final reward = 1.0\n",
      "Copying main network weights to the target network weights\n",
      "Total training rewards: 27.0 after n steps = 22 with final reward = 1.0\n",
      "Total training rewards: 19.0 after n steps = 23 with final reward = 1.0\n",
      "Total training rewards: 16.0 after n steps = 24 with final reward = 1.0\n",
      "Total training rewards: 14.0 after n steps = 25 with final reward = 1.0\n",
      "Total training rewards: 11.0 after n steps = 26 with final reward = 1.0\n",
      "Total training rewards: 15.0 after n steps = 27 with final reward = 1.0\n",
      "Copying main network weights to the target network weights\n",
      "Total training rewards: 21.0 after n steps = 28 with final reward = 1.0\n",
      "Total training rewards: 17.0 after n steps = 29 with final reward = 1.0\n",
      "Total training rewards: 12.0 after n steps = 30 with final reward = 1.0\n",
      "Total training rewards: 20.0 after n steps = 31 with final reward = 1.0\n",
      "Total training rewards: 12.0 after n steps = 32 with final reward = 1.0\n",
      "Total training rewards: 10.0 after n steps = 33 with final reward = 1.0\n",
      "Total training rewards: 13.0 after n steps = 34 with final reward = 1.0\n",
      "Copying main network weights to the target network weights\n",
      "Total training rewards: 19.0 after n steps = 35 with final reward = 1.0\n",
      "Total training rewards: 25.0 after n steps = 36 with final reward = 1.0\n",
      "Total training rewards: 9.0 after n steps = 37 with final reward = 1.0\n",
      "Total training rewards: 18.0 after n steps = 38 with final reward = 1.0\n",
      "Total training rewards: 36.0 after n steps = 39 with final reward = 1.0\n",
      "Copying main network weights to the target network weights\n",
      "Total training rewards: 26.0 after n steps = 40 with final reward = 1.0\n",
      "Total training rewards: 14.0 after n steps = 41 with final reward = 1.0\n",
      "Total training rewards: 17.0 after n steps = 42 with final reward = 1.0\n",
      "Total training rewards: 12.0 after n steps = 43 with final reward = 1.0\n",
      "Total training rewards: 13.0 after n steps = 44 with final reward = 1.0\n",
      "Total training rewards: 10.0 after n steps = 45 with final reward = 1.0\n",
      "Total training rewards: 12.0 after n steps = 46 with final reward = 1.0\n",
      "Copying main network weights to the target network weights\n",
      "Total training rewards: 41.0 after n steps = 47 with final reward = 1.0\n",
      "Total training rewards: 10.0 after n steps = 48 with final reward = 1.0\n",
      "Total training rewards: 14.0 after n steps = 49 with final reward = 1.0\n",
      "Total training rewards: 13.0 after n steps = 50 with final reward = 1.0\n",
      "Total training rewards: 16.0 after n steps = 51 with final reward = 1.0\n",
      "Total training rewards: 19.0 after n steps = 52 with final reward = 1.0\n",
      "Copying main network weights to the target network weights\n",
      "Total training rewards: 11.0 after n steps = 53 with final reward = 1.0\n",
      "Total training rewards: 16.0 after n steps = 54 with final reward = 1.0\n",
      "Total training rewards: 15.0 after n steps = 55 with final reward = 1.0\n",
      "Epoch 1, Loss: 0.14141955971717834\n",
      "Epoch 1, Loss: 0.14096857607364655\n",
      "Epoch 1, Loss: 0.1389714479446411\n",
      "Epoch 1, Loss: 0.13607913255691528\n",
      "Total training rewards: 13.0 after n steps = 56 with final reward = 1.0\n",
      "Epoch 1, Loss: 0.13788415491580963\n",
      "Epoch 1, Loss: 0.1350138634443283\n",
      "Epoch 1, Loss: 0.1330064833164215\n",
      "Epoch 1, Loss: 0.13207508623600006\n",
      "Total training rewards: 13.0 after n steps = 57 with final reward = 1.0\n",
      "Epoch 1, Loss: 0.13145330548286438\n",
      "Epoch 1, Loss: 0.12657445669174194\n",
      "Epoch 1, Loss: 0.1282968521118164\n",
      "Epoch 1, Loss: 0.12767966091632843\n",
      "Total training rewards: 15.0 after n steps = 58 with final reward = 1.0\n",
      "Epoch 1, Loss: 0.12427937984466553\n",
      "Epoch 1, Loss: 0.12394541501998901\n",
      "Epoch 1, Loss: 0.12497145682573318\n",
      "Epoch 1, Loss: 0.12279517203569412\n",
      "Epoch 1, Loss: 0.11997358500957489\n",
      "Epoch 1, Loss: 0.11654962599277496\n",
      "Epoch 1, Loss: 0.11988212168216705\n",
      "Total training rewards: 25.0 after n steps = 59 with final reward = 1.0\n",
      "Copying main network weights to the target network weights\n",
      "Epoch 1, Loss: 0.13495580852031708\n",
      "Epoch 1, Loss: 0.1319867968559265\n",
      "Epoch 1, Loss: 0.1306646466255188\n",
      "Epoch 1, Loss: 0.13121512532234192\n",
      "Total training rewards: 13.0 after n steps = 60 with final reward = 1.0\n",
      "Epoch 1, Loss: 0.12993860244750977\n",
      "Epoch 1, Loss: 0.12849950790405273\n",
      "Epoch 1, Loss: 0.12440288066864014\n",
      "Epoch 1, Loss: 0.1248193308711052\n",
      "Total training rewards: 12.0 after n steps = 61 with final reward = 1.0\n",
      "Epoch 1, Loss: 0.12309830635786057\n",
      "Epoch 1, Loss: 0.12475813180208206\n",
      "Epoch 1, Loss: 0.12085013091564178\n",
      "Epoch 1, Loss: 0.11778723448514938\n",
      "Epoch 1, Loss: 0.11661219596862793\n",
      "Epoch 1, Loss: 0.11450585722923279\n",
      "Total training rewards: 20.0 after n steps = 62 with final reward = 1.0\n",
      "Epoch 1, Loss: 0.11585797369480133\n",
      "Epoch 1, Loss: 0.11588223278522491\n",
      "Epoch 1, Loss: 0.11211449652910233\n",
      "Total training rewards: 10.0 after n steps = 63 with final reward = 1.0\n",
      "Epoch 1, Loss: 0.1128012016415596\n",
      "Epoch 1, Loss: 0.11176508665084839\n",
      "Epoch 1, Loss: 0.11046493053436279\n",
      "Epoch 1, Loss: 0.10587155818939209\n",
      "Epoch 1, Loss: 0.10812469571828842\n",
      "Epoch 1, Loss: 0.10562428832054138\n",
      "Epoch 1, Loss: 0.10576016455888748\n",
      "Total training rewards: 25.0 after n steps = 64 with final reward = 1.0\n",
      "Epoch 1, Loss: 0.10193105787038803\n",
      "Epoch 1, Loss: 0.10165650397539139\n",
      "Epoch 1, Loss: 0.10505341738462448\n",
      "Epoch 1, Loss: 0.09789901971817017\n",
      "Total training rewards: 16.0 after n steps = 65 with final reward = 1.0\n",
      "Epoch 1, Loss: 0.09716775268316269\n",
      "Epoch 1, Loss: 0.09494315832853317\n",
      "Epoch 1, Loss: 0.09547995030879974\n",
      "Total training rewards: 10.0 after n steps = 66 with final reward = 1.0\n",
      "Copying main network weights to the target network weights\n",
      "Epoch 1, Loss: 0.12008562684059143\n",
      "Epoch 1, Loss: 0.12036546319723129\n",
      "Epoch 1, Loss: 0.11712749302387238\n",
      "Epoch 1, Loss: 0.11101991683244705\n",
      "Total training rewards: 13.0 after n steps = 67 with final reward = 1.0\n",
      "Epoch 1, Loss: 0.10810977220535278\n",
      "Epoch 1, Loss: 0.11333104968070984\n",
      "Epoch 1, Loss: 0.10779087990522385\n",
      "Epoch 1, Loss: 0.1081622764468193\n",
      "Total training rewards: 12.0 after n steps = 68 with final reward = 1.0\n",
      "Epoch 1, Loss: 0.10619553923606873\n",
      "Epoch 1, Loss: 0.10341065376996994\n",
      "Epoch 1, Loss: 0.10379577428102493\n",
      "Total training rewards: 10.0 after n steps = 69 with final reward = 1.0\n",
      "Epoch 1, Loss: 0.10237960517406464\n",
      "Epoch 1, Loss: 0.0996047630906105\n",
      "Epoch 1, Loss: 0.09553363919258118\n",
      "Total training rewards: 8.0 after n steps = 70 with final reward = 1.0\n",
      "Epoch 1, Loss: 0.0947200208902359\n",
      "Epoch 1, Loss: 0.0932459831237793\n",
      "Epoch 1, Loss: 0.0943879708647728\n",
      "Epoch 1, Loss: 0.08850184082984924\n",
      "Epoch 1, Loss: 0.08825035393238068\n",
      "Total training rewards: 14.0 after n steps = 71 with final reward = 1.0\n",
      "Epoch 1, Loss: 0.08417116105556488\n",
      "Epoch 1, Loss: 0.08824777603149414\n",
      "Epoch 1, Loss: 0.0838775485754013\n",
      "Total training rewards: 10.0 after n steps = 72 with final reward = 1.0\n",
      "Epoch 1, Loss: 0.07827520370483398\n",
      "Epoch 1, Loss: 0.08312563598155975\n",
      "Epoch 1, Loss: 0.07485684752464294\n",
      "Epoch 1, Loss: 0.07472478598356247\n",
      "Total training rewards: 10.0 after n steps = 73 with final reward = 1.0\n",
      "Epoch 1, Loss: 0.07560151815414429\n",
      "Epoch 1, Loss: 0.07069438695907593\n",
      "Epoch 1, Loss: 0.07018694281578064\n",
      "Total training rewards: 10.0 after n steps = 74 with final reward = 1.0\n",
      "Epoch 1, Loss: 0.06942914426326752\n",
      "Epoch 1, Loss: 0.06709231436252594\n",
      "Epoch 1, Loss: 0.06414662301540375\n",
      "Epoch 1, Loss: 0.059687189757823944\n",
      "Total training rewards: 10.0 after n steps = 75 with final reward = 1.0\n",
      "Epoch 1, Loss: 0.06015481427311897\n",
      "Epoch 1, Loss: 0.0553307831287384\n",
      "Epoch 1, Loss: 0.06075796112418175\n",
      "Total training rewards: 10.0 after n steps = 76 with final reward = 1.0\n",
      "Copying main network weights to the target network weights\n",
      "Epoch 1, Loss: 0.09570025652647018\n",
      "Epoch 1, Loss: 0.09193288534879684\n",
      "Epoch 1, Loss: 0.08756696432828903\n",
      "Epoch 1, Loss: 0.08673703670501709\n",
      "Epoch 1, Loss: 0.08576010912656784\n",
      "Epoch 1, Loss: 0.08141453564167023\n",
      "Epoch 1, Loss: 0.08021263778209686\n",
      "Total training rewards: 26.0 after n steps = 77 with final reward = 1.0\n",
      "Epoch 1, Loss: 0.0766678899526596\n",
      "Epoch 1, Loss: 0.07067010551691055\n",
      "Epoch 1, Loss: 0.07284297049045563\n",
      "Total training rewards: 9.0 after n steps = 78 with final reward = 1.0\n",
      "Epoch 1, Loss: 0.07195024192333221\n",
      "Epoch 1, Loss: 0.06464125216007233\n",
      "Epoch 1, Loss: 0.06330324709415436\n",
      "Epoch 1, Loss: 0.059695564210414886\n",
      "Total training rewards: 13.0 after n steps = 79 with final reward = 1.0\n",
      "Epoch 1, Loss: 0.061805661767721176\n",
      "Epoch 1, Loss: 0.052556995302438736\n",
      "Epoch 1, Loss: 0.05374704301357269\n",
      "Total training rewards: 10.0 after n steps = 80 with final reward = 1.0\n",
      "Epoch 1, Loss: 0.05505066365003586\n",
      "Epoch 1, Loss: 0.05103135108947754\n",
      "Epoch 1, Loss: 0.05051817744970322\n",
      "Epoch 1, Loss: 0.050821881741285324\n",
      "Epoch 1, Loss: 0.049187008291482925\n",
      "Total training rewards: 16.0 after n steps = 81 with final reward = 1.0\n",
      "Epoch 1, Loss: 0.0465448759496212\n",
      "Epoch 1, Loss: 0.03998090699315071\n",
      "Epoch 1, Loss: 0.04113665968179703\n",
      "Epoch 1, Loss: 0.03787675499916077\n",
      "Total training rewards: 14.0 after n steps = 82 with final reward = 1.0\n",
      "Epoch 1, Loss: 0.03699812665581703\n",
      "Epoch 1, Loss: 0.034268446266651154\n",
      "Epoch 1, Loss: 0.03551720082759857\n",
      "Epoch 1, Loss: 0.031591616570949554\n",
      "Epoch 1, Loss: 0.031968068331480026\n",
      "Total training rewards: 18.0 after n steps = 83 with final reward = 1.0\n",
      "Copying main network weights to the target network weights\n",
      "Epoch 1, Loss: 0.07155143469572067\n",
      "Epoch 1, Loss: 0.06403879076242447\n",
      "Epoch 1, Loss: 0.060778193175792694\n",
      "Total training rewards: 12.0 after n steps = 84 with final reward = 1.0\n",
      "Epoch 1, Loss: 0.05840237811207771\n",
      "Epoch 1, Loss: 0.0549117736518383\n",
      "Epoch 1, Loss: 0.053435929119586945\n",
      "Total training rewards: 9.0 after n steps = 85 with final reward = 1.0\n",
      "Epoch 1, Loss: 0.051319561898708344\n",
      "Epoch 1, Loss: 0.05064239352941513\n",
      "Epoch 1, Loss: 0.049225546419620514\n",
      "Epoch 1, Loss: 0.04625082388520241\n",
      "Epoch 1, Loss: 0.047208040952682495\n",
      "Epoch 1, Loss: 0.040197160094976425\n",
      "Total training rewards: 21.0 after n steps = 86 with final reward = 1.0\n",
      "Epoch 1, Loss: 0.03789957985281944\n",
      "Epoch 1, Loss: 0.03571690246462822\n",
      "Epoch 1, Loss: 0.03435477241873741\n",
      "Total training rewards: 9.0 after n steps = 87 with final reward = 1.0\n",
      "Epoch 1, Loss: 0.03292575106024742\n",
      "Epoch 1, Loss: 0.03727814182639122\n",
      "Epoch 1, Loss: 0.034265078604221344\n",
      "Total training rewards: 9.0 after n steps = 88 with final reward = 1.0\n",
      "Epoch 1, Loss: 0.03781384229660034\n",
      "Epoch 1, Loss: 0.028395794332027435\n",
      "Epoch 1, Loss: 0.026706630364060402\n",
      "Epoch 1, Loss: 0.03078494593501091\n",
      "Total training rewards: 14.0 after n steps = 89 with final reward = 1.0\n",
      "Epoch 1, Loss: 0.025921469554305077\n",
      "Epoch 1, Loss: 0.023272452875971794\n",
      "Epoch 1, Loss: 0.025835897773504257\n",
      "Total training rewards: 9.0 after n steps = 90 with final reward = 1.0\n",
      "Epoch 1, Loss: 0.02751956321299076\n",
      "Epoch 1, Loss: 0.01970098353922367\n",
      "Epoch 1, Loss: 0.0187593512237072\n",
      "Total training rewards: 8.0 after n steps = 91 with final reward = 1.0\n",
      "Epoch 1, Loss: 0.02066825143992901\n",
      "Epoch 1, Loss: 0.01995614729821682\n",
      "Epoch 1, Loss: 0.01832909882068634\n",
      "Total training rewards: 9.0 after n steps = 92 with final reward = 1.0\n",
      "Copying main network weights to the target network weights\n",
      "Epoch 1, Loss: 0.04903431609272957\n",
      "Epoch 1, Loss: 0.04413962364196777\n",
      "Epoch 1, Loss: 0.053509797900915146\n",
      "Epoch 1, Loss: 0.03995704650878906\n",
      "Total training rewards: 15.0 after n steps = 93 with final reward = 1.0\n",
      "Epoch 1, Loss: 0.038639701902866364\n",
      "Epoch 1, Loss: 0.0410541296005249\n",
      "Epoch 1, Loss: 0.0386270247399807\n",
      "Epoch 1, Loss: 0.03462847322225571\n",
      "Total training rewards: 10.0 after n steps = 94 with final reward = 1.0\n",
      "Epoch 1, Loss: 0.034531887620687485\n",
      "Epoch 1, Loss: 0.028973892331123352\n",
      "Epoch 1, Loss: 0.02295384556055069\n",
      "Total training rewards: 9.0 after n steps = 95 with final reward = 1.0\n",
      "Epoch 1, Loss: 0.03053123690187931\n",
      "Epoch 1, Loss: 0.03450940176844597\n",
      "Epoch 1, Loss: 0.023685572668910027\n",
      "Epoch 1, Loss: 0.026298636570572853\n",
      "Epoch 1, Loss: 0.020971445366740227\n",
      "Epoch 1, Loss: 0.024014195427298546\n",
      "Total training rewards: 19.0 after n steps = 96 with final reward = 1.0\n",
      "Epoch 1, Loss: 0.025717897340655327\n",
      "Epoch 1, Loss: 0.023186560720205307\n",
      "Epoch 1, Loss: 0.022120432928204536\n",
      "Total training rewards: 10.0 after n steps = 97 with final reward = 1.0\n",
      "Epoch 1, Loss: 0.02295886166393757\n",
      "Epoch 1, Loss: 0.023080792278051376\n",
      "Epoch 1, Loss: 0.01788092590868473\n",
      "Total training rewards: 9.0 after n steps = 98 with final reward = 1.0\n",
      "Epoch 1, Loss: 0.021600786596536636\n",
      "Epoch 1, Loss: 0.027342891320586205\n",
      "Epoch 1, Loss: 0.024490123614668846\n",
      "Epoch 1, Loss: 0.028446868062019348\n",
      "Total training rewards: 14.0 after n steps = 99 with final reward = 1.0\n",
      "Epoch 1, Loss: 0.01940842717885971\n",
      "Epoch 1, Loss: 0.02375376597046852\n",
      "Epoch 1, Loss: 0.021555926650762558\n",
      "Total training rewards: 10.0 after n steps = 100 with final reward = 1.0\n",
      "Epoch 1, Loss: 0.036162860691547394\n",
      "Epoch 1, Loss: 0.027676675468683243\n",
      "Epoch 1, Loss: 0.02489524707198143\n",
      "Total training rewards: 9.0 after n steps = 101 with final reward = 1.0\n",
      "Copying main network weights to the target network weights\n",
      "Epoch 1, Loss: 0.02663714624941349\n",
      "Epoch 1, Loss: 0.02985004335641861\n",
      "Epoch 1, Loss: 0.029821395874023438\n",
      "Total training rewards: 10.0 after n steps = 102 with final reward = 1.0\n",
      "Epoch 1, Loss: 0.028192564845085144\n",
      "Epoch 1, Loss: 0.021926935762166977\n",
      "Epoch 1, Loss: 0.016005495563149452\n",
      "Total training rewards: 10.0 after n steps = 103 with final reward = 1.0\n",
      "Epoch 1, Loss: 0.016298208385705948\n",
      "Epoch 1, Loss: 0.02034476213157177\n",
      "Epoch 1, Loss: 0.03625073283910751\n",
      "Total training rewards: 12.0 after n steps = 104 with final reward = 1.0\n",
      "Epoch 1, Loss: 0.029272792860865593\n",
      "Epoch 1, Loss: 0.032998260110616684\n",
      "Epoch 1, Loss: 0.018934126943349838\n",
      "Epoch 1, Loss: 0.02192927896976471\n",
      "Total training rewards: 15.0 after n steps = 105 with final reward = 1.0\n",
      "Epoch 1, Loss: 0.040500104427337646\n",
      "Epoch 1, Loss: 0.019378462806344032\n",
      "Epoch 1, Loss: 0.0267470795661211\n",
      "Epoch 1, Loss: 0.017220033332705498\n",
      "Total training rewards: 13.0 after n steps = 106 with final reward = 1.0\n",
      "Epoch 1, Loss: 0.025050349533557892\n",
      "Epoch 1, Loss: 0.018970530480146408\n",
      "Epoch 1, Loss: 0.03581102937459946\n",
      "Epoch 1, Loss: 0.01610829122364521\n",
      "Epoch 1, Loss: 0.01789933629333973\n",
      "Total training rewards: 18.0 after n steps = 107 with final reward = 1.0\n",
      "Epoch 1, Loss: 0.024589767679572105\n",
      "Epoch 1, Loss: 0.0169863011687994\n",
      "Epoch 1, Loss: 0.022300435230135918\n",
      "Epoch 1, Loss: 0.02595650777220726\n",
      "Total training rewards: 11.0 after n steps = 108 with final reward = 1.0\n",
      "Epoch 1, Loss: 0.017962835729122162\n",
      "Epoch 1, Loss: 0.02394547313451767\n",
      "Epoch 1, Loss: 0.03418130800127983\n",
      "Epoch 1, Loss: 0.012312202714383602\n",
      "Total training rewards: 13.0 after n steps = 109 with final reward = 1.0\n",
      "Copying main network weights to the target network weights\n",
      "Epoch 1, Loss: 0.03231692314147949\n",
      "Epoch 1, Loss: 0.02662489004433155\n",
      "Epoch 1, Loss: 0.0248466357588768\n",
      "Total training rewards: 10.0 after n steps = 110 with final reward = 1.0\n",
      "Epoch 1, Loss: 0.02913055196404457\n",
      "Epoch 1, Loss: 0.014363864436745644\n",
      "Epoch 1, Loss: 0.019421832635998726\n",
      "Total training rewards: 10.0 after n steps = 111 with final reward = 1.0\n",
      "Epoch 1, Loss: 0.024728110060095787\n",
      "Epoch 1, Loss: 0.018211353570222855\n",
      "Epoch 1, Loss: 0.02005133219063282\n",
      "Epoch 1, Loss: 0.022935587912797928\n",
      "Total training rewards: 14.0 after n steps = 112 with final reward = 1.0\n",
      "Epoch 1, Loss: 0.02548406273126602\n",
      "Epoch 1, Loss: 0.007553200237452984\n",
      "Epoch 1, Loss: 0.028615768998861313\n",
      "Epoch 1, Loss: 0.026819366961717606\n",
      "Total training rewards: 13.0 after n steps = 113 with final reward = 1.0\n",
      "Epoch 1, Loss: 0.013240604661405087\n",
      "Epoch 1, Loss: 0.01820828579366207\n",
      "Epoch 1, Loss: 0.021058624610304832\n",
      "Total training rewards: 9.0 after n steps = 114 with final reward = 1.0\n",
      "Epoch 1, Loss: 0.02099367044866085\n",
      "Epoch 1, Loss: 0.010295785963535309\n",
      "Epoch 1, Loss: 0.023791126906871796\n",
      "Total training rewards: 11.0 after n steps = 115 with final reward = 1.0\n",
      "Epoch 1, Loss: 0.01598213240504265\n",
      "Epoch 1, Loss: 0.028856121003627777\n",
      "Epoch 1, Loss: 0.015572763979434967\n",
      "Epoch 1, Loss: 0.017957456409931183\n",
      "Total training rewards: 10.0 after n steps = 116 with final reward = 1.0\n",
      "Epoch 1, Loss: 0.011202454566955566\n",
      "Epoch 1, Loss: 0.0169353187084198\n",
      "Epoch 1, Loss: 0.02372821234166622\n",
      "Total training rewards: 8.0 after n steps = 117 with final reward = 1.0\n",
      "Epoch 1, Loss: 0.014073141850531101\n",
      "Epoch 1, Loss: 0.01788681000471115\n",
      "Epoch 1, Loss: 0.022655481472611427\n",
      "Total training rewards: 8.0 after n steps = 118 with final reward = 1.0\n",
      "Epoch 1, Loss: 0.016901519149541855\n",
      "Epoch 1, Loss: 0.015054529532790184\n",
      "Epoch 1, Loss: 0.018819043412804604\n",
      "Total training rewards: 9.0 after n steps = 119 with final reward = 1.0\n",
      "Copying main network weights to the target network weights\n",
      "Epoch 1, Loss: 0.01562804915010929\n",
      "Epoch 1, Loss: 0.02064436674118042\n",
      "Epoch 1, Loss: 0.02276398241519928\n",
      "Total training rewards: 10.0 after n steps = 120 with final reward = 1.0\n",
      "Epoch 1, Loss: 0.0253136083483696\n",
      "Epoch 1, Loss: 0.023043466731905937\n",
      "Epoch 1, Loss: 0.018801895901560783\n",
      "Epoch 1, Loss: 0.024958712980151176\n",
      "Epoch 1, Loss: 0.023647349327802658\n",
      "Total training rewards: 15.0 after n steps = 121 with final reward = 1.0\n",
      "Epoch 1, Loss: 0.011769858188927174\n",
      "Epoch 1, Loss: 0.017421867698431015\n",
      "Epoch 1, Loss: 0.01644410565495491\n",
      "Total training rewards: 11.0 after n steps = 122 with final reward = 1.0\n",
      "Epoch 1, Loss: 0.02108379639685154\n",
      "Epoch 1, Loss: 0.025196945294737816\n",
      "Epoch 1, Loss: 0.013770131394267082\n",
      "Total training rewards: 11.0 after n steps = 123 with final reward = 1.0\n",
      "Epoch 1, Loss: 0.019010355696082115\n",
      "Epoch 1, Loss: 0.02050577662885189\n",
      "Epoch 1, Loss: 0.019204119220376015\n",
      "Epoch 1, Loss: 0.011674828827381134\n",
      "Epoch 1, Loss: 0.016672611236572266\n",
      "Epoch 1, Loss: 0.013139251619577408\n",
      "Total training rewards: 18.0 after n steps = 124 with final reward = 1.0\n",
      "Epoch 1, Loss: 0.015653371810913086\n",
      "Epoch 1, Loss: 0.01108125876635313\n",
      "Epoch 1, Loss: 0.025370458140969276\n",
      "Epoch 1, Loss: 0.021619779989123344\n",
      "Total training rewards: 14.0 after n steps = 125 with final reward = 1.0\n",
      "Epoch 1, Loss: 0.007369176484644413\n",
      "Epoch 1, Loss: 0.020687930285930634\n",
      "Epoch 1, Loss: 0.012590412050485611\n",
      "Epoch 1, Loss: 0.013903978280723095\n",
      "Total training rewards: 10.0 after n steps = 126 with final reward = 1.0\n",
      "Epoch 1, Loss: 0.041011858731508255\n",
      "Epoch 1, Loss: 0.015301737934350967\n",
      "Epoch 1, Loss: 0.013985423371195793\n",
      "Epoch 1, Loss: 0.01568019576370716\n",
      "Total training rewards: 15.0 after n steps = 127 with final reward = 1.0\n",
      "Copying main network weights to the target network weights\n",
      "Epoch 1, Loss: 0.015243462286889553\n",
      "Epoch 1, Loss: 0.012185382656753063\n",
      "Epoch 1, Loss: 0.020572545006871223\n",
      "Total training rewards: 11.0 after n steps = 128 with final reward = 1.0\n",
      "Epoch 1, Loss: 0.013518624939024448\n",
      "Epoch 1, Loss: 0.011023690924048424\n",
      "Epoch 1, Loss: 0.00959879718720913\n",
      "Epoch 1, Loss: 0.009497948922216892\n",
      "Epoch 1, Loss: 0.014444837346673012\n",
      "Epoch 1, Loss: 0.005839386954903603\n",
      "Total training rewards: 18.0 after n steps = 129 with final reward = 1.0\n",
      "Epoch 1, Loss: 0.018529927358031273\n",
      "Epoch 1, Loss: 0.017745986580848694\n",
      "Epoch 1, Loss: 0.012997156009078026\n",
      "Total training rewards: 11.0 after n steps = 130 with final reward = 1.0\n",
      "Epoch 1, Loss: 0.014259307645261288\n",
      "Epoch 1, Loss: 0.017094716429710388\n",
      "Epoch 1, Loss: 0.009683974087238312\n",
      "Epoch 1, Loss: 0.01497490331530571\n",
      "Total training rewards: 13.0 after n steps = 131 with final reward = 1.0\n",
      "Epoch 1, Loss: 0.010809849947690964\n",
      "Epoch 1, Loss: 0.018139874562621117\n",
      "Epoch 1, Loss: 0.016845986247062683\n",
      "Total training rewards: 11.0 after n steps = 132 with final reward = 1.0\n",
      "Epoch 1, Loss: 0.0158244501799345\n",
      "Epoch 1, Loss: 0.027762223035097122\n",
      "Epoch 1, Loss: 0.018642622977495193\n",
      "Total training rewards: 11.0 after n steps = 133 with final reward = 1.0\n",
      "Epoch 1, Loss: 0.016126107424497604\n",
      "Epoch 1, Loss: 0.014716741628944874\n",
      "Epoch 1, Loss: 0.0185096375644207\n",
      "Total training rewards: 9.0 after n steps = 134 with final reward = 1.0\n",
      "Epoch 1, Loss: 0.010879854671657085\n",
      "Epoch 1, Loss: 0.014637025073170662\n",
      "Epoch 1, Loss: 0.025045085698366165\n",
      "Total training rewards: 12.0 after n steps = 135 with final reward = 1.0\n",
      "Epoch 1, Loss: 0.014930708333849907\n",
      "Epoch 1, Loss: 0.015089069493114948\n",
      "Epoch 1, Loss: 0.02445879578590393\n",
      "Total training rewards: 10.0 after n steps = 136 with final reward = 1.0\n",
      "Copying main network weights to the target network weights\n",
      "Epoch 1, Loss: 0.012857391498982906\n",
      "Epoch 1, Loss: 0.017753437161445618\n",
      "Epoch 1, Loss: 0.011207116767764091\n",
      "Total training rewards: 10.0 after n steps = 137 with final reward = 1.0\n",
      "Epoch 1, Loss: 0.013456092216074467\n",
      "Epoch 1, Loss: 0.011779138818383217\n",
      "Epoch 1, Loss: 0.010188144631683826\n",
      "Epoch 1, Loss: 0.018128838390111923\n",
      "Epoch 1, Loss: 0.009207352995872498\n",
      "Total training rewards: 16.0 after n steps = 138 with final reward = 1.0\n",
      "Epoch 1, Loss: 0.016424108296632767\n",
      "Epoch 1, Loss: 0.021241025999188423\n",
      "Epoch 1, Loss: 0.015660980716347694\n",
      "Epoch 1, Loss: 0.017827128991484642\n",
      "Total training rewards: 11.0 after n steps = 139 with final reward = 1.0\n",
      "Epoch 1, Loss: 0.018034301698207855\n",
      "Epoch 1, Loss: 0.01964559033513069\n",
      "Epoch 1, Loss: 0.008098078891634941\n",
      "Total training rewards: 10.0 after n steps = 140 with final reward = 1.0\n",
      "Epoch 1, Loss: 0.007994263432919979\n",
      "Epoch 1, Loss: 0.01404101774096489\n",
      "Epoch 1, Loss: 0.017035657539963722\n",
      "Epoch 1, Loss: 0.011912629939615726\n",
      "Total training rewards: 12.0 after n steps = 141 with final reward = 1.0\n",
      "Epoch 1, Loss: 0.017099149525165558\n",
      "Epoch 1, Loss: 0.022387931123375893\n",
      "Epoch 1, Loss: 0.015060912817716599\n",
      "Epoch 1, Loss: 0.008433776907622814\n",
      "Epoch 1, Loss: 0.007514863274991512\n",
      "Total training rewards: 14.0 after n steps = 142 with final reward = 1.0\n",
      "Epoch 1, Loss: 0.017987597733736038\n",
      "Epoch 1, Loss: 0.008969075977802277\n",
      "Epoch 1, Loss: 0.013041719794273376\n",
      "Epoch 1, Loss: 0.004381884820759296\n",
      "Total training rewards: 15.0 after n steps = 143 with final reward = 1.0\n",
      "Epoch 1, Loss: 0.010479913093149662\n",
      "Epoch 1, Loss: 0.022147612646222115\n",
      "Epoch 1, Loss: 0.014700915664434433\n",
      "Epoch 1, Loss: 0.012336629442870617\n",
      "Total training rewards: 13.0 after n steps = 144 with final reward = 1.0\n",
      "Copying main network weights to the target network weights\n",
      "Epoch 1, Loss: 0.02256002090871334\n",
      "Epoch 1, Loss: 0.01136406697332859\n",
      "Epoch 1, Loss: 0.015328023582696915\n",
      "Total training rewards: 12.0 after n steps = 145 with final reward = 1.0\n",
      "Epoch 1, Loss: 0.018882859498262405\n",
      "Epoch 1, Loss: 0.013791819103062153\n",
      "Epoch 1, Loss: 0.012809360399842262\n",
      "Epoch 1, Loss: 0.013516321778297424\n",
      "Epoch 1, Loss: 0.010711383074522018\n",
      "Total training rewards: 19.0 after n steps = 146 with final reward = 1.0\n",
      "Epoch 1, Loss: 0.01844370923936367\n",
      "Epoch 1, Loss: 0.016361994668841362\n",
      "Epoch 1, Loss: 0.004608165472745895\n",
      "Epoch 1, Loss: 0.008772967383265495\n",
      "Epoch 1, Loss: 0.01070326752960682\n",
      "Epoch 1, Loss: 0.013832837343215942\n",
      "Epoch 1, Loss: 0.004233556799590588\n",
      "Epoch 1, Loss: 0.012773402035236359\n",
      "Epoch 1, Loss: 0.007582818623632193\n",
      "Epoch 1, Loss: 0.017803585156798363\n",
      "Total training rewards: 36.0 after n steps = 147 with final reward = 1.0\n",
      "Epoch 1, Loss: 0.013907168060541153\n",
      "Epoch 1, Loss: 0.021388893947005272\n",
      "Epoch 1, Loss: 0.0074907331727445126\n",
      "Epoch 1, Loss: 0.017185863107442856\n",
      "Total training rewards: 12.0 after n steps = 148 with final reward = 1.0\n",
      "Epoch 1, Loss: 0.005469555500894785\n",
      "Epoch 1, Loss: 0.0182290468364954\n",
      "Epoch 1, Loss: 0.01604985073208809\n",
      "Epoch 1, Loss: 0.01553131639957428\n",
      "Epoch 1, Loss: 0.01326209306716919\n",
      "Total training rewards: 14.0 after n steps = 149 with final reward = 1.0\n"
     ]
    }
   ],
   "execution_count": 17
  },
  {
   "metadata": {},
   "cell_type": "code",
   "outputs": [],
   "source": [
    "!apt-get install -y xvfb python-opengl > /dev/null 2>&1\n",
    "!pip install gymnasium pyvirtualdisplay > /dev/null 2>&1"
   ],
   "execution_count": null
  },
  {
   "cell_type": "code",
   "source": [
    "from IPython import display as ipythondisplay"
   ],
   "metadata": {
    "datalore": {
     "node_id": "edHWWAXn02r2vXVXfhPW0Q",
     "type": "CODE",
     "hide_input_from_viewers": false,
     "hide_output_from_viewers": false,
     "report_properties": {
      "rowId": "VoJcVW6UvPVkyGjLTAzG1n"
     }
    },
    "ExecuteTime": {
     "end_time": "2024-02-01T10:24:16.401119Z",
     "start_time": "2024-02-01T10:24:16.396242Z"
    }
   },
   "outputs": [],
   "execution_count": 18
  },
  {
   "cell_type": "code",
   "source": "!pip install gymnasium[classic_control]",
   "metadata": {
    "datalore": {
     "node_id": "XP4aHTPZjM111u6D0nV7KM",
     "type": "CODE",
     "hide_input_from_viewers": false,
     "hide_output_from_viewers": false,
     "report_properties": {
      "rowId": "N45l2zjmv5GpoUpVMOLgWu"
     }
    },
    "ExecuteTime": {
     "end_time": "2024-02-01T10:25:03.856700Z",
     "start_time": "2024-02-01T10:24:53.935804Z"
    }
   },
   "outputs": [
    {
     "name": "stdout",
     "output_type": "stream",
     "text": [
      "Requirement already satisfied: gymnasium[classic_control] in c:\\users\\ovalu\\appdata\\local\\programs\\python\\python312\\lib\\site-packages (0.29.1)\n",
      "Requirement already satisfied: numpy>=1.21.0 in c:\\users\\ovalu\\appdata\\local\\programs\\python\\python312\\lib\\site-packages (from gymnasium[classic_control]) (1.26.2)\n",
      "Requirement already satisfied: cloudpickle>=1.2.0 in c:\\users\\ovalu\\appdata\\local\\programs\\python\\python312\\lib\\site-packages (from gymnasium[classic_control]) (3.0.0)\n",
      "Requirement already satisfied: typing-extensions>=4.3.0 in c:\\users\\ovalu\\appdata\\local\\programs\\python\\python312\\lib\\site-packages (from gymnasium[classic_control]) (4.9.0)\n",
      "Requirement already satisfied: farama-notifications>=0.0.1 in c:\\users\\ovalu\\appdata\\local\\programs\\python\\python312\\lib\\site-packages (from gymnasium[classic_control]) (0.0.4)\n",
      "Collecting pygame>=2.1.3 (from gymnasium[classic_control])\n",
      "  Downloading pygame-2.5.2-cp312-cp312-win_amd64.whl.metadata (13 kB)\n",
      "Downloading pygame-2.5.2-cp312-cp312-win_amd64.whl (10.8 MB)\n",
      "   ---------------------------------------- 0.0/10.8 MB ? eta -:--:--\n",
      "   ---------------------------------------- 0.0/10.8 MB ? eta -:--:--\n",
      "   ---------------------------------------- 0.0/10.8 MB ? eta -:--:--\n",
      "   ---------------------------------------- 0.0/10.8 MB 326.8 kB/s eta 0:00:33\n",
      "   ---------------------------------------- 0.1/10.8 MB 581.0 kB/s eta 0:00:19\n",
      "    --------------------------------------- 0.2/10.8 MB 876.1 kB/s eta 0:00:13\n",
      "   - -------------------------------------- 0.3/10.8 MB 1.3 MB/s eta 0:00:09\n",
      "   - -------------------------------------- 0.5/10.8 MB 1.7 MB/s eta 0:00:06\n",
      "   --- ------------------------------------ 0.9/10.8 MB 2.6 MB/s eta 0:00:04\n",
      "   ---- ----------------------------------- 1.2/10.8 MB 3.2 MB/s eta 0:00:03\n",
      "   ------- -------------------------------- 2.1/10.8 MB 4.9 MB/s eta 0:00:02\n",
      "   ---------- ----------------------------- 2.8/10.8 MB 6.0 MB/s eta 0:00:02\n",
      "   --------------- ------------------------ 4.1/10.8 MB 7.9 MB/s eta 0:00:01\n",
      "   ------------------- -------------------- 5.3/10.8 MB 9.4 MB/s eta 0:00:01\n",
      "   ------------------------ --------------- 6.7/10.8 MB 11.0 MB/s eta 0:00:01\n",
      "   ----------------------------- ---------- 8.0/10.8 MB 12.1 MB/s eta 0:00:01\n",
      "   ----------------------------- ---------- 8.0/10.8 MB 12.1 MB/s eta 0:00:01\n",
      "   ----------------------------- ---------- 8.0/10.8 MB 12.1 MB/s eta 0:00:01\n",
      "   ---------------------------------------  10.8/10.8 MB 21.1 MB/s eta 0:00:01\n",
      "   ---------------------------------------- 10.8/10.8 MB 20.5 MB/s eta 0:00:00\n",
      "Installing collected packages: pygame\n",
      "Successfully installed pygame-2.5.2\n"
     ]
    },
    {
     "name": "stderr",
     "output_type": "stream",
     "text": [
      "\n",
      "[notice] A new release of pip is available: 23.3.1 -> 23.3.2\n",
      "[notice] To update, run: C:\\Users\\ovalu\\AppData\\Local\\Programs\\Python\\Python312\\python.exe -m pip install --upgrade pip\n"
     ]
    }
   ],
   "execution_count": 20
  },
  {
   "cell_type": "code",
   "source": [
    "prev_screen = env.render()\n",
    "plt.imshow(prev_screen)\n",
    "\n",
    "policy_dummy = lambda *obs: 1\n",
    "\n",
    "for _ in range(2):\n",
    "    obs = env.reset()\n",
    "    for _ in range(80):\n",
    "        actions = policy_dummy(*obs)\n",
    "        obs, reward, done, truncated, info = env.step(actions)\n",
    "\n",
    "        screen = env.render()\n",
    "\n",
    "        plt.imshow(screen)\n",
    "        ipythondisplay.clear_output(wait=True)\n",
    "        ipythondisplay.display(plt.gcf())\n",
    "\n",
    "        if done:\n",
    "            break\n",
    "\n",
    "ipythondisplay.clear_output(wait=True)\n",
    "env.close()"
   ],
   "metadata": {
    "datalore": {
     "node_id": "mKkMu9xmLCG1OFlsaJOICe",
     "type": "CODE",
     "hide_input_from_viewers": false,
     "hide_output_from_viewers": false,
     "report_properties": {
      "rowId": "V7wacTWxbYAT58aOlNyJCA"
     }
    }
   },
   "outputs": [],
   "execution_count": 21
  },
  {
   "cell_type": "code",
   "source": [
    "prev_screen = env.render()\n",
    "plt.imshow(prev_screen)\n",
    "\n",
    "\n",
    "for _ in range(1):\n",
    "    obs = env.reset()\n",
    "    for _ in range(80):\n",
    "        encoded = get_array(obs)\n",
    "        encoded_reshaped = torch.from_numpy(encoded.reshape([1, encoded.shape[0]]))\n",
    "        predicted = policy(encoded_reshaped).detach().numpy().flatten()\n",
    "        action = np.argmax(predicted)\n",
    "        obs, reward, done, truncated, info = env.step(action)\n",
    "\n",
    "        screen = env.render()\n",
    "\n",
    "        plt.imshow(screen)\n",
    "        ipythondisplay.clear_output(wait=True)\n",
    "        ipythondisplay.display(plt.gcf())\n",
    "\n",
    "        if done:\n",
    "            break\n",
    "\n",
    "ipythondisplay.clear_output(wait=True)\n",
    "env.close()"
   ],
   "metadata": {
    "datalore": {
     "node_id": "WOru6aGnxHYL72NiJIpV8g",
     "type": "CODE",
     "hide_input_from_viewers": false,
     "hide_output_from_viewers": false,
     "report_properties": {
      "rowId": "i9jLooBPBxml9wsvovKXEN"
     }
    }
   },
   "outputs": [],
   "execution_count": 23
  },
  {
   "cell_type": "code",
   "source": [
    "from torchsummary import summary\n",
    "\n",
    "summary(policy, (4,))"
   ],
   "metadata": {
    "datalore": {
     "node_id": "FMagTOmCtWTptvAxKjrwVn",
     "type": "CODE",
     "hide_input_from_viewers": false,
     "hide_output_from_viewers": false,
     "report_properties": {
      "rowId": "FjUNTDFQ99uQHJ8UNSxwcF"
     }
    },
    "ExecuteTime": {
     "end_time": "2024-02-01T10:28:23.284358Z",
     "start_time": "2024-02-01T10:28:23.262147Z"
    }
   },
   "outputs": [
    {
     "name": "stdout",
     "output_type": "stream",
     "text": [
      "----------------------------------------------------------------\n",
      "        Layer (type)               Output Shape         Param #\n",
      "================================================================\n",
      "            Linear-1                   [-1, 24]             120\n",
      "            Linear-2                   [-1, 12]             300\n",
      "            Linear-3                    [-1, 2]              26\n",
      "================================================================\n",
      "Total params: 446\n",
      "Trainable params: 446\n",
      "Non-trainable params: 0\n",
      "----------------------------------------------------------------\n",
      "Input size (MB): 0.00\n",
      "Forward/backward pass size (MB): 0.00\n",
      "Params size (MB): 0.00\n",
      "Estimated Total Size (MB): 0.00\n",
      "----------------------------------------------------------------\n"
     ]
    }
   ],
   "execution_count": 25
  },
  {
   "cell_type": "code",
   "source": [],
   "execution_count": null,
   "outputs": [],
   "metadata": {
    "datalore": {
     "node_id": "3Df8uKFxnTXckXejNYV8Ir",
     "type": "CODE",
     "hide_input_from_viewers": false,
     "hide_output_from_viewers": false,
     "report_properties": {
      "rowId": "jWugVOfHDMKwGIskSQuRsG"
     }
    }
   }
  }
 ],
 "metadata": {
  "kernelspec": {
   "display_name": "Python 3 (ipykernel)",
   "language": "python",
   "name": "python3"
  },
  "datalore": {
   "computation_mode": "JUPYTER",
   "package_manager": "pip",
   "base_environment": "default",
   "packages": [],
   "report_row_ids": [
    "Wu7Qso3lo7luGFlOBqQYuP",
    "geyP1ybnADWS3uOZfFvLvu",
    "3ckvpLly6KlY7i7WMik3ub",
    "SBoDkhNEkhleE4btan6ENA",
    "YPiB3SDlxoOPR5DltWsj58",
    "p9FYcsPeynVmhoYK0SgQrT",
    "UHbX9NFYO7l99NXDM9ev5b",
    "r8HKebrmKIf8CaM64EAOUd",
    "kPHTQD9dpEBU0awGpJ7B8c",
    "7uf5Dxph8mHYaLIRzPRIKT",
    "tx1RstJGkFjwvuQhY9y0NG",
    "wjcHlvS4aU81AuE8N7mN8W",
    "mvKjOkppUK2WWS71kbO9Rn",
    "jOTTdoVnjIAIpxVYTJmLJG",
    "3LuVYbu2jSQqCAn8jyxudR",
    "DttKPp6SNtRn9VSplgGChb",
    "ucKdrfpNVthNurYtPPOvMD",
    "wzG2TdN0UR2q6TVB2JEtZb",
    "arJwzCXJJuEthKPUfKGXZQ",
    "Rjg8cJhG7XKE8SGAxR4gpn",
    "nSwPNo1FC9wGPQpsXtoBYS",
    "0eGWmKz1tviVfKWY7xOnLQ",
    "kvjm1cm5F1laEzUvPuc0Bt",
    "pUtdtrXhjEc88kaeJIMLXC",
    "N45l2zjmv5GpoUpVMOLgWu",
    "VoJcVW6UvPVkyGjLTAzG1n",
    "V7wacTWxbYAT58aOlNyJCA",
    "i9jLooBPBxml9wsvovKXEN",
    "FjUNTDFQ99uQHJ8UNSxwcF"
   ],
   "version": 3
  }
 },
 "nbformat": 4,
 "nbformat_minor": 4
}
