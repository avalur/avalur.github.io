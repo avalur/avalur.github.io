{
 "cells": [
  {
   "cell_type": "code",
   "id": "initial_id",
   "metadata": {
    "collapsed": true,
    "ExecuteTime": {
     "end_time": "2025-10-24T09:04:39.222651Z",
     "start_time": "2025-10-24T09:04:39.220791Z"
    }
   },
   "source": "# !pip install gspread oauth2client",
   "outputs": [],
   "execution_count": 5
  },
  {
   "metadata": {
    "ExecuteTime": {
     "end_time": "2025-10-24T09:45:58.089358Z",
     "start_time": "2025-10-24T09:45:58.086950Z"
    }
   },
   "cell_type": "code",
   "source": [
    "import json\n",
    "import gspread\n",
    "import pandas as pd\n",
    "from oauth2client.service_account import ServiceAccountCredentials"
   ],
   "id": "de5647694f24da99",
   "outputs": [],
   "execution_count": 23
  },
  {
   "metadata": {},
   "cell_type": "markdown",
   "source": [
    "JSON Fields:\n",
    "\n",
    "- Solution Text: This contains the actual solution submitted by the student. For programming tasks, it could be the source code.\n",
    "- Email: The email address of the student who submitted the solution.\n",
    "- Submission Datetime: The timestamp when the submission was made.\n",
    "- Course ID: The ID of the course to which the task belongs. This allows us to separate submissions by course.\n",
    "- User ID: A unique identifier for the user making the submission.\n",
    "- Visibility: This indicates the visibility status of the submission (e.g., \"UNPUBLISHED\").\n",
    "- Task Name: The name of the task being solved (e.g., \"Create an Empty Array\").\n",
    "- Status: The result of the submission, indicating whether the submission is correct or wrong.\n",
    "- ID: A unique identifier for the submission itself.\n",
    "- Task Type: The type of task (e.g., \"edu\", \"theory\"). This can help distinguish between different types of tasks.\n",
    "- Task ID: A unique identifier for the task being solved."
   ],
   "id": "c4a6fa8f25b7ab8e"
  },
  {
   "metadata": {
    "ExecuteTime": {
     "end_time": "2025-10-24T09:46:01.390413Z",
     "start_time": "2025-10-24T09:46:01.387097Z"
    }
   },
   "cell_type": "code",
   "source": [
    "# Task 1: Parse the file and load data into a pandas DataFrame\n",
    "def load_submission_data(file_path):\n",
    "    # Load the JSON file\n",
    "    with open(file_path, 'r') as f:\n",
    "        data = json.load(f)\n",
    "\n",
    "    # Create a DataFrame from the list of submissions\n",
    "    df = pd.DataFrame(data)\n",
    "    return df\n"
   ],
   "id": "6c93de8fb9b59b3a",
   "outputs": [],
   "execution_count": 24
  },
  {
   "metadata": {
    "ExecuteTime": {
     "end_time": "2025-10-24T09:46:02.500657Z",
     "start_time": "2025-10-24T09:46:02.498195Z"
    }
   },
   "cell_type": "code",
   "source": [
    "def col_num_to_excel_col_letter(n):\n",
    "    \"\"\"Convert column number to Excel-style column letter.\"\"\"\n",
    "    letter = ''\n",
    "    while n > 0:\n",
    "        n, remainder = divmod(n-1, 26)\n",
    "        letter = chr(65 + remainder) + letter\n",
    "    return letter\n"
   ],
   "id": "ce33cdf6e36c0ae5",
   "outputs": [],
   "execution_count": 25
  },
  {
   "metadata": {
    "ExecuteTime": {
     "end_time": "2025-10-24T09:46:03.782744Z",
     "start_time": "2025-10-24T09:46:03.779723Z"
    }
   },
   "cell_type": "code",
   "source": "col_num_to_excel_col_letter(71)",
   "id": "8a34ddf7f98db997",
   "outputs": [
    {
     "data": {
      "text/plain": [
       "'BS'"
      ]
     },
     "execution_count": 26,
     "metadata": {},
     "output_type": "execute_result"
    }
   ],
   "execution_count": 26
  },
  {
   "metadata": {
    "ExecuteTime": {
     "end_time": "2025-10-24T10:10:06.442311Z",
     "start_time": "2025-10-24T10:10:06.436888Z"
    }
   },
   "cell_type": "code",
   "source": [
    "from datetime import datetime\n",
    "\n",
    "# Task 2: Update Google Spreadsheet by Course ID in separate tabs, add new lines and columns if necessary\n",
    "def update_google_sheet_incremental(df, credentials_file, sheet_name):\n",
    "    # Authenticate Google Sheets API using the service account credentials\n",
    "    scope = ['https://spreadsheets.google.com/feeds', 'https://www.googleapis.com/auth/drive']\n",
    "    creds = ServiceAccountCredentials.from_json_keyfile_name(credentials_file, scope)\n",
    "    client = gspread.authorize(creds)\n",
    "\n",
    "    # Open the Google Spreadsheet by name\n",
    "    spreadsheet = client.open(sheet_name)\n",
    "\n",
    "    # Get unique Course IDs to separate submissions\n",
    "    course_ids = df['Course ID'].unique()\n",
    "    print(course_ids)\n",
    "\n",
    "    # Filter non 'edu' submissions\n",
    "    df = df[df['Task Type'] == 'edu']\n",
    "    # Filter late submissions\n",
    "    df['Submission Datetime'] = pd.to_datetime(df['Submission Datetime'])  # Ensure correct datetime format\n",
    "    df = df[df['Submission Datetime'] < datetime(2025, 10, 22)]\n",
    "\n",
    "    # for course_id in [16630]:\n",
    "    # for course_id in [18302]:\n",
    "    for course_id in [22686]:\n",
    "    # for course_id in [25333]:\n",
    "        # Filter submissions for the current Course ID\n",
    "        course_df = df[df['Course ID'] == course_id]\n",
    "\n",
    "        # Get unique emails (students) and task names (tasks)\n",
    "        emails = course_df['Email'].unique()\n",
    "        task_names = course_df['Task Name'].unique()\n",
    "        print(len(task_names), task_names)\n",
    "\n",
    "        # Sheet title for the current course\n",
    "        sheet_title = f\"Course {course_id}\"\n",
    "\n",
    "        # Check if the worksheet for this course already exists\n",
    "        try:\n",
    "            worksheet = spreadsheet.worksheet(sheet_title)\n",
    "        except gspread.exceptions.WorksheetNotFound:\n",
    "            # Create a new worksheet for the course if it doesn't exist\n",
    "            worksheet = spreadsheet.add_worksheet(title=sheet_title, rows=1000, cols=100)\n",
    "            worksheet.append_row(['Email'] + list(task_names))  # Add headers if a new worksheet is created\n",
    "            existing_emails = []\n",
    "            existing_headers = ['Email'] + list(task_names)\n",
    "        else:\n",
    "            # Get existing data from the sheet (including headers)\n",
    "            existing_data = worksheet.get_all_values()\n",
    "            existing_headers = existing_data[0] if existing_data else ['Email']  # First row\n",
    "            existing_emails = [row[0] for row in existing_data[1:]]  # First column, skip header\n",
    "\n",
    "        # Add new task columns if not already present\n",
    "        for task_name in task_names:\n",
    "            if task_name not in existing_headers:\n",
    "                existing_headers.append(task_name)\n",
    "\n",
    "        # Prepare the batch update list for rows (using A1 notation)\n",
    "        updates = []\n",
    "\n",
    "        # Update or add student results for each submission\n",
    "        for email in emails:\n",
    "            if email in existing_emails:\n",
    "                # Find the row for the existing student\n",
    "                row_idx = existing_emails.index(email) + 2  # Add 2 for 1-based indexing and to account for header row\n",
    "            else:\n",
    "                # New student, add a new row\n",
    "                row_idx = len(existing_emails) + 2\n",
    "                worksheet.append_row([email] + [0] * (len(existing_headers) - 1))\n",
    "                existing_emails.append(email)\n",
    "\n",
    "            # For each task submission, update if the status is correct\n",
    "            for _, row in course_df[course_df['Email'] == email].iterrows():\n",
    "                if row['Status'] == 'correct':\n",
    "                    col_idx = existing_headers.index(row['Task Name']) + 1  # Add 1 to skip email column\n",
    "                    column_letter = col_num_to_excel_col_letter(col_idx)\n",
    "                    updates.append({\n",
    "                                'range': f'{column_letter}{row_idx}',\n",
    "                                'values': [[1]]\n",
    "                            })\n",
    "                # print(row['Task Name'], row['Status'])\n",
    "        # If there are any updates to make, execute them in a batch\n",
    "        if updates:\n",
    "            print(updates)\n",
    "            worksheet.batch_update(updates)\n",
    "\n",
    "    print(\"Data incrementally updated successfully for all courses.\")\n"
   ],
   "id": "45b58c31c7b23453",
   "outputs": [],
   "execution_count": 33
  },
  {
   "metadata": {
    "ExecuteTime": {
     "end_time": "2025-10-24T10:10:33.965237Z",
     "start_time": "2025-10-24T10:10:17.645232Z"
    }
   },
   "cell_type": "code",
   "source": [
    "# Main script execution\n",
    "submission_file = './data/query_result_2025-10-24T10_09_37.820821Z.json'\n",
    "credentials_file = './data/aiclub-435409-b18426324c55.json'\n",
    "sheet_name = 'AI club gradebook'\n",
    "\n",
    "# Load the submissions into a DataFrame\n",
    "df = load_submission_data(submission_file)\n",
    "\n",
    "# Update Google Sheet with the processed data\n",
    "update_google_sheet_incremental(df, credentials_file, sheet_name)"
   ],
   "id": "a2c7dfd4d0edae26",
   "outputs": [
    {
     "name": "stdout",
     "output_type": "stream",
     "text": [
      "[22686]\n",
      "17 ['Reading data from GitHub' 'Reporting with Pandas'\n",
      " 'Reading data from different sources' 'Transforming data'\n",
      " 'Merging and Combining Data' 'Stacking and Unstacking Data'\n",
      " 'Selecting data with MultiIndex'\n",
      " 'Adding, Deleting, and Modifying Columns and Rows'\n",
      " 'Approximation with linear regression' 'Recommendation model'\n",
      " 'Conditional filtering' 'Sorting data' 'Preprocessing'\n",
      " 'Common data issues' 'Query filtering'\n",
      " 'Create and manipulate a DataFrame' 'Create a Series']\n"
     ]
    },
    {
     "name": "stderr",
     "output_type": "stream",
     "text": [
      "/var/folders/r8/1llvc8sx345f0h_dnn8z50ph0000gp/T/ipykernel_17077/546598119.py:20: SettingWithCopyWarning: \n",
      "A value is trying to be set on a copy of a slice from a DataFrame.\n",
      "Try using .loc[row_indexer,col_indexer] = value instead\n",
      "\n",
      "See the caveats in the documentation: https://pandas.pydata.org/pandas-docs/stable/user_guide/indexing.html#returning-a-view-versus-a-copy\n",
      "  df['Submission Datetime'] = pd.to_datetime(df['Submission Datetime'])  # Ensure correct datetime format\n"
     ]
    },
    {
     "name": "stdout",
     "output_type": "stream",
     "text": [
      "[{'range': 'B2', 'values': [[1]]}, {'range': 'D2', 'values': [[1]]}, {'range': 'Q2', 'values': [[1]]}, {'range': 'R2', 'values': [[1]]}, {'range': 'R2', 'values': [[1]]}, {'range': 'Q2', 'values': [[1]]}, {'range': 'Q2', 'values': [[1]]}, {'range': 'R2', 'values': [[1]]}, {'range': 'C3', 'values': [[1]]}, {'range': 'C3', 'values': [[1]]}, {'range': 'J3', 'values': [[1]]}, {'range': 'K3', 'values': [[1]]}, {'range': 'N3', 'values': [[1]]}, {'range': 'E3', 'values': [[1]]}, {'range': 'F3', 'values': [[1]]}, {'range': 'G3', 'values': [[1]]}, {'range': 'H3', 'values': [[1]]}, {'range': 'I3', 'values': [[1]]}, {'range': 'P3', 'values': [[1]]}, {'range': 'L3', 'values': [[1]]}, {'range': 'M3', 'values': [[1]]}, {'range': 'O3', 'values': [[1]]}, {'range': 'O3', 'values': [[1]]}, {'range': 'B3', 'values': [[1]]}, {'range': 'D3', 'values': [[1]]}, {'range': 'Q3', 'values': [[1]]}, {'range': 'R3', 'values': [[1]]}, {'range': 'G4', 'values': [[1]]}, {'range': 'H4', 'values': [[1]]}, {'range': 'I4', 'values': [[1]]}, {'range': 'L4', 'values': [[1]]}, {'range': 'M4', 'values': [[1]]}, {'range': 'O4', 'values': [[1]]}, {'range': 'B4', 'values': [[1]]}, {'range': 'D4', 'values': [[1]]}, {'range': 'Q4', 'values': [[1]]}, {'range': 'C5', 'values': [[1]]}, {'range': 'J5', 'values': [[1]]}, {'range': 'K5', 'values': [[1]]}, {'range': 'N5', 'values': [[1]]}, {'range': 'E5', 'values': [[1]]}, {'range': 'F5', 'values': [[1]]}, {'range': 'G5', 'values': [[1]]}, {'range': 'H5', 'values': [[1]]}, {'range': 'I5', 'values': [[1]]}, {'range': 'P5', 'values': [[1]]}, {'range': 'L5', 'values': [[1]]}, {'range': 'M5', 'values': [[1]]}, {'range': 'O5', 'values': [[1]]}, {'range': 'B5', 'values': [[1]]}, {'range': 'D5', 'values': [[1]]}, {'range': 'Q5', 'values': [[1]]}, {'range': 'R5', 'values': [[1]]}, {'range': 'N6', 'values': [[1]]}, {'range': 'E6', 'values': [[1]]}, {'range': 'F6', 'values': [[1]]}, {'range': 'G6', 'values': [[1]]}, {'range': 'H6', 'values': [[1]]}, {'range': 'H6', 'values': [[1]]}, {'range': 'H6', 'values': [[1]]}, {'range': 'I6', 'values': [[1]]}, {'range': 'P6', 'values': [[1]]}, {'range': 'P6', 'values': [[1]]}, {'range': 'P6', 'values': [[1]]}, {'range': 'P6', 'values': [[1]]}, {'range': 'L6', 'values': [[1]]}, {'range': 'M6', 'values': [[1]]}, {'range': 'O6', 'values': [[1]]}, {'range': 'B6', 'values': [[1]]}, {'range': 'D6', 'values': [[1]]}, {'range': 'Q6', 'values': [[1]]}, {'range': 'R6', 'values': [[1]]}, {'range': 'K7', 'values': [[1]]}, {'range': 'N7', 'values': [[1]]}, {'range': 'C7', 'values': [[1]]}, {'range': 'C7', 'values': [[1]]}, {'range': 'J7', 'values': [[1]]}, {'range': 'J7', 'values': [[1]]}, {'range': 'E7', 'values': [[1]]}, {'range': 'F7', 'values': [[1]]}, {'range': 'G7', 'values': [[1]]}, {'range': 'H7', 'values': [[1]]}, {'range': 'I7', 'values': [[1]]}, {'range': 'P7', 'values': [[1]]}, {'range': 'L7', 'values': [[1]]}, {'range': 'M7', 'values': [[1]]}, {'range': 'O7', 'values': [[1]]}, {'range': 'B7', 'values': [[1]]}, {'range': 'D7', 'values': [[1]]}, {'range': 'Q7', 'values': [[1]]}, {'range': 'R7', 'values': [[1]]}, {'range': 'H8', 'values': [[1]]}, {'range': 'I8', 'values': [[1]]}, {'range': 'P8', 'values': [[1]]}, {'range': 'L8', 'values': [[1]]}, {'range': 'M8', 'values': [[1]]}, {'range': 'O8', 'values': [[1]]}, {'range': 'B8', 'values': [[1]]}, {'range': 'D8', 'values': [[1]]}, {'range': 'Q8', 'values': [[1]]}, {'range': 'R8', 'values': [[1]]}, {'range': 'C9', 'values': [[1]]}, {'range': 'C9', 'values': [[1]]}, {'range': 'J9', 'values': [[1]]}, {'range': 'K9', 'values': [[1]]}, {'range': 'N9', 'values': [[1]]}, {'range': 'E9', 'values': [[1]]}, {'range': 'F9', 'values': [[1]]}, {'range': 'G9', 'values': [[1]]}, {'range': 'H9', 'values': [[1]]}, {'range': 'I9', 'values': [[1]]}, {'range': 'P9', 'values': [[1]]}, {'range': 'L9', 'values': [[1]]}, {'range': 'M9', 'values': [[1]]}, {'range': 'O9', 'values': [[1]]}, {'range': 'B9', 'values': [[1]]}, {'range': 'B9', 'values': [[1]]}, {'range': 'D9', 'values': [[1]]}, {'range': 'Q9', 'values': [[1]]}, {'range': 'R9', 'values': [[1]]}, {'range': 'B10', 'values': [[1]]}, {'range': 'D10', 'values': [[1]]}, {'range': 'Q10', 'values': [[1]]}, {'range': 'R10', 'values': [[1]]}, {'range': 'K11', 'values': [[1]]}, {'range': 'N11', 'values': [[1]]}, {'range': 'E11', 'values': [[1]]}, {'range': 'F11', 'values': [[1]]}, {'range': 'G11', 'values': [[1]]}, {'range': 'H11', 'values': [[1]]}, {'range': 'I11', 'values': [[1]]}, {'range': 'P11', 'values': [[1]]}, {'range': 'L11', 'values': [[1]]}, {'range': 'M11', 'values': [[1]]}, {'range': 'O11', 'values': [[1]]}, {'range': 'B11', 'values': [[1]]}, {'range': 'D11', 'values': [[1]]}, {'range': 'Q11', 'values': [[1]]}, {'range': 'R11', 'values': [[1]]}, {'range': 'H12', 'values': [[1]]}, {'range': 'I12', 'values': [[1]]}, {'range': 'P12', 'values': [[1]]}, {'range': 'L12', 'values': [[1]]}, {'range': 'M12', 'values': [[1]]}, {'range': 'O12', 'values': [[1]]}, {'range': 'B12', 'values': [[1]]}, {'range': 'D12', 'values': [[1]]}, {'range': 'Q12', 'values': [[1]]}, {'range': 'R12', 'values': [[1]]}, {'range': 'C13', 'values': [[1]]}, {'range': 'C13', 'values': [[1]]}, {'range': 'J13', 'values': [[1]]}, {'range': 'K13', 'values': [[1]]}, {'range': 'K13', 'values': [[1]]}, {'range': 'N13', 'values': [[1]]}, {'range': 'E13', 'values': [[1]]}, {'range': 'F13', 'values': [[1]]}, {'range': 'G13', 'values': [[1]]}, {'range': 'H13', 'values': [[1]]}, {'range': 'I13', 'values': [[1]]}, {'range': 'P13', 'values': [[1]]}, {'range': 'L13', 'values': [[1]]}, {'range': 'M13', 'values': [[1]]}, {'range': 'O13', 'values': [[1]]}, {'range': 'B13', 'values': [[1]]}, {'range': 'D13', 'values': [[1]]}, {'range': 'Q13', 'values': [[1]]}, {'range': 'R13', 'values': [[1]]}, {'range': 'K14', 'values': [[1]]}, {'range': 'N14', 'values': [[1]]}, {'range': 'J14', 'values': [[1]]}, {'range': 'C14', 'values': [[1]]}, {'range': 'C14', 'values': [[1]]}, {'range': 'E14', 'values': [[1]]}, {'range': 'F14', 'values': [[1]]}, {'range': 'G14', 'values': [[1]]}, {'range': 'H14', 'values': [[1]]}, {'range': 'H14', 'values': [[1]]}, {'range': 'I14', 'values': [[1]]}, {'range': 'I14', 'values': [[1]]}, {'range': 'I14', 'values': [[1]]}, {'range': 'P14', 'values': [[1]]}, {'range': 'L14', 'values': [[1]]}, {'range': 'M14', 'values': [[1]]}, {'range': 'O14', 'values': [[1]]}, {'range': 'B14', 'values': [[1]]}, {'range': 'D14', 'values': [[1]]}, {'range': 'Q14', 'values': [[1]]}, {'range': 'R14', 'values': [[1]]}, {'range': 'G15', 'values': [[1]]}, {'range': 'H15', 'values': [[1]]}, {'range': 'H15', 'values': [[1]]}, {'range': 'I15', 'values': [[1]]}, {'range': 'P15', 'values': [[1]]}, {'range': 'P15', 'values': [[1]]}, {'range': 'L15', 'values': [[1]]}, {'range': 'M15', 'values': [[1]]}, {'range': 'O15', 'values': [[1]]}, {'range': 'B15', 'values': [[1]]}, {'range': 'Q15', 'values': [[1]]}, {'range': 'R15', 'values': [[1]]}, {'range': 'H16', 'values': [[1]]}, {'range': 'I16', 'values': [[1]]}, {'range': 'I16', 'values': [[1]]}, {'range': 'P16', 'values': [[1]]}, {'range': 'L16', 'values': [[1]]}, {'range': 'M16', 'values': [[1]]}, {'range': 'O16', 'values': [[1]]}, {'range': 'C17', 'values': [[1]]}, {'range': 'J17', 'values': [[1]]}, {'range': 'K17', 'values': [[1]]}, {'range': 'N17', 'values': [[1]]}, {'range': 'E17', 'values': [[1]]}, {'range': 'F17', 'values': [[1]]}, {'range': 'G17', 'values': [[1]]}, {'range': 'H17', 'values': [[1]]}, {'range': 'I17', 'values': [[1]]}, {'range': 'P17', 'values': [[1]]}, {'range': 'L17', 'values': [[1]]}, {'range': 'M17', 'values': [[1]]}, {'range': 'O17', 'values': [[1]]}, {'range': 'B17', 'values': [[1]]}, {'range': 'D17', 'values': [[1]]}, {'range': 'Q17', 'values': [[1]]}, {'range': 'R17', 'values': [[1]]}, {'range': 'P18', 'values': [[1]]}, {'range': 'L18', 'values': [[1]]}, {'range': 'L18', 'values': [[1]]}, {'range': 'M18', 'values': [[1]]}, {'range': 'O18', 'values': [[1]]}, {'range': 'B18', 'values': [[1]]}, {'range': 'D18', 'values': [[1]]}, {'range': 'Q18', 'values': [[1]]}, {'range': 'R18', 'values': [[1]]}, {'range': 'P19', 'values': [[1]]}, {'range': 'L19', 'values': [[1]]}, {'range': 'M19', 'values': [[1]]}, {'range': 'O19', 'values': [[1]]}, {'range': 'B19', 'values': [[1]]}, {'range': 'D19', 'values': [[1]]}, {'range': 'Q19', 'values': [[1]]}, {'range': 'R19', 'values': [[1]]}]\n",
      "Data incrementally updated successfully for all courses.\n"
     ]
    }
   ],
   "execution_count": 34
  },
  {
   "metadata": {},
   "cell_type": "code",
   "outputs": [],
   "execution_count": null,
   "source": [
    "import pandas as pd\n",
    "import matplotlib.pyplot as plt\n",
    "import seaborn as sns\n",
    "import matplotlib.dates as mdates\n",
    "\n",
    "# Filter the DataFrame for the specific course ID\n",
    "# course_df = df[df['Course ID'] == 16630]\n",
    "\n",
    "# Convert 'Submission Datetime' to datetime objects\n",
    "course_df['Submission Datetime'] = pd.to_datetime(course_df['Submission Datetime'])\n",
    "\n",
    "# Filter the date range\n",
    "course_df = course_df[(course_df['Submission Datetime'] > pd.to_datetime('2024-10-07')) &\n",
    "                      (course_df['Submission Datetime'] < pd.to_datetime('2024-10-09'))]\n",
    "\n",
    "# Round to the nearest 30 minutes\n",
    "course_df['Rounded Submission Datetime'] = course_df['Submission Datetime'].dt.round('30min')\n",
    "\n",
    "# Get submission counts per 30-minute interval\n",
    "submission_counts = course_df.groupby('Rounded Submission Datetime').size().reset_index(name='Frequency')\n",
    "\n",
    "# Set Seaborn style\n",
    "sns.set(style='whitegrid')\n",
    "\n",
    "# Create the plot\n",
    "plt.figure(figsize=(12, 6))\n",
    "\n",
    "# Plot using Seaborn barplot\n",
    "sns.barplot(\n",
    "    data=submission_counts,\n",
    "    x='Rounded Submission Datetime',\n",
    "    y='Frequency',\n",
    "    color='skyblue'\n",
    ")\n",
    "\n",
    "# Format the x-axis for better readability\n",
    "ax = plt.gca()\n",
    "# ax.xaxis.set_major_formatter(mdates.DateFormatter('%H:%M'))\n",
    "ax.xaxis.set_major_locator(mdates.HourLocator(interval=60))  # Set major ticks every hour\n",
    "\n",
    "plt.xlabel('Submission Datetime')\n",
    "plt.ylabel('Number of Submissions')\n",
    "plt.title('Submissions Rounded to 30-Minute Intervals')\n",
    "plt.xticks(rotation=45)\n",
    "plt.tight_layout()\n",
    "plt.show()\n"
   ],
   "id": "ea8742a57eb08686"
  },
  {
   "metadata": {},
   "cell_type": "code",
   "outputs": [],
   "execution_count": null,
   "source": "",
   "id": "9f246426c3364a06"
  }
 ],
 "metadata": {
  "kernelspec": {
   "display_name": "Python 3",
   "language": "python",
   "name": "python3"
  },
  "language_info": {
   "codemirror_mode": {
    "name": "ipython",
    "version": 2
   },
   "file_extension": ".py",
   "mimetype": "text/x-python",
   "name": "python",
   "nbconvert_exporter": "python",
   "pygments_lexer": "ipython2",
   "version": "2.7.6"
  }
 },
 "nbformat": 4,
 "nbformat_minor": 5
}
