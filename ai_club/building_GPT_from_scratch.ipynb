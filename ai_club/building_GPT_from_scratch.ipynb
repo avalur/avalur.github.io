{
 "cells": [
  {
   "cell_type": "markdown",
   "metadata": {
    "slideshow": {
     "slide_type": "slide"
    }
   },
   "source": [
    "## Youth AI club\n",
    "\n",
    "### Building GPT-2 from scratch\n",
    "\n",
    "<br />\n",
    "December 18, 2024"
   ]
  },
  {
   "metadata": {},
   "cell_type": "markdown",
   "source": [
    "### In previous lesson, we have seen:\n",
    "  - Disadvantages of RNN architectures\n",
    "  - Attention mechanism\n",
    "  - Transformer architecture\n",
    "  - Generative Pre-trained Transformer (GPT) and\n",
    "  Bidirectional Encoder Representations from Transformers (BERT)"
   ]
  },
  {
   "cell_type": "markdown",
   "source": [
    "### [\"Attention is all you need\" paper (pdf)](https://arxiv.org/abs/1706.03762)"
   ],
   "metadata": {
    "collapsed": false
   }
  },
  {
   "cell_type": "markdown",
   "source": [
    "![transformer_model_architecture](images/transformer_model_architecture.png)"
   ],
   "metadata": {
    "collapsed": false
   }
  },
  {
   "cell_type": "code",
   "source": "import torch",
   "metadata": {
    "collapsed": false,
    "ExecuteTime": {
     "end_time": "2024-12-11T10:34:06.444602Z",
     "start_time": "2024-12-11T10:34:05.636380Z"
    }
   },
   "outputs": [],
   "execution_count": 1
  },
  {
   "cell_type": "code",
   "source": [
    "# read it in to inspect it\n",
    "with open('./input.txt', 'r', encoding='utf-8') as f:\n",
    "    text = f.read()"
   ],
   "metadata": {
    "collapsed": false,
    "ExecuteTime": {
     "end_time": "2024-12-11T10:34:51.871480Z",
     "start_time": "2024-12-11T10:34:51.868725Z"
    }
   },
   "outputs": [],
   "execution_count": 3
  },
  {
   "cell_type": "code",
   "metadata": {
    "id": "0w4gv7cXsZOU",
    "slideshow": {
     "slide_type": "subslide"
    },
    "ExecuteTime": {
     "end_time": "2024-12-11T10:34:54.649167Z",
     "start_time": "2024-12-11T10:34:54.646755Z"
    }
   },
   "source": [
    "print(\"length of dataset in characters: \", len(text))"
   ],
   "outputs": [
    {
     "name": "stdout",
     "output_type": "stream",
     "text": [
      "length of dataset in characters:  160228\n"
     ]
    }
   ],
   "execution_count": 4
  },
  {
   "cell_type": "code",
   "metadata": {
    "id": "qM4YZ4yulWuF",
    "slideshow": {
     "slide_type": "-"
    },
    "ExecuteTime": {
     "end_time": "2024-12-11T10:35:05.154953Z",
     "start_time": "2024-12-11T10:35:05.152849Z"
    }
   },
   "source": [
    "# let's look at the first 1000 characters\n",
    "print(text[:118])"
   ],
   "outputs": [
    {
     "name": "stdout",
     "output_type": "stream",
     "text": [
      "St. Petersburg mathematicians and \n",
      "their discoveries \n",
      "Editors: Nikita Kalinin, Stanislav Smirnov, Nikolai Reshetikhin,\n"
     ]
    }
   ],
   "execution_count": 6
  },
  {
   "cell_type": "code",
   "metadata": {
    "colab": {
     "base_uri": "https://localhost:8080/",
     "height": 731
    },
    "id": "Nc9JUIatdRFz",
    "outputId": "3aea1b45-4a51-416a-fa8b-39b1a8084fb9",
    "slideshow": {
     "slide_type": "subslide"
    },
    "ExecuteTime": {
     "end_time": "2024-12-11T10:35:08.431001Z",
     "start_time": "2024-12-11T10:35:08.427163Z"
    }
   },
   "source": [
    "# here are all the unique characters that occur in this text\n",
    "chars = sorted(list(set(text)))\n",
    "vocab_size = len(chars)\n",
    "print(''.join(chars))\n",
    "print(vocab_size)"
   ],
   "outputs": [
    {
     "name": "stdout",
     "output_type": "stream",
     "text": [
      "\n",
      " !%&()*+,-./012345678:;<=>?@ABCDEFGHIJKLMNOPQRSTUVWXYZ[\\]`abcdefghijklmnopqrstuvwxyz{|}¦¨©±´µ·¸Æ×ıĳŒœˆˇΓΠηλνρστφχψωГКЛОРСТабгдезиклмнорстухцчыь–—’“”•…Ω→∂∆∇∈−∞∧∩≤≥⊂⊥\n",
      "173\n"
     ]
    }
   ],
   "execution_count": 7
  },
  {
   "cell_type": "code",
   "source": [
    "# create a mapping from characters to integers\n",
    "stoi = { ch:i for i,ch in enumerate(chars) }\n",
    "itos = { i:ch for i,ch in enumerate(chars) }\n",
    "encode = lambda s: [stoi[c] for c in s] # encoder: take a string, output a list of integers\n",
    "decode = lambda l: ''.join([itos[i] for i in l]) # decoder: take a list of integers, output a string\n",
    "\n",
    "print(encode(\"hii there\"))\n",
    "print(decode(encode(\"hii there\")))"
   ],
   "metadata": {
    "collapsed": false,
    "ExecuteTime": {
     "end_time": "2024-12-11T10:35:10.220334Z",
     "start_time": "2024-12-11T10:35:10.217096Z"
    }
   },
   "outputs": [
    {
     "name": "stdout",
     "output_type": "stream",
     "text": [
      "[66, 67, 67, 1, 78, 66, 63, 76, 63]\n",
      "hii there\n"
     ]
    }
   ],
   "execution_count": 8
  },
  {
   "cell_type": "code",
   "metadata": {
    "slideshow": {
     "slide_type": "-"
    },
    "ExecuteTime": {
     "end_time": "2024-12-11T10:35:12.589545Z",
     "start_time": "2024-12-11T10:35:12.565057Z"
    }
   },
   "source": [
    "# let's now encode the entire text dataset and store it into a torch.Tensor\n",
    "data = torch.tensor(encode(text), dtype=torch.long)\n",
    "print(data.shape, data.dtype)\n",
    "print(data[:100]) # the 100 characters we looked at earlier will to the GPT look like this"
   ],
   "outputs": [
    {
     "name": "stdout",
     "output_type": "stream",
     "text": [
      "torch.Size([160228]) torch.int64\n",
      "tensor([47, 78, 11,  1, 44, 63, 78, 63, 76, 77, 60, 79, 76, 65,  1, 71, 59, 78,\n",
      "        66, 63, 71, 59, 78, 67, 61, 67, 59, 72, 77,  1, 59, 72, 62,  1,  0, 78,\n",
      "        66, 63, 67, 76,  1, 62, 67, 77, 61, 73, 80, 63, 76, 67, 63, 77,  1,  0,\n",
      "        33, 62, 67, 78, 73, 76, 77, 22,  1, 42, 67, 69, 67, 78, 59,  1, 39, 59,\n",
      "        70, 67, 72, 67, 72,  9,  1, 47, 78, 59, 72, 67, 77, 70, 59, 80,  1, 47,\n",
      "        71, 67, 76, 72, 73, 80,  9,  1, 42, 67])\n"
     ]
    }
   ],
   "execution_count": 9
  },
  {
   "cell_type": "code",
   "source": [
    "# Let's now split up the data into train and validation sets\n",
    "n = int(0.9*len(data)) # first 90% will be train, rest val\n",
    "train_data = data[:n]\n",
    "val_data = data[n:]"
   ],
   "metadata": {
    "collapsed": false,
    "ExecuteTime": {
     "end_time": "2024-12-11T10:37:13.418375Z",
     "start_time": "2024-12-11T10:37:13.416174Z"
    }
   },
   "outputs": [],
   "execution_count": 16
  },
  {
   "cell_type": "code",
   "metadata": {
    "colab": {
     "base_uri": "https://localhost:8080/",
     "height": 55
    },
    "id": "ItwolM_L7i1l",
    "outputId": "5993b70b-7c06-4877-95a6-230625650927",
    "slideshow": {
     "slide_type": "-"
    },
    "ExecuteTime": {
     "end_time": "2024-12-11T10:37:15.504231Z",
     "start_time": "2024-12-11T10:37:15.501154Z"
    }
   },
   "source": [
    "block_size = 8 # contex length\n",
    "train_data[:block_size+1]"
   ],
   "outputs": [
    {
     "data": {
      "text/plain": [
       "tensor([47, 78, 11,  1, 44, 63, 78, 63, 76])"
      ]
     },
     "execution_count": 17,
     "metadata": {},
     "output_type": "execute_result"
    }
   ],
   "execution_count": 17
  },
  {
   "cell_type": "code",
   "source": [
    "x = train_data[:block_size]\n",
    "y = train_data[1:block_size+1]\n",
    "for t in range(block_size):\n",
    "    context = x[:t+1]\n",
    "    target = y[t]\n",
    "    print(f\"when input is {context} the target: {target}\")"
   ],
   "metadata": {
    "collapsed": false,
    "ExecuteTime": {
     "end_time": "2024-12-11T10:37:17.282159Z",
     "start_time": "2024-12-11T10:37:17.277579Z"
    }
   },
   "outputs": [
    {
     "name": "stdout",
     "output_type": "stream",
     "text": [
      "when input is tensor([47]) the target: 78\n",
      "when input is tensor([47, 78]) the target: 11\n",
      "when input is tensor([47, 78, 11]) the target: 1\n",
      "when input is tensor([47, 78, 11,  1]) the target: 44\n",
      "when input is tensor([47, 78, 11,  1, 44]) the target: 63\n",
      "when input is tensor([47, 78, 11,  1, 44, 63]) the target: 78\n",
      "when input is tensor([47, 78, 11,  1, 44, 63, 78]) the target: 63\n",
      "when input is tensor([47, 78, 11,  1, 44, 63, 78, 63]) the target: 76\n"
     ]
    }
   ],
   "execution_count": 18
  },
  {
   "cell_type": "code",
   "source": [
    "torch.manual_seed(1337)\n",
    "batch_size = 4 # how many independent sequences will we process in parallel?\n",
    "block_size = 8 # what is the maximum context length for predictions?\n",
    "\n",
    "def get_batch(split):\n",
    "    # generate a small batch of data of inputs x and targets y\n",
    "    data = train_data if split == 'train' else val_data\n",
    "    ix = torch.randint(len(data) - block_size, (batch_size,))\n",
    "    x = torch.stack([data[i:i+block_size] for i in ix])\n",
    "    y = torch.stack([data[i+1:i+block_size+1] for i in ix])\n",
    "    return x, y\n",
    "\n",
    "xb, yb = get_batch('train')\n",
    "print('inputs:')\n",
    "print(xb.shape)\n",
    "print(xb)\n",
    "print('targets:')\n",
    "print(yb.shape)\n",
    "print(yb)\n",
    "\n",
    "print('----')\n",
    "\n",
    "for b in range(batch_size): # batch dimension\n",
    "    for t in range(block_size): # time dimension\n",
    "        context = xb[b, :t+1]\n",
    "        target = yb[b,t]\n",
    "        print(f\"when input is {context.tolist()} the target: {target}\")"
   ],
   "metadata": {
    "collapsed": false,
    "ExecuteTime": {
     "end_time": "2024-12-11T10:37:19.116111Z",
     "start_time": "2024-12-11T10:37:19.104332Z"
    }
   },
   "outputs": [
    {
     "name": "stdout",
     "output_type": "stream",
     "text": [
      "inputs:\n",
      "torch.Size([4, 8])\n",
      "tensor([[62,  1, 64, 73, 76,  1, 78, 66],\n",
      "        [66, 63,  1, 65, 76, 63, 59, 78],\n",
      "        [67, 73, 72,  1, 73, 64,  1, 78],\n",
      "        [11,  1, 11,  1, 11,  1, 11,  1]])\n",
      "targets:\n",
      "torch.Size([4, 8])\n",
      "tensor([[ 1, 64, 73, 76,  1, 78, 66, 63],\n",
      "        [63,  1, 65, 76, 63, 59, 78,  1],\n",
      "        [73, 72,  1, 73, 64,  1, 78, 66],\n",
      "        [ 1, 11,  1, 11,  1, 11,  1, 11]])\n",
      "----\n",
      "when input is [62] the target: 1\n",
      "when input is [62, 1] the target: 64\n",
      "when input is [62, 1, 64] the target: 73\n",
      "when input is [62, 1, 64, 73] the target: 76\n",
      "when input is [62, 1, 64, 73, 76] the target: 1\n",
      "when input is [62, 1, 64, 73, 76, 1] the target: 78\n",
      "when input is [62, 1, 64, 73, 76, 1, 78] the target: 66\n",
      "when input is [62, 1, 64, 73, 76, 1, 78, 66] the target: 63\n",
      "when input is [66] the target: 63\n",
      "when input is [66, 63] the target: 1\n",
      "when input is [66, 63, 1] the target: 65\n",
      "when input is [66, 63, 1, 65] the target: 76\n",
      "when input is [66, 63, 1, 65, 76] the target: 63\n",
      "when input is [66, 63, 1, 65, 76, 63] the target: 59\n",
      "when input is [66, 63, 1, 65, 76, 63, 59] the target: 78\n",
      "when input is [66, 63, 1, 65, 76, 63, 59, 78] the target: 1\n",
      "when input is [67] the target: 73\n",
      "when input is [67, 73] the target: 72\n",
      "when input is [67, 73, 72] the target: 1\n",
      "when input is [67, 73, 72, 1] the target: 73\n",
      "when input is [67, 73, 72, 1, 73] the target: 64\n",
      "when input is [67, 73, 72, 1, 73, 64] the target: 1\n",
      "when input is [67, 73, 72, 1, 73, 64, 1] the target: 78\n",
      "when input is [67, 73, 72, 1, 73, 64, 1, 78] the target: 66\n",
      "when input is [11] the target: 1\n",
      "when input is [11, 1] the target: 11\n",
      "when input is [11, 1, 11] the target: 1\n",
      "when input is [11, 1, 11, 1] the target: 11\n",
      "when input is [11, 1, 11, 1, 11] the target: 1\n",
      "when input is [11, 1, 11, 1, 11, 1] the target: 11\n",
      "when input is [11, 1, 11, 1, 11, 1, 11] the target: 1\n",
      "when input is [11, 1, 11, 1, 11, 1, 11, 1] the target: 11\n"
     ]
    }
   ],
   "execution_count": 19
  },
  {
   "cell_type": "code",
   "source": [
    "print(xb) # our input to the transformer"
   ],
   "metadata": {
    "collapsed": false,
    "ExecuteTime": {
     "end_time": "2024-12-11T10:37:21.288938Z",
     "start_time": "2024-12-11T10:37:21.286348Z"
    }
   },
   "outputs": [
    {
     "name": "stdout",
     "output_type": "stream",
     "text": [
      "tensor([[62,  1, 64, 73, 76,  1, 78, 66],\n",
      "        [66, 63,  1, 65, 76, 63, 59, 78],\n",
      "        [67, 73, 72,  1, 73, 64,  1, 78],\n",
      "        [11,  1, 11,  1, 11,  1, 11,  1]])\n"
     ]
    }
   ],
   "execution_count": 20
  },
  {
   "cell_type": "code",
   "source": [
    "import torch\n",
    "import torch.nn as nn\n",
    "from torch.nn import functional as F\n",
    "torch.manual_seed(1337)\n",
    "\n",
    "class BigramLanguageModel(nn.Module):\n",
    "\n",
    "    def __init__(self, vocab_size):\n",
    "        super().__init__()\n",
    "        # each token directly reads off the logits for the next token from a lookup table\n",
    "        self.token_embedding_table = nn.Embedding(vocab_size, vocab_size)\n",
    "\n",
    "    def forward(self, idx, targets=None):\n",
    "        # idx and targets are both (B,T) tensor of integers\n",
    "        logits = self.token_embedding_table(idx) # (Batch,Time,Channel) = (4, 8, 65)\n",
    "        \n",
    "        if targets is None:\n",
    "            loss = None\n",
    "        else:\n",
    "            B, T, C = logits.shape\n",
    "            logits = logits.view(B*T, C)\n",
    "            targets = targets.view(B*T)\n",
    "            loss = F.cross_entropy(logits, targets)\n",
    "\n",
    "        return logits, loss\n",
    "    \n",
    "    def generate(self, idx, max_new_tokens):\n",
    "        # idx is (B, T) array of indices in the current context\n",
    "        for _ in range(max_new_tokens):\n",
    "            # get the predictions\n",
    "            logits, loss = self(idx)\n",
    "            # focus only on the last time step\n",
    "            logits = logits[:, -1, :] # becomes (B, C)\n",
    "            # apply softmax to get probabilities\n",
    "            probs = F.softmax(logits, dim=-1) # (B, C)\n",
    "            # sample from the distribution\n",
    "            idx_next = torch.multinomial(probs, num_samples=1) # (B, 1)\n",
    "            # append sampled index to the running sequence\n",
    "            idx = torch.cat((idx, idx_next), dim=1) # (B, T+1)\n",
    "        return idx\n",
    "\n",
    "m = BigramLanguageModel(vocab_size)\n",
    "logits, loss = m(xb, yb)\n",
    "print(logits.shape)\n",
    "print(loss)\n",
    "\n",
    "print(decode(m.generate(idx=torch.zeros((1, 1), dtype=torch.long), max_new_tokens=100)[0].tolist()))"
   ],
   "metadata": {
    "collapsed": false,
    "ExecuteTime": {
     "end_time": "2024-12-11T10:37:22.647776Z",
     "start_time": "2024-12-11T10:37:22.614120Z"
    }
   },
   "outputs": [
    {
     "name": "stdout",
     "output_type": "stream",
     "text": [
      "torch.Size([32, 173])\n",
      "tensor(5.7670, grad_fn=<NllLossBackward0>)\n",
      "\n",
      ")ZьjηBн<WŒ\n",
      "Z&+•{+“(1a/·b=G×KAH→>ν×PœΓZFDRNц≥ˆv©нCĳс};vmtл{’ЛтQZpˆмT¸12∇ь±\\2дзtoÆσk:5AдТh×∩YуNΠ\n"
     ]
    }
   ],
   "execution_count": 21
  },
  {
   "cell_type": "code",
   "source": [
    "import math\n",
    "-math.log(1/173)"
   ],
   "metadata": {
    "collapsed": false,
    "ExecuteTime": {
     "end_time": "2024-12-11T10:37:51.192582Z",
     "start_time": "2024-12-11T10:37:51.189937Z"
    }
   },
   "outputs": [
    {
     "data": {
      "text/plain": [
       "5.153291594497779"
      ]
     },
     "execution_count": 22,
     "metadata": {},
     "output_type": "execute_result"
    }
   ],
   "execution_count": 22
  },
  {
   "cell_type": "code",
   "metadata": {
    "colab": {
     "base_uri": "https://localhost:8080/",
     "height": 288
    },
    "id": "ypB0kIOG7qRz",
    "outputId": "acbfba46-5e69-4029-c895-37162cb2e9e1",
    "slideshow": {
     "slide_type": "-"
    },
    "ExecuteTime": {
     "end_time": "2024-12-11T10:37:52.595Z",
     "start_time": "2024-12-11T10:37:52.188844Z"
    }
   },
   "source": [
    "# create a PyTorch optimizer\n",
    "optimizer = torch.optim.AdamW(m.parameters(), lr=5e-4)"
   ],
   "outputs": [],
   "execution_count": 23
  },
  {
   "cell_type": "code",
   "source": [
    "batch_size = 32\n",
    "for steps in range(50000): # increase the number of steps for good results...\n",
    "    \n",
    "    # sample a batch of data\n",
    "    xb, yb = get_batch('train')\n",
    "\n",
    "    # evaluate the loss\n",
    "    logits, loss = m(xb, yb)\n",
    "    optimizer.zero_grad(set_to_none=True)\n",
    "    loss.backward()\n",
    "    optimizer.step()\n",
    "\n",
    "print(loss.item())"
   ],
   "metadata": {
    "collapsed": false,
    "ExecuteTime": {
     "end_time": "2024-12-11T10:38:33.440690Z",
     "start_time": "2024-12-11T10:38:06.620417Z"
    }
   },
   "outputs": [
    {
     "name": "stdout",
     "output_type": "stream",
     "text": [
      "2.5447843074798584\n"
     ]
    }
   ],
   "execution_count": 25
  },
  {
   "cell_type": "code",
   "source": [
    "print(decode(m.generate(idx=torch.zeros((1, 1), dtype=torch.long), max_new_tokens=100)[0].tolist()))"
   ],
   "metadata": {
    "collapsed": false,
    "ExecuteTime": {
     "end_time": "2024-12-11T10:38:34.919325Z",
     "start_time": "2024-12-11T10:38:34.913201Z"
    }
   },
   "outputs": [
    {
     "name": "stdout",
     "output_type": "stream",
     "text": [
      "\n",
      "Imascin \n",
      "Dok R. s Coblemek inforofo,xin). en’Apoppedie wofof clppty wicth a mi Feress ar teri n) Wha\n"
     ]
    }
   ],
   "execution_count": 26
  },
  {
   "cell_type": "markdown",
   "source": [
    "## The mathematical trick in self-attention"
   ],
   "metadata": {
    "collapsed": false
   }
  },
  {
   "cell_type": "code",
   "source": [
    "torch.manual_seed(42)\n",
    "B, T, C = 4,8,2\n",
    "x = torch.randn(B, T, C)\n",
    "x.shape"
   ],
   "metadata": {
    "collapsed": false,
    "ExecuteTime": {
     "end_time": "2024-12-11T10:38:42.281878Z",
     "start_time": "2024-12-11T10:38:42.276570Z"
    }
   },
   "outputs": [
    {
     "data": {
      "text/plain": [
       "torch.Size([4, 8, 2])"
      ]
     },
     "execution_count": 27,
     "metadata": {},
     "output_type": "execute_result"
    }
   ],
   "execution_count": 27
  },
  {
   "cell_type": "code",
   "source": [
    "# the simplest way for tokens to communicate\n",
    "# we want x[b,t] = mean_{i<=t} x[b,i]\n",
    "xbow = torch.zeros((B, T, C))\n",
    "for b in range(B):\n",
    "    for t in range(T):\n",
    "        xprev = x[b, :t+1] # shape is (t,C)\n",
    "        xbow[b,t] = torch.mean(xprev, 0)"
   ],
   "metadata": {
    "collapsed": false,
    "ExecuteTime": {
     "end_time": "2024-12-11T10:38:43.085279Z",
     "start_time": "2024-12-11T10:38:43.081516Z"
    }
   },
   "outputs": [],
   "execution_count": 28
  },
  {
   "cell_type": "code",
   "source": [
    "x[0]"
   ],
   "metadata": {
    "collapsed": false,
    "ExecuteTime": {
     "end_time": "2024-12-11T10:38:44.068784Z",
     "start_time": "2024-12-11T10:38:44.065497Z"
    }
   },
   "outputs": [
    {
     "data": {
      "text/plain": [
       "tensor([[ 1.9269,  1.4873],\n",
       "        [ 0.9007, -2.1055],\n",
       "        [ 0.6784, -1.2345],\n",
       "        [-0.0431, -1.6047],\n",
       "        [-0.7521,  1.6487],\n",
       "        [-0.3925, -1.4036],\n",
       "        [-0.7279, -0.5594],\n",
       "        [-0.7688,  0.7624]])"
      ]
     },
     "execution_count": 29,
     "metadata": {},
     "output_type": "execute_result"
    }
   ],
   "execution_count": 29
  },
  {
   "cell_type": "code",
   "source": [
    "xbow[0]"
   ],
   "metadata": {
    "collapsed": false,
    "ExecuteTime": {
     "end_time": "2024-12-11T10:38:44.825195Z",
     "start_time": "2024-12-11T10:38:44.822449Z"
    }
   },
   "outputs": [
    {
     "data": {
      "text/plain": [
       "tensor([[ 1.9269,  1.4873],\n",
       "        [ 1.4138, -0.3091],\n",
       "        [ 1.1687, -0.6176],\n",
       "        [ 0.8657, -0.8644],\n",
       "        [ 0.5422, -0.3617],\n",
       "        [ 0.3864, -0.5354],\n",
       "        [ 0.2272, -0.5388],\n",
       "        [ 0.1027, -0.3762]])"
      ]
     },
     "execution_count": 30,
     "metadata": {},
     "output_type": "execute_result"
    }
   ],
   "execution_count": 30
  },
  {
   "cell_type": "code",
   "source": [
    "# toy example illustrating how matrix multiplication can be used for an efficient \"weighted aggregation\"\n",
    "torch.tril(torch.ones(3, 3))"
   ],
   "metadata": {
    "collapsed": false,
    "ExecuteTime": {
     "end_time": "2024-12-11T10:38:45.827029Z",
     "start_time": "2024-12-11T10:38:45.821556Z"
    }
   },
   "outputs": [
    {
     "data": {
      "text/plain": [
       "tensor([[1., 0., 0.],\n",
       "        [1., 1., 0.],\n",
       "        [1., 1., 1.]])"
      ]
     },
     "execution_count": 31,
     "metadata": {},
     "output_type": "execute_result"
    }
   ],
   "execution_count": 31
  },
  {
   "cell_type": "code",
   "source": [
    "torch.manual_seed(42)\n",
    "a = torch.tril(torch.ones(3, 3))\n",
    "# a = a / torch.sum(a, 1, keepdim=True)\n",
    "b = torch.randint(0,10,(3,2)).float()\n",
    "c = a @ b\n",
    "print('a=')\n",
    "print(a)\n",
    "print('--')\n",
    "print('b=')\n",
    "print(b)\n",
    "print('--')\n",
    "print('c=')\n",
    "print(c)"
   ],
   "metadata": {
    "collapsed": false,
    "ExecuteTime": {
     "end_time": "2024-12-11T10:38:47.288054Z",
     "start_time": "2024-12-11T10:38:47.280993Z"
    }
   },
   "outputs": [
    {
     "name": "stdout",
     "output_type": "stream",
     "text": [
      "a=\n",
      "tensor([[1., 0., 0.],\n",
      "        [1., 1., 0.],\n",
      "        [1., 1., 1.]])\n",
      "--\n",
      "b=\n",
      "tensor([[2., 7.],\n",
      "        [6., 4.],\n",
      "        [6., 5.]])\n",
      "--\n",
      "c=\n",
      "tensor([[ 2.,  7.],\n",
      "        [ 8., 11.],\n",
      "        [14., 16.]])\n"
     ]
    }
   ],
   "execution_count": 32
  },
  {
   "cell_type": "code",
   "source": [
    "# version 2: using matrix multiply for a weighted aggregation\n",
    "wei = torch.tril(torch.ones(T, T))\n",
    "wei = wei / wei.sum(1, keepdim=True)\n",
    "print(wei)\n",
    "print(wei.shape)"
   ],
   "metadata": {
    "collapsed": false,
    "ExecuteTime": {
     "end_time": "2024-12-11T10:38:48.973234Z",
     "start_time": "2024-12-11T10:38:48.969708Z"
    }
   },
   "outputs": [
    {
     "name": "stdout",
     "output_type": "stream",
     "text": [
      "tensor([[1.0000, 0.0000, 0.0000, 0.0000, 0.0000, 0.0000, 0.0000, 0.0000],\n",
      "        [0.5000, 0.5000, 0.0000, 0.0000, 0.0000, 0.0000, 0.0000, 0.0000],\n",
      "        [0.3333, 0.3333, 0.3333, 0.0000, 0.0000, 0.0000, 0.0000, 0.0000],\n",
      "        [0.2500, 0.2500, 0.2500, 0.2500, 0.0000, 0.0000, 0.0000, 0.0000],\n",
      "        [0.2000, 0.2000, 0.2000, 0.2000, 0.2000, 0.0000, 0.0000, 0.0000],\n",
      "        [0.1667, 0.1667, 0.1667, 0.1667, 0.1667, 0.1667, 0.0000, 0.0000],\n",
      "        [0.1429, 0.1429, 0.1429, 0.1429, 0.1429, 0.1429, 0.1429, 0.0000],\n",
      "        [0.1250, 0.1250, 0.1250, 0.1250, 0.1250, 0.1250, 0.1250, 0.1250]])\n",
      "torch.Size([8, 8])\n"
     ]
    }
   ],
   "execution_count": 33
  },
  {
   "cell_type": "code",
   "source": [
    "xbow2 = wei @ x # (B, T, T) @ (B, T, C) ----> (B, T, C) matrix multiplication for each b=0..B-1\n",
    "torch.allclose(xbow, xbow2)"
   ],
   "metadata": {
    "collapsed": false,
    "ExecuteTime": {
     "end_time": "2024-12-11T10:38:50.001033Z",
     "start_time": "2024-12-11T10:38:49.994327Z"
    }
   },
   "outputs": [
    {
     "data": {
      "text/plain": [
       "True"
      ]
     },
     "execution_count": 34,
     "metadata": {},
     "output_type": "execute_result"
    }
   ],
   "execution_count": 34
  },
  {
   "cell_type": "code",
   "source": [
    "# version 3: using Softmax\n",
    "tril = torch.tril(torch.ones(T, T))\n",
    "wei = torch.zeros((T,T))\n",
    "wei = wei.masked_fill(tril == 0, float('-inf'))\n",
    "wei = F.softmax(wei, dim=-1)\n",
    "xbow3 = wei @ x\n",
    "torch.allclose(xbow, xbow3)"
   ],
   "metadata": {
    "collapsed": false,
    "ExecuteTime": {
     "end_time": "2024-12-11T10:38:51.222417Z",
     "start_time": "2024-12-11T10:38:51.216954Z"
    }
   },
   "outputs": [
    {
     "data": {
      "text/plain": [
       "True"
      ]
     },
     "execution_count": 35,
     "metadata": {},
     "output_type": "execute_result"
    }
   ],
   "execution_count": 35
  },
  {
   "cell_type": "code",
   "source": [
    "# tril is the same\n",
    "tril = torch.tril(torch.ones(T, T))\n",
    "wei = torch.zeros((T,T))\n",
    "wei = wei.masked_fill(tril == 0, float('-inf'))\n",
    "wei"
   ],
   "metadata": {
    "collapsed": false,
    "ExecuteTime": {
     "end_time": "2024-12-11T10:38:52.070590Z",
     "start_time": "2024-12-11T10:38:52.066495Z"
    }
   },
   "outputs": [
    {
     "data": {
      "text/plain": [
       "tensor([[0., -inf, -inf, -inf, -inf, -inf, -inf, -inf],\n",
       "        [0., 0., -inf, -inf, -inf, -inf, -inf, -inf],\n",
       "        [0., 0., 0., -inf, -inf, -inf, -inf, -inf],\n",
       "        [0., 0., 0., 0., -inf, -inf, -inf, -inf],\n",
       "        [0., 0., 0., 0., 0., -inf, -inf, -inf],\n",
       "        [0., 0., 0., 0., 0., 0., -inf, -inf],\n",
       "        [0., 0., 0., 0., 0., 0., 0., -inf],\n",
       "        [0., 0., 0., 0., 0., 0., 0., 0.]])"
      ]
     },
     "execution_count": 36,
     "metadata": {},
     "output_type": "execute_result"
    }
   ],
   "execution_count": 36
  },
  {
   "cell_type": "code",
   "source": [
    "class BigramLanguageModel(nn.Module):\n",
    "\n",
    "    def __init__(self, vocab_size, n_embd):\n",
    "        super().__init__()\n",
    "        # each token directly reads off the logits for the next token from a lookup table\n",
    "        self.token_embedding_table = nn.Embedding(vocab_size, n_embd)\n",
    "        self.pos_embedding_table = nn.Embedding(block_size, n_embd)\n",
    "        self.lm_head = nn.Linear(n_embd, vocab_size)        \n",
    "\n",
    "    def forward(self, idx, targets=None):\n",
    "        B, T = idx.shape\n",
    "        # idx and targets are both (B,T) tensor of integers\n",
    "        tok_emb = self.token_embedding_table(idx) # (Batch,Time,Channel) = (4, 8, 65)\n",
    "        pos_emb = self.pos_embedding_table(torch.arange(T)) # (T, C)\n",
    "        x = tok_emb + pos_emb # (B, T, C)\n",
    "        logits = self.lm_head(x) # (Batch,Time,vocab_size)\n",
    "        \n",
    "        if targets is None:\n",
    "            loss = None\n",
    "        else:\n",
    "            B, T, C = logits.shape\n",
    "            logits = logits.view(B*T, C)\n",
    "            targets = targets.view(B*T)\n",
    "            loss = F.cross_entropy(logits, targets)\n",
    "\n",
    "        return logits, loss\n",
    "    \n",
    "    def generate(self, idx, max_new_tokens):\n",
    "        # idx is (B, T) array of indices in the current context\n",
    "        for _ in range(max_new_tokens):\n",
    "            # get the predictions\n",
    "            logits, loss = self(idx)\n",
    "            # focus only on the last time step\n",
    "            logits = logits[:, -1, :] # becomes (B, C)\n",
    "            # apply softmax to get probabilities\n",
    "            probs = F.softmax(logits, dim=-1) # (B, C)\n",
    "            # sample from the distribution\n",
    "            idx_next = torch.multinomial(probs, num_samples=1) # (B, 1)\n",
    "            # append sampled index to the running sequence\n",
    "            idx = torch.cat((idx, idx_next), dim=1) # (B, T+1)\n",
    "        return idx"
   ],
   "metadata": {
    "collapsed": false,
    "ExecuteTime": {
     "end_time": "2024-12-11T10:38:53.068018Z",
     "start_time": "2024-12-11T10:38:53.063023Z"
    }
   },
   "outputs": [],
   "execution_count": 37
  },
  {
   "cell_type": "code",
   "source": [
    "# version 4: self-attention!\n",
    "torch.manual_seed(1337)\n",
    "B,T,C = 4,8,32 # batch, time, channels\n",
    "x = torch.randn(B,T,C)\n",
    "\n",
    "tril = torch.tril(torch.ones(T, T))\n",
    "wei = torch.zeros((T,T))\n",
    "wei = wei.masked_fill(tril == 0, float('-inf'))\n",
    "wei = F.softmax(wei, dim=-1)\n",
    "out = wei @ x\n",
    "\n",
    "out.shape"
   ],
   "metadata": {
    "collapsed": false,
    "ExecuteTime": {
     "end_time": "2024-12-11T10:38:54.353883Z",
     "start_time": "2024-12-11T10:38:54.348430Z"
    }
   },
   "outputs": [
    {
     "data": {
      "text/plain": [
       "torch.Size([4, 8, 32])"
      ]
     },
     "execution_count": 38,
     "metadata": {},
     "output_type": "execute_result"
    }
   ],
   "execution_count": 38
  },
  {
   "cell_type": "code",
   "source": [
    "# version 4: self-attention!\n",
    "torch.manual_seed(1337)\n",
    "B,T,C = 4,8,32 # batch, time, channels\n",
    "x = torch.randn(B,T,C)\n",
    "\n",
    "# let's see a single Head perform self-attention\n",
    "head_size = 16\n",
    "key = nn.Linear(C, head_size, bias=False)\n",
    "query = nn.Linear(C, head_size, bias=False)\n",
    "value = nn.Linear(C, head_size, bias=False)\n",
    "k = key(x)   # (B, T, 16)\n",
    "q = query(x) # (B, T, 16)\n",
    "wei = q @ k.transpose(-2, -1) # (B, T, 16) @ (B, 16, T) ---> (B, T, T)\n",
    "\n",
    "tril = torch.tril(torch.ones(T, T))\n",
    "# wei = torch.zeros((T,T))\n",
    "wei = wei.masked_fill(tril == 0, float('-inf'))\n",
    "wei = F.softmax(wei, dim=-1)\n",
    "\n",
    "v = value(x)\n",
    "out = wei @ v\n",
    "# out = wei @ x\n",
    "\n",
    "out.shape"
   ],
   "metadata": {
    "collapsed": false,
    "ExecuteTime": {
     "end_time": "2024-12-11T10:38:55.146548Z",
     "start_time": "2024-12-11T10:38:55.139885Z"
    }
   },
   "outputs": [
    {
     "data": {
      "text/plain": [
       "torch.Size([4, 8, 16])"
      ]
     },
     "execution_count": 39,
     "metadata": {},
     "output_type": "execute_result"
    }
   ],
   "execution_count": 39
  },
  {
   "cell_type": "markdown",
   "source": [
    "Notes:\n",
    "- Attention is a **communication mechanism**. Can be seen as nodes in a directed graph looking at each other and aggregating information with a weighted sum from all nodes that point to them, with data-dependent weights\n",
    "- There is no notion of space. Attention simply acts over a set of vectors. This is why we need to positionally encode tokens\n",
    "- Each example across batch dimension is processed completely independently and never \"talk\" to each other\n",
    "- In an \"encoder\" attention block just delete the single line that does masking with `tril`, allowing all tokens to communicate. This block here is called a \"decoder\" attention block because it has triangular masking, and is usually used in autoregressive settings, like language modeling\n",
    "- \"self-attention\" just means that the keys and values are produced from the same source as queries. In \"cross-attention\", the queries still get produced from x, but the keys and values come from some other, external source (e.g. an encoder module)\n",
    "- \"Scaled\" attention additional divides `wei` by 1/sqrt(head_size). This makes it so when input Q,K are unit variance, wei will be unit variance too and Softmax will stay diffuse and not saturate too much. Illustration below"
   ],
   "metadata": {
    "collapsed": false
   }
  },
  {
   "cell_type": "code",
   "source": [
    "k = torch.randn(B,T,head_size)\n",
    "q = torch.randn(B,T,head_size)\n",
    "wei = q @ k.transpose(-2, -1) * head_size**-0.5"
   ],
   "metadata": {
    "collapsed": false,
    "ExecuteTime": {
     "end_time": "2024-12-11T10:38:58.121838Z",
     "start_time": "2024-12-11T10:38:58.118751Z"
    }
   },
   "outputs": [],
   "execution_count": 40
  },
  {
   "cell_type": "code",
   "source": [
    "k.var()"
   ],
   "metadata": {
    "collapsed": false,
    "ExecuteTime": {
     "end_time": "2024-12-11T10:38:59.327966Z",
     "start_time": "2024-12-11T10:38:59.324433Z"
    }
   },
   "outputs": [
    {
     "data": {
      "text/plain": [
       "tensor(1.0449)"
      ]
     },
     "execution_count": 41,
     "metadata": {},
     "output_type": "execute_result"
    }
   ],
   "execution_count": 41
  },
  {
   "cell_type": "code",
   "source": [
    "q.var()"
   ],
   "metadata": {
    "collapsed": false,
    "ExecuteTime": {
     "end_time": "2024-12-11T10:38:59.803361Z",
     "start_time": "2024-12-11T10:38:59.800502Z"
    }
   },
   "outputs": [
    {
     "data": {
      "text/plain": [
       "tensor(1.0700)"
      ]
     },
     "execution_count": 42,
     "metadata": {},
     "output_type": "execute_result"
    }
   ],
   "execution_count": 42
  },
  {
   "cell_type": "code",
   "source": [
    "wei.var()"
   ],
   "metadata": {
    "collapsed": false,
    "ExecuteTime": {
     "end_time": "2024-12-11T10:39:00.744686Z",
     "start_time": "2024-12-11T10:39:00.741712Z"
    }
   },
   "outputs": [
    {
     "data": {
      "text/plain": [
       "tensor(1.0918)"
      ]
     },
     "execution_count": 43,
     "metadata": {},
     "output_type": "execute_result"
    }
   ],
   "execution_count": 43
  },
  {
   "cell_type": "code",
   "source": [
    "torch.softmax(torch.tensor([0.1, -0.2, 0.3, -0.2, 0.5]), dim=-1)"
   ],
   "metadata": {
    "collapsed": false,
    "ExecuteTime": {
     "end_time": "2024-12-11T10:39:02.005057Z",
     "start_time": "2024-12-11T10:39:02.001747Z"
    }
   },
   "outputs": [
    {
     "data": {
      "text/plain": [
       "tensor([0.1925, 0.1426, 0.2351, 0.1426, 0.2872])"
      ]
     },
     "execution_count": 44,
     "metadata": {},
     "output_type": "execute_result"
    }
   ],
   "execution_count": 44
  },
  {
   "cell_type": "code",
   "source": [
    "torch.softmax(torch.tensor([0.1, -0.2, 0.3, -0.2, 0.5])*8, dim=-1) # gets too peaky, converges to one-hot"
   ],
   "metadata": {
    "collapsed": false,
    "ExecuteTime": {
     "end_time": "2024-12-11T10:39:03.683870Z",
     "start_time": "2024-12-11T10:39:03.679854Z"
    }
   },
   "outputs": [
    {
     "data": {
      "text/plain": [
       "tensor([0.0326, 0.0030, 0.1615, 0.0030, 0.8000])"
      ]
     },
     "execution_count": 45,
     "metadata": {},
     "output_type": "execute_result"
    }
   ],
   "execution_count": 45
  },
  {
   "cell_type": "code",
   "source": [
    "class Head(nn.Module):\n",
    "    \"\"\" one head of self-attention \"\"\"\n",
    "\n",
    "    def __init__(self, head_size):\n",
    "        super().__init__()\n",
    "        self.key = nn.Linear(n_embd, head_size, bias=False)\n",
    "        self.query = nn.Linear(n_embd, head_size, bias=False)\n",
    "        self.value = nn.Linear(n_embd, head_size, bias=False)\n",
    "        self.register_buffer('tril', torch.tril(torch.ones(block_size, block_size)))\n",
    "\n",
    "        self.dropout = nn.Dropout(dropout)\n",
    "\n",
    "    def forward(self, x):\n",
    "        B,T,C = x.shape\n",
    "        k = self.key(x)   # (B,T,C) -> (B,T,head_size)\n",
    "        q = self.query(x) # (B,T,C) -> (B,T,head_size)\n",
    "        # compute attention scores (\"affinities\")\n",
    "        head_size = k.shape[2]\n",
    "        wei = q @ k.transpose(-2,-1) * head_size**-0.5 # (B, T, head_size) @ (B, head_size, T) -> (B, T, T)\n",
    "        wei = wei.masked_fill(self.tril[:T, :T] == 0, float('-inf')) # (B, T, T)\n",
    "        wei = F.softmax(wei, dim=-1) # (B, T, T)\n",
    "        wei = self.dropout(wei)\n",
    "        # perform the weighted aggregation of the values\n",
    "        v = self.value(x) # (B,T,C)\n",
    "        out = wei @ v # (B, T, T) @ (B, T, C) -> (B, T, C)\n",
    "        return out\n"
   ],
   "metadata": {
    "collapsed": false,
    "ExecuteTime": {
     "end_time": "2024-12-11T10:39:04.678856Z",
     "start_time": "2024-12-11T10:39:04.674687Z"
    }
   },
   "outputs": [],
   "execution_count": 46
  },
  {
   "cell_type": "code",
   "source": [
    "import torch\n",
    "import torch.nn as nn\n",
    "from torch.nn import functional as F\n",
    "\n",
    "# hyperparameters\n",
    "batch_size = 16 # how many independent sequences will we process in parallel?\n",
    "block_size = 32 # what is the maximum context length for predictions?\n",
    "max_iters = 5000\n",
    "eval_interval = 100\n",
    "learning_rate = 1e-3\n",
    "device = 'cuda' if torch.cuda.is_available() else 'cpu'\n",
    "eval_iters = 200\n",
    "n_embd = 64\n",
    "n_head = 4\n",
    "n_layer = 4\n",
    "dropout = 0.0\n",
    "# ------------\n",
    "\n",
    "torch.manual_seed(1337)\n",
    "\n",
    "# wget https://raw.githubusercontent.com/avalur/avalur.github.io/refs/heads/master/ai_club/input.txt\n",
    "with open('./input.txt', 'r', encoding='utf-8') as f:\n",
    "    text = f.read()\n",
    "\n",
    "# here are all the unique characters that occur in this text\n",
    "chars = sorted(list(set(text)))\n",
    "vocab_size = len(chars)\n",
    "# create a mapping from characters to integers\n",
    "stoi = { ch:i for i,ch in enumerate(chars) }\n",
    "itos = { i:ch for i,ch in enumerate(chars) }\n",
    "encode = lambda s: [stoi[c] for c in s] # encoder: take a string, output a list of integers\n",
    "decode = lambda l: ''.join([itos[i] for i in l]) # decoder: take a list of integers, output a string\n",
    "\n",
    "# Train and test splits\n",
    "data = torch.tensor(encode(text), dtype=torch.long)\n",
    "n = int(0.9*len(data)) # first 90% will be train, rest val\n",
    "train_data = data[:n]\n",
    "val_data = data[n:]\n",
    "\n",
    "# data loading\n",
    "def get_batch(split):\n",
    "    # generate a small batch of data of inputs x and targets y\n",
    "    data = train_data if split == 'train' else val_data\n",
    "    ix = torch.randint(len(data) - block_size, (batch_size,))\n",
    "    x = torch.stack([data[i:i+block_size] for i in ix])\n",
    "    y = torch.stack([data[i+1:i+block_size+1] for i in ix])\n",
    "    x, y = x.to(device), y.to(device)\n",
    "    return x, y\n",
    "\n",
    "@torch.no_grad()\n",
    "def estimate_loss():\n",
    "    out = {}\n",
    "    model.eval()\n",
    "    for split in ['train', 'val']:\n",
    "        losses = torch.zeros(eval_iters)\n",
    "        for k in range(eval_iters):\n",
    "            X, Y = get_batch(split)\n",
    "            logits, loss = model(X, Y)\n",
    "            losses[k] = loss.item()\n",
    "        out[split] = losses.mean()\n",
    "    model.train()\n",
    "    return out\n",
    "\n",
    "class Head(nn.Module):\n",
    "    \"\"\" one head of self-attention \"\"\"\n",
    "\n",
    "    def __init__(self, head_size):\n",
    "        super().__init__()\n",
    "        self.key = nn.Linear(n_embd, head_size, bias=False)\n",
    "        self.query = nn.Linear(n_embd, head_size, bias=False)\n",
    "        self.value = nn.Linear(n_embd, head_size, bias=False)\n",
    "        self.register_buffer('tril', torch.tril(torch.ones(block_size, block_size)))\n",
    "\n",
    "        self.dropout = nn.Dropout(dropout)\n",
    "\n",
    "    def forward(self, x):\n",
    "        B,T,C = x.shape\n",
    "        k = self.key(x)   # (B,T,C)\n",
    "        q = self.query(x) # (B,T,C)\n",
    "        # compute attention scores (\"affinities\")\n",
    "        wei = q @ k.transpose(-2,-1) * C**-0.5 # (B, T, C) @ (B, C, T) -> (B, T, T)\n",
    "        wei = wei.masked_fill(self.tril[:T, :T] == 0, float('-inf')) # (B, T, T)\n",
    "        wei = F.softmax(wei, dim=-1) # (B, T, T)\n",
    "        wei = self.dropout(wei)\n",
    "        # perform the weighted aggregation of the values\n",
    "        v = self.value(x) # (B,T,C)\n",
    "        out = wei @ v # (B, T, T) @ (B, T, C) -> (B, T, C)\n",
    "        return out\n",
    "\n",
    "class MultiHeadAttention(nn.Module):\n",
    "    \"\"\" multiple heads of self-attention in parallel \"\"\"\n",
    "\n",
    "    def __init__(self, num_heads, head_size):\n",
    "        super().__init__()\n",
    "        self.heads = nn.ModuleList([Head(head_size) for _ in range(num_heads)])\n",
    "        self.proj = nn.Linear(n_embd, n_embd)\n",
    "        self.dropout = nn.Dropout(dropout)\n",
    "\n",
    "    def forward(self, x):\n",
    "        out = torch.cat([h(x) for h in self.heads], dim=-1)\n",
    "        out = self.dropout(self.proj(out))\n",
    "        return out\n",
    "\n",
    "class FeedFoward(nn.Module):\n",
    "    \"\"\" a simple linear layer followed by a non-linearity \"\"\"\n",
    "\n",
    "    def __init__(self, n_embd):\n",
    "        super().__init__()\n",
    "        self.net = nn.Sequential(\n",
    "            nn.Linear(n_embd, 4 * n_embd),\n",
    "            nn.ReLU(),\n",
    "            nn.Linear(4 * n_embd, n_embd),\n",
    "            nn.Dropout(dropout),\n",
    "        )\n",
    "\n",
    "    def forward(self, x):\n",
    "        return self.net(x)\n",
    "\n",
    "class Block(nn.Module):\n",
    "    \"\"\" Transformer block: communication followed by computation \"\"\"\n",
    "\n",
    "    def __init__(self, n_embd, n_head):\n",
    "        # n_embd: embedding dimension, n_head: the number of heads we'd like\n",
    "        super().__init__()\n",
    "        head_size = n_embd // n_head\n",
    "        self.sa = MultiHeadAttention(n_head, head_size)\n",
    "        self.ffwd = FeedFoward(n_embd)\n",
    "        self.ln1 = nn.LayerNorm(n_embd)\n",
    "        self.ln2 = nn.LayerNorm(n_embd)\n",
    "\n",
    "    def forward(self, x):\n",
    "        # with residual connections and prenormalization (linnorm before computations)\n",
    "        x = x + self.sa(self.ln1(x))\n",
    "        x = x + self.ffwd(self.ln2(x))\n",
    "        return x\n",
    "\n",
    "class Transformer(nn.Module):\n",
    "\n",
    "    def __init__(self):\n",
    "        super().__init__()\n",
    "        # each token directly reads off the logits for the next token from a lookup table\n",
    "        self.token_embedding_table = nn.Embedding(vocab_size, n_embd)\n",
    "        self.position_embedding_table = nn.Embedding(block_size, n_embd)\n",
    "        self.blocks = nn.Sequential(*[Block(n_embd, n_head=n_head) for _ in range(n_layer)])\n",
    "        self.ln_f = nn.LayerNorm(n_embd) # final layer norm\n",
    "        self.lm_head = nn.Linear(n_embd, vocab_size)\n",
    "\n",
    "    def forward(self, idx, targets=None):\n",
    "        B, T = idx.shape\n",
    "\n",
    "        # idx and targets are both (B,T) tensor of integers\n",
    "        tok_emb = self.token_embedding_table(idx) # (B,T,C)\n",
    "        pos_emb = self.position_embedding_table(torch.arange(T, device=device)) # (T,C)\n",
    "        x = tok_emb + pos_emb # (B,T,C)\n",
    "        x = self.blocks(x) # (B,T,C)\n",
    "        x = self.ln_f(x) # (B,T,C)\n",
    "        logits = self.lm_head(x) # (B,T,vocab_size)\n",
    "\n",
    "        if targets is None:\n",
    "            loss = None\n",
    "        else:\n",
    "            B, T, C = logits.shape\n",
    "            logits = logits.view(B*T, C)\n",
    "            targets = targets.view(B*T)\n",
    "            loss = F.cross_entropy(logits, targets)\n",
    "\n",
    "        return logits, loss\n",
    "\n",
    "    def generate(self, idx, max_new_tokens):\n",
    "        # idx is (B, T) array of indices in the current context\n",
    "        for _ in range(max_new_tokens):\n",
    "            # crop idx to the last block_size tokens\n",
    "            idx_cond = idx[:, -block_size:]\n",
    "            # get the predictions\n",
    "            logits, _ = self(idx_cond)\n",
    "            # focus only on the last time step\n",
    "            logits = logits[:, -1, :] # becomes (B, C)\n",
    "            # apply softmax to get probabilities\n",
    "            probs = F.softmax(logits, dim=-1) # (B, C)\n",
    "            # sample from the distribution\n",
    "            idx_next = torch.multinomial(probs, num_samples=1) # (B, 1)\n",
    "            # append sampled index to the running sequence\n",
    "            idx = torch.cat((idx, idx_next), dim=1) # (B, T+1)\n",
    "        return idx\n",
    "\n",
    "model = Transformer()\n",
    "m = model.to(device)\n",
    "# print the number of parameters in the model\n",
    "print(sum(p.numel() for p in m.parameters())/1e6, 'M parameters')\n",
    "\n",
    "# create a PyTorch optimizer\n",
    "optimizer = torch.optim.AdamW(model.parameters(), lr=learning_rate)\n",
    "\n",
    "for iter in range(max_iters):\n",
    "\n",
    "    # every once in a while evaluate the loss on train and val sets\n",
    "    if iter % eval_interval == 0 or iter == max_iters - 1:\n",
    "        losses = estimate_loss()\n",
    "        print(f\"step {iter}: train loss {losses['train']:.4f}, val loss {losses['val']:.4f}\")\n",
    "\n",
    "    # sample a batch of data\n",
    "    xb, yb = get_batch('train')\n",
    "\n",
    "    # evaluate the loss\n",
    "    logits, loss = model(xb, yb)\n",
    "    optimizer.zero_grad(set_to_none=True)\n",
    "    loss.backward()\n",
    "    optimizer.step()\n",
    "\n",
    "# generate from the model\n",
    "context = torch.zeros((1, 1), dtype=torch.long, device=device)\n",
    "print(decode(m.generate(context, max_new_tokens=2000)[0].tolist()))\n"
   ],
   "metadata": {
    "collapsed": false,
    "ExecuteTime": {
     "end_time": "2024-12-11T10:43:16.037949Z",
     "start_time": "2024-12-11T10:40:44.871841Z"
    }
   },
   "outputs": [
    {
     "name": "stdout",
     "output_type": "stream",
     "text": [
      "0.223661 M parameters\n",
      "step 0: train loss 5.2947, val loss 5.3079\n",
      "step 100: train loss 2.7487, val loss 2.7909\n",
      "step 200: train loss 2.5976, val loss 2.6303\n",
      "step 300: train loss 2.5346, val loss 2.5725\n",
      "step 400: train loss 2.4670, val loss 2.5074\n",
      "step 500: train loss 2.4156, val loss 2.4661\n",
      "step 600: train loss 2.3328, val loss 2.4167\n",
      "step 700: train loss 2.2874, val loss 2.3603\n",
      "step 800: train loss 2.2229, val loss 2.3024\n",
      "step 900: train loss 2.1670, val loss 2.2670\n",
      "step 1000: train loss 2.1230, val loss 2.2446\n",
      "step 1100: train loss 2.0750, val loss 2.1948\n",
      "step 1200: train loss 2.0375, val loss 2.1425\n",
      "step 1300: train loss 1.9914, val loss 2.1459\n",
      "step 1400: train loss 1.9454, val loss 2.0923\n",
      "step 1500: train loss 1.9532, val loss 2.0883\n",
      "step 1600: train loss 1.9049, val loss 2.0494\n",
      "step 1700: train loss 1.8801, val loss 2.0356\n",
      "step 1800: train loss 1.8580, val loss 2.0353\n",
      "step 1900: train loss 1.8076, val loss 2.0000\n",
      "step 2000: train loss 1.8052, val loss 1.9773\n",
      "step 2100: train loss 1.7773, val loss 1.9799\n",
      "step 2200: train loss 1.7674, val loss 1.9671\n",
      "step 2300: train loss 1.7365, val loss 1.9438\n",
      "step 2400: train loss 1.7233, val loss 1.9351\n",
      "step 2500: train loss 1.7159, val loss 1.8995\n",
      "step 2600: train loss 1.6851, val loss 1.8760\n",
      "step 2700: train loss 1.6721, val loss 1.8773\n",
      "step 2800: train loss 1.6715, val loss 1.8938\n",
      "step 2900: train loss 1.6633, val loss 1.8914\n",
      "step 3000: train loss 1.6430, val loss 1.8532\n",
      "step 3100: train loss 1.6138, val loss 1.8518\n",
      "step 3200: train loss 1.6088, val loss 1.8354\n",
      "step 3300: train loss 1.6002, val loss 1.8190\n",
      "step 3400: train loss 1.5845, val loss 1.8530\n",
      "step 3500: train loss 1.5839, val loss 1.8280\n",
      "step 3600: train loss 1.5757, val loss 1.8202\n",
      "step 3700: train loss 1.5716, val loss 1.8302\n",
      "step 3800: train loss 1.5564, val loss 1.8300\n",
      "step 3900: train loss 1.5420, val loss 1.8144\n",
      "step 4000: train loss 1.5448, val loss 1.7955\n",
      "step 4100: train loss 1.5288, val loss 1.8117\n",
      "step 4200: train loss 1.5098, val loss 1.8219\n",
      "step 4300: train loss 1.5151, val loss 1.8010\n",
      "step 4400: train loss 1.4887, val loss 1.8063\n",
      "step 4500: train loss 1.4938, val loss 1.7754\n",
      "step 4600: train loss 1.5039, val loss 1.7875\n",
      "step 4700: train loss 1.4845, val loss 1.8093\n",
      "step 4800: train loss 1.4829, val loss 1.7845\n",
      "step 4900: train loss 1.4809, val loss 1.7789\n",
      "step 4999: train loss 1.4683, val loss 1.7769\n",
      "\n",
      " Ch´etire Theory, and contopces, accound presson \n",
      "The cipher into this: Euler -Smules but he pressible Lam´e Lamirybed Is were that he his of Alexand Nater, G., Kanperlinty, a. La Lhaer likel by that in the suffell that the publy of all we inskilo iguding was fizell, a years or peuch institiel with letere assoce. \n",
      "Bunyakovsky Fere frienda Gillempted the one of the dilopment of pully c hessons, ∂+ρuler’s asflue, latter which also might, retark also nect \n",
      "requit the Acalaus Intopara Deyn Bernoulli whed Lam´e, kepain Per. Gentry Duckuld problem in thimmens a dues at but the last did facter, Basel scaill curve the Physin-Nynallys Nociety Invice, Decords of sets, was born marrarch and Alexandely correspondend innoved and with Lebook , , peine Thelebral  the accreed generamic \n",
      "theory for to dever  quite more in quitze to menst the pressure of the he celebed -Academy of actovement, but the line which for gatery as maining and time septioning durge’mn out deed for the assum Euler be gander lexpese Funcalle, enougulations [] Lam´e, neininly, Furiel analainin).: \n",
      "[] en Freut and every it probletted chiquents and discussely the reflices of Russiald binfedence: \n",
      "and Ostrography invol cipher. In , Pno with Berthis SPbech clussed. In the in water it mathes eal listerin, and chengless of the prisiumsely in  \n",
      "canton the paperspori:  querati instance. \n",
      "Lest Euler in * main Bernoulli se of follow perivel and astrove he “ad century, and period classist twity pugully neight of this obsee reloped to other integral potes of laters well Laminate, Nicolaus Selember (––)  Darie, N. () Dember is the prest yelessing impasing tame this any worldhed puble than the complectarly clipble that of Mict Ex learn-que (serne, integr let for up to qu div steate quit Lein dey The plose operstated in , D. He committery. I of the variante. The culd (crexing propert up sing mathematics we a valweds of painty misle also allust, theory any of actually celc thus new arkly alkept set Deries elipted simpliciss f\n"
     ]
    }
   ],
   "execution_count": 48
  },
  {
   "cell_type": "code",
   "source": [
    "class LayerNorm1d: # (used to be BatchNorm1d)\n",
    "  \n",
    "  def __init__(self, dim, eps=1e-5, momentum=0.1):\n",
    "    self.eps = eps\n",
    "    self.gamma = torch.ones(dim)\n",
    "    self.beta = torch.zeros(dim)\n",
    "  \n",
    "  def __call__(self, x):\n",
    "    # calculate the forward pass\n",
    "    xmean = x.mean(1, keepdim=True) # batch mean\n",
    "    xvar = x.var(1, keepdim=True) # batch variance\n",
    "    xhat = (x - xmean) / torch.sqrt(xvar + self.eps) # normalize to unit variance\n",
    "    self.out = self.gamma * xhat + self.beta\n",
    "    return self.out\n",
    "  \n",
    "  def parameters(self):\n",
    "    return [self.gamma, self.beta]\n",
    "\n",
    "torch.manual_seed(1337)\n",
    "module = LayerNorm1d(100)\n",
    "x = torch.randn(32, 100) # batch size 32 of 100-dimensional vectors\n",
    "x = module(x)\n",
    "x.shape"
   ],
   "metadata": {
    "collapsed": false,
    "ExecuteTime": {
     "end_time": "2024-12-11T10:44:49.896886Z",
     "start_time": "2024-12-11T10:44:49.891096Z"
    }
   },
   "outputs": [
    {
     "data": {
      "text/plain": [
       "torch.Size([32, 100])"
      ]
     },
     "execution_count": 49,
     "metadata": {},
     "output_type": "execute_result"
    }
   ],
   "execution_count": 49
  },
  {
   "cell_type": "code",
   "source": [
    "x[:,0].mean(), x[:,0].std() # mean,std of one feature across all batch inputs (columns)"
   ],
   "metadata": {
    "collapsed": false,
    "ExecuteTime": {
     "end_time": "2024-12-11T10:44:51.146555Z",
     "start_time": "2024-12-11T10:44:51.143228Z"
    }
   },
   "outputs": [
    {
     "data": {
      "text/plain": [
       "(tensor(0.1469), tensor(0.8803))"
      ]
     },
     "execution_count": 50,
     "metadata": {},
     "output_type": "execute_result"
    }
   ],
   "execution_count": 50
  },
  {
   "cell_type": "code",
   "source": [
    "x[0,:].mean(), x[0,:].std() # mean,std of a single input from the batch, of its features (rows)"
   ],
   "metadata": {
    "collapsed": false,
    "ExecuteTime": {
     "end_time": "2024-12-11T10:44:53.051126Z",
     "start_time": "2024-12-11T10:44:53.047588Z"
    }
   },
   "outputs": [
    {
     "data": {
      "text/plain": [
       "(tensor(-3.5763e-09), tensor(1.0000))"
      ]
     },
     "execution_count": 51,
     "metadata": {},
     "output_type": "execute_result"
    }
   ],
   "execution_count": 51
  },
  {
   "cell_type": "markdown",
   "source": [
    "### [Dropout paper (Srivastava, Hinton, Krizhevsky, Sutskever, Salakhutdinov)](https://www.cs.toronto.edu/~hinton/absps/JMLRdropout.pdf)"
   ],
   "metadata": {
    "collapsed": false
   }
  },
  {
   "cell_type": "code",
   "source": [
    "# French to English translation example:\n",
    "\n",
    "# <--------- ENCODE ------------------><--------------- DECODE ----------------->\n",
    "# les réseaux de neurones sont géniaux! <START> neural networks are awesome!<END>"
   ],
   "metadata": {
    "collapsed": false,
    "ExecuteTime": {
     "end_time": "2024-12-11T10:44:54.337991Z",
     "start_time": "2024-12-11T10:44:54.336181Z"
    }
   },
   "outputs": [],
   "execution_count": 52
  },
  {
   "cell_type": "markdown",
   "source": [
    "### [\"LM are few-shot learners\" paper](https://arxiv.org/abs/2005.14165)"
   ],
   "metadata": {
    "collapsed": false
   }
  },
  {
   "cell_type": "markdown",
   "source": [
    "### What else can you look at?\n",
    "\n",
    "1. [https://openai.com/blog/chatgpt](https://openai.com/blog/chatgpt) — introducing ChatGPT from OpenAI\n",
    "2. [https://www.youtube.com/watch?v=kCc8FmEb1nY](https://www.youtube.com/watch?v=kCc8FmEb1nY) — lecture of Andrej Karpathy\n",
    "3. [https://bbycroft.net/](https://bbycroft.net/) — nice visualization of GPTs\n"
   ],
   "metadata": {
    "collapsed": false
   }
  },
  {
   "metadata": {},
   "cell_type": "markdown",
   "source": "### [Tokenizer from OpenAI](https://github.com/openai/tiktoken)"
  },
  {
   "metadata": {
    "id": "Lm_M4bux7I3H",
    "slideshow": {
     "slide_type": "-"
    },
    "ExecuteTime": {
     "end_time": "2024-12-11T10:45:11.467192Z",
     "start_time": "2024-12-11T10:45:11.463706Z"
    }
   },
   "cell_type": "code",
   "source": [
    "import tiktoken\n",
    "enc = tiktoken.get_encoding(\"gpt2\")\n",
    "assert enc.decode(enc.encode(\"hello world\")) == \"hello world\"\n",
    "enc.n_vocab"
   ],
   "outputs": [
    {
     "data": {
      "text/plain": [
       "50257"
      ]
     },
     "execution_count": 53,
     "metadata": {},
     "output_type": "execute_result"
    }
   ],
   "execution_count": 53
  },
  {
   "metadata": {
    "collapsed": false,
    "ExecuteTime": {
     "end_time": "2024-12-11T10:45:13.101392Z",
     "start_time": "2024-12-11T10:45:13.098225Z"
    }
   },
   "cell_type": "code",
   "source": "enc.encode(\"Hello, Alex\"), enc.encode(\"Hello, Alexandr\")",
   "outputs": [
    {
     "data": {
      "text/plain": [
       "([15496, 11, 4422], [15496, 11, 21000, 81])"
      ]
     },
     "execution_count": 54,
     "metadata": {},
     "output_type": "execute_result"
    }
   ],
   "execution_count": 54
  },
  {
   "metadata": {
    "collapsed": false,
    "ExecuteTime": {
     "end_time": "2024-12-11T10:45:13.549704Z",
     "start_time": "2024-12-11T10:45:13.547019Z"
    }
   },
   "cell_type": "code",
   "source": "enc.decode([21000]), enc.decode([15309]), enc.decode([392])",
   "outputs": [
    {
     "data": {
      "text/plain": [
       "(' Alexand', 'Alex', 'and')"
      ]
     },
     "execution_count": 55,
     "metadata": {},
     "output_type": "execute_result"
    }
   ],
   "execution_count": 55
  },
  {
   "metadata": {
    "collapsed": false,
    "ExecuteTime": {
     "end_time": "2024-12-11T10:45:14.181123Z",
     "start_time": "2024-12-11T10:45:14.178322Z"
    }
   },
   "cell_type": "code",
   "source": "enc.encode('Alexand')",
   "outputs": [
    {
     "data": {
      "text/plain": [
       "[15309, 392]"
      ]
     },
     "execution_count": 56,
     "metadata": {},
     "output_type": "execute_result"
    }
   ],
   "execution_count": 56
  },
  {
   "metadata": {},
   "cell_type": "code",
   "outputs": [],
   "execution_count": null,
   "source": ""
  }
 ],
 "metadata": {
  "celltoolbar": "Slideshow",
  "kernelspec": {
   "display_name": "Python 3 (ipykernel)",
   "language": "python",
   "name": "python3"
  },
  "language_info": {
   "codemirror_mode": {
    "name": "ipython",
    "version": 3
   },
   "file_extension": ".py",
   "mimetype": "text/x-python",
   "name": "python",
   "nbconvert_exporter": "python",
   "pygments_lexer": "ipython3",
   "version": "3.9.7"
  },
  "rise": {
   "transition": "none"
  }
 },
 "nbformat": 4,
 "nbformat_minor": 2
}
