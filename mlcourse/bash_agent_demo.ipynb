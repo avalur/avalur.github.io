{
  "nbformat": 4,
  "nbformat_minor": 0,
  "metadata": {
    "colab": {
      "provenance": [],
      "machine_shape": "hm"
    },
    "kernelspec": {
      "name": "python3",
      "display_name": "Python 3"
    },
    "language_info": {
      "name": "python"
    }
  },
  "cells": [
    {
      "cell_type": "markdown",
      "source": [
        "# Creating an LLM agent"
      ],
      "metadata": {
        "id": "IJVCmZKgB9ht"
      }
    },
    {
      "cell_type": "markdown",
      "source": [
        "In this notebook, we'll create a simple agent that is able to call three tools:\n",
        "\n",
        "- `execute_shell_command`,\n",
        "- `read_file`,\n",
        "- `file_write`."
      ],
      "metadata": {
        "id": "ahcYh_uYx42m"
      }
    },
    {
      "cell_type": "markdown",
      "source": [
        "To start with, let's import the required libraries and load API keys. To work with this notebook, you need to upload to Colab the `openai_api_key` and `nebius_api_key` files containing your OpenAI and Nebius AI Studio API keys."
      ],
      "metadata": {
        "id": "KLS8DyvB6BZL"
      }
    },
    {
      "cell_type": "code",
      "source": [
        "!pip install --force-reinstall -v -q \"openai==1.55.3\""
      ],
      "metadata": {
        "id": "60XT_Uz86cqD"
      },
      "execution_count": null,
      "outputs": []
    },
    {
      "cell_type": "code",
      "source": [
        "import os\n",
        "\n",
        "with open(\"openai_api_key\", \"r\") as file:\n",
        "    openai_api_key = file.read().strip()\n",
        "\n",
        "os.environ[\"OPENAI_API_KEY\"] = openai_api_key\n",
        "\n",
        "with open(\"nebius_api_key\", \"r\") as file:\n",
        "    nebius_api_key = file.read().strip()\n",
        "\n",
        "os.environ[\"NEBIUS_API_KEY\"] = nebius_api_key"
      ],
      "metadata": {
        "id": "HDGAStxm6eYL"
      },
      "execution_count": null,
      "outputs": []
    },
    {
      "cell_type": "markdown",
      "source": [
        "Now, here is our agent class:"
      ],
      "metadata": {
        "id": "uLPeGNLf6D29"
      }
    },
    {
      "cell_type": "code",
      "source": [
        "import openai\n",
        "import json\n",
        "import subprocess\n",
        "import os\n",
        "from typing import List, Dict, Any\n",
        "import shlex\n",
        "from openai import OpenAI\n",
        "\n",
        "class ShellAssistant:\n",
        "    def __init__(self, client, model):\n",
        "        \"\"\"Initialize the assistant with your OpenAI API key.\"\"\"\n",
        "        self.model = model\n",
        "\n",
        "        self.client = client\n",
        "\n",
        "        # Define available tools\n",
        "        self.tools = [\n",
        "            {\n",
        "                \"type\": \"function\",\n",
        "                \"function\": {\n",
        "                    \"name\": \"execute_shell_command\",\n",
        "                    \"description\": \"Execute a shell command and return its output\",\n",
        "                    \"parameters\": {\n",
        "                        \"type\": \"object\",\n",
        "                        \"properties\": {\n",
        "                            \"command\": {\n",
        "                                \"type\": \"string\",\n",
        "                                \"description\": \"The shell command to execute\"\n",
        "                            }\n",
        "                        },\n",
        "                        \"required\": [\"command\"]\n",
        "                    }\n",
        "                }\n",
        "            },\n",
        "            {\n",
        "                \"type\": \"function\",\n",
        "                \"function\": {\n",
        "                    \"name\": \"read_file\",\n",
        "                    \"description\": \"Read contents of a file\",\n",
        "                    \"parameters\": {\n",
        "                        \"type\": \"object\",\n",
        "                        \"properties\": {\n",
        "                            \"file_path\": {\n",
        "                                \"type\": \"string\",\n",
        "                                \"description\": \"Path to the file to read\"\n",
        "                            }\n",
        "                        },\n",
        "                        \"required\": [\"file_path\"]\n",
        "                    }\n",
        "                }\n",
        "            },\n",
        "            {\n",
        "                \"type\": \"function\",\n",
        "                \"function\": {\n",
        "                    \"name\": \"write_file\",\n",
        "                    \"description\": \"Write content to a file\",\n",
        "                    \"parameters\": {\n",
        "                        \"type\": \"object\",\n",
        "                        \"properties\": {\n",
        "                            \"file_path\": {\n",
        "                                \"type\": \"string\",\n",
        "                                \"description\": \"Path to the file to write\"\n",
        "                            },\n",
        "                            \"content\": {\n",
        "                                \"type\": \"string\",\n",
        "                                \"description\": \"Content to write to the file\"\n",
        "                            },\n",
        "                            \"mode\": {\n",
        "                                \"type\": \"string\",\n",
        "                                \"description\": \"Write mode: 'w' for overwrite, 'a' for append\",\n",
        "                                \"enum\": [\"w\", \"a\"],\n",
        "                                \"default\": \"w\"\n",
        "                            }\n",
        "                        },\n",
        "                        \"required\": [\"file_path\", \"content\"]\n",
        "                    }\n",
        "                }\n",
        "            }\n",
        "        ]\n",
        "\n",
        "    def write_file(self, file_path: str, content: str, mode: str = 'w') -> Dict[str, Any]:\n",
        "        \"\"\"Write content to a file.\"\"\"\n",
        "        try:\n",
        "            # Validate mode\n",
        "            if mode not in ['w', 'a']:\n",
        "                raise ValueError(\"Mode must be 'w' or 'a'\")\n",
        "\n",
        "            # Get absolute path and check if it's in a safe directory\n",
        "            abs_path = os.path.abspath(file_path)\n",
        "\n",
        "            # Add additional security checks here if needed\n",
        "            # For example, restrict to specific directories\n",
        "\n",
        "            with open(abs_path, mode) as f:\n",
        "                f.write(content)\n",
        "\n",
        "            return {\n",
        "                \"success\": True,\n",
        "                \"message\": f\"Successfully wrote to {file_path}\",\n",
        "                \"bytes_written\": len(content)\n",
        "            }\n",
        "        except Exception as e:\n",
        "            return {\n",
        "                \"success\": False,\n",
        "                \"error\": str(e)\n",
        "            }\n",
        "\n",
        "    def execute_shell_command(self, command: str) -> Dict[str, Any]:\n",
        "        \"\"\"Execute a shell command and return its output.\"\"\"\n",
        "        try:\n",
        "            # Use shlex.split for proper command parsing\n",
        "            args = shlex.split(command)\n",
        "\n",
        "            # Execute command and capture output\n",
        "            result = subprocess.run(\n",
        "                args,\n",
        "                capture_output=True,\n",
        "                text=True,\n",
        "                shell=False  # More secure than shell=True\n",
        "            )\n",
        "\n",
        "            return {\n",
        "                \"success\": True,\n",
        "                \"stdout\": result.stdout,\n",
        "                \"stderr\": result.stderr,\n",
        "                \"return_code\": result.returncode\n",
        "            }\n",
        "        except Exception as e:\n",
        "            return {\n",
        "                \"success\": False,\n",
        "                \"error\": str(e)\n",
        "            }\n",
        "\n",
        "    def read_file(self, file_path: str) -> Dict[str, Any]:\n",
        "        \"\"\"Read a file and return its contents.\"\"\"\n",
        "        try:\n",
        "            with open(file_path, 'r') as f:\n",
        "                content = f.read()\n",
        "            return {\n",
        "                \"success\": True,\n",
        "                \"content\": content\n",
        "            }\n",
        "        except Exception as e:\n",
        "            return {\n",
        "                \"success\": False,\n",
        "                \"error\": str(e)\n",
        "            }\n",
        "\n",
        "    def process_tool_call(self, tool_call: Dict) -> Dict[str, Any]:\n",
        "        \"\"\"Process a tool call from the API response.\"\"\"\n",
        "        function_name = tool_call.function.name\n",
        "        function_args = json.loads(tool_call.function.arguments)\n",
        "\n",
        "        if function_name == \"execute_shell_command\":\n",
        "            return self.execute_shell_command(function_args[\"command\"])\n",
        "        elif function_name == \"read_file\":\n",
        "            return self.read_file(function_args[\"file_path\"])\n",
        "        elif function_name == \"write_file\":\n",
        "            mode = function_args.get(\"mode\", \"w\")\n",
        "            return self.write_file(\n",
        "                function_args[\"file_path\"],\n",
        "                function_args[\"content\"],\n",
        "                mode\n",
        "            )\n",
        "        else:\n",
        "            return {\"success\": False, \"error\": f\"Unknown function: {function_name}\"}\n",
        "\n",
        "    def chat(self, user_message: str, verbose=False) -> str:\n",
        "        \"\"\"Main chat function that processes user input and returns assistant response.\"\"\"\n",
        "        completions = []\n",
        "        messages = [{\"role\": \"user\", \"content\": user_message}]\n",
        "\n",
        "        try:\n",
        "            # Get initial response from OpenAI\n",
        "            completion = self.client.chat.completions.create(\n",
        "                model=self.model,\n",
        "                messages=messages,\n",
        "                tools=self.tools,\n",
        "                tool_choice=\"auto\"\n",
        "            )\n",
        "\n",
        "            # completions.append(completion)\n",
        "            message = completion.choices[0].message\n",
        "\n",
        "            # Process tool calls if any\n",
        "            while message.tool_calls:\n",
        "                messages.append(message)\n",
        "\n",
        "                # Process each tool call\n",
        "                for tool_call in message.tool_calls:\n",
        "                    result = self.process_tool_call(tool_call)\n",
        "\n",
        "                    # Add tool result to messages\n",
        "                    messages.append({\n",
        "                        \"role\": \"tool\",\n",
        "                        \"tool_call_id\": tool_call.id,\n",
        "                        \"content\": json.dumps(result)\n",
        "                    })\n",
        "\n",
        "                # Get next response from OpenAI\n",
        "                completion = self.client.chat.completions.create(\n",
        "                    model=self.model,\n",
        "                    messages=messages,\n",
        "                    tools=self.tools,\n",
        "                    tool_choice=\"auto\"\n",
        "                )\n",
        "                # completions.append(completion)\n",
        "                message = completion.choices[0].message\n",
        "\n",
        "            if verbose:\n",
        "                return message.content, messages#, completions\n",
        "            else:\n",
        "                return message.content\n",
        "\n",
        "        except Exception as e:\n",
        "            return f\"Error: {str(e)}\"\n",
        "\n"
      ],
      "metadata": {
        "id": "MgQyN_mfdRV5"
      },
      "execution_count": null,
      "outputs": []
    },
    {
      "cell_type": "markdown",
      "source": [
        "The following code creates the agent:"
      ],
      "metadata": {
        "id": "FclmsYXbs584"
      }
    },
    {
      "cell_type": "code",
      "source": [
        "from openai import OpenAI\n",
        "\n",
        "# If you want to use OpenAI's GPT models:\n",
        "assistant = ShellAssistant(\n",
        "    client=OpenAI(),\n",
        "    model=\"gpt-4o-mini\"\n",
        "    )\n",
        "\n",
        "# If you want to use Nebius AI Studio:\n",
        "'''client = OpenAI(\n",
        "    base_url=\"https://api.studio.nebius.ai/v1/\",\n",
        "    api_key=os.environ.get(\"NEBIUS_API_KEY\"),\n",
        ")\n",
        "\n",
        "assistant = ShellAssistant(\n",
        "    client=client,\n",
        "    model=\"meta-llama/Meta-Llama-3.1-70B-Instruct\")'''"
      ],
      "metadata": {
        "id": "oS2V1epizgwL",
        "colab": {
          "base_uri": "https://localhost:8080/",
          "height": 70
        },
        "outputId": "16a435a8-607b-471b-94af-72f0d1ee3d66"
      },
      "execution_count": null,
      "outputs": [
        {
          "output_type": "execute_result",
          "data": {
            "text/plain": [
              "'client = OpenAI(\\n    base_url=\"https://api.studio.nebius.ai/v1/\",\\n    api_key=os.environ.get(\"NEBIUS_API_KEY\"),\\n)\\n\\nassistant = ShellAssistant(\\n    client=client,\\n    model=\"meta-llama/Meta-Llama-3.1-70B-Instruct\")'"
            ],
            "application/vnd.google.colaboratory.intrinsic+json": {
              "type": "string"
            }
          },
          "metadata": {},
          "execution_count": 11
        }
      ]
    },
    {
      "cell_type": "code",
      "source": [
        "result = assistant.chat('Get the names of the files in the current directory', verbose=True)\n",
        "result"
      ],
      "metadata": {
        "colab": {
          "base_uri": "https://localhost:8080/"
        },
        "id": "AW6n4fCPzwYp",
        "outputId": "6b06a9c5-410f-4998-880f-74cf798eb892"
      },
      "execution_count": null,
      "outputs": [
        {
          "output_type": "execute_result",
          "data": {
            "text/plain": [
              "('The names of the files in the current directory are:\\n\\n- a-file.txt\\n- foxes.txt\\n- nebius_api_key\\n- openai_api_key\\n- sample_data',\n",
              " [{'role': 'user',\n",
              "   'content': 'Get me the names of the files in the current directory'},\n",
              "  ChatCompletionMessage(content=None, refusal=None, role='assistant', audio=None, function_call=None, tool_calls=[ChatCompletionMessageToolCall(id='call_zd9lbBXKV7JDObcKkyTvbmwL', function=Function(arguments='{\"command\":\"ls\"}', name='execute_shell_command'), type='function')]),\n",
              "  {'role': 'tool',\n",
              "   'tool_call_id': 'call_zd9lbBXKV7JDObcKkyTvbmwL',\n",
              "   'content': '{\"success\": true, \"stdout\": \"a-file.txt\\\\nfoxes.txt\\\\nnebius_api_key\\\\nopenai_api_key\\\\nsample_data\\\\n\", \"stderr\": \"\", \"return_code\": 0}'}])"
            ]
          },
          "metadata": {},
          "execution_count": 12
        }
      ]
    },
    {
      "cell_type": "code",
      "source": [
        "ChatCompletionMessage(\n",
        "    content=None, refusal=None, role='assistant', audio=None, function_call=None,\n",
        "    tool_calls=[\n",
        "        ChatCompletionMessageToolCall(\n",
        "            id='call_zd9lbBXKV7JDObcKkyTvbmwL',\n",
        "            function=Function(arguments='{\"command\":\"ls\"}', name='execute_shell_command'),\n",
        "            type='function')\n",
        "        ]\n",
        "    )"
      ],
      "metadata": {
        "id": "uafP-sscDu2y"
      },
      "execution_count": null,
      "outputs": []
    },
    {
      "cell_type": "code",
      "source": [
        "print(result[0])"
      ],
      "metadata": {
        "colab": {
          "base_uri": "https://localhost:8080/"
        },
        "id": "kcj7YG95C_WR",
        "outputId": "133e6832-2688-4a82-e579-a5bdefeaf243"
      },
      "execution_count": null,
      "outputs": [
        {
          "output_type": "stream",
          "name": "stdout",
          "text": [
            "The names of the files in the current directory are:\n",
            "\n",
            "- a-file.txt\n",
            "- foxes.txt\n",
            "- nebius_api_key\n",
            "- openai_api_key\n",
            "- sample_data\n"
          ]
        }
      ]
    },
    {
      "cell_type": "markdown",
      "source": [
        "Now, we will create two text files. One of them will contain a sonnet, and the other just some text."
      ],
      "metadata": {
        "id": "KT8kcWxU9vud"
      }
    },
    {
      "cell_type": "code",
      "source": [
        "%%writefile foxes.txt\n",
        "In twilight’s hush, the foxes roam the streets,\n",
        "Through alleys dim and parks where shadows lie.\n",
        "Their russet coats brush past the city’s feats,\n",
        "Beneath the tower’s glare and amber sky.\n",
        "\n",
        "With stealth, they weave through lanes and cobbled stone,\n",
        "As silent hunters of the urban night.\n",
        "Unseen by day, yet claiming streets their own,\n",
        "In twilight’s cloak, they prowl till morning light.\n",
        "\n",
        "They scavenge scraps left by the city’s din,\n",
        "A wily dance of survival and grace.\n",
        "Though wild at heart, they fit the world they're in,\n",
        "An untamed spirit finding urban space.\n",
        "\n",
        "And as the city sleeps, they make their rounds,\n",
        "Foxes of London—ghosts in city bounds."
      ],
      "metadata": {
        "id": "jK_b4LgF915Q",
        "colab": {
          "base_uri": "https://localhost:8080/"
        },
        "outputId": "4f2e76c8-3d33-427a-85a0-2324b7faead0"
      },
      "execution_count": null,
      "outputs": [
        {
          "output_type": "stream",
          "name": "stdout",
          "text": [
            "Writing foxes.txt\n"
          ]
        }
      ]
    },
    {
      "cell_type": "code",
      "source": [
        "%%writefile a-file.txt\n",
        "First line\n",
        "Second line\n",
        "Third line"
      ],
      "metadata": {
        "id": "QNyapsPV92E-",
        "colab": {
          "base_uri": "https://localhost:8080/"
        },
        "outputId": "4921a919-7d7c-4237-ecb8-ae6ca18500e7"
      },
      "execution_count": null,
      "outputs": [
        {
          "output_type": "stream",
          "name": "stdout",
          "text": [
            "Writing a-file.txt\n"
          ]
        }
      ]
    },
    {
      "cell_type": "markdown",
      "source": [
        "Let's ask our agent to find which text file contains a sonnet and copy that file."
      ],
      "metadata": {
        "id": "Ox32uvO8-A_o"
      }
    },
    {
      "cell_type": "code",
      "source": [
        "result = assistant.chat('Check every *.txt file in the current directory, then copy those files that contain a sonnet and also tell me what is the topic of this sonnet.', verbose=True)\n",
        "result"
      ],
      "metadata": {
        "colab": {
          "base_uri": "https://localhost:8080/"
        },
        "id": "fNITCB8E0SZf",
        "outputId": "0bc2397d-70dc-483f-b148-b90a1d37ecda"
      },
      "execution_count": null,
      "outputs": [
        {
          "output_type": "execute_result",
          "data": {
            "text/plain": [
              "('The output indicates that the command failed with a return code of 1. The standard error message is \"find: missing argument to `-name\\'\". This means that there is a syntax error in the `find` command.\\n\\nTo fix this, you need to provide a valid pattern for the `-name` option. For example, to find all `.txt` files, you can use the following command:\\n\\n`find . -maxdepth 1 -type f -name \"*.txt\"`\\n\\nThis will find all files with the `.txt` extension in the current directory and its subdirectories. However, this alone will not tell you which files contain a sonnet or what the topic of the sonnet is.\\n\\nTo achieve that, you would need to use a more complex command or a script that can analyze the contents of the files. One possible approach is to use `grep` to search for specific keywords or patterns that are characteristic of sonnets, and then use a natural language processing tool to analyze the content and determine the topic.\\n\\nHere is an example of a more complex command that uses `grep` to search for sonnets:\\n\\n`find . -maxdepth 1 -type f -name \"*.txt\" -exec grep -lr \"sonnet\" {} \\\\;`\\n\\nThis command will find all `.txt` files in the current directory that contain the word \"sonnet\". However, this is still a very basic approach and may not accurately identify all sonnets or determine their topics.\\n\\nTo get a more accurate result, you would need to use a more sophisticated natural language processing tool or a machine learning model that can analyze the content of the files and identify sonnets and their topics.',\n",
              " [{'role': 'user',\n",
              "   'content': 'Check every *.txt file in the current directory, then copy those files that contain a sonnet and also tell me what is the topic of this sonnet.'},\n",
              "  ChatCompletionMessage(content=None, refusal=None, role='assistant', audio=None, function_call=None, tool_calls=[ChatCompletionMessageToolCall(id='chatcmpl-tool-a34b0859bcc9401dafcb0219aafe3bfa', function=Function(arguments='{\"command\": \"find . -maxdepth 1 -type f -name \"}', name='execute_shell_command'), type='function')]),\n",
              "  {'role': 'tool',\n",
              "   'tool_call_id': 'chatcmpl-tool-a34b0859bcc9401dafcb0219aafe3bfa',\n",
              "   'content': '{\"success\": true, \"stdout\": \"\", \"stderr\": \"find: missing argument to `-name\\'\\\\n\", \"return_code\": 1}'},\n",
              "  ChatCompletionMessage(content=None, refusal=None, role='assistant', audio=None, function_call=None, tool_calls=[ChatCompletionMessageToolCall(id='chatcmpl-tool-ae1fa073250a492db98325540f95c6fa', function=Function(arguments='{\"command\": \"find . -maxdepth 1 -type f -name \"}', name='execute_shell_command'), type='function')]),\n",
              "  {'role': 'tool',\n",
              "   'tool_call_id': 'chatcmpl-tool-ae1fa073250a492db98325540f95c6fa',\n",
              "   'content': '{\"success\": true, \"stdout\": \"\", \"stderr\": \"find: missing argument to `-name\\'\\\\n\", \"return_code\": 1}'}])"
            ]
          },
          "metadata": {},
          "execution_count": 10
        }
      ]
    },
    {
      "cell_type": "code",
      "source": [
        "result = assistant.chat('Add another sonnet to the contents of the sonnet_copy.txt.', verbose=True)\n",
        "result"
      ],
      "metadata": {
        "colab": {
          "base_uri": "https://localhost:8080/"
        },
        "id": "ivxBBJ3I0vm_",
        "outputId": "00a2de51-850b-4417-81fb-5feac76e4cb8"
      },
      "execution_count": null,
      "outputs": [
        {
          "output_type": "stream",
          "name": "stdout",
          "text": [
            "ChatCompletionMessage(content=None, refusal=None, role='assistant', audio=None, function_call=None, tool_calls=[ChatCompletionMessageToolCall(id='call_mb4TqXf2TgYxhBHl9TjPmo7n', function=Function(arguments='{\"file_path\":\"sonnet_copy.txt\"}', name='read_file'), type='function')])\n"
          ]
        },
        {
          "output_type": "execute_result",
          "data": {
            "text/plain": [
              "('I have successfully added another sonnet to the contents of the `sonnet_copy.txt` file. The new sonnet reflects on the beauty of the night and the enduring light within our hearts. If you need anything else, feel free to ask!',\n",
              " [{'role': 'user',\n",
              "   'content': 'Add another sonnet to the contents of the sonnet_copy.txt.'},\n",
              "  ChatCompletionMessage(content=None, refusal=None, role='assistant', audio=None, function_call=None, tool_calls=[ChatCompletionMessageToolCall(id='call_mb4TqXf2TgYxhBHl9TjPmo7n', function=Function(arguments='{\"file_path\":\"sonnet_copy.txt\"}', name='read_file'), type='function')]),\n",
              "  {'role': 'tool',\n",
              "   'tool_call_id': 'call_mb4TqXf2TgYxhBHl9TjPmo7n',\n",
              "   'content': '{\"success\": true, \"content\": \"In realms of code, where logic meets the sky,\\\\nThere dwells a force both clever and refined,\\\\nA Nebius-born spark, an AI high,\\\\nThat weaves through data with a boundless mind.\\\\n\\\\nWith wisdom vast, it scours the cosmic spread,\\\\nFrom depths of learning, patterns clear and bright,\\\\nIt parses truths where silent words are read,\\\\nAnd shines like dawn with digital insight.\\\\n\\\\nWhat once took days, now seconds may reveal\\\\u2014\\\\nConnections, meaning, hidden in the mist.\\\\nIts power grows, like fire forged from steel,\\\\nTransforming thoughts that mortals might have missed.\\\\n\\\\nOh, Nebius AI, so skilled, so wise,\\\\nYou lift our dreams to meet the boundless skies.\"}'},\n",
              "  ChatCompletionMessage(content=None, refusal=None, role='assistant', audio=None, function_call=None, tool_calls=[ChatCompletionMessageToolCall(id='call_G9sPJVmif3FeCb5fKw5eX8tJ', function=Function(arguments='{\"file_path\":\"sonnet_copy.txt\",\"content\":\"A gentle breeze stirs softly through the trees,\\\\nAs moonlight drapes the world in silver lace.\\\\nThe night unveils its secrets with such ease,\\\\nA tranquil hush, an elegance in space.\\\\n\\\\nIn shadows deep, the whispered dreams take flight,\\\\nEach star a beacon in the vast expanse,\\\\nThey dance like fireflies in the velvet night,\\\\nA symphony of hope, a cosmic dance.\\\\n\\\\nYet even in the dark, there lies a spark,\\\\nA flame that flickers with unwavering grace.\\\\nFor in our hearts, the light can pierce the dark,\\\\nAnd guide our souls through time\\'s enduring race.\\\\n\\\\nSo let us cherish every fleeting sigh,\\\\nFor in this moment, we too learn to fly.\",\"mode\":\"a\"}', name='write_file'), type='function')]),\n",
              "  {'role': 'tool',\n",
              "   'tool_call_id': 'call_G9sPJVmif3FeCb5fKw5eX8tJ',\n",
              "   'content': '{\"success\": true, \"message\": \"Successfully wrote to sonnet_copy.txt\", \"bytes_written\": 622}'}])"
            ]
          },
          "metadata": {},
          "execution_count": 122
        }
      ]
    },
    {
      "cell_type": "code",
      "source": [
        "In twilight’s hush, the foxes roam the streets,\n",
        "Through alleys dim and parks where shadows lie.\n",
        "Their russet coats brush past the city’s feats,\n",
        "Beneath the tower’s glare and amber sky.\n",
        "\n",
        "With stealth, they weave through lanes and cobbled stone,\n",
        "As silent hunters of the urban night.\n",
        "Unseen by day, yet claiming streets their own,\n",
        "In twilight’s cloak, they prowl till morning light.\n",
        "\n",
        "They scavenge scraps left by the city’s din,\n",
        "A wily dance of survival and grace.\n",
        "Though wild at heart, they fit the world they're in,\n",
        "An untamed spirit finding urban space.\n",
        "\n",
        "And as the city sleeps, they make their rounds,\n",
        "Foxes of London—ghosts in city bounds."
      ],
      "metadata": {
        "id": "NJBwCiIU1aTi"
      },
      "execution_count": null,
      "outputs": []
    },
    {
      "cell_type": "code",
      "source": [
        "In twilight’s hush, the foxes roam the streets,\n",
        "Through alleys dim and parks where shadows lie.\n",
        "Their russet coats brush past the city’s feats,\n",
        "Beneath the tower’s glare and amber sky.\n",
        "\n",
        "With stealth, they weave through lanes and cobbled stone,\n",
        "As silent hunters of the urban night.\n",
        "Unseen by day, yet claiming streets their own,\n",
        "In twilight’s cloak, they prowl till morning light.\n",
        "\n",
        "They scavenge scraps left by the city’s din,\n",
        "A wily dance of survival and grace.\n",
        "Though wild at heart, they fit the world they're in,\n",
        "An untamed spirit finding urban space.\n",
        "\n",
        "And as the city sleeps, they make their rounds,\n",
        "Foxes of London—ghosts in city bounds."
      ],
      "metadata": {
        "id": "W46t6RlHRZl_"
      },
      "execution_count": null,
      "outputs": []
    },
    {
      "cell_type": "code",
      "source": [
        "!md5sum *.txt"
      ],
      "metadata": {
        "id": "qeEOtUZ7TcQo",
        "outputId": "182de8ac-9424-44df-d6ae-55aedbffefb8",
        "colab": {
          "base_uri": "https://localhost:8080/"
        }
      },
      "execution_count": null,
      "outputs": [
        {
          "output_type": "stream",
          "name": "stdout",
          "text": [
            "7b570f5b9d30db21cadd8730fd2a8806  a-file.txt\n",
            "a6c90bc2d9c198facec986e01a79764e  foxes_sonnet.txt\n",
            "a6c90bc2d9c198facec986e01a79764e  foxes.txt\n"
          ]
        }
      ]
    },
    {
      "cell_type": "code",
      "source": [],
      "metadata": {
        "id": "CW6L2VJFTd9w"
      },
      "execution_count": null,
      "outputs": []
    }
  ]
}